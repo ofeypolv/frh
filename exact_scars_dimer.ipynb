{
 "cells": [
  {
   "cell_type": "code",
   "execution_count": 19,
   "id": "ebc69c93",
   "metadata": {},
   "outputs": [],
   "source": [
    "import numpy as np\n",
    "from scipy.linalg import eigh, qr, null_space\n",
    "import matplotlib.pyplot as plt\n",
    "from scipy.sparse import kron, identity, csr_matrix, lil_matrix, dok_matrix, coo_matrix, issparse\n",
    "from scipy.sparse.linalg import eigsh, eigs\n",
    "from scipy.optimize import curve_fit\n",
    "from qutip import Qobj, ptrace, entropy_vn, qeye, tensor\n",
    "from tqdm import tqdm\n",
    "from concurrent.futures import ThreadPoolExecutor\n",
    "from joblib import Parallel, delayed\n",
    "#from quspin.basis import spin_basis_1d, spin_basis_general\n",
    "#import tenpy as tp"
   ]
  },
  {
   "cell_type": "code",
   "execution_count": 20,
   "id": "af50a4fb",
   "metadata": {},
   "outputs": [],
   "source": [
    "# basis states\n",
    "\n",
    "# spin 1/2\n",
    "\n",
    "basis_up = np.array([1, 0])\n",
    "basis_down = np.array([0, 1])\n",
    "\n",
    "singlet = (1/np.sqrt(2)) * (np.kron(basis_up, basis_down) - np.kron(basis_down, basis_up))"
   ]
  },
  {
   "cell_type": "code",
   "execution_count": 21,
   "id": "34017d60",
   "metadata": {},
   "outputs": [],
   "source": [
    "# functions\n",
    "\n",
    "def innermost_adjacent_indices(L, block_size):\n",
    "    \"\"\"\n",
    "    Returns the indices of the innermost adjacent block of given size.\n",
    "    For even L, the block is centered in the middle.\n",
    "    \"\"\"\n",
    "    start = (L - block_size) // 2\n",
    "    return list(range(start, start + block_size))\n",
    "\n",
    "def all_adjacent_indices(L, block_size):\n",
    "    \"\"\"\n",
    "    Returns a list of all possible adjacent blocks of given size.\n",
    "    Each block is represented as a list of indices.\n",
    "    \"\"\"\n",
    "    return [list(range(start, start + block_size)) for start in range(L - block_size + 1)]\n",
    "\n",
    "def dimer(L, singlet):\n",
    "    \"\"\"\n",
    "    Constructs the dimer state for a given even number of sites L.\n",
    "    The dimer state is a superposition of two configurations.\n",
    "    \"\"\"\n",
    "    if L % 2 != 0:\n",
    "        raise ValueError(\"L must be an even integer.\")\n",
    "    \n",
    "    # Create the first dimer configuration\n",
    "    dimer1 = singlet\n",
    "    for _ in range(1, L // 2):\n",
    "        dimer1 = np.kron(dimer1, singlet)\n",
    "\n",
    "    # Create the second dimer configuration by permuting axes\n",
    "    dimer2 = dimer1.reshape([2] * L)\n",
    "    dimer2 = np.transpose(dimer2, axes=list(range(1, L)) + [0])\n",
    "    dimer2 = dimer2.reshape(-1)\n",
    "\n",
    "    # Combine both configurations into a superposition\n",
    "    return (1 / np.sqrt(2 + (-1 / 2) ** (L / 2 - 2))) * (dimer1 + dimer2)\n",
    "\n",
    "\n",
    "def ptrace_sparse(dm_sparse, keep, dims):\n",
    "    \"\"\"\n",
    "    Compute the partial trace over arbitrary subsystems using sparse matrix operations.\n",
    "\n",
    "    Args:\n",
    "        dm_sparse (scipy.sparse matrix): Full density matrix of shape (D, D), where D = product(dims)\n",
    "        keep (list of int): Subsystems to keep (indices, 0-indexed)\n",
    "        dims (list of int): List of subsystem dimensions, e.g., [2]*n for n qubits\n",
    "\n",
    "    Returns:\n",
    "        scipy.sparse.csr_matrix: Reduced density matrix over kept subsystems\n",
    "    \"\"\"\n",
    "    if not issparse(dm_sparse):\n",
    "        raise ValueError(\"dm_sparse must be a scipy.sparse matrix\")\n",
    "    n = len(dims)\n",
    "    D = np.prod(dims)\n",
    "    if dm_sparse.shape != (D, D):\n",
    "        raise ValueError(\"Density matrix shape does not match dims\")\n",
    "    trace = [i for i in range(n) if i not in keep]\n",
    "    d_keep = np.prod([dims[i] for i in keep])\n",
    "    # Prepare output\n",
    "    data = []\n",
    "    row_idx = []\n",
    "    col_idx = []\n",
    "\n",
    "    # Precompute bit masks\n",
    "    #def idx_to_bits(idx):\n",
    "    #    return np.array(list(np.binary_repr(idx, width=n))).astype(int)\n",
    "\n",
    "    def idx_to_subsys(idx, dims):\n",
    "    #Convert flat index to tuple of subsystem indices for arbitrary dims\n",
    "        subsys = []\n",
    "        for d in reversed(dims):\n",
    "            subsys.append(idx % d)\n",
    "            idx //= d\n",
    "        return np.array(subsys[::-1])\n",
    "    \n",
    "\n",
    "    dm_sparse = dm_sparse.tocoo()\n",
    "\n",
    "    ''' for i, j, val in zip(dm_sparse.row, dm_sparse.col, dm_sparse.data):\n",
    "        bi = idx_to_bits(i)\n",
    "        bj = idx_to_bits(j)\n",
    "\n",
    "        # Only sum terms where traced-out subsystems agree\n",
    "        if np.all(bi[trace] == bj[trace]):\n",
    "            # Extract kept bits and convert to reduced indices\n",
    "            #print('condition met for i, j:', i, j)\n",
    "            i_red_bits = bi[keep]\n",
    "            j_red_bits = bj[keep]\n",
    "            i_red = int(\"\".join(i_red_bits.astype(str)), 2)\n",
    "            j_red = int(\"\".join(j_red_bits.astype(str)), 2)\n",
    "\n",
    "            data.append(val)\n",
    "            row_idx.append(i_red)\n",
    "            col_idx.append(j_red)'''\n",
    "\n",
    "    for i, j, val in zip(dm_sparse.row, dm_sparse.col, dm_sparse.data):\n",
    "        bi = idx_to_subsys(i, dims)\n",
    "        bj = idx_to_subsys(j, dims)\n",
    "\n",
    "        if np.all(bi[trace] == bj[trace]):\n",
    "            i_red = 0\n",
    "            j_red = 0\n",
    "            for k, pos in enumerate(keep):\n",
    "                i_red = i_red * dims[pos] + bi[pos]\n",
    "                j_red = j_red * dims[pos] + bj[pos]\n",
    "\n",
    "            data.append(val)\n",
    "            row_idx.append(i_red)\n",
    "            col_idx.append(j_red)\n",
    "\n",
    "    return coo_matrix((data, (row_idx, col_idx)), shape=(d_keep, d_keep)).tocsr()\n",
    "\n",
    "\n",
    "\n",
    "def ptrace_sparse_parallel(dm_sparse, keep, dims, n_jobs=-1): # njobs to be removed if not using joblib\n",
    "    \"\"\"\n",
    "    Compute the partial trace over arbitrary subsystems using sparse matrix operations.\n",
    "    Parallelized over nonzero elements.\n",
    "    \"\"\"\n",
    "    if not issparse(dm_sparse):\n",
    "        raise ValueError(\"dm_sparse must be a scipy.sparse matrix\")\n",
    "    n = len(dims)\n",
    "    D = np.prod(dims)\n",
    "    if dm_sparse.shape != (D, D):\n",
    "        raise ValueError(\"Density matrix shape does not match dims\")\n",
    "    trace = [i for i in range(n) if i not in keep]\n",
    "    d_keep = np.prod([dims[i] for i in keep])\n",
    "\n",
    "    #def idx_to_bits(idx):\n",
    "    #    return np.array(list(np.binary_repr(idx, width=n))).astype(int)\n",
    "\n",
    "    def idx_to_subsys(idx, dims):\n",
    "    #Convert flat index to tuple of subsystem indices for arbitrary dims.\n",
    "        subsys = []\n",
    "        for d in reversed(dims):\n",
    "            subsys.append(idx % d)\n",
    "            idx //= d\n",
    "        return np.array(subsys[::-1])\n",
    "\n",
    "    dm_sparse = dm_sparse.tocoo()\n",
    "\n",
    "    #def process_entry(i,j,val):\n",
    "    #    bi = idx_to_bits(i)\n",
    "    #    bj = idx_to_bits(j)\n",
    "    #    if np.all(bi[trace] == bj[trace]):\n",
    "    #        i_red_bits = bi[keep]\n",
    "    #        j_red_bits = bj[keep]\n",
    "    #        i_red = int(\"\".join(i_red_bits.astype(str)), 2)\n",
    "    #        j_red = int(\"\".join(j_red_bits.astype(str)), 2)\n",
    "    #        return (val, i_red, j_red)\n",
    "    #    else:\n",
    "    #        return None\n",
    "\n",
    "    def process_entry(i,j,val):\n",
    "        bi = idx_to_subsys(i, dims)\n",
    "        bj = idx_to_subsys(j, dims)\n",
    "\n",
    "        if np.all(bi[trace] == bj[trace]):\n",
    "            i_red = 0\n",
    "            j_red = 0\n",
    "            for k, pos in enumerate(keep):\n",
    "                i_red = i_red * dims[pos] + bi[pos]\n",
    "                j_red = j_red * dims[pos] + bj[pos]\n",
    "            return (val, i_red, j_red)\n",
    "        else:\n",
    "            return None\n",
    "        \n",
    "    results = Parallel(n_jobs=n_jobs, prefer=\"processes\")(\n",
    "        delayed(process_entry)(i, j, val)\n",
    "        for i, j, val in zip(dm_sparse.row, dm_sparse.col, dm_sparse.data)\n",
    "    )\n",
    "    results = [r for r in results if r is not None]\n",
    "\n",
    "    #entries = zip(psi_sparse.row, psi_sparse.col, psi_sparse.data)\n",
    "    #results = []\n",
    "    #with ThreadPoolExecutor() as executor:\n",
    "    #    for res in executor.map(process_entry, entries):\n",
    "    #        if res is not None:\n",
    "    #            results.append(res)'''\n",
    "    \n",
    "    if results:\n",
    "        data, row_idx, col_idx = zip(*results)\n",
    "    else:\n",
    "        data, row_idx, col_idx = [], [], []\n",
    "\n",
    "    return coo_matrix((data, (row_idx, col_idx)), shape=(d_keep, d_keep)).tocsr()\n",
    "\n",
    "def ee_sparse(dm_sparse, L):\n",
    "    \"\"\"\n",
    "    Computes the entanglement entropy of a state using sparse matrices in parallel.\n",
    "    The state is assumed to be a vector in the Hilbert space of L qubits.\n",
    "    \"\"\"\n",
    "    rhoA = ptrace_sparse(dm_sparse, list(range(L // 2)), [2] * L)\n",
    "    eigvals = np.linalg.eigvalsh(rhoA.toarray())\n",
    "    return -np.sum(eigvals * np.log(eigvals + 1e-12)).real  # Add small value to avoid log(0)\n",
    "\n",
    "def ee_sparse_parallel(dm_sparse, L, n_jobs=-1):\n",
    "    \"\"\"\n",
    "    Computes the entanglement entropy of a state using sparse matrices in parallel.\n",
    "    The state is assumed to be a vector in the Hilbert space of L qubits.\n",
    "    \"\"\"\n",
    "    rhoA = ptrace_sparse_parallel(dm_sparse, list(range(L // 2)), [2] * L, n_jobs=n_jobs)\n",
    "    eigvals = np.linalg.eigvalsh(rhoA.toarray())\n",
    "    return -np.sum(eigvals * np.log(eigvals + 1e-12)).real  # Add small value to avoid log(0)\n",
    "\n",
    "def rdm_qutip(state, L, keep_qubits):\n",
    "    rho = np.outer(state, state.conj())\n",
    "    rho_qobj = Qobj(rho, dims=[[2] * L, [2] * L])\n",
    "    rdm = ptrace(rho_qobj, keep_qubits)\n",
    "    rdm_mat = rdm.full()\n",
    "    eigvals = np.linalg.eigvalsh(rdm_mat)\n",
    "    min_eigval = np.min(eigvals)\n",
    "    # Rank: count nonzero eigenvalues (with tolerance)\n",
    "    rank = np.sum(eigvals > 1e-12)\n",
    "    return rdm, min_eigval, rank\n",
    "\n",
    "def ee_qutip(state, L):\n",
    "    rho = np.outer(state, state.conj())\n",
    "    rho_qobj = Qobj(rho, dims=[[2] * L, [2] * L])\n",
    "    rhoA = ptrace(rho_qobj, list(range(L//2)))\n",
    "    return entropy_vn(rhoA)"
   ]
  },
  {
   "cell_type": "code",
   "execution_count": 22,
   "id": "0856b1b1",
   "metadata": {},
   "outputs": [
    {
     "name": "stdout",
     "output_type": "stream",
     "text": [
      "All adjacent 2-site blocks: [[0, 1], [1, 2], [2, 3], [3, 4], [4, 5], [5, 6], [6, 7], [7, 8], [8, 9], [9, 10], [10, 11], [11, 12], [12, 13], [13, 14], [14, 15], [15, 16], [16, 17]]\n",
      "All adjacent 3-site blocks: [[0, 1, 2], [1, 2, 3], [2, 3, 4], [3, 4, 5], [4, 5, 6], [5, 6, 7], [6, 7, 8], [7, 8, 9], [8, 9, 10], [9, 10, 11], [10, 11, 12], [11, 12, 13], [12, 13, 14], [13, 14, 15], [14, 15, 16], [15, 16, 17]]\n",
      "All adjacent 4-site blocks: [[0, 1, 2, 3], [1, 2, 3, 4], [2, 3, 4, 5], [3, 4, 5, 6], [4, 5, 6, 7], [5, 6, 7, 8], [6, 7, 8, 9], [7, 8, 9, 10], [8, 9, 10, 11], [9, 10, 11, 12], [10, 11, 12, 13], [11, 12, 13, 14], [12, 13, 14, 15], [13, 14, 15, 16], [14, 15, 16, 17]]\n"
     ]
    }
   ],
   "source": [
    "L = 18 # number of sites -  it has to be even\n",
    "\n",
    "innermost_2 = innermost_adjacent_indices(L, 2)\n",
    "innermost_3 = innermost_adjacent_indices(L, 3)\n",
    "innermost_4 = innermost_adjacent_indices(L, 4)\n",
    "\n",
    "adjacent_2 = all_adjacent_indices(L, 2)\n",
    "adjacent_3 = all_adjacent_indices(L, 3)\n",
    "adjacent_4 = all_adjacent_indices(L, 4)\n",
    "\n",
    "print(\"All adjacent 2-site blocks:\", adjacent_2)\n",
    "print(\"All adjacent 3-site blocks:\", adjacent_3)\n",
    "print(\"All adjacent 4-site blocks:\", adjacent_4)\n"
   ]
  },
  {
   "cell_type": "code",
   "execution_count": 23,
   "id": "cffcf498",
   "metadata": {},
   "outputs": [
    {
     "name": "stdout",
     "output_type": "stream",
     "text": [
      "dimer state dimension for L=18: (262144,)\n",
      "1020\n",
      "Number of zero components in dimer_state (tol=1e-12): 1020\n",
      "Number of zero elements of dm (tol=1e-12): 1040400\n",
      "\n",
      "All possible RDMs for block size 2:\n"
     ]
    },
    {
     "name": "stderr",
     "output_type": "stream",
     "text": [
      "  6%|▌         | 1/17 [00:47<12:42, 47.63s/it]"
     ]
    },
    {
     "name": "stdout",
     "output_type": "stream",
     "text": [
      "Block [0, 1]: min eigenvalue = 0.12549019607843095, rank = 4\n"
     ]
    },
    {
     "name": "stderr",
     "output_type": "stream",
     "text": [
      " 12%|█▏        | 2/17 [01:49<14:02, 56.16s/it]"
     ]
    },
    {
     "name": "stdout",
     "output_type": "stream",
     "text": [
      "Block [1, 2]: min eigenvalue = 0.12549019607843095, rank = 4\n"
     ]
    },
    {
     "name": "stderr",
     "output_type": "stream",
     "text": [
      " 18%|█▊        | 3/17 [02:05<08:49, 37.79s/it]"
     ]
    },
    {
     "name": "stdout",
     "output_type": "stream",
     "text": [
      "Block [2, 3]: min eigenvalue = 0.12549019607843095, rank = 4\n"
     ]
    },
    {
     "name": "stderr",
     "output_type": "stream",
     "text": [
      " 24%|██▎       | 4/17 [02:19<06:08, 28.32s/it]"
     ]
    },
    {
     "name": "stdout",
     "output_type": "stream",
     "text": [
      "Block [3, 4]: min eigenvalue = 0.12549019607843095, rank = 4\n"
     ]
    },
    {
     "name": "stderr",
     "output_type": "stream",
     "text": [
      " 29%|██▉       | 5/17 [02:34<04:40, 23.40s/it]"
     ]
    },
    {
     "name": "stdout",
     "output_type": "stream",
     "text": [
      "Block [4, 5]: min eigenvalue = 0.12549019607843095, rank = 4\n"
     ]
    },
    {
     "name": "stderr",
     "output_type": "stream",
     "text": [
      " 35%|███▌      | 6/17 [02:57<04:16, 23.34s/it]"
     ]
    },
    {
     "name": "stdout",
     "output_type": "stream",
     "text": [
      "Block [5, 6]: min eigenvalue = 0.12549019607843095, rank = 4\n"
     ]
    },
    {
     "name": "stderr",
     "output_type": "stream",
     "text": [
      " 41%|████      | 7/17 [03:28<04:20, 26.03s/it]"
     ]
    },
    {
     "name": "stdout",
     "output_type": "stream",
     "text": [
      "Block [6, 7]: min eigenvalue = 0.12549019607843095, rank = 4\n"
     ]
    },
    {
     "name": "stderr",
     "output_type": "stream",
     "text": [
      " 47%|████▋     | 8/17 [04:03<04:17, 28.66s/it]"
     ]
    },
    {
     "name": "stdout",
     "output_type": "stream",
     "text": [
      "Block [7, 8]: min eigenvalue = 0.12549019607843095, rank = 4\n"
     ]
    },
    {
     "name": "stderr",
     "output_type": "stream",
     "text": [
      " 53%|█████▎    | 9/17 [04:33<03:54, 29.30s/it]"
     ]
    },
    {
     "name": "stdout",
     "output_type": "stream",
     "text": [
      "Block [8, 9]: min eigenvalue = 0.12549019607843095, rank = 4\n"
     ]
    },
    {
     "name": "stderr",
     "output_type": "stream",
     "text": [
      " 59%|█████▉    | 10/17 [05:04<03:27, 29.70s/it]"
     ]
    },
    {
     "name": "stdout",
     "output_type": "stream",
     "text": [
      "Block [9, 10]: min eigenvalue = 0.12549019607843095, rank = 4\n"
     ]
    },
    {
     "name": "stderr",
     "output_type": "stream",
     "text": [
      " 65%|██████▍   | 11/17 [05:29<02:48, 28.15s/it]"
     ]
    },
    {
     "name": "stdout",
     "output_type": "stream",
     "text": [
      "Block [10, 11]: min eigenvalue = 0.12549019607843095, rank = 4\n"
     ]
    },
    {
     "name": "stderr",
     "output_type": "stream",
     "text": [
      " 71%|███████   | 12/17 [05:58<02:22, 28.55s/it]"
     ]
    },
    {
     "name": "stdout",
     "output_type": "stream",
     "text": [
      "Block [11, 12]: min eigenvalue = 0.12549019607843095, rank = 4\n"
     ]
    },
    {
     "name": "stderr",
     "output_type": "stream",
     "text": [
      " 76%|███████▋  | 13/17 [06:26<01:53, 28.34s/it]"
     ]
    },
    {
     "name": "stdout",
     "output_type": "stream",
     "text": [
      "Block [12, 13]: min eigenvalue = 0.12549019607843095, rank = 4\n"
     ]
    },
    {
     "name": "stderr",
     "output_type": "stream",
     "text": [
      " 82%|████████▏ | 14/17 [06:59<01:29, 29.76s/it]"
     ]
    },
    {
     "name": "stdout",
     "output_type": "stream",
     "text": [
      "Block [13, 14]: min eigenvalue = 0.12549019607843095, rank = 4\n"
     ]
    },
    {
     "name": "stderr",
     "output_type": "stream",
     "text": [
      " 88%|████████▊ | 15/17 [07:26<00:57, 28.88s/it]"
     ]
    },
    {
     "name": "stdout",
     "output_type": "stream",
     "text": [
      "Block [14, 15]: min eigenvalue = 0.12549019607843095, rank = 4\n"
     ]
    },
    {
     "name": "stderr",
     "output_type": "stream",
     "text": [
      " 94%|█████████▍| 16/17 [07:55<00:28, 28.92s/it]"
     ]
    },
    {
     "name": "stdout",
     "output_type": "stream",
     "text": [
      "Block [15, 16]: min eigenvalue = 0.12549019607843095, rank = 4\n"
     ]
    },
    {
     "name": "stderr",
     "output_type": "stream",
     "text": [
      "100%|██████████| 17/17 [08:21<00:00, 29.51s/it]\n"
     ]
    },
    {
     "name": "stdout",
     "output_type": "stream",
     "text": [
      "Block [16, 17]: min eigenvalue = 0.12549019607843095, rank = 4\n",
      "\n",
      "All possible RDMs for block size 3:\n"
     ]
    },
    {
     "name": "stderr",
     "output_type": "stream",
     "text": [
      "  6%|▋         | 1/16 [00:22<05:33, 22.25s/it]"
     ]
    },
    {
     "name": "stdout",
     "output_type": "stream",
     "text": [
      "Block [0, 1, 2]: min eigenvalue = -3.0550490621364814e-17, rank = 4\n"
     ]
    },
    {
     "name": "stderr",
     "output_type": "stream",
     "text": [
      " 12%|█▎        | 2/16 [00:44<05:08, 22.02s/it]"
     ]
    },
    {
     "name": "stdout",
     "output_type": "stream",
     "text": [
      "Block [1, 2, 3]: min eigenvalue = -3.0550490621364814e-17, rank = 4\n"
     ]
    },
    {
     "name": "stderr",
     "output_type": "stream",
     "text": [
      " 19%|█▉        | 3/16 [01:05<04:43, 21.78s/it]"
     ]
    },
    {
     "name": "stdout",
     "output_type": "stream",
     "text": [
      "Block [2, 3, 4]: min eigenvalue = -3.0550490621364814e-17, rank = 4\n"
     ]
    },
    {
     "name": "stderr",
     "output_type": "stream",
     "text": [
      " 25%|██▌       | 4/16 [01:27<04:23, 22.00s/it]"
     ]
    },
    {
     "name": "stdout",
     "output_type": "stream",
     "text": [
      "Block [3, 4, 5]: min eigenvalue = -3.0550490621364814e-17, rank = 4\n"
     ]
    },
    {
     "name": "stderr",
     "output_type": "stream",
     "text": [
      " 31%|███▏      | 5/16 [01:54<04:20, 23.64s/it]"
     ]
    },
    {
     "name": "stdout",
     "output_type": "stream",
     "text": [
      "Block [4, 5, 6]: min eigenvalue = -3.0550490621364814e-17, rank = 4\n"
     ]
    },
    {
     "name": "stderr",
     "output_type": "stream",
     "text": [
      " 38%|███▊      | 6/16 [02:30<04:37, 27.70s/it]"
     ]
    },
    {
     "name": "stdout",
     "output_type": "stream",
     "text": [
      "Block [5, 6, 7]: min eigenvalue = -3.0550490621364814e-17, rank = 4\n"
     ]
    },
    {
     "name": "stderr",
     "output_type": "stream",
     "text": [
      " 44%|████▍     | 7/16 [03:03<04:25, 29.53s/it]"
     ]
    },
    {
     "name": "stdout",
     "output_type": "stream",
     "text": [
      "Block [6, 7, 8]: min eigenvalue = -3.0550490621364814e-17, rank = 4\n"
     ]
    },
    {
     "name": "stderr",
     "output_type": "stream",
     "text": [
      " 50%|█████     | 8/16 [03:33<03:58, 29.84s/it]"
     ]
    },
    {
     "name": "stdout",
     "output_type": "stream",
     "text": [
      "Block [7, 8, 9]: min eigenvalue = -3.0550490621364814e-17, rank = 4\n"
     ]
    },
    {
     "name": "stderr",
     "output_type": "stream",
     "text": [
      " 56%|█████▋    | 9/16 [04:01<03:24, 29.21s/it]"
     ]
    },
    {
     "name": "stdout",
     "output_type": "stream",
     "text": [
      "Block [8, 9, 10]: min eigenvalue = -3.0550490621364814e-17, rank = 4\n"
     ]
    },
    {
     "name": "stderr",
     "output_type": "stream",
     "text": [
      " 62%|██████▎   | 10/16 [04:28<02:50, 28.40s/it]"
     ]
    },
    {
     "name": "stdout",
     "output_type": "stream",
     "text": [
      "Block [9, 10, 11]: min eigenvalue = -3.0550490621364814e-17, rank = 4\n"
     ]
    },
    {
     "name": "stderr",
     "output_type": "stream",
     "text": [
      " 69%|██████▉   | 11/16 [04:54<02:18, 27.66s/it]"
     ]
    },
    {
     "name": "stdout",
     "output_type": "stream",
     "text": [
      "Block [10, 11, 12]: min eigenvalue = -3.0550490621364814e-17, rank = 4\n"
     ]
    },
    {
     "name": "stderr",
     "output_type": "stream",
     "text": [
      " 75%|███████▌  | 12/16 [05:27<01:57, 29.25s/it]"
     ]
    },
    {
     "name": "stdout",
     "output_type": "stream",
     "text": [
      "Block [11, 12, 13]: min eigenvalue = -3.0550490621364814e-17, rank = 4\n"
     ]
    },
    {
     "name": "stderr",
     "output_type": "stream",
     "text": [
      " 81%|████████▏ | 13/16 [05:58<01:29, 29.79s/it]"
     ]
    },
    {
     "name": "stdout",
     "output_type": "stream",
     "text": [
      "Block [12, 13, 14]: min eigenvalue = -3.0550490621364814e-17, rank = 4\n"
     ]
    },
    {
     "name": "stderr",
     "output_type": "stream",
     "text": [
      " 88%|████████▊ | 14/16 [06:31<01:01, 30.78s/it]"
     ]
    },
    {
     "name": "stdout",
     "output_type": "stream",
     "text": [
      "Block [13, 14, 15]: min eigenvalue = -3.0550490621364814e-17, rank = 4\n"
     ]
    },
    {
     "name": "stderr",
     "output_type": "stream",
     "text": [
      " 94%|█████████▍| 15/16 [07:03<00:31, 31.26s/it]"
     ]
    },
    {
     "name": "stdout",
     "output_type": "stream",
     "text": [
      "Block [14, 15, 16]: min eigenvalue = -3.0550490621364814e-17, rank = 4\n"
     ]
    },
    {
     "name": "stderr",
     "output_type": "stream",
     "text": [
      "100%|██████████| 16/16 [07:35<00:00, 28.46s/it]\n"
     ]
    },
    {
     "name": "stdout",
     "output_type": "stream",
     "text": [
      "Block [15, 16, 17]: min eigenvalue = -3.0550490621364814e-17, rank = 4\n",
      "\n",
      "All possible RDMs for block size 4:\n"
     ]
    },
    {
     "name": "stderr",
     "output_type": "stream",
     "text": [
      "  7%|▋         | 1/15 [00:26<06:10, 26.43s/it]"
     ]
    },
    {
     "name": "stdout",
     "output_type": "stream",
     "text": [
      "Block [0, 1, 2, 3]: min eigenvalue = -2.798865917629668e-16, rank = 5\n"
     ]
    },
    {
     "name": "stderr",
     "output_type": "stream",
     "text": [
      " 13%|█▎        | 2/15 [00:51<05:35, 25.79s/it]"
     ]
    },
    {
     "name": "stdout",
     "output_type": "stream",
     "text": [
      "Block [1, 2, 3, 4]: min eigenvalue = -2.798865917629668e-16, rank = 5\n"
     ]
    },
    {
     "name": "stderr",
     "output_type": "stream",
     "text": [
      " 20%|██        | 3/15 [01:15<04:58, 24.84s/it]"
     ]
    },
    {
     "name": "stdout",
     "output_type": "stream",
     "text": [
      "Block [2, 3, 4, 5]: min eigenvalue = -2.798865917629668e-16, rank = 5\n"
     ]
    },
    {
     "name": "stderr",
     "output_type": "stream",
     "text": [
      " 27%|██▋       | 4/15 [01:39<04:28, 24.43s/it]"
     ]
    },
    {
     "name": "stdout",
     "output_type": "stream",
     "text": [
      "Block [3, 4, 5, 6]: min eigenvalue = -2.798865917629668e-16, rank = 5\n"
     ]
    },
    {
     "name": "stderr",
     "output_type": "stream",
     "text": [
      " 33%|███▎      | 5/15 [02:02<03:59, 23.97s/it]"
     ]
    },
    {
     "name": "stdout",
     "output_type": "stream",
     "text": [
      "Block [4, 5, 6, 7]: min eigenvalue = -2.798865917629668e-16, rank = 5\n"
     ]
    },
    {
     "name": "stderr",
     "output_type": "stream",
     "text": [
      " 40%|████      | 6/15 [02:25<03:32, 23.63s/it]"
     ]
    },
    {
     "name": "stdout",
     "output_type": "stream",
     "text": [
      "Block [5, 6, 7, 8]: min eigenvalue = -2.798865917629668e-16, rank = 5\n"
     ]
    },
    {
     "name": "stderr",
     "output_type": "stream",
     "text": [
      " 47%|████▋     | 7/15 [02:48<03:08, 23.55s/it]"
     ]
    },
    {
     "name": "stdout",
     "output_type": "stream",
     "text": [
      "Block [6, 7, 8, 9]: min eigenvalue = -2.798865917629668e-16, rank = 5\n"
     ]
    },
    {
     "name": "stderr",
     "output_type": "stream",
     "text": [
      " 53%|█████▎    | 8/15 [03:12<02:44, 23.51s/it]"
     ]
    },
    {
     "name": "stdout",
     "output_type": "stream",
     "text": [
      "Block [7, 8, 9, 10]: min eigenvalue = -2.798865917629668e-16, rank = 5\n"
     ]
    },
    {
     "name": "stderr",
     "output_type": "stream",
     "text": [
      " 60%|██████    | 9/15 [03:35<02:21, 23.52s/it]"
     ]
    },
    {
     "name": "stdout",
     "output_type": "stream",
     "text": [
      "Block [8, 9, 10, 11]: min eigenvalue = -2.798865917629668e-16, rank = 5\n"
     ]
    },
    {
     "name": "stderr",
     "output_type": "stream",
     "text": [
      " 67%|██████▋   | 10/15 [04:05<02:06, 25.28s/it]"
     ]
    },
    {
     "name": "stdout",
     "output_type": "stream",
     "text": [
      "Block [9, 10, 11, 12]: min eigenvalue = -2.798865917629668e-16, rank = 5\n"
     ]
    },
    {
     "name": "stderr",
     "output_type": "stream",
     "text": [
      " 73%|███████▎  | 11/15 [04:32<01:44, 26.09s/it]"
     ]
    },
    {
     "name": "stdout",
     "output_type": "stream",
     "text": [
      "Block [10, 11, 12, 13]: min eigenvalue = -2.798865917629668e-16, rank = 5\n"
     ]
    },
    {
     "name": "stderr",
     "output_type": "stream",
     "text": [
      " 80%|████████  | 12/15 [05:00<01:20, 26.69s/it]"
     ]
    },
    {
     "name": "stdout",
     "output_type": "stream",
     "text": [
      "Block [11, 12, 13, 14]: min eigenvalue = -2.798865917629668e-16, rank = 5\n"
     ]
    },
    {
     "name": "stderr",
     "output_type": "stream",
     "text": [
      " 87%|████████▋ | 13/15 [05:29<00:54, 27.09s/it]"
     ]
    },
    {
     "name": "stdout",
     "output_type": "stream",
     "text": [
      "Block [12, 13, 14, 15]: min eigenvalue = -2.798865917629668e-16, rank = 5\n"
     ]
    },
    {
     "name": "stderr",
     "output_type": "stream",
     "text": [
      " 93%|█████████▎| 14/15 [06:00<00:28, 28.51s/it]"
     ]
    },
    {
     "name": "stdout",
     "output_type": "stream",
     "text": [
      "Block [13, 14, 15, 16]: min eigenvalue = -2.798865917629668e-16, rank = 5\n"
     ]
    },
    {
     "name": "stderr",
     "output_type": "stream",
     "text": [
      "100%|██████████| 15/15 [06:33<00:00, 26.20s/it]"
     ]
    },
    {
     "name": "stdout",
     "output_type": "stream",
     "text": [
      "Block [14, 15, 16, 17]: min eigenvalue = -2.798865917629668e-16, rank = 5\n"
     ]
    },
    {
     "name": "stderr",
     "output_type": "stream",
     "text": [
      "\n"
     ]
    },
    {
     "data": {
      "text/plain": [
       "'rdm = ptrace_sparse_parallel(density_matrix_sparse, adjacent_4[0], [2]*L, n_jobs=-1) # Use the custom ptrace_sparse function\\n# Find the minimum eigenvalue of the traced-out density matrix\\neigenvalues_traced, eigenvectors_traced = np.linalg.eigh(rdm.toarray())\\nrank = np.linalg.matrix_rank(rdm.toarray())\\nmin_eigenvalue = np.min(eigenvalues_traced)\\nprint(f\"min eigenvalue = {min_eigenvalue}, rank = {rank}\")'"
      ]
     },
     "execution_count": 23,
     "metadata": {},
     "output_type": "execute_result"
    }
   ],
   "source": [
    "# MG + CS - PRB 155102\n",
    "\n",
    "dimer_state = dimer(L, singlet)\n",
    "#dimer_state = dimer_state.flatten()  # Reshape to column vector\n",
    "print(f\"dimer state dimension for L={L}: {dimer_state.shape}\")\n",
    "\n",
    "# Print number of zero components (with tolerance 1e-12)\n",
    "print(np.count_nonzero(dimer_state))\n",
    "num_zeros = np.sum(np.abs(dimer_state) > 1e-16)\n",
    "print(f\"Number of zero components in dimer_state (tol=1e-12): {num_zeros}\")\n",
    "\n",
    "dimer_sparse = csr_matrix(dimer_state.reshape(-1, 1))  # Convert to sparse column vector\n",
    "density_matrix_sparse = dimer_sparse @ dimer_sparse.getH()  # Outer product to form density matrix\n",
    "print(\"Number of zero elements of dm (tol=1e-12):\", np.sum(np.abs(density_matrix_sparse.data) > 1e-16))    #Trace out qubits using qutip partial trace\n",
    "\n",
    "# Calculate RDMs for all possible adjacent 2, 3, 4 site blocks\n",
    "for block_size, all_blocks in zip([2, 3, 4], [adjacent_2, adjacent_3, adjacent_4]):\n",
    "    print(f\"\\nAll possible RDMs for block size {block_size}:\")\n",
    "    for block_indices in tqdm(all_blocks):\n",
    "        rdm = ptrace_sparse_parallel(density_matrix_sparse, block_indices, [2]*L, n_jobs=-1) # Use the custom ptrace_sparse function\n",
    "        # Find the minimum eigenvalue of the traced-out density matrix\n",
    "        eigenvalues_traced, eigenvectors_traced = np.linalg.eigh(rdm.toarray())\n",
    "        rank = np.linalg.matrix_rank(rdm.toarray())\n",
    "        min_eigenvalue = np.min(eigenvalues_traced)\n",
    "        print(f\"Block {block_indices}: min eigenvalue = {min_eigenvalue}, rank = {rank}\")\n",
    "'''rdm = ptrace_sparse_parallel(density_matrix_sparse, adjacent_4[0], [2]*L, n_jobs=-1) # Use the custom ptrace_sparse function\n",
    "# Find the minimum eigenvalue of the traced-out density matrix\n",
    "eigenvalues_traced, eigenvectors_traced = np.linalg.eigh(rdm.toarray())\n",
    "rank = np.linalg.matrix_rank(rdm.toarray())\n",
    "min_eigenvalue = np.min(eigenvalues_traced)\n",
    "print(f\"min eigenvalue = {min_eigenvalue}, rank = {rank}\")'''"
   ]
  },
  {
   "cell_type": "code",
   "execution_count": 24,
   "id": "72e36871",
   "metadata": {},
   "outputs": [
    {
     "name": "stdout",
     "output_type": "stream",
     "text": [
      "Dimer entanglement entropy for L=18: 1.3862943611158902\n"
     ]
    }
   ],
   "source": [
    "# MG + CS - PRB 155102\n",
    "\n",
    "'''\n",
    "# L is your system size\n",
    "# Nup = L//2 for Sz=0 sector (number of up spins)\n",
    "# kblock=0 for momentum k=0 (T=1 eigenvalue)\n",
    "sym_basis = spin_basis_1d(L, Nup=L//2, kblock=0)\n",
    "print(\"Basis size:\", sym_basis.Ns)\n",
    "\n",
    "# get symmetry basis states as integers\n",
    "proj_states = sym_basis.get_proj(np.arange(sym_basis.Ns))\n",
    "\n",
    "# project dimer_state onto the symmetry sector\n",
    "dimer_proj = dimer_state[proj_states]\n",
    "\n",
    "# normalize if desired\n",
    "dimer_proj = dimer_proj / np.linalg.norm(dimer_proj)\n",
    "\n",
    "\n",
    "# dimer_proj is now the state in the (Sz=0, T=1) sector basis\n",
    "'''\n",
    "\n",
    "\n",
    "# dimer ee for single L and Ltar dependence\n",
    "dimer_ee = ee_sparse_parallel(density_matrix_sparse, L, n_jobs=-1)\n",
    "print(f\"Dimer entanglement entropy for L={L}: {dimer_ee}\")\n",
    "\n",
    "#dimer_ee_tar = [ee_sparse_parallel(dimer_state, Lt, n_jobs=-1) for Lt in tqdm(Ltar)]\n",
    "\n",
    "#plt.figure(figsize=(6,4))\n",
    "#plt.plot(Ltar, dimer_ee_tar, marker='o')\n",
    "#plt.xlabel('L')\n",
    "#plt.ylabel('Entanglement Entropy')\n",
    "#plt.title('Dimer Entanglement Entropy vs L')\n",
    "#plt.grid(True)\n",
    "#plt.show()"
   ]
  }
 ],
 "metadata": {
  "kernelspec": {
   "display_name": "base",
   "language": "python",
   "name": "python3"
  },
  "language_info": {
   "codemirror_mode": {
    "name": "ipython",
    "version": 3
   },
   "file_extension": ".py",
   "mimetype": "text/x-python",
   "name": "python",
   "nbconvert_exporter": "python",
   "pygments_lexer": "ipython3",
   "version": "3.11.8"
  }
 },
 "nbformat": 4,
 "nbformat_minor": 5
}
