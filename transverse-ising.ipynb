{
 "cells": [
  {
   "cell_type": "code",
   "execution_count": 1,
   "metadata": {},
   "outputs": [],
   "source": [
    "import numpy as np\n",
    "from scipy.linalg import eigh\n",
    "import matplotlib.pyplot as plt\n",
    "from scipy.sparse import kron, identity, csr_matrix\n",
    "from scipy.sparse.linalg import eigsh, eigs\n",
    "from qutip import Qobj, ptrace\n",
    "from tqdm import tqdm\n",
    "from matplotlib.ticker import ScalarFormatter"
   ]
  },
  {
   "cell_type": "code",
   "execution_count": 2,
   "metadata": {},
   "outputs": [],
   "source": [
    "def pauli_x():\n",
    "    \"\"\"Pauli X matrix.\"\"\"\n",
    "    return np.array([[0, 1], [1, 0]])\n",
    "\n",
    "def pauli_z():\n",
    "    \"\"\"Pauli Z matrix.\"\"\"\n",
    "    return np.array([[1, 0], [0, -1]])\n",
    "\n",
    "def transverse_field_ising(N, J, h,  pbc = False):\n",
    "    \"\"\"\n",
    "    Constructs the Hamiltonian for the transverse field Ising model.\n",
    "    \n",
    "    Parameters:\n",
    "        N (int): Number of spins.\n",
    "        J (float): Interaction strength.\n",
    "        h (float): Transverse field strength.\n",
    "    \n",
    "    Returns:\n",
    "        H (scipy.sparse.csr_matrix): The Hamiltonian matrix in sparse format.\n",
    "    \"\"\"\n",
    "    # Sparse identity matrix\n",
    "    I = identity(2, format=\"csr\")\n",
    "    \n",
    "    # Pauli matrices as sparsea\n",
    "    X = csr_matrix(pauli_x())\n",
    "    Z = csr_matrix(pauli_z())\n",
    "    \n",
    "    # Initialize the Hamiltonian\n",
    "    H = csr_matrix((2**N, 2**N), dtype=np.float64)\n",
    "    \n",
    "    # Interaction term: -J * sigma_i^z * sigma_{i+1}^z\n",
    "    for i in range(N - 1):\n",
    "        term = 1\n",
    "        for j in range(N):\n",
    "            if j == i:\n",
    "                term = kron(term, Z, format=\"csr\")\n",
    "            elif j == i + 1:\n",
    "                term = kron(term, Z, format=\"csr\")\n",
    "            else:\n",
    "                term = kron(term, I, format=\"csr\")\n",
    "        H += -J * term\n",
    "\n",
    "    # Add PBC term: interaction between the last site and the first site - for OBC you don't add this term\n",
    "    if pbc:\n",
    "        term = 1\n",
    "        for j in range(N):\n",
    "            if j == N - 1:\n",
    "                term = kron(term, Z, format=\"csr\")\n",
    "            elif j == 0:\n",
    "                term = kron(term, Z, format=\"csr\")\n",
    "            else:\n",
    "                term = kron(term, I, format=\"csr\")\n",
    "        H += -J * term\n",
    "    else:\n",
    "        print(\"Open boundary conditions\") \n",
    "\n",
    "    \n",
    "    # Transverse field term: -h * sigma_i^x\n",
    "    for i in range(N):\n",
    "        term = 1\n",
    "        for j in range(N):\n",
    "            if j == i:\n",
    "                term = kron(term, X, format=\"csr\")\n",
    "            else:\n",
    "                term = kron(term, I, format=\"csr\")\n",
    "        H += -h * term\n",
    "    \n",
    "    return H\n",
    "\n",
    "def transverse_field_ising_dense(N, J, h, pbc = False):\n",
    "    \"\"\"\n",
    "    Constructs the Hamiltonian for the transverse field Ising model in dense format.\n",
    "    \n",
    "    Parameters:\n",
    "        N (int): Number of spins.\n",
    "        J (float): Interaction strength.\n",
    "        h (float): Transverse field strength.\n",
    "    \n",
    "    Returns:\n",
    "        H (np.ndarray): The Hamiltonian matrix in dense format.\n",
    "    \"\"\"\n",
    "    # Pauli matrices\n",
    "    X = pauli_x()\n",
    "    Z = pauli_z()\n",
    "    I = np.eye(2)\n",
    "    \n",
    "    # Initialize the Hamiltonian\n",
    "    H = np.zeros((2**N, 2**N), dtype=np.float64)\n",
    "\n",
    "    # Interaction term: -J * sigma_i^z * sigma_{i+1}^z\n",
    "    for i in range(N - 1):\n",
    "        term = 1\n",
    "        for j in range(N):\n",
    "            if j == i:\n",
    "                term = kron(term, Z, format=\"csr\")\n",
    "            elif j == i + 1:\n",
    "                term = kron(term, Z, format=\"csr\")\n",
    "            else:\n",
    "                term = kron(term, I, format=\"csr\")\n",
    "        H += -J * term\n",
    "\n",
    "    # Add PBC term: interaction between the last site and the first site - for OBC you don't add this term\n",
    "    if pbc:\n",
    "        term = 1\n",
    "        for j in range(N):\n",
    "            if j == N - 1:\n",
    "                term = kron(term, Z, format=\"csr\")\n",
    "            elif j == 0:\n",
    "                term = kron(term, Z, format=\"csr\")\n",
    "            else:\n",
    "                term = kron(term, I, format=\"csr\")\n",
    "        H += -J * term\n",
    "    else:\n",
    "        print(\"Open boundary conditions\") \n",
    "\n",
    "    # Transverse field term: -h * sigma_i^x\n",
    "    for i in range(N):\n",
    "        term = 1\n",
    "        for j in range(N):\n",
    "            if j == i:\n",
    "                term = kron(term, X, format=\"csr\")\n",
    "            else:\n",
    "                term = kron(term, I, format=\"csr\")\n",
    "        H += -h * term\n",
    "    \n",
    "    return H"
   ]
  },
  {
   "cell_type": "code",
   "execution_count": 3,
   "metadata": {},
   "outputs": [
    {
     "name": "stdout",
     "output_type": "stream",
     "text": [
      "Open boundary conditions\n",
      "Exact: [-3.49395921 -2.60387547 -1.         -0.10991626  0.10991626  1.\n",
      "  2.60387547  3.49395921]\n",
      "Lanczos: [-4.00000000e+00 -3.46410162e+00 -3.07841967e-16 -1.88460346e-16\n",
      "  6.86148791e-17  2.00000000e+00  2.00000000e+00]\n"
     ]
    }
   ],
   "source": [
    "#benchmarking with exact diagonalization\n",
    "\n",
    "N = 3\n",
    "\n",
    "J = 1.0  # Interaction strength\n",
    "h = 1.0  # Transverse field strength\n",
    "\n",
    "H = transverse_field_ising(N, J, h, pbc = True)\n",
    "#Hd = H.toarray()\n",
    "Hd = transverse_field_ising_dense(N, J, h)\n",
    "eigvals_exact = np.linalg.eigh(Hd)[0]\n",
    "eigvals_lanczos = eigsh(H, k=(2**N) - 1 , which=\"SA\", return_eigenvectors=False)\n",
    "print(\"Exact:\", np.sort(eigvals_exact))\n",
    "print(\"Lanczos:\", np.sort(eigvals_lanczos))"
   ]
  },
  {
   "cell_type": "code",
   "execution_count": 4,
   "metadata": {},
   "outputs": [
    {
     "name": "stdout",
     "output_type": "stream",
     "text": [
      "Hamiltonian shape for N=14: (16384, 16384)\n",
      "Non-zero elements in H for N=14: 245760\n",
      "Sorted Eigenvalues for N=14: [-17.86280854 -17.75049095 -16.96709273 -16.86040721]\n",
      "Hamiltonian shape for N=15: (32768, 32768)\n",
      "Non-zero elements in H for N=15: 524288\n",
      "Sorted Eigenvalues for N=15: [-19.13354447 -19.02872891 -18.29731676 -18.19708215]\n",
      "Eigenvalues written to 1D_TFIM_PBC_eigenvalues.txt\n"
     ]
    }
   ],
   "source": [
    "# Example usage\n",
    "Ns = [14,15]  # Number of spins\n",
    "J = 1.0  # Interaction strength\n",
    "h = 1.0  # Transverse field strength\n",
    "\n",
    "k = 4  # Number of eigenvalues to compute\n",
    "\n",
    "# Filename to write the eigenvalues\n",
    "filename = \"1D_TFIM_PBC_eigenvalues.txt\"\n",
    "\n",
    "# Open the file in write mode\n",
    "with open(filename, 'w') as file:\n",
    "    for N in Ns:\n",
    "        # Construct the Hamiltonian\n",
    "        H = transverse_field_ising(N, J, h, pbc = True)\n",
    "\n",
    "        print(f\"Hamiltonian shape for N={N}: {H.shape}\")\n",
    "        print(f\"Non-zero elements in H for N={N}: {H.nnz}\")\n",
    "\n",
    "        # Compute the smallest algebraic eigenvalues (ground state) without eigenvectors\n",
    "        eigvals_sa = eigsh(H, k=k, which='SA', return_eigenvectors=False)\n",
    "\n",
    "        # Sort the eigenvalues from smallest to largest\n",
    "        sorted_eigvals = np.sort(eigvals_sa)\n",
    "        print(f\"Sorted Eigenvalues for N={N}:\", sorted_eigvals)\n",
    "\n",
    "        # Write the sorted eigenvalues to the file\n",
    "        file.write(f\"1D TFIM Eigenvalues for N={N}:\\n\")\n",
    "        for val in sorted_eigvals:\n",
    "            file.write(f\"{val}\\n\")\n",
    "        file.write(\"\\n\")\n",
    "\n",
    "print(f\"Eigenvalues written to {filename}\")"
   ]
  },
  {
   "cell_type": "code",
   "execution_count": 5,
   "metadata": {},
   "outputs": [],
   "source": [
    "# 3 spins out of 12\n",
    "\n",
    "N = 12  # Number of spins\n",
    "J = 1.0  # Interaction strength\n",
    "h = 1.0  # Transverse field strength\n",
    "\n",
    "# Assuming transverse_field_ising is defined and returns a sparse Hermitian matrix\n",
    "H = transverse_field_ising(N, J, h, pbc = True)\n",
    "\n",
    "#print(f\"Hamiltonian shape: {H.shape}\")\n",
    "#print(f\"Non-zero elements in H: {H.nnz}\")"
   ]
  },
  {
   "cell_type": "code",
   "execution_count": 6,
   "metadata": {},
   "outputs": [
    {
     "name": "stdout",
     "output_type": "stream",
     "text": [
      "Minimum eigenvalue: [-15.32259515]\n",
      "Corresponding eigenvector shape: (4096, 1)\n",
      "Density matrix shape: (4096, 4096)\n",
      "qobj density matrix shape: (4096, 4096)\n",
      "<class 'qutip.core.qobj.Qobj'>\n",
      "<class 'numpy.ndarray'>\n",
      "Traced out density matrix shape: (8, 8)\n",
      "Minimum eigenvalue: 1.424490040821895e-06\n"
     ]
    }
   ],
   "source": [
    "# ground state of H only + debugging partial trace\n",
    "\n",
    "# Compute smallest eigenvalue and the corresponding eigenvector\n",
    "min_eigenvalue, min_eigenvector = eigsh(H, k=1, which='SA')\n",
    "\n",
    "print(f\"Minimum eigenvalue: {min_eigenvalue}\")\n",
    "print(f\"Corresponding eigenvector shape: {min_eigenvector.shape}\")\n",
    "#print(f\"Corresponding eigenvector: {min_eigenvector}\")\n",
    "\n",
    "#Construct the density matrix\n",
    "density_matrix = np.outer(min_eigenvector, min_eigenvector.conj())\n",
    "\n",
    "print(f\"Density matrix shape: {density_matrix.shape}\")\n",
    "#print(f\"Density matrix: {density_matrix}\")\n",
    "\n",
    "density_matrix_qobj = Qobj(density_matrix, dims=[[2]*N, [2]*N])\n",
    "print(f\"qobj density matrix shape: {density_matrix_qobj.shape}\")\n",
    "#print(f\"qobj density matrix: {density_matrix_qobj}\")\n",
    "\n",
    "# Trace out some qubits (keep other qubits)\n",
    "keep_qubits = [0,1,2]  # Indices of qubits to keep\n",
    "traced_out_density_matrix = ptrace(density_matrix_qobj, keep_qubits)\n",
    "\n",
    "# Convert the result back to a dense matrix if needed\n",
    "traced_out_density_matrix_dense = traced_out_density_matrix.full()\n",
    "\n",
    "print(type(traced_out_density_matrix))\n",
    "print(type(traced_out_density_matrix_dense))\n",
    "\n",
    "print(f\"Traced out density matrix shape: {traced_out_density_matrix_dense.shape}\")\n",
    "#print(f\"Traced out density matrix: {traced_out_density_matrix_dense}\")\n",
    "\n",
    "# Diagonalize the traced out density matrix\n",
    "eigenvalues, eigenvectors = np.linalg.eigh(traced_out_density_matrix_dense)\n",
    "#print(f\"Eigenvalues of the traced out density matrix: {eigenvalues}\")\n",
    "#print(f\"Eigenvectors of the traced out density matrix: {eigenvectors}\")\n",
    "\n",
    "# Print the minimum eigenvalue\n",
    "min_eigenvalue = np.min(eigenvalues)\n",
    "print(f\"Minimum eigenvalue: {min_eigenvalue}\")"
   ]
  },
  {
   "cell_type": "code",
   "execution_count": 7,
   "metadata": {},
   "outputs": [
    {
     "name": "stderr",
     "output_type": "stream",
     "text": [
      "100%|██████████| 100/100 [00:24<00:00,  4.13it/s]"
     ]
    },
    {
     "name": "stdout",
     "output_type": "stream",
     "text": [
      "Minimum eigenvalues of the traced-out density matrix: [1.424490040834912e-06, 2.5882407400161784e-06, 5.1561901482439936e-05, 5.4304185996614154e-05, 1.0091244068361345e-05, 5.42447507485009e-06, 4.1171837659127327e-05, 5.768989998834082e-05, 0.00011523347940258923, 5.144594900612784e-05, 0.00021889096798674757, 0.00023184382730079208, 0.0005605317140146216, 0.0001540729552870305, 8.337745426538811e-05, 0.00010267517320922764, 0.0005744962946040258, 9.131934357808952e-05, 0.0009479287220200838, 0.0003844909427505465, 0.0008773964845391936, 2.0511979513469565e-05, 0.000577757149531434, 4.787241875081755e-05, 0.0013094082426965913, 0.0007101102739710758, 0.00012233595362118915, 0.000196347891048616, 0.0004807245598551348, 0.00021986505577659135, 0.00024380221574763088, 0.003250729800148597, 0.0010447298583056, 0.0011194635837172033, 0.00016729842908366868, 8.747762608620014e-05, 0.00013381868322183716, 0.0009996213028160572, 0.000825163287091436, 0.0006141244346409454, 0.0018626629519330842, 0.001522504628149859, 0.0006948376198573864, 9.957057880460819e-05, 0.0012632052321106327, 0.002026283665066522, 0.00010791116898740341, 0.00041043253276052945, 0.002369837060011878, 0.0016978963829117541, 0.0002918172170263414, 0.0014001176862136993, 0.00013808528907412082, 7.534415365416622e-05, 0.0005103188293442964, 0.008867223478115725, 0.006041218628169183, 0.0020286323657076233, 0.0006450952762354832, 0.0013283420232559707, 0.006243645483554096, 0.00761055364995937, 0.0013034685359691722, 0.0009664600334829192, 0.0024407295592663784, 0.0013754673102888523, 0.0022186828618178693, 0.0017470614522992708, 0.0022132192070809416, 0.001855539882893425, 0.002010799637775458, 0.001457568315879731, 0.010293590378827145, 0.003592787200168115, 0.002388526322216647, 0.0038453651137213365, 0.0029467453753485844, 0.00475261847317642, 0.0016769779345531127, 0.003934402268230127, 0.003742903256973756, 0.0006351461546123421, 0.007504440963949658, 0.0020032477728560267, 0.006546047412990419, 0.006519501953858061, 0.003264995977796331, 0.001144894001730699, 0.0022805541792284573, 0.015440667414234045, 0.0045274851094470455, 0.0018349596512515197, 0.0006187496567109279, 0.011446603740654522, 0.00509927090462891, 0.0005740585809775605, 0.010238025385539633, 0.001838561451969217, 0.0059343136818714596, 0.007433360577012523]\n"
     ]
    },
    {
     "name": "stderr",
     "output_type": "stream",
     "text": [
      "\n"
     ]
    }
   ],
   "source": [
    "#  Lowest 100 eigenvalues of H\n",
    "\n",
    "# Compute 100 smallest eigenvalues and the corresponding eigenvectors\n",
    "eigenvalues, eigenvectors = eigsh(H, k=100, which='SA')\n",
    "\n",
    "min_eigenvalues = []\n",
    "\n",
    "for i in tqdm(range(100)):\n",
    "    # Construct the density matrix for each eigenvector\n",
    "    min_eigenvector = eigenvectors[:, i]\n",
    "    density_matrix = np.outer(min_eigenvector, min_eigenvector.conj())\n",
    "    density_matrix_qobj = Qobj(density_matrix, dims=[[2]*N, [2]*N])\n",
    "\n",
    "    # Trace out 9 qubits (keep 3 qubits)\n",
    "    keep_qubits = [4, 5, 6]  # Indices of qubits to keep\n",
    "    traced_out_density_matrix = ptrace(density_matrix_qobj, keep_qubits)\n",
    "\n",
    "    # Convert the result back to a dense matrix if needed\n",
    "    traced_out_density_matrix_dense = traced_out_density_matrix.full()\n",
    "\n",
    "    # Diagonalize the traced-out density matrix\n",
    "    eigenvalues_traced, _ = np.linalg.eigh(traced_out_density_matrix_dense)\n",
    "\n",
    "    # Find the minimum eigenvalue of the traced-out density matrix\n",
    "    min_eigenvalue = np.min(eigenvalues_traced)\n",
    "    min_eigenvalues.append(min_eigenvalue)\n",
    "\n",
    "print(\"Minimum eigenvalues of the traced-out density matrix:\", np.sort(min_eigenvalues))"
   ]
  },
  {
   "cell_type": "code",
   "execution_count": 8,
   "metadata": {},
   "outputs": [
    {
     "data": {
      "image/png": "[encoded data removed]",
      "text/plain": [
       "<Figure size 640x480 with 1 Axes>"
      ]
     },
     "metadata": {},
     "output_type": "display_data"
    }
   ],
   "source": [
    "# Plot the minimum eigenvalue of the traced-out density matrix as a function of the eigenvalue of the Hamiltonian H\n",
    "plt.plot(eigenvalues, min_eigenvalues, 'o', markersize=2)\n",
    "\n",
    "# Set y-scale to log and manually define the ticks\n",
    "plt.yscale(\"log\")\n",
    "plt.yticks([10**-6, 10**-5, 10**-4, 10**-3, 10**-2, 10**-1], [r\"$10^{-6}$\", r\"$10^{-5}$\", r\"$10^{-4}$\", r\"$10^{-3}$\", r\"$10^{-2}$\", r\"$10^{-1}$\"])\n",
    "\n",
    "plt.xlabel('Eigenvalue of Hamiltonian H')\n",
    "plt.ylabel('Minimum eigenvalue of traced-out density matrix')\n",
    "#plt.title('Minimum eigenvalue of traced-out density matrix vs Eigenvalue of Hamiltonian H')\n",
    "plt.show()"
   ]
  },
  {
   "cell_type": "code",
   "execution_count": 9,
   "metadata": {},
   "outputs": [
    {
     "name": "stderr",
     "output_type": "stream",
     "text": [
      "100%|██████████| 4096/4096 [20:01<00:00,  3.41it/s]\n"
     ]
    }
   ],
   "source": [
    "# All eigenvalues of H\n",
    "\n",
    "# Compute all eigenvalues and corresponding eigenvectors\n",
    "eigenvalues, eigenvectors = np.linalg.eigh(H.toarray())\n",
    "\n",
    "min_eigenvalues = []\n",
    "\n",
    "for i in tqdm(range(len(eigenvalues))):\n",
    "    # Construct the density matrix for each eigenvector\n",
    "    min_eigenvector = eigenvectors[:, i]\n",
    "    density_matrix = np.outer(min_eigenvector, min_eigenvector.conj())\n",
    "    density_matrix_qobj = Qobj(density_matrix, dims=[[2]*N, [2]*N])\n",
    "\n",
    "    # Trace out 9 qubits (keep 3 qubits)\n",
    "    keep_qubits = [4, 5, 6]  # Indices of qubits to keep\n",
    "    traced_out_density_matrix = ptrace(density_matrix_qobj, keep_qubits)\n",
    "\n",
    "    # Convert the result back to a dense matrix if needed\n",
    "    traced_out_density_matrix_dense = traced_out_density_matrix.full()\n",
    "\n",
    "    # Check if the matrix is Hermitian\n",
    "    is_hermitian = np.allclose(traced_out_density_matrix_dense, traced_out_density_matrix_dense.conj().T)\n",
    "\n",
    "    # Output the result\n",
    "    print(\"The density matrix is Hermitian.\" if is_hermitian else \"The density matrix is not Hermitian.\")\n",
    "\n",
    "    # Diagonalize the traced-out density matrix\n",
    "    eigenvalues_traced, _ = np.linalg.eigh(traced_out_density_matrix_dense)\n",
    "\n",
    "    # Find the minimum eigenvalue of the traced-out density matrix\n",
    "    min_eigenvalue = np.min(eigenvalues_traced)\n",
    "    min_eigenvalues.append(min_eigenvalue)"
   ]
  },
  {
   "cell_type": "code",
   "execution_count": 10,
   "metadata": {},
   "outputs": [
    {
     "name": "stdout",
     "output_type": "stream",
     "text": [
      "Minimum eigenvalues of the traced-out density matrix: [1.42449004e-06 1.42449004e-06 2.58824074e-06 ... 9.64989148e-02\n",
      " 9.75928035e-02 9.84196626e-02]\n"
     ]
    }
   ],
   "source": [
    "print(\"Minimum eigenvalues of the traced-out density matrix:\", np.sort(min_eigenvalues))"
   ]
  },
  {
   "cell_type": "code",
   "execution_count": 11,
   "metadata": {},
   "outputs": [
    {
     "data": {
      "image/png": "[encoded data removed]",
      "text/plain": [
       "<Figure size 640x480 with 1 Axes>"
      ]
     },
     "metadata": {},
     "output_type": "display_data"
    }
   ],
   "source": [
    "# Plot the minimum eigenvalue of the traced-out density matrix as a function of the eigenvalue of the Hamiltonian H\n",
    "plt.plot(eigenvalues, min_eigenvalues, 'o', markersize=2)\n",
    "\n",
    "# Set y-scale to log and manually define the ticks\n",
    "plt.yscale(\"log\")\n",
    "plt.yticks([10**-6, 10**-5, 10**-4, 10**-3, 10**-2, 10**-1], [r\"$10^{-6}$\", r\"$10^{-5}$\", r\"$10^{-4}$\", r\"$10^{-3}$\", r\"$10^{-2}$\", r\"$10^{-1}$\"])\n",
    "\n",
    "plt.xlabel('Eigenvalue of Hamiltonian H')\n",
    "plt.ylabel('Minimum eigenvalue of traced-out density matrix')\n",
    "#plt.title('Minimum eigenvalue of traced-out density matrix vs Eigenvalue of Hamiltonian H')\n",
    "plt.show()"
   ]
  }
 ],
 "metadata": {
  "kernelspec": {
   "display_name": "base",
   "language": "python",
   "name": "python3"
  },
  "language_info": {
   "codemirror_mode": {
    "name": "ipython",
    "version": 3
   },
   "file_extension": ".py",
   "mimetype": "text/x-python",
   "name": "python",
   "nbconvert_exporter": "python",
   "pygments_lexer": "ipython3",
   "version": "3.11.8"
  }
 },
 "nbformat": 4,
 "nbformat_minor": 2
}
