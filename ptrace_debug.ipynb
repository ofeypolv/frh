{
 "cells": [
  {
   "cell_type": "code",
   "execution_count": 2,
   "metadata": {},
   "outputs": [],
   "source": [
    "import numpy as np\n",
    "from functools import reduce\n",
    "from scipy.linalg import eigh\n",
    "import matplotlib.pyplot as plt\n",
    "from scipy.sparse import kron, identity, csr_matrix, lil_matrix\n",
    "from scipy.sparse.linalg import eigsh, eigs\n",
    "from qutip import Qobj, ptrace\n",
    "from qutip import commutator as qt_commutator\n",
    "from tqdm import tqdm\n",
    "from itertools import product"
   ]
  },
  {
   "cell_type": "code",
   "execution_count": 3,
   "metadata": {},
   "outputs": [],
   "source": [
    "def partial_trace(rho, keep, dims):\n",
    "    \"\"\"Compute the partial trace of a density matrix.\"\"\"\n",
    "    keep_dims = np.prod([dims[i] for i in keep])\n",
    "    trace_dims = np.prod([dims[i] for i in range(len(dims)) if i not in keep])\n",
    "    rho = rho.reshape([keep_dims, trace_dims, keep_dims, trace_dims])\n",
    "    return np.trace(rho, axis1=1, axis2=3).reshape([keep_dims, keep_dims])"
   ]
  },
  {
   "cell_type": "code",
   "execution_count": 4,
   "metadata": {},
   "outputs": [
    {
     "name": "stdout",
     "output_type": "stream",
     "text": [
      "rho_s: [[0.5 0.5]\n",
      " [0.5 0.5]]\n",
      "rho_2: [[0.25 0.25 0.25 0.25]\n",
      " [0.25 0.25 0.25 0.25]\n",
      " [0.25 0.25 0.25 0.25]\n",
      " [0.25 0.25 0.25 0.25]]\n",
      "rho_3: [[0.125 0.125 0.125 0.125 0.125 0.125 0.125 0.125]\n",
      " [0.125 0.125 0.125 0.125 0.125 0.125 0.125 0.125]\n",
      " [0.125 0.125 0.125 0.125 0.125 0.125 0.125 0.125]\n",
      " [0.125 0.125 0.125 0.125 0.125 0.125 0.125 0.125]\n",
      " [0.125 0.125 0.125 0.125 0.125 0.125 0.125 0.125]\n",
      " [0.125 0.125 0.125 0.125 0.125 0.125 0.125 0.125]\n",
      " [0.125 0.125 0.125 0.125 0.125 0.125 0.125 0.125]\n",
      " [0.125 0.125 0.125 0.125 0.125 0.125 0.125 0.125]]\n",
      "rho_4: [[0.0625 0.0625 0.0625 0.0625 0.0625 0.0625 0.0625 0.0625 0.0625 0.0625\n",
      "  0.0625 0.0625 0.0625 0.0625 0.0625 0.0625]\n",
      " [0.0625 0.0625 0.0625 0.0625 0.0625 0.0625 0.0625 0.0625 0.0625 0.0625\n",
      "  0.0625 0.0625 0.0625 0.0625 0.0625 0.0625]\n",
      " [0.0625 0.0625 0.0625 0.0625 0.0625 0.0625 0.0625 0.0625 0.0625 0.0625\n",
      "  0.0625 0.0625 0.0625 0.0625 0.0625 0.0625]\n",
      " [0.0625 0.0625 0.0625 0.0625 0.0625 0.0625 0.0625 0.0625 0.0625 0.0625\n",
      "  0.0625 0.0625 0.0625 0.0625 0.0625 0.0625]\n",
      " [0.0625 0.0625 0.0625 0.0625 0.0625 0.0625 0.0625 0.0625 0.0625 0.0625\n",
      "  0.0625 0.0625 0.0625 0.0625 0.0625 0.0625]\n",
      " [0.0625 0.0625 0.0625 0.0625 0.0625 0.0625 0.0625 0.0625 0.0625 0.0625\n",
      "  0.0625 0.0625 0.0625 0.0625 0.0625 0.0625]\n",
      " [0.0625 0.0625 0.0625 0.0625 0.0625 0.0625 0.0625 0.0625 0.0625 0.0625\n",
      "  0.0625 0.0625 0.0625 0.0625 0.0625 0.0625]\n",
      " [0.0625 0.0625 0.0625 0.0625 0.0625 0.0625 0.0625 0.0625 0.0625 0.0625\n",
      "  0.0625 0.0625 0.0625 0.0625 0.0625 0.0625]\n",
      " [0.0625 0.0625 0.0625 0.0625 0.0625 0.0625 0.0625 0.0625 0.0625 0.0625\n",
      "  0.0625 0.0625 0.0625 0.0625 0.0625 0.0625]\n",
      " [0.0625 0.0625 0.0625 0.0625 0.0625 0.0625 0.0625 0.0625 0.0625 0.0625\n",
      "  0.0625 0.0625 0.0625 0.0625 0.0625 0.0625]\n",
      " [0.0625 0.0625 0.0625 0.0625 0.0625 0.0625 0.0625 0.0625 0.0625 0.0625\n",
      "  0.0625 0.0625 0.0625 0.0625 0.0625 0.0625]\n",
      " [0.0625 0.0625 0.0625 0.0625 0.0625 0.0625 0.0625 0.0625 0.0625 0.0625\n",
      "  0.0625 0.0625 0.0625 0.0625 0.0625 0.0625]\n",
      " [0.0625 0.0625 0.0625 0.0625 0.0625 0.0625 0.0625 0.0625 0.0625 0.0625\n",
      "  0.0625 0.0625 0.0625 0.0625 0.0625 0.0625]\n",
      " [0.0625 0.0625 0.0625 0.0625 0.0625 0.0625 0.0625 0.0625 0.0625 0.0625\n",
      "  0.0625 0.0625 0.0625 0.0625 0.0625 0.0625]\n",
      " [0.0625 0.0625 0.0625 0.0625 0.0625 0.0625 0.0625 0.0625 0.0625 0.0625\n",
      "  0.0625 0.0625 0.0625 0.0625 0.0625 0.0625]\n",
      " [0.0625 0.0625 0.0625 0.0625 0.0625 0.0625 0.0625 0.0625 0.0625 0.0625\n",
      "  0.0625 0.0625 0.0625 0.0625 0.0625 0.0625]]\n"
     ]
    }
   ],
   "source": [
    "# debugging partial trace by comparing numpy vs qutip partial trace - 2 and 3 spins (trace out 1 and 2 spins respectively)\n",
    "\n",
    "rho_i = 1/np.sqrt(2)\n",
    "rho_s = np.array([[rho_i**2, rho_i**2], [rho_i**2, rho_i**2]])\n",
    "rho_2 = np.kron(rho_s, rho_s)\n",
    "rho_3 = np.kron(rho_s, rho_2)\n",
    "rho_4 = np.kron(rho_s, rho_3)\n",
    "print(f\"rho_s: {rho_s}\")\n",
    "print(f\"rho_2: {rho_2}\")\n",
    "print(f\"rho_3: {rho_3}\")\n",
    "print(f\"rho_4: {rho_4}\")"
   ]
  },
  {
   "cell_type": "code",
   "execution_count": 5,
   "metadata": {},
   "outputs": [
    {
     "name": "stdout",
     "output_type": "stream",
     "text": [
      "rho_1r: [[0.5 0.5]\n",
      " [0.5 0.5]]\n",
      "rho_1r_qobj: Quantum object: dims=[[2], [2]], shape=(2, 2), type='oper', dtype=Dense, isherm=True\n",
      "Qobj data =\n",
      "[[0.5 0.5]\n",
      " [0.5 0.5]]\n",
      "rho_1r_qobj_dense: [[0.5+0.j 0.5+0.j]\n",
      " [0.5+0.j 0.5+0.j]]\n"
     ]
    }
   ],
   "source": [
    "# Trace out the last spin from the 2 spins matrix - 1 spin left\n",
    "\n",
    "rho_1r = partial_trace(rho_2, [0], [2, 2])\n",
    "print(f\"rho_1r: {rho_1r}\")\n",
    "\n",
    "rho_2_qobj = Qobj(rho_2, dims=[[2, 2],[2, 2]])\n",
    "rho_1r_qobj = ptrace(rho_2_qobj, [0])\n",
    "print(f\"rho_1r_qobj: {rho_1r_qobj}\")\n",
    "rho_1r_qobj_dense = rho_1r_qobj.full()\n",
    "print(f\"rho_1r_qobj_dense: {rho_1r_qobj_dense}\")"
   ]
  },
  {
   "cell_type": "code",
   "execution_count": 6,
   "metadata": {},
   "outputs": [
    {
     "name": "stdout",
     "output_type": "stream",
     "text": [
      "rho_1rr: [[0.25 0.25 0.25 0.25]\n",
      " [0.25 0.25 0.25 0.25]\n",
      " [0.25 0.25 0.25 0.25]\n",
      " [0.25 0.25 0.25 0.25]]\n",
      "rho_1rr_qobj: Quantum object: dims=[[2, 2], [2, 2]], shape=(4, 4), type='oper', dtype=Dense, isherm=True\n",
      "Qobj data =\n",
      "[[0.25 0.25 0.25 0.25]\n",
      " [0.25 0.25 0.25 0.25]\n",
      " [0.25 0.25 0.25 0.25]\n",
      " [0.25 0.25 0.25 0.25]]\n",
      "rho_1rr_qobj_dense: [[0.25+0.j 0.25+0.j 0.25+0.j 0.25+0.j]\n",
      " [0.25+0.j 0.25+0.j 0.25+0.j 0.25+0.j]\n",
      " [0.25+0.j 0.25+0.j 0.25+0.j 0.25+0.j]\n",
      " [0.25+0.j 0.25+0.j 0.25+0.j 0.25+0.j]]\n"
     ]
    }
   ],
   "source": [
    "# Trace out the last spin from the 3 spins matrix - 2 spins left\n",
    "\n",
    "rho_2rr = partial_trace(rho_3, [0,1], [2, 2, 2])\n",
    "print(f\"rho_1rr: {rho_2rr}\")\n",
    "\n",
    "rho_3_qobj = Qobj(rho_3, dims=[[2, 2, 2], [2, 2, 2]])\n",
    "rho_2rr_qobj = ptrace(rho_3_qobj, [0,1])\n",
    "print(f\"rho_1rr_qobj: {rho_2rr_qobj}\")\n",
    "rho_2rr_qobj_dense = rho_2rr_qobj.full()\n",
    "print(f\"rho_1rr_qobj_dense: {rho_2rr_qobj_dense}\")"
   ]
  },
  {
   "cell_type": "code",
   "execution_count": 7,
   "metadata": {},
   "outputs": [
    {
     "name": "stdout",
     "output_type": "stream",
     "text": [
      "rho_1rr: [[0.5 0.5]\n",
      " [0.5 0.5]]\n",
      "rho_1rr_qobj: Quantum object: dims=[[2], [2]], shape=(2, 2), type='oper', dtype=Dense, isherm=True\n",
      "Qobj data =\n",
      "[[0.5 0.5]\n",
      " [0.5 0.5]]\n",
      "rho_1rr_qobj_dense: [[0.5+0.j 0.5+0.j]\n",
      " [0.5+0.j 0.5+0.j]]\n"
     ]
    }
   ],
   "source": [
    "# Trace out the last 2 spins from the 3 spins matrix - 1 spin left\n",
    "\n",
    "rho_1rr = partial_trace(rho_3, [0], [2, 2, 2])\n",
    "print(f\"rho_1rr: {rho_1rr}\")\n",
    "\n",
    "rho_3_qobj = Qobj(rho_3, dims=[[2, 2, 2], [2, 2, 2]])\n",
    "rho_1rr_qobj = ptrace(rho_3_qobj, [0])\n",
    "print(f\"rho_1rr_qobj: {rho_1rr_qobj}\")\n",
    "rho_1rr_qobj_dense = rho_1rr_qobj.full()\n",
    "print(f\"rho_1rr_qobj_dense: {rho_1rr_qobj_dense}\")"
   ]
  },
  {
   "cell_type": "code",
   "execution_count": 12,
   "metadata": {},
   "outputs": [
    {
     "name": "stdout",
     "output_type": "stream",
     "text": [
      "rho_3rrr: [[0.125 0.125 0.125 0.125 0.125 0.125 0.125 0.125]\n",
      " [0.125 0.125 0.125 0.125 0.125 0.125 0.125 0.125]\n",
      " [0.125 0.125 0.125 0.125 0.125 0.125 0.125 0.125]\n",
      " [0.125 0.125 0.125 0.125 0.125 0.125 0.125 0.125]\n",
      " [0.125 0.125 0.125 0.125 0.125 0.125 0.125 0.125]\n",
      " [0.125 0.125 0.125 0.125 0.125 0.125 0.125 0.125]\n",
      " [0.125 0.125 0.125 0.125 0.125 0.125 0.125 0.125]\n",
      " [0.125 0.125 0.125 0.125 0.125 0.125 0.125 0.125]]\n",
      "rho_3rrr_qobj: Quantum object: dims=[[2, 2, 2], [2, 2, 2]], shape=(8, 8), type='oper', dtype=Dense, isherm=True\n",
      "Qobj data =\n",
      "[[0.125 0.125 0.125 0.125 0.125 0.125 0.125 0.125]\n",
      " [0.125 0.125 0.125 0.125 0.125 0.125 0.125 0.125]\n",
      " [0.125 0.125 0.125 0.125 0.125 0.125 0.125 0.125]\n",
      " [0.125 0.125 0.125 0.125 0.125 0.125 0.125 0.125]\n",
      " [0.125 0.125 0.125 0.125 0.125 0.125 0.125 0.125]\n",
      " [0.125 0.125 0.125 0.125 0.125 0.125 0.125 0.125]\n",
      " [0.125 0.125 0.125 0.125 0.125 0.125 0.125 0.125]\n",
      " [0.125 0.125 0.125 0.125 0.125 0.125 0.125 0.125]]\n",
      "rho_3rrr_qobj_dense: [[0.125+0.j 0.125+0.j 0.125+0.j 0.125+0.j 0.125+0.j 0.125+0.j 0.125+0.j\n",
      "  0.125+0.j]\n",
      " [0.125+0.j 0.125+0.j 0.125+0.j 0.125+0.j 0.125+0.j 0.125+0.j 0.125+0.j\n",
      "  0.125+0.j]\n",
      " [0.125+0.j 0.125+0.j 0.125+0.j 0.125+0.j 0.125+0.j 0.125+0.j 0.125+0.j\n",
      "  0.125+0.j]\n",
      " [0.125+0.j 0.125+0.j 0.125+0.j 0.125+0.j 0.125+0.j 0.125+0.j 0.125+0.j\n",
      "  0.125+0.j]\n",
      " [0.125+0.j 0.125+0.j 0.125+0.j 0.125+0.j 0.125+0.j 0.125+0.j 0.125+0.j\n",
      "  0.125+0.j]\n",
      " [0.125+0.j 0.125+0.j 0.125+0.j 0.125+0.j 0.125+0.j 0.125+0.j 0.125+0.j\n",
      "  0.125+0.j]\n",
      " [0.125+0.j 0.125+0.j 0.125+0.j 0.125+0.j 0.125+0.j 0.125+0.j 0.125+0.j\n",
      "  0.125+0.j]\n",
      " [0.125+0.j 0.125+0.j 0.125+0.j 0.125+0.j 0.125+0.j 0.125+0.j 0.125+0.j\n",
      "  0.125+0.j]]\n"
     ]
    }
   ],
   "source": [
    "# Trace out the last spin from the 4 spins matrix - 3 spins left\n",
    "\n",
    "rho_3rrr = partial_trace(rho_4, [0,1,2], [2, 2, 2, 2])\n",
    "print(f\"rho_3rrr: {rho_3rrr}\")\n",
    "\n",
    "rho_4_qobj = Qobj(rho_4, dims=[[2, 2, 2, 2], [2, 2, 2, 2]])\n",
    "rho_3rrr_qobj = ptrace(rho_4_qobj, [0,1,2])\n",
    "print(f\"rho_3rrr_qobj: {rho_3rrr_qobj}\")\n",
    "rho_3rrr_qobj_dense = rho_3rrr_qobj.full()\n",
    "print(f\"rho_3rrr_qobj_dense: {rho_3rrr_qobj_dense}\")"
   ]
  },
  {
   "cell_type": "code",
   "execution_count": 13,
   "metadata": {},
   "outputs": [
    {
     "name": "stdout",
     "output_type": "stream",
     "text": [
      "rho_2rrr: [[0.25 0.25 0.25 0.25]\n",
      " [0.25 0.25 0.25 0.25]\n",
      " [0.25 0.25 0.25 0.25]\n",
      " [0.25 0.25 0.25 0.25]]\n",
      "rho_2rrr_qobj: Quantum object: dims=[[2, 2], [2, 2]], shape=(4, 4), type='oper', dtype=Dense, isherm=True\n",
      "Qobj data =\n",
      "[[0.25 0.25 0.25 0.25]\n",
      " [0.25 0.25 0.25 0.25]\n",
      " [0.25 0.25 0.25 0.25]\n",
      " [0.25 0.25 0.25 0.25]]\n",
      "rho_2rrr_qobj_dense: [[0.25+0.j 0.25+0.j 0.25+0.j 0.25+0.j]\n",
      " [0.25+0.j 0.25+0.j 0.25+0.j 0.25+0.j]\n",
      " [0.25+0.j 0.25+0.j 0.25+0.j 0.25+0.j]\n",
      " [0.25+0.j 0.25+0.j 0.25+0.j 0.25+0.j]]\n"
     ]
    }
   ],
   "source": [
    "# Trace out the last 2 spins from the 4 spins matrix - 2 spins left\n",
    "\n",
    "rho_2rrr = partial_trace(rho_4, [0,1], [2, 2, 2, 2])\n",
    "print(f\"rho_2rrr: {rho_2rrr}\")\n",
    "\n",
    "rho_4_qobj = Qobj(rho_4, dims=[[2, 2, 2, 2], [2, 2, 2, 2]])\n",
    "rho_2rrr_qobj = ptrace(rho_4_qobj, [0,1])\n",
    "print(f\"rho_2rrr_qobj: {rho_2rrr_qobj}\")\n",
    "rho_2rrr_qobj_dense = rho_2rrr_qobj.full()\n",
    "print(f\"rho_2rrr_qobj_dense: {rho_2rrr_qobj_dense}\")"
   ]
  },
  {
   "cell_type": "code",
   "execution_count": 11,
   "metadata": {},
   "outputs": [
    {
     "name": "stdout",
     "output_type": "stream",
     "text": [
      "[2, 2, 2]\n"
     ]
    }
   ],
   "source": [
    "N=3\n",
    "print([2]*N)"
   ]
  }
 ],
 "metadata": {
  "kernelspec": {
   "display_name": "base",
   "language": "python",
   "name": "python3"
  },
  "language_info": {
   "codemirror_mode": {
    "name": "ipython",
    "version": 3
   },
   "file_extension": ".py",
   "mimetype": "text/x-python",
   "name": "python",
   "nbconvert_exporter": "python",
   "pygments_lexer": "ipython3",
   "version": "3.11.8"
  }
 },
 "nbformat": 4,
 "nbformat_minor": 2
}
