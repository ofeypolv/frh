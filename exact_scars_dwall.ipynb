{
 "cells": [
  {
   "cell_type": "code",
   "execution_count": 7,
   "id": "ebc69c93",
   "metadata": {},
   "outputs": [],
   "source": [
    "import numpy as np\n",
    "from scipy.linalg import eigh, qr, null_space\n",
    "import matplotlib.pyplot as plt\n",
    "from scipy.sparse import kron, identity, csr_matrix, lil_matrix, dok_matrix, coo_matrix, issparse\n",
    "from scipy.sparse.linalg import eigsh, eigs\n",
    "from scipy.special import factorial, comb\n",
    "from scipy.optimize import curve_fit\n",
    "from qutip import Qobj, ptrace, entropy_vn, qeye, tensor\n",
    "from tqdm import tqdm\n",
    "from concurrent.futures import ThreadPoolExecutor\n",
    "from joblib import Parallel, delayed\n",
    "from itertools import combinations\n",
    "#from quspin.basis import spin_basis_1d, spin_basis_general\n",
    "#import tenpy as tp"
   ]
  },
  {
   "cell_type": "code",
   "execution_count": 8,
   "id": "af50a4fb",
   "metadata": {},
   "outputs": [],
   "source": [
    "# spin-1/2 basis states + spin operators\n",
    "\n",
    "# basis states for spin-1/2 system\n",
    "\n",
    "# |up> state\n",
    "ket_p = csr_matrix([[1], [0]])\n",
    "\n",
    "# |down> state\n",
    "ket_m = csr_matrix([[0], [1]])\n",
    "\n",
    "# Spin-1/2 operators as sparse matrices\n",
    "sx = csr_matrix([[0, 1], [1, 0]], dtype=np.complex128)\n",
    "sy = csr_matrix([[0, -1j], [1j, 0]], dtype=np.complex128)\n",
    "sz = csr_matrix([[1, 0], [0, -1]], dtype=np.complex128)\n",
    "\n",
    "I = identity(2, format='csr', dtype=np.complex128)\n",
    "\n",
    "# s_+ operator\n",
    "sp = (1/2) * (sx + 1j * sy)\n",
    "\n",
    "# s_- operator\n",
    "sm = (1/2) * (sx - 1j * sy)\n",
    "\n",
    "# P_0 operator\n",
    "P_0 = (1/2) * (I - sz)\n",
    "P_0p = (1/2) * (I + sz)\n",
    "\n",
    "# --- Vacuum state |omega> = |0>^{⊗L} ---\n",
    "def omega(L):\n",
    "    state = ket_m\n",
    "    for _ in range(L-1):\n",
    "        state = kron(state, ket_m, format='csr')\n",
    "    return state\n",
    "\n",
    "def omega_p(L):\n",
    "    state = ket_p\n",
    "    for _ in range(L-1):\n",
    "        state = kron(state, ket_p, format='csr')\n",
    "    return state\n",
    "\n",
    "# --- Q^+ operator ---\n",
    "def Q_plus(L, bc):\n",
    "    Qp = csr_matrix((2**L, 2**L), dtype=complex)\n",
    "    for i in range(2, L):\n",
    "        phase = np.exp(1j * np.pi * i)\n",
    "        qplus =1\n",
    "        for j in range(1, L+1):\n",
    "            if j == i:\n",
    "                qplus = kron(qplus, sp, format='csr')\n",
    "            elif j == i-1 or j == i+1:\n",
    "                qplus = kron(qplus, P_0, format='csr')\n",
    "            else:\n",
    "                qplus = kron(qplus, I, format='csr')\n",
    "        Qp += phase * qplus\n",
    "\n",
    "    if bc == 'pbc':\n",
    "        # Add the wraparound terms for PBC\n",
    "\n",
    "        qplus1 = 1\n",
    "        for j in range(1, L+1):\n",
    "            phase = np.exp(1j * np.pi * j)\n",
    "            if j == 1:\n",
    "                qplus1 = kron(qplus1, sp, format='csr')\n",
    "            elif j == 2 or j == L:\n",
    "                qplus1 = kron(qplus1, P_0, format='csr')\n",
    "            else:\n",
    "                qplus1 = kron(qplus1, I, format='csr')\n",
    "        Qp += phase * qplus1\n",
    "\n",
    "        qplus2 = 1\n",
    "        for j in range(1, L+1):\n",
    "            phase = np.exp(1j * np.pi * j)\n",
    "            if j == 1 or j == L-1:\n",
    "                qplus2 = kron(qplus2, P_0, format='csr')\n",
    "            elif j == L:\n",
    "                qplus2 = kron(qplus2, sp, format='csr')\n",
    "            else:\n",
    "                qplus2 = kron(qplus2, I, format='csr')\n",
    "        Qp += phase * qplus2\n",
    "    return Qp\n",
    "\n",
    "# --- Q^+ operator ---\n",
    "def Q_plus_p(L, bc):\n",
    "    Qp = csr_matrix((2**L, 2**L), dtype=complex)\n",
    "    for i in range(2, L):\n",
    "        phase = np.exp(1j * np.pi * i)\n",
    "        qplus =1\n",
    "        for j in range(1, L+1):\n",
    "            if j == i:\n",
    "                qplus = kron(qplus, sm, format='csr')\n",
    "            elif j == i-1 or j == i+1:\n",
    "                qplus = kron(qplus, P_0p, format='csr')\n",
    "            else:\n",
    "                qplus = kron(qplus, I, format='csr')\n",
    "        Qp += phase * qplus\n",
    "\n",
    "    if bc == 'pbc':\n",
    "        # Add the wraparound terms for PBC\n",
    "\n",
    "        qplus1 = 1\n",
    "        for j in range(1, L+1):\n",
    "            phase = np.exp(1j * np.pi * j)\n",
    "            if j == 1:\n",
    "                qplus1 = kron(qplus1, sm, format='csr')\n",
    "            elif j == 2 or j == L:\n",
    "                qplus1 = kron(qplus1, P_0p, format='csr')\n",
    "            else:\n",
    "                qplus1 = kron(qplus1, I, format='csr')\n",
    "        Qp += phase * qplus1\n",
    "\n",
    "        qplus2 = 1\n",
    "        for j in range(1, L+1):\n",
    "            phase = np.exp(1j * np.pi * j)\n",
    "            if j == 1 or j == L-1:\n",
    "                qplus2 = kron(qplus2, P_0p, format='csr')\n",
    "            elif j == L:\n",
    "                qplus2 = kron(qplus2, sm, format='csr')\n",
    "            else:\n",
    "                qplus2 = kron(qplus2, I, format='csr')\n",
    "        Qp += phase * qplus2\n",
    "    return Qp\n",
    "\n",
    "\n",
    "# --- Tower state |n> ---\n",
    "def tower_state(n, L, bc):\n",
    "    if bc == 'obc':\n",
    "        norm = factorial(n) * np.sqrt(comb(L-n-1, n))\n",
    "    elif bc == 'pbc':\n",
    "        norm = factorial(n) * np.sqrt((L/n) * comb(L-n-1, n-1))\n",
    "    else:\n",
    "        raise ValueError(\"Boundary condition must be 'obc' or 'pbc'.\")\n",
    "\n",
    "    Qp = Q_plus(L, bc)\n",
    "    psi = omega(L)\n",
    "    for _ in range(n):\n",
    "        psi = Qp.dot(psi)\n",
    "    return psi / norm\n",
    "\n",
    "# --- Tower state |n> ---\n",
    "def tower_state_p(n, L, bc):\n",
    "    if bc == 'obc':\n",
    "        norm = factorial(n) * np.sqrt(comb(L-n-1, n))\n",
    "    elif bc == 'pbc':\n",
    "        norm = factorial(n) * np.sqrt((L/n) * comb(L-n-1, n-1))\n",
    "    else:\n",
    "        raise ValueError(\"Boundary condition must be 'obc' or 'pbc'.\")\n",
    "\n",
    "    Qp = Q_plus_p(L, bc)\n",
    "    psi = omega_p(L)\n",
    "    for _ in range(n):\n",
    "        psi = Qp.dot(psi)\n",
    "    return psi / norm"
   ]
  },
  {
   "cell_type": "code",
   "execution_count": 9,
   "id": "34017d60",
   "metadata": {},
   "outputs": [],
   "source": [
    "# functions\n",
    "\n",
    "def innermost_adjacent_indices(L, block_size):\n",
    "    \"\"\"\n",
    "    Returns the indices of the innermost adjacent block of given size.\n",
    "    For even L, the block is centered in the middle.\n",
    "    \"\"\"\n",
    "    start = (L - block_size) // 2\n",
    "    return list(range(start, start + block_size))\n",
    "\n",
    "def all_adjacent_indices(L, block_size):\n",
    "    \"\"\"\n",
    "    Returns a list of all possible adjacent blocks of given size.\n",
    "    Each block is represented as a list of indices.\n",
    "    \"\"\"\n",
    "    return [list(range(start, start + block_size)) for start in range(L - block_size + 1)]\n",
    "\n",
    "def ptrace_sparse(dm_sparse, keep, dims):\n",
    "    \"\"\"\n",
    "    Compute the partial trace over arbitrary subsystems using sparse matrix operations.\n",
    "\n",
    "    Args:\n",
    "        dm_sparse (scipy.sparse matrix): Full density matrix of shape (D, D), where D = product(dims)\n",
    "        keep (list of int): Subsystems to keep (indices, 0-indexed)\n",
    "        dims (list of int): List of subsystem dimensions, e.g., [2]*n for n qubits\n",
    "\n",
    "    Returns:\n",
    "        scipy.sparse.csr_matrix: Reduced density matrix over kept subsystems\n",
    "    \"\"\"\n",
    "    if not issparse(dm_sparse):\n",
    "        raise ValueError(\"dm_sparse must be a scipy.sparse matrix\")\n",
    "    n = len(dims)\n",
    "    D = np.prod(dims)\n",
    "    if dm_sparse.shape != (D, D):\n",
    "        raise ValueError(\"Density matrix shape does not match dims\")\n",
    "    trace = [i for i in range(n) if i not in keep]\n",
    "    d_keep = np.prod([dims[i] for i in keep])\n",
    "    # Prepare output\n",
    "    data = []\n",
    "    row_idx = []\n",
    "    col_idx = []\n",
    "\n",
    "    # Precompute bit masks\n",
    "    #def idx_to_bits(idx):\n",
    "    #    return np.array(list(np.binary_repr(idx, width=n))).astype(int)\n",
    "\n",
    "    def idx_to_subsys(idx, dims):\n",
    "    #Convert flat index to tuple of subsystem indices for arbitrary dims.\n",
    "        subsys = []\n",
    "        for d in reversed(dims):\n",
    "            subsys.append(idx % d)\n",
    "            idx //= d\n",
    "        return np.array(subsys[::-1])\n",
    "\n",
    "    \n",
    "\n",
    "    dm_sparse = dm_sparse.tocoo()\n",
    "\n",
    "    for i, j, val in tqdm(zip(dm_sparse.row, dm_sparse.col, dm_sparse.data)):\n",
    "        bi = idx_to_subsys(i, dims)\n",
    "        bj = idx_to_subsys(j, dims)\n",
    "\n",
    "        if np.all(bi[trace] == bj[trace]):\n",
    "            i_red = 0\n",
    "            j_red = 0\n",
    "            for k, pos in enumerate(keep):\n",
    "                i_red = i_red * dims[pos] + bi[pos]\n",
    "                j_red = j_red * dims[pos] + bj[pos]\n",
    "\n",
    "            data.append(val)\n",
    "            row_idx.append(i_red)\n",
    "            col_idx.append(j_red)\n",
    "\n",
    "    \n",
    "    return coo_matrix((data, (row_idx, col_idx)), shape=(d_keep, d_keep)).tocsr()\n",
    "\n",
    "def ptrace_sparse_parallel(dm_sparse, keep, dims, n_jobs=-1): # njobs to be removed if not using joblib\n",
    "    \"\"\"\n",
    "    Compute the partial trace over arbitrary subsystems using sparse matrix operations.\n",
    "    Parallelized over nonzero elements.\n",
    "    \"\"\"\n",
    "    if not issparse(dm_sparse):\n",
    "        raise ValueError(\"dm_sparse must be a scipy.sparse matrix\")\n",
    "    n = len(dims)\n",
    "    D = np.prod(dims)\n",
    "    if dm_sparse.shape != (D, D):\n",
    "        raise ValueError(\"Density matrix shape does not match dims\")\n",
    "    trace = [i for i in range(n) if i not in keep]\n",
    "    d_keep = np.prod([dims[i] for i in keep])\n",
    "\n",
    "\n",
    "    def idx_to_subsys(idx, dims):\n",
    "    #Convert flat index to tuple of subsystem indices for arbitrary dims.\n",
    "        subsys = []\n",
    "        for d in reversed(dims):\n",
    "            subsys.append(idx % d)\n",
    "            idx //= d\n",
    "        return np.array(subsys[::-1])\n",
    "\n",
    "    \n",
    "    dm_sparse = dm_sparse.tocoo()\n",
    "\n",
    "    def process_entry(i,j,val):\n",
    "        bi = idx_to_subsys(i, dims)\n",
    "        bj = idx_to_subsys(j, dims)\n",
    "\n",
    "        if np.all(bi[trace] == bj[trace]):\n",
    "            i_red = 0\n",
    "            j_red = 0\n",
    "            for k, pos in enumerate(keep):\n",
    "                i_red = i_red * dims[pos] + bi[pos]\n",
    "                j_red = j_red * dims[pos] + bj[pos]\n",
    "            return (val, i_red, j_red)\n",
    "        else:\n",
    "            return None\n",
    "        \n",
    "    results = Parallel(n_jobs=n_jobs, prefer=\"processes\")(\n",
    "        delayed(process_entry)(i, j, val)\n",
    "        for i, j, val in tqdm(zip(dm_sparse.row, dm_sparse.col, dm_sparse.data))\n",
    "    )\n",
    "    results = [r for r in results if r is not None]\n",
    "\n",
    "    '''entries = zip(psi_sparse.row, psi_sparse.col, psi_sparse.data)\n",
    "    results = []\n",
    "    with ThreadPoolExecutor() as executor:\n",
    "        for res in executor.map(process_entry, entries):\n",
    "            if res is not None:\n",
    "                results.append(res)'''\n",
    "    \n",
    "    if results:\n",
    "        data, row_idx, col_idx = zip(*results)\n",
    "    else:\n",
    "        data, row_idx, col_idx = [], [], []\n",
    "\n",
    "    return coo_matrix((data, (row_idx, col_idx)), shape=(d_keep, d_keep)).tocsr()\n",
    "\n",
    "def ee_sparse(dm_sparse, L):\n",
    "    \"\"\"\n",
    "    Computes the entanglement entropy of a state using sparse matrices in parallel.\n",
    "    The state is assumed to be a vector in the Hilbert space of L qubits.\n",
    "    \"\"\"\n",
    "    rhoA = ptrace_sparse(dm_sparse, list(range(L // 2)), [2] * L)\n",
    "    eigvals = np.linalg.eigvalsh(rhoA.toarray())\n",
    "    return -np.sum(eigvals * np.log(eigvals + 1e-12)).real  # Add small value to avoid log(0)\n",
    "\n",
    "def ee_sparse_parallel(dm_sparse, L, n_jobs=-1):\n",
    "    \"\"\"\n",
    "    Computes the entanglement entropy of a state using sparse matrices in parallel.\n",
    "    The state is assumed to be a vector in the Hilbert space of L qubits.\n",
    "    \"\"\"\n",
    "    rhoA = ptrace_sparse_parallel(dm_sparse, list(range(L // 2)), [2] * L, n_jobs=n_jobs)\n",
    "    eigvals = np.linalg.eigvalsh(rhoA.toarray())\n",
    "    return -np.sum(eigvals * np.log(eigvals + 1e-12)).real  # Add small value to avoid log(0)\n",
    "\n",
    "def rdm_qutip(state, L, keep_qubits):\n",
    "    rho = np.outer(state, state.conj())\n",
    "    rho_qobj = Qobj(rho, dims=[[2] * L, [2] * L])\n",
    "    rdm = ptrace(rho_qobj, keep_qubits)\n",
    "    rdm_mat = rdm.full()\n",
    "    eigvals = np.linalg.eigvalsh(rdm_mat)\n",
    "    min_eigval = np.min(eigvals)\n",
    "    # Rank: count nonzero eigenvalues (with tolerance)\n",
    "    rank = np.sum(eigvals > 1e-12)\n",
    "    return rdm, min_eigval, rank\n",
    "\n",
    "def ee_qutip(state, L):\n",
    "    rho = np.outer(state, state.conj())\n",
    "    rho_qobj = Qobj(rho, dims=[[2] * L, [2] * L])\n",
    "    rhoA = ptrace(rho_qobj, list(range(L//2)))\n",
    "    return entropy_vn(rhoA)"
   ]
  },
  {
   "cell_type": "code",
   "execution_count": 10,
   "id": "0856b1b1",
   "metadata": {},
   "outputs": [
    {
     "name": "stdout",
     "output_type": "stream",
     "text": [
      "All adjacent 2-site blocks: [[0, 1], [1, 2], [2, 3], [3, 4], [4, 5], [5, 6], [6, 7], [7, 8], [8, 9], [9, 10], [10, 11], [11, 12], [12, 13], [13, 14], [14, 15], [15, 16], [16, 17]]\n",
      "All adjacent 3-site blocks: [[0, 1, 2], [1, 2, 3], [2, 3, 4], [3, 4, 5], [4, 5, 6], [5, 6, 7], [6, 7, 8], [7, 8, 9], [8, 9, 10], [9, 10, 11], [10, 11, 12], [11, 12, 13], [12, 13, 14], [13, 14, 15], [14, 15, 16], [15, 16, 17]]\n",
      "All adjacent 4-site blocks: [[0, 1, 2, 3], [1, 2, 3, 4], [2, 3, 4, 5], [3, 4, 5, 6], [4, 5, 6, 7], [5, 6, 7, 8], [6, 7, 8, 9], [7, 8, 9, 10], [8, 9, 10, 11], [9, 10, 11, 12], [10, 11, 12, 13], [11, 12, 13, 14], [12, 13, 14, 15], [13, 14, 15, 16], [14, 15, 16, 17]]\n"
     ]
    }
   ],
   "source": [
    "L = 18 # number of sites -  it has to be even\n",
    "\n",
    "innermost_2 = innermost_adjacent_indices(L, 2)\n",
    "innermost_3 = innermost_adjacent_indices(L, 3)\n",
    "innermost_4 = innermost_adjacent_indices(L, 4)\n",
    "\n",
    "adjacent_2 = all_adjacent_indices(L, 2)\n",
    "adjacent_3 = all_adjacent_indices(L, 3)\n",
    "adjacent_4 = all_adjacent_indices(L, 4)\n",
    "\n",
    "print(\"All adjacent 2-site blocks:\", adjacent_2)\n",
    "print(\"All adjacent 3-site blocks:\", adjacent_3)\n",
    "print(\"All adjacent 4-site blocks:\", adjacent_4)"
   ]
  },
  {
   "cell_type": "code",
   "execution_count": 11,
   "id": "cffcf498",
   "metadata": {},
   "outputs": [
    {
     "name": "stdout",
     "output_type": "stream",
     "text": [
      "scar state dimension for L=18: (262144, 1)\n",
      "Number of zero components in dimer_state (tol=1e-12): 1287\n",
      "Number of zero elements of dm (tol=1e-12): 1656369\n",
      "\n",
      "All possible RDMs for block size 2:\n"
     ]
    },
    {
     "name": "stderr",
     "output_type": "stream",
     "text": [
      "1656369it [00:16, 102232.56it/s]?it/s]\n",
      "  6%|▌         | 1/17 [00:16<04:24, 16.53s/it]"
     ]
    },
    {
     "name": "stdout",
     "output_type": "stream",
     "text": [
      "Block [0, 1]: min eigenvalue = 0.0, rank = 3\n"
     ]
    },
    {
     "name": "stderr",
     "output_type": "stream",
     "text": [
      "1656369it [00:15, 103695.47it/s]\n",
      " 12%|█▏        | 2/17 [00:32<04:06, 16.42s/it]"
     ]
    },
    {
     "name": "stdout",
     "output_type": "stream",
     "text": [
      "Block [1, 2]: min eigenvalue = 0.0, rank = 3\n"
     ]
    },
    {
     "name": "stderr",
     "output_type": "stream",
     "text": [
      "1656369it [00:15, 103745.90it/s]\n",
      " 18%|█▊        | 3/17 [00:49<03:49, 16.36s/it]"
     ]
    },
    {
     "name": "stdout",
     "output_type": "stream",
     "text": [
      "Block [2, 3]: min eigenvalue = 0.0, rank = 3\n"
     ]
    },
    {
     "name": "stderr",
     "output_type": "stream",
     "text": [
      "1656369it [00:16, 102948.72it/s]\n",
      " 24%|██▎       | 4/17 [01:05<03:32, 16.38s/it]"
     ]
    },
    {
     "name": "stdout",
     "output_type": "stream",
     "text": [
      "Block [3, 4]: min eigenvalue = 0.0, rank = 3\n"
     ]
    },
    {
     "name": "stderr",
     "output_type": "stream",
     "text": [
      "1656369it [00:16, 102906.34it/s]\n",
      " 29%|██▉       | 5/17 [01:21<03:16, 16.38s/it]"
     ]
    },
    {
     "name": "stdout",
     "output_type": "stream",
     "text": [
      "Block [4, 5]: min eigenvalue = 0.0, rank = 3\n"
     ]
    },
    {
     "name": "stderr",
     "output_type": "stream",
     "text": [
      "1656369it [00:16, 102817.53it/s]\n",
      " 35%|███▌      | 6/17 [01:38<03:00, 16.42s/it]"
     ]
    },
    {
     "name": "stdout",
     "output_type": "stream",
     "text": [
      "Block [5, 6]: min eigenvalue = 0.0, rank = 3\n"
     ]
    },
    {
     "name": "stderr",
     "output_type": "stream",
     "text": [
      "1656369it [00:15, 103759.43it/s]\n",
      " 41%|████      | 7/17 [01:54<02:43, 16.37s/it]"
     ]
    },
    {
     "name": "stdout",
     "output_type": "stream",
     "text": [
      "Block [6, 7]: min eigenvalue = 0.0, rank = 3\n"
     ]
    },
    {
     "name": "stderr",
     "output_type": "stream",
     "text": [
      "1656369it [00:15, 103683.69it/s]\n",
      " 47%|████▋     | 8/17 [02:10<02:27, 16.34s/it]"
     ]
    },
    {
     "name": "stdout",
     "output_type": "stream",
     "text": [
      "Block [7, 8]: min eigenvalue = 0.0, rank = 3\n"
     ]
    },
    {
     "name": "stderr",
     "output_type": "stream",
     "text": [
      "1656369it [00:16, 103363.99it/s]\n",
      " 53%|█████▎    | 9/17 [02:27<02:10, 16.34s/it]"
     ]
    },
    {
     "name": "stdout",
     "output_type": "stream",
     "text": [
      "Block [8, 9]: min eigenvalue = 0.0, rank = 3\n"
     ]
    },
    {
     "name": "stderr",
     "output_type": "stream",
     "text": [
      "1656369it [00:15, 103694.64it/s]\n",
      " 59%|█████▉    | 10/17 [02:43<01:54, 16.32s/it]"
     ]
    },
    {
     "name": "stdout",
     "output_type": "stream",
     "text": [
      "Block [9, 10]: min eigenvalue = 0.0, rank = 3\n"
     ]
    },
    {
     "name": "stderr",
     "output_type": "stream",
     "text": [
      "1656369it [00:16, 102707.10it/s]\n",
      " 65%|██████▍   | 11/17 [03:00<01:38, 16.36s/it]"
     ]
    },
    {
     "name": "stdout",
     "output_type": "stream",
     "text": [
      "Block [10, 11]: min eigenvalue = 0.0, rank = 3\n"
     ]
    },
    {
     "name": "stderr",
     "output_type": "stream",
     "text": [
      "1656369it [00:15, 103673.50it/s]\n",
      " 71%|███████   | 12/17 [03:16<01:21, 16.34s/it]"
     ]
    },
    {
     "name": "stdout",
     "output_type": "stream",
     "text": [
      "Block [11, 12]: min eigenvalue = 0.0, rank = 3\n"
     ]
    },
    {
     "name": "stderr",
     "output_type": "stream",
     "text": [
      "1656369it [00:16, 103398.22it/s]\n",
      " 76%|███████▋  | 13/17 [03:32<01:05, 16.35s/it]"
     ]
    },
    {
     "name": "stdout",
     "output_type": "stream",
     "text": [
      "Block [12, 13]: min eigenvalue = 0.0, rank = 3\n"
     ]
    },
    {
     "name": "stderr",
     "output_type": "stream",
     "text": [
      "1656369it [00:15, 104002.99it/s]\n",
      " 82%|████████▏ | 14/17 [03:48<00:48, 16.32s/it]"
     ]
    },
    {
     "name": "stdout",
     "output_type": "stream",
     "text": [
      "Block [13, 14]: min eigenvalue = 0.0, rank = 3\n"
     ]
    },
    {
     "name": "stderr",
     "output_type": "stream",
     "text": [
      "1656369it [00:16, 103123.13it/s]\n",
      " 88%|████████▊ | 15/17 [04:05<00:32, 16.33s/it]"
     ]
    },
    {
     "name": "stdout",
     "output_type": "stream",
     "text": [
      "Block [14, 15]: min eigenvalue = 0.0, rank = 3\n"
     ]
    },
    {
     "name": "stderr",
     "output_type": "stream",
     "text": [
      "1656369it [00:16, 103231.49it/s]\n",
      " 94%|█████████▍| 16/17 [04:21<00:16, 16.33s/it]"
     ]
    },
    {
     "name": "stdout",
     "output_type": "stream",
     "text": [
      "Block [15, 16]: min eigenvalue = 0.0, rank = 3\n"
     ]
    },
    {
     "name": "stderr",
     "output_type": "stream",
     "text": [
      "1656369it [00:15, 103851.99it/s]\n",
      "100%|██████████| 17/17 [04:37<00:00, 16.35s/it]\n"
     ]
    },
    {
     "name": "stdout",
     "output_type": "stream",
     "text": [
      "Block [16, 17]: min eigenvalue = 0.0, rank = 3\n",
      "\n",
      "All possible RDMs for block size 3:\n"
     ]
    },
    {
     "name": "stderr",
     "output_type": "stream",
     "text": [
      "1656369it [00:15, 104537.05it/s]?it/s]\n",
      "  6%|▋         | 1/16 [00:16<04:02, 16.16s/it]"
     ]
    },
    {
     "name": "stdout",
     "output_type": "stream",
     "text": [
      "Block [0, 1, 2]: min eigenvalue = 0.0, rank = 5\n"
     ]
    },
    {
     "name": "stderr",
     "output_type": "stream",
     "text": [
      "1656369it [00:15, 103547.69it/s]\n",
      " 12%|█▎        | 2/16 [00:32<03:47, 16.26s/it]"
     ]
    },
    {
     "name": "stdout",
     "output_type": "stream",
     "text": [
      "Block [1, 2, 3]: min eigenvalue = 0.0, rank = 5\n"
     ]
    },
    {
     "name": "stderr",
     "output_type": "stream",
     "text": [
      "1656369it [00:15, 104154.57it/s]\n",
      " 19%|█▉        | 3/16 [00:48<03:30, 16.23s/it]"
     ]
    },
    {
     "name": "stdout",
     "output_type": "stream",
     "text": [
      "Block [2, 3, 4]: min eigenvalue = 0.0, rank = 5\n"
     ]
    },
    {
     "name": "stderr",
     "output_type": "stream",
     "text": [
      "1656369it [00:15, 104690.66it/s]\n",
      " 25%|██▌       | 4/16 [01:04<03:14, 16.21s/it]"
     ]
    },
    {
     "name": "stdout",
     "output_type": "stream",
     "text": [
      "Block [3, 4, 5]: min eigenvalue = 0.0, rank = 5\n"
     ]
    },
    {
     "name": "stderr",
     "output_type": "stream",
     "text": [
      "1656369it [00:15, 103958.15it/s]\n",
      " 31%|███▏      | 5/16 [01:21<02:58, 16.22s/it]"
     ]
    },
    {
     "name": "stdout",
     "output_type": "stream",
     "text": [
      "Block [4, 5, 6]: min eigenvalue = 0.0, rank = 5\n"
     ]
    },
    {
     "name": "stderr",
     "output_type": "stream",
     "text": [
      "1656369it [00:16, 103215.42it/s]\n",
      " 38%|███▊      | 6/16 [01:37<02:42, 16.27s/it]"
     ]
    },
    {
     "name": "stdout",
     "output_type": "stream",
     "text": [
      "Block [5, 6, 7]: min eigenvalue = 0.0, rank = 5\n"
     ]
    },
    {
     "name": "stderr",
     "output_type": "stream",
     "text": [
      "1656369it [00:15, 103909.94it/s]\n",
      " 44%|████▍     | 7/16 [01:53<02:26, 16.26s/it]"
     ]
    },
    {
     "name": "stdout",
     "output_type": "stream",
     "text": [
      "Block [6, 7, 8]: min eigenvalue = 0.0, rank = 5\n"
     ]
    },
    {
     "name": "stderr",
     "output_type": "stream",
     "text": [
      "1656369it [00:15, 104200.22it/s]\n",
      " 50%|█████     | 8/16 [02:09<02:09, 16.24s/it]"
     ]
    },
    {
     "name": "stdout",
     "output_type": "stream",
     "text": [
      "Block [7, 8, 9]: min eigenvalue = 0.0, rank = 5\n"
     ]
    },
    {
     "name": "stderr",
     "output_type": "stream",
     "text": [
      "1656369it [00:16, 102694.04it/s]\n",
      " 56%|█████▋    | 9/16 [02:26<01:54, 16.31s/it]"
     ]
    },
    {
     "name": "stdout",
     "output_type": "stream",
     "text": [
      "Block [8, 9, 10]: min eigenvalue = 0.0, rank = 5\n"
     ]
    },
    {
     "name": "stderr",
     "output_type": "stream",
     "text": [
      "1656369it [00:15, 104044.83it/s]\n",
      " 62%|██████▎   | 10/16 [02:42<01:37, 16.29s/it]"
     ]
    },
    {
     "name": "stdout",
     "output_type": "stream",
     "text": [
      "Block [9, 10, 11]: min eigenvalue = 0.0, rank = 5\n"
     ]
    },
    {
     "name": "stderr",
     "output_type": "stream",
     "text": [
      "1656369it [00:15, 104014.92it/s]\n",
      " 69%|██████▉   | 11/16 [02:58<01:21, 16.27s/it]"
     ]
    },
    {
     "name": "stdout",
     "output_type": "stream",
     "text": [
      "Block [10, 11, 12]: min eigenvalue = 0.0, rank = 5\n"
     ]
    },
    {
     "name": "stderr",
     "output_type": "stream",
     "text": [
      "1656369it [00:15, 103921.29it/s]\n",
      " 75%|███████▌  | 12/16 [03:15<01:05, 16.27s/it]"
     ]
    },
    {
     "name": "stdout",
     "output_type": "stream",
     "text": [
      "Block [11, 12, 13]: min eigenvalue = 0.0, rank = 5\n"
     ]
    },
    {
     "name": "stderr",
     "output_type": "stream",
     "text": [
      "1656369it [00:16, 103327.43it/s]\n",
      " 81%|████████▏ | 13/16 [03:31<00:48, 16.29s/it]"
     ]
    },
    {
     "name": "stdout",
     "output_type": "stream",
     "text": [
      "Block [12, 13, 14]: min eigenvalue = 0.0, rank = 5\n"
     ]
    },
    {
     "name": "stderr",
     "output_type": "stream",
     "text": [
      "1656369it [00:15, 104386.03it/s]\n",
      " 88%|████████▊ | 14/16 [03:47<00:32, 16.25s/it]"
     ]
    },
    {
     "name": "stdout",
     "output_type": "stream",
     "text": [
      "Block [13, 14, 15]: min eigenvalue = 0.0, rank = 5\n"
     ]
    },
    {
     "name": "stderr",
     "output_type": "stream",
     "text": [
      "1656369it [00:15, 104112.43it/s]\n",
      " 94%|█████████▍| 15/16 [04:03<00:16, 16.24s/it]"
     ]
    },
    {
     "name": "stdout",
     "output_type": "stream",
     "text": [
      "Block [14, 15, 16]: min eigenvalue = 0.0, rank = 5\n"
     ]
    },
    {
     "name": "stderr",
     "output_type": "stream",
     "text": [
      "1656369it [00:15, 104124.23it/s]\n",
      "100%|██████████| 16/16 [04:20<00:00, 16.25s/it]\n"
     ]
    },
    {
     "name": "stdout",
     "output_type": "stream",
     "text": [
      "Block [15, 16, 17]: min eigenvalue = 0.0, rank = 5\n",
      "\n",
      "All possible RDMs for block size 4:\n"
     ]
    },
    {
     "name": "stderr",
     "output_type": "stream",
     "text": [
      "1656369it [00:16, 103437.07it/s]?it/s]\n",
      "  7%|▋         | 1/15 [00:16<03:48, 16.31s/it]"
     ]
    },
    {
     "name": "stdout",
     "output_type": "stream",
     "text": [
      "Block [0, 1, 2, 3]: min eigenvalue = -3.729655859870224e-17, rank = 7\n"
     ]
    },
    {
     "name": "stderr",
     "output_type": "stream",
     "text": [
      "1656369it [00:16, 102963.52it/s]\n",
      " 13%|█▎        | 2/15 [00:32<03:32, 16.36s/it]"
     ]
    },
    {
     "name": "stdout",
     "output_type": "stream",
     "text": [
      "Block [1, 2, 3, 4]: min eigenvalue = -3.729655859870224e-17, rank = 7\n"
     ]
    },
    {
     "name": "stderr",
     "output_type": "stream",
     "text": [
      "1656369it [00:16, 103384.42it/s]\n",
      " 20%|██        | 3/15 [00:49<03:16, 16.35s/it]"
     ]
    },
    {
     "name": "stdout",
     "output_type": "stream",
     "text": [
      "Block [2, 3, 4, 5]: min eigenvalue = -3.729655859870224e-17, rank = 7\n"
     ]
    },
    {
     "name": "stderr",
     "output_type": "stream",
     "text": [
      "1656369it [00:15, 104218.70it/s]\n",
      " 27%|██▋       | 4/15 [01:05<02:59, 16.32s/it]"
     ]
    },
    {
     "name": "stdout",
     "output_type": "stream",
     "text": [
      "Block [3, 4, 5, 6]: min eigenvalue = -3.729655859870224e-17, rank = 7\n"
     ]
    },
    {
     "name": "stderr",
     "output_type": "stream",
     "text": [
      "1656369it [00:15, 104285.28it/s]\n",
      " 33%|███▎      | 5/15 [01:21<02:42, 16.27s/it]"
     ]
    },
    {
     "name": "stdout",
     "output_type": "stream",
     "text": [
      "Block [4, 5, 6, 7]: min eigenvalue = -3.729655859870224e-17, rank = 7\n"
     ]
    },
    {
     "name": "stderr",
     "output_type": "stream",
     "text": [
      "1656369it [00:16, 102590.02it/s]\n",
      " 40%|████      | 6/15 [01:37<02:26, 16.33s/it]"
     ]
    },
    {
     "name": "stdout",
     "output_type": "stream",
     "text": [
      "Block [5, 6, 7, 8]: min eigenvalue = -3.729655859870224e-17, rank = 7\n"
     ]
    },
    {
     "name": "stderr",
     "output_type": "stream",
     "text": [
      "1656369it [00:16, 103365.48it/s]\n",
      " 47%|████▋     | 7/15 [01:54<02:10, 16.34s/it]"
     ]
    },
    {
     "name": "stdout",
     "output_type": "stream",
     "text": [
      "Block [6, 7, 8, 9]: min eigenvalue = -3.729655859870224e-17, rank = 7\n"
     ]
    },
    {
     "name": "stderr",
     "output_type": "stream",
     "text": [
      "1656369it [00:16, 103452.77it/s]\n",
      " 53%|█████▎    | 8/15 [02:10<01:54, 16.33s/it]"
     ]
    },
    {
     "name": "stdout",
     "output_type": "stream",
     "text": [
      "Block [7, 8, 9, 10]: min eigenvalue = -3.729655859870224e-17, rank = 7\n"
     ]
    },
    {
     "name": "stderr",
     "output_type": "stream",
     "text": [
      "1656369it [00:15, 104108.65it/s]\n",
      " 60%|██████    | 9/15 [02:26<01:37, 16.30s/it]"
     ]
    },
    {
     "name": "stdout",
     "output_type": "stream",
     "text": [
      "Block [8, 9, 10, 11]: min eigenvalue = -3.729655859870224e-17, rank = 7\n"
     ]
    },
    {
     "name": "stderr",
     "output_type": "stream",
     "text": [
      "1656369it [00:15, 103765.84it/s]\n",
      " 67%|██████▋   | 10/15 [02:43<01:21, 16.29s/it]"
     ]
    },
    {
     "name": "stdout",
     "output_type": "stream",
     "text": [
      "Block [9, 10, 11, 12]: min eigenvalue = -3.729655859870224e-17, rank = 7\n"
     ]
    },
    {
     "name": "stderr",
     "output_type": "stream",
     "text": [
      "1656369it [00:15, 103587.34it/s]\n",
      " 73%|███████▎  | 11/15 [02:59<01:05, 16.29s/it]"
     ]
    },
    {
     "name": "stdout",
     "output_type": "stream",
     "text": [
      "Block [10, 11, 12, 13]: min eigenvalue = -3.729655859870224e-17, rank = 7\n"
     ]
    },
    {
     "name": "stderr",
     "output_type": "stream",
     "text": [
      "1656369it [00:16, 103170.83it/s]\n",
      " 80%|████████  | 12/15 [03:15<00:48, 16.31s/it]"
     ]
    },
    {
     "name": "stdout",
     "output_type": "stream",
     "text": [
      "Block [11, 12, 13, 14]: min eigenvalue = -3.729655859870224e-17, rank = 7\n"
     ]
    },
    {
     "name": "stderr",
     "output_type": "stream",
     "text": [
      "1656369it [00:16, 103186.05it/s]\n",
      " 87%|████████▋ | 13/15 [03:32<00:32, 16.33s/it]"
     ]
    },
    {
     "name": "stdout",
     "output_type": "stream",
     "text": [
      "Block [12, 13, 14, 15]: min eigenvalue = -3.729655859870224e-17, rank = 7\n"
     ]
    },
    {
     "name": "stderr",
     "output_type": "stream",
     "text": [
      "1656369it [00:15, 103788.57it/s]\n",
      " 93%|█████████▎| 14/15 [03:48<00:16, 16.33s/it]"
     ]
    },
    {
     "name": "stdout",
     "output_type": "stream",
     "text": [
      "Block [13, 14, 15, 16]: min eigenvalue = -3.729655859870224e-17, rank = 7\n"
     ]
    },
    {
     "name": "stderr",
     "output_type": "stream",
     "text": [
      "1656369it [00:15, 104200.74it/s]\n",
      "100%|██████████| 15/15 [04:04<00:00, 16.31s/it]"
     ]
    },
    {
     "name": "stdout",
     "output_type": "stream",
     "text": [
      "Block [14, 15, 16, 17]: min eigenvalue = -3.729655859870224e-17, rank = 7\n"
     ]
    },
    {
     "name": "stderr",
     "output_type": "stream",
     "text": [
      "\n"
     ]
    },
    {
     "data": {
      "text/plain": [
       "'rdm = ptrace_sparse_parallel(density_matrix_sparse, adjacent_4[0], [2]*L, n_jobs=-1) # Use the custom ptrace_sparse function\\n# Find the minimum eigenvalue of the traced-out density matrix\\neigenvalues_traced, eigenvectors_traced = np.linalg.eigh(rdm.toarray())\\nrank = np.linalg.matrix_rank(rdm.toarray())\\nmin_eigenvalue = np.min(eigenvalues_traced)\\nprint(f\"min eigenvalue = {min_eigenvalue}, rank = {rank}\")'"
      ]
     },
     "execution_count": 11,
     "metadata": {},
     "output_type": "execute_result"
    }
   ],
   "source": [
    "# DOMAIN WALL - PRB 024306\n",
    "\n",
    "scar_state = tower_state_p(4, L, 'pbc')  # with boundary conditions\n",
    "#dimer_state = dimer_state.flatten()  # Reshape to column vector\n",
    "print(f\"scar state dimension for L={L}: {scar_state.shape}\")\n",
    "\n",
    "# Print number of zero components (with tolerance 1e-12)\n",
    "#print(np.count_nonzero(scar_state))\n",
    "num_zeros = np.sum(np.abs(scar_state) > 1e-16)\n",
    "print(f\"Number of zero components in dimer_state (tol=1e-12): {num_zeros}\")\n",
    "\n",
    "scar_sparse = csr_matrix(scar_state.reshape(-1, 1))  # Convert to sparse column vector\n",
    "density_matrix_sparse = scar_sparse @ scar_sparse.getH()  # Outer product to form density matrix\n",
    "print(\"Number of zero elements of dm (tol=1e-12):\", np.sum(np.abs(density_matrix_sparse.data) > 1e-16))    #Trace out qubits using qutip partial trace\n",
    "\n",
    "# Calculate RDMs for all possible adjacent 2, 3, 4 site blocks\n",
    "for block_size, all_blocks in zip([2, 3, 4], [adjacent_2, adjacent_3, adjacent_4]):\n",
    "    print(f\"\\nAll possible RDMs for block size {block_size}:\")\n",
    "    for block_indices in tqdm(all_blocks):\n",
    "        rdm = ptrace_sparse_parallel(density_matrix_sparse, block_indices, [2]*L, n_jobs=-1) # Use the custom ptrace_sparse function\n",
    "        # Find the minimum eigenvalue of the traced-out density matrix\n",
    "        eigenvalues_traced, eigenvectors_traced = np.linalg.eigh(rdm.toarray())\n",
    "        rank = np.linalg.matrix_rank(rdm.toarray())\n",
    "        min_eigenvalue = np.min(eigenvalues_traced)\n",
    "        print(f\"Block {block_indices}: min eigenvalue = {min_eigenvalue}, rank = {rank}\")\n",
    "'''rdm = ptrace_sparse_parallel(density_matrix_sparse, adjacent_4[0], [2]*L, n_jobs=-1) # Use the custom ptrace_sparse function\n",
    "# Find the minimum eigenvalue of the traced-out density matrix\n",
    "eigenvalues_traced, eigenvectors_traced = np.linalg.eigh(rdm.toarray())\n",
    "rank = np.linalg.matrix_rank(rdm.toarray())\n",
    "min_eigenvalue = np.min(eigenvalues_traced)\n",
    "print(f\"min eigenvalue = {min_eigenvalue}, rank = {rank}\")'''"
   ]
  },
  {
   "cell_type": "code",
   "execution_count": 12,
   "id": "72e36871",
   "metadata": {},
   "outputs": [
    {
     "name": "stderr",
     "output_type": "stream",
     "text": [
      "1656369it [00:15, 104663.16it/s]\n"
     ]
    },
    {
     "name": "stdout",
     "output_type": "stream",
     "text": [
      "xy-scar entanglement entropy for L=18: 2.0375589251518424\n"
     ]
    }
   ],
   "source": [
    "# DOMAIN WALL - PRB 024306\n",
    "\n",
    "'''\n",
    "# L is your system size\n",
    "# Nup = L//2 for Sz=0 sector (number of up spins)\n",
    "# kblock=0 for momentum k=0 (T=1 eigenvalue)\n",
    "sym_basis = spin_basis_1d(L, Nup=L//2, kblock=0)\n",
    "print(\"Basis size:\", sym_basis.Ns)\n",
    "\n",
    "# get symmetry basis states as integers\n",
    "proj_states = sym_basis.get_proj(np.arange(sym_basis.Ns))\n",
    "\n",
    "# project dimer_state onto the symmetry sector\n",
    "xy_proj = scar_state[proj_states]\n",
    "\n",
    "# normalize if desired\n",
    "xy_proj = xy_proj / np.linalg.norm(xy_proj)\n",
    "\n",
    "\n",
    "# xy_proj is now the state in the (Sz=0, T=1) sector basis\n",
    "'''\n",
    "\n",
    "\n",
    "# dimer ee for single L and Ltar dependence\n",
    "xy_scar_ee = ee_sparse_parallel(density_matrix_sparse, L, n_jobs=-1)\n",
    "print(f\"xy-scar entanglement entropy for L={L}: {xy_scar_ee/np.log(2)}\")\n",
    "\n",
    "#xy_scar_ee_tar = [ee_sparse_parallel(scar_state, Lt, n_jobs=-1) for Lt in tqdm(Ltar)]\n",
    "\n",
    "#plt.figure(figsize=(6,4))\n",
    "#plt.plot(Ltar, xy_scar_ee_tar, marker='o')\n",
    "#plt.xlabel('L')\n",
    "#plt.ylabel('Entanglement Entropy')\n",
    "#plt.title('Dimer Entanglement Entropy vs L')\n",
    "#plt.grid(True)\n",
    "#plt.show()"
   ]
  }
 ],
 "metadata": {
  "kernelspec": {
   "display_name": "Python 3",
   "language": "python",
   "name": "python3"
  },
  "language_info": {
   "codemirror_mode": {
    "name": "ipython",
    "version": 3
   },
   "file_extension": ".py",
   "mimetype": "text/x-python",
   "name": "python",
   "nbconvert_exporter": "python",
   "pygments_lexer": "ipython3",
   "version": "3.13.3"
  }
 },
 "nbformat": 4,
 "nbformat_minor": 5
}
