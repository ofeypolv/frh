{
 "cells": [
  {
   "cell_type": "code",
   "execution_count": 45,
   "id": "ebc69c93",
   "metadata": {},
   "outputs": [],
   "source": [
    "import numpy as np\n",
    "from scipy.linalg import eigh, qr, null_space\n",
    "import matplotlib.pyplot as plt\n",
    "from scipy.sparse import kron, identity, csr_matrix, lil_matrix, dok_matrix, coo_matrix, issparse\n",
    "from scipy.sparse.linalg import eigsh, eigs\n",
    "from scipy.special import factorial, comb\n",
    "from scipy.optimize import curve_fit\n",
    "from qutip import Qobj, ptrace, entropy_vn, qeye, tensor\n",
    "from tqdm import tqdm\n",
    "from concurrent.futures import ThreadPoolExecutor\n",
    "from joblib import Parallel, delayed\n",
    "from itertools import combinations\n",
    "#from quspin.basis import spin_basis_1d, spin_basis_general\n",
    "#import tenpy as tp"
   ]
  },
  {
   "cell_type": "code",
   "execution_count": 46,
   "id": "af50a4fb",
   "metadata": {},
   "outputs": [],
   "source": [
    "# spin-1/2 basis states + spin operators\n",
    "\n",
    "# basis states for spin-1/2 system\n",
    "\n",
    "# |up> state\n",
    "ket_p = csr_matrix([[1], [0]])\n",
    "\n",
    "# |down> state\n",
    "ket_m = csr_matrix([[0], [1]])\n",
    "\n",
    "# Spin-1/2 operators as sparse matrices\n",
    "sx = csr_matrix([[0, 1], [1, 0]], dtype=np.complex128)\n",
    "sy = csr_matrix([[0, -1j], [1j, 0]], dtype=np.complex128)\n",
    "sz = csr_matrix([[1, 0], [0, -1]], dtype=np.complex128)\n",
    "\n",
    "I = identity(2, format='csr', dtype=np.complex128)\n",
    "\n",
    "# s_+ operator\n",
    "sp = (1/2) * (sx + 1j * sy)\n",
    "\n",
    "# s_- operator\n",
    "sm = (1/2) * (sx - 1j * sy)\n",
    "\n",
    "# P_0 operator\n",
    "P_0 = (1/2) * (I - sz)\n",
    "P_0p = (1/2) * (I + sz)\n",
    "\n",
    "# --- Vacuum state |omega> = |0>^{⊗L} ---\n",
    "def omega(L):\n",
    "    state = ket_m\n",
    "    for _ in range(L-1):\n",
    "        state = kron(state, ket_m, format='csr')\n",
    "    return state\n",
    "\n",
    "def omega_p(L):\n",
    "    state = ket_p\n",
    "    for _ in range(L-1):\n",
    "        state = kron(state, ket_p, format='csr')\n",
    "    return state\n",
    "\n",
    "# --- Q^+ operator ---\n",
    "def Q_plus(L, bc):\n",
    "    Qp = csr_matrix((2**L, 2**L), dtype=complex)\n",
    "    for i in range(2, L):\n",
    "        phase = np.exp(1j * np.pi * i)\n",
    "        qplus =1\n",
    "        for j in range(1, L+1):\n",
    "            if j == i:\n",
    "                qplus = kron(qplus, sp, format='csr')\n",
    "            elif j == i-1 or j == i+1:\n",
    "                qplus = kron(qplus, P_0, format='csr')\n",
    "            else:\n",
    "                qplus = kron(qplus, I, format='csr')\n",
    "        Qp += phase * qplus\n",
    "\n",
    "    if bc == 'pbc':\n",
    "        # Add the wraparound terms for PBC\n",
    "\n",
    "        qplus1 = 1\n",
    "        for j in range(1, L+1):\n",
    "            phase = np.exp(1j * np.pi * j)\n",
    "            if j == 1:\n",
    "                qplus1 = kron(qplus1, sp, format='csr')\n",
    "            elif j == 2 or j == L:\n",
    "                qplus1 = kron(qplus1, P_0, format='csr')\n",
    "            else:\n",
    "                qplus1 = kron(qplus1, I, format='csr')\n",
    "        Qp += phase * qplus1\n",
    "\n",
    "        qplus2 = 1\n",
    "        for j in range(1, L+1):\n",
    "            phase = np.exp(1j * np.pi * j)\n",
    "            if j == 1 or j == L-1:\n",
    "                qplus2 = kron(qplus2, P_0, format='csr')\n",
    "            elif j == L:\n",
    "                qplus2 = kron(qplus2, sp, format='csr')\n",
    "            else:\n",
    "                qplus2 = kron(qplus2, I, format='csr')\n",
    "        Qp += phase * qplus2\n",
    "    return Qp\n",
    "\n",
    "# --- Q^+ operator ---\n",
    "def Q_plus_p(L, bc):\n",
    "    Qp = csr_matrix((2**L, 2**L), dtype=complex)\n",
    "    for i in range(2, L):\n",
    "        phase = np.exp(1j * np.pi * i)\n",
    "        qplus =1\n",
    "        for j in range(1, L+1):\n",
    "            if j == i:\n",
    "                qplus = kron(qplus, sm, format='csr')\n",
    "            elif j == i-1 or j == i+1:\n",
    "                qplus = kron(qplus, P_0p, format='csr')\n",
    "            else:\n",
    "                qplus = kron(qplus, I, format='csr')\n",
    "        Qp += phase * qplus\n",
    "\n",
    "    if bc == 'pbc':\n",
    "        # Add the wraparound terms for PBC\n",
    "\n",
    "        qplus1 = 1\n",
    "        for j in range(1, L+1):\n",
    "            phase = np.exp(1j * np.pi * j)\n",
    "            if j == 1:\n",
    "                qplus1 = kron(qplus1, sm, format='csr')\n",
    "            elif j == 2 or j == L:\n",
    "                qplus1 = kron(qplus1, P_0p, format='csr')\n",
    "            else:\n",
    "                qplus1 = kron(qplus1, I, format='csr')\n",
    "        Qp += phase * qplus1\n",
    "\n",
    "        qplus2 = 1\n",
    "        for j in range(1, L+1):\n",
    "            phase = np.exp(1j * np.pi * j)\n",
    "            if j == 1 or j == L-1:\n",
    "                qplus2 = kron(qplus2, P_0p, format='csr')\n",
    "            elif j == L:\n",
    "                qplus2 = kron(qplus2, sm, format='csr')\n",
    "            else:\n",
    "                qplus2 = kron(qplus2, I, format='csr')\n",
    "        Qp += phase * qplus2\n",
    "    return Qp\n",
    "\n",
    "\n",
    "# --- Tower state |n> ---\n",
    "def tower_state(n, L, bc):\n",
    "    if bc == 'obc':\n",
    "        norm = factorial(n) * np.sqrt(comb(L-n-1, n))\n",
    "    elif bc == 'pbc':\n",
    "        norm = factorial(n) * np.sqrt((L/n) * comb(L-n-1, n-1))\n",
    "    else:\n",
    "        raise ValueError(\"Boundary condition must be 'obc' or 'pbc'.\")\n",
    "\n",
    "    Qp = Q_plus(L, bc)\n",
    "    psi = omega(L)\n",
    "    for _ in range(n):\n",
    "        psi = Qp.dot(psi)\n",
    "    return psi / norm\n",
    "\n",
    "# --- Tower state |n> ---\n",
    "def tower_state_p(n, L, bc):\n",
    "    if bc == 'obc':\n",
    "        norm = factorial(n) * np.sqrt(comb(L-n-1, n))\n",
    "    elif bc == 'pbc':\n",
    "        norm = factorial(n) * np.sqrt((L/n) * comb(L-n-1, n-1))\n",
    "    else:\n",
    "        raise ValueError(\"Boundary condition must be 'obc' or 'pbc'.\")\n",
    "\n",
    "    Qp = Q_plus_p(L, bc)\n",
    "    psi = omega_p(L)\n",
    "    for _ in range(n):\n",
    "        psi = Qp.dot(psi)\n",
    "    return psi / norm\n",
    "\n",
    "def hamiltonian_dwall(L, lam, delta, J, bc):\n",
    "    \"\"\"\n",
    "    Constructs the domain wall Hamiltonian using sparse matrices.\n",
    "    H = sum_i [λ(σx_i - σz_{i-1} σx_i σz_{i+1}) + δ σz_i + J σz_i σz_{i+1}]\n",
    "    \n",
    "    Args:\n",
    "        L: number of sites\n",
    "        lam: λ parameter (coupling for σx and three-body terms)\n",
    "        delta: δ parameter (magnetic field strength)\n",
    "        J: Ising coupling strength\n",
    "        bc: boundary conditions ('obc' or 'pbc')\n",
    "    \n",
    "    Returns:\n",
    "        H: sparse Hamiltonian matrix\n",
    "    \"\"\"\n",
    "    H = csr_matrix((2**L, 2**L), dtype=complex)\n",
    "    \n",
    "    # Hλ term: λ σx_i for each site\n",
    "    for i in range(2,L):\n",
    "        hx1_term = 1\n",
    "        hx2_term = 1\n",
    "        for j in range(1,L+1):\n",
    "            if j == i:\n",
    "                hx1_term = kron(hx1_term, sx, format='csr')\n",
    "                hx2_term = kron(hx2_term, sx, format='csr')\n",
    "            elif j == i-1 or j == i+1:\n",
    "                hx1_term = kron(hx1_term, I, format='csr')\n",
    "                hx2_term = kron(hx2_term, sz, format='csr')\n",
    "            else:\n",
    "                hx1_term = kron(hx1_term, I, format='csr')\n",
    "                hx2_term = kron(hx2_term, I, format='csr')\n",
    "        H += lam * (hx1_term - hx2_term)\n",
    "\n",
    "    # Hz term: δ σz_i for each site\n",
    "    for i in range(2,L):\n",
    "        hz_term = 1\n",
    "        for j in range(1,L+1):\n",
    "            if j == i:\n",
    "                hz_term = kron(hz_term, sz, format='csr')\n",
    "            else:\n",
    "                hz_term = kron(hz_term, I, format='csr')\n",
    "        H += delta * hz_term\n",
    "    \n",
    "    # Hzz term: J σz_i σz_{i+1}\n",
    "    for i in range(2,L):\n",
    "        hzz_term = 1\n",
    "        for j in range(1,L+1):\n",
    "            if j == i or j == i+1:\n",
    "                hzz_term = kron(hzz_term, sz, format='csr')\n",
    "            else:\n",
    "                hzz_term = kron(hzz_term, I, format='csr')\n",
    "        H += J * hzz_term\n",
    "    \n",
    "    # For PBC, add the wraparound Ising term\n",
    "    if bc == 'pbc':\n",
    "        hzz_wrap = 1\n",
    "        for j in range(L):\n",
    "            if j == 0 or j == L-1:\n",
    "                hzz_wrap = kron(hzz_wrap, sz, format='csr')\n",
    "            else:\n",
    "                hzz_wrap = kron(hzz_wrap, I, format='csr')\n",
    "        H += J * hzz_wrap\n",
    "\n",
    "    if bc == 'pbc':\n",
    "    # Add the wraparound terms for PBC\n",
    "\n",
    "        # Hλ term\n",
    "        hx1_term = 1\n",
    "        for j in range(1, L+1):\n",
    "            if j == 1 or j == L:\n",
    "                hx1_term = kron(hx1_term, sx, format='csr')\n",
    "            else:\n",
    "                hx1_term = kron(hx1_term, I, format='csr')\n",
    "        hx2_term1 = 1\n",
    "        hx2_term2 = 1\n",
    "        for j in range(1, L+1):\n",
    "            if j == 1:\n",
    "                hx2_term1 = kron(hx2_term1, sx, format='csr')\n",
    "                hx2_term2 = kron(hx2_term2, sz, format='csr')\n",
    "            elif j == 2:\n",
    "                hx2_term1 = kron(hx2_term1, sz, format='csr')\n",
    "                hx2_term2 = kron(hx2_term2, I, format='csr')\n",
    "            elif j == L-1:\n",
    "                hx2_term1 = kron(hx2_term1, I, format='csr')\n",
    "                hx2_term2 = kron(hx2_term2, sz, format='csr')\n",
    "            elif j == L:\n",
    "                hx2_term1 = kron(hx2_term1, sz, format='csr')\n",
    "                hx2_term2 = kron(hx2_term2, sx, format='csr')\n",
    "            else:\n",
    "                hx2_term1 = kron(hx2_term1, I, format='csr')\n",
    "                hx2_term2 = kron(hx2_term2, I, format='csr')\n",
    "        H += lam * (hx1_term - hx2_term1 - hx2_term2)\n",
    "\n",
    "        #Hz term\n",
    "        hz_term = 1\n",
    "        for j in range(1, L+1):\n",
    "            if j == 1 or j == L:\n",
    "                hz_term = kron(hz_term, sz, format='csr')\n",
    "            else:\n",
    "                hz_term = kron(hz_term, I, format='csr')\n",
    "        H += delta * hz_term\n",
    "\n",
    "        # Hzz term\n",
    "        hzz_term1 = 1\n",
    "        hzz_term2 = 1\n",
    "        for j in range(1, L+1):\n",
    "            if j == 1:\n",
    "                hzz_term1 = kron(hzz_term1, sz, format='csr')\n",
    "                hzz_term2 = kron(hzz_term2, sz, format='csr')\n",
    "            elif j == 2:\n",
    "                hzz_term1 = kron(hzz_term1, sz, format='csr')\n",
    "                hzz_term2 = kron(hzz_term2, I, format='csr')\n",
    "            elif j == L:\n",
    "                hzz_term1 = kron(hzz_term1, I, format='csr')\n",
    "                hzz_term2 = kron(hzz_term2, sz, format='csr')\n",
    "            else:\n",
    "                hzz_term1 = kron(hzz_term1, I, format='csr')\n",
    "                hzz_term2 = kron(hzz_term2, I, format='csr')\n",
    "        H += J * (hzz_term1 + hzz_term2)\n",
    "    \n",
    "    return H"
   ]
  },
  {
   "cell_type": "code",
   "execution_count": 47,
   "id": "34017d60",
   "metadata": {},
   "outputs": [],
   "source": [
    "# functions\n",
    "\n",
    "def innermost_adjacent_indices(L, block_size):\n",
    "    \"\"\"\n",
    "    Returns the indices of the innermost adjacent block of given size.\n",
    "    For even L, the block is centered in the middle.\n",
    "    \"\"\"\n",
    "    start = (L - block_size) // 2\n",
    "    return list(range(start, start + block_size))\n",
    "\n",
    "def all_adjacent_indices(L, block_size):\n",
    "    \"\"\"\n",
    "    Returns a list of all possible adjacent blocks of given size.\n",
    "    Each block is represented as a list of indices.\n",
    "    \"\"\"\n",
    "    return [list(range(start, start + block_size)) for start in range(L - block_size + 1)]\n",
    "\n",
    "def ptrace_sparse(dm_sparse, keep, dims):\n",
    "    \"\"\"\n",
    "    Compute the partial trace over arbitrary subsystems using sparse matrix operations.\n",
    "\n",
    "    Args:\n",
    "        dm_sparse (scipy.sparse matrix): Full density matrix of shape (D, D), where D = product(dims)\n",
    "        keep (list of int): Subsystems to keep (indices, 0-indexed)\n",
    "        dims (list of int): List of subsystem dimensions, e.g., [2]*n for n qubits\n",
    "\n",
    "    Returns:\n",
    "        scipy.sparse.csr_matrix: Reduced density matrix over kept subsystems\n",
    "    \"\"\"\n",
    "    if not issparse(dm_sparse):\n",
    "        raise ValueError(\"dm_sparse must be a scipy.sparse matrix\")\n",
    "    n = len(dims)\n",
    "    D = np.prod(dims)\n",
    "    if dm_sparse.shape != (D, D):\n",
    "        raise ValueError(\"Density matrix shape does not match dims\")\n",
    "    trace = [i for i in range(n) if i not in keep]\n",
    "    d_keep = np.prod([dims[i] for i in keep])\n",
    "    # Prepare output\n",
    "    data = []\n",
    "    row_idx = []\n",
    "    col_idx = []\n",
    "\n",
    "    # Precompute bit masks\n",
    "    #def idx_to_bits(idx):\n",
    "    #    return np.array(list(np.binary_repr(idx, width=n))).astype(int)\n",
    "\n",
    "    def idx_to_subsys(idx, dims):\n",
    "    #Convert flat index to tuple of subsystem indices for arbitrary dims.\n",
    "        subsys = []\n",
    "        for d in reversed(dims):\n",
    "            subsys.append(idx % d)\n",
    "            idx //= d\n",
    "        return np.array(subsys[::-1])\n",
    "\n",
    "    \n",
    "\n",
    "    dm_sparse = dm_sparse.tocoo()\n",
    "\n",
    "    for i, j, val in tqdm(zip(dm_sparse.row, dm_sparse.col, dm_sparse.data)):\n",
    "        bi = idx_to_subsys(i, dims)\n",
    "        bj = idx_to_subsys(j, dims)\n",
    "\n",
    "        if np.all(bi[trace] == bj[trace]):\n",
    "            i_red = 0\n",
    "            j_red = 0\n",
    "            for k, pos in enumerate(keep):\n",
    "                i_red = i_red * dims[pos] + bi[pos]\n",
    "                j_red = j_red * dims[pos] + bj[pos]\n",
    "\n",
    "            data.append(val)\n",
    "            row_idx.append(i_red)\n",
    "            col_idx.append(j_red)\n",
    "\n",
    "    \n",
    "    return coo_matrix((data, (row_idx, col_idx)), shape=(d_keep, d_keep)).tocsr()\n",
    "\n",
    "def ptrace_sparse_parallel(dm_sparse, keep, dims, n_jobs=-1): # njobs to be removed if not using joblib\n",
    "    \"\"\"\n",
    "    Compute the partial trace over arbitrary subsystems using sparse matrix operations.\n",
    "    Parallelized over nonzero elements.\n",
    "    \"\"\"\n",
    "    if not issparse(dm_sparse):\n",
    "        raise ValueError(\"dm_sparse must be a scipy.sparse matrix\")\n",
    "    n = len(dims)\n",
    "    D = np.prod(dims)\n",
    "    if dm_sparse.shape != (D, D):\n",
    "        raise ValueError(\"Density matrix shape does not match dims\")\n",
    "    trace = [i for i in range(n) if i not in keep]\n",
    "    d_keep = np.prod([dims[i] for i in keep])\n",
    "\n",
    "\n",
    "    def idx_to_subsys(idx, dims):\n",
    "    #Convert flat index to tuple of subsystem indices for arbitrary dims.\n",
    "        subsys = []\n",
    "        for d in reversed(dims):\n",
    "            subsys.append(idx % d)\n",
    "            idx //= d\n",
    "        return np.array(subsys[::-1])\n",
    "\n",
    "    \n",
    "    dm_sparse = dm_sparse.tocoo()\n",
    "\n",
    "    def process_entry(i,j,val):\n",
    "        bi = idx_to_subsys(i, dims)\n",
    "        bj = idx_to_subsys(j, dims)\n",
    "\n",
    "        if np.all(bi[trace] == bj[trace]):\n",
    "            i_red = 0\n",
    "            j_red = 0\n",
    "            for k, pos in enumerate(keep):\n",
    "                i_red = i_red * dims[pos] + bi[pos]\n",
    "                j_red = j_red * dims[pos] + bj[pos]\n",
    "            return (val, i_red, j_red)\n",
    "        else:\n",
    "            return None\n",
    "        \n",
    "    results = Parallel(n_jobs=n_jobs, prefer=\"processes\")(\n",
    "        delayed(process_entry)(i, j, val)\n",
    "        for i, j, val in tqdm(zip(dm_sparse.row, dm_sparse.col, dm_sparse.data))\n",
    "    )\n",
    "    results = [r for r in results if r is not None]\n",
    "\n",
    "    '''entries = zip(psi_sparse.row, psi_sparse.col, psi_sparse.data)\n",
    "    results = []\n",
    "    with ThreadPoolExecutor() as executor:\n",
    "        for res in executor.map(process_entry, entries):\n",
    "            if res is not None:\n",
    "                results.append(res)'''\n",
    "    \n",
    "    if results:\n",
    "        data, row_idx, col_idx = zip(*results)\n",
    "    else:\n",
    "        data, row_idx, col_idx = [], [], []\n",
    "\n",
    "    return coo_matrix((data, (row_idx, col_idx)), shape=(d_keep, d_keep)).tocsr()\n",
    "\n",
    "def ee_sparse(dm_sparse, L):\n",
    "    \"\"\"\n",
    "    Computes the entanglement entropy of a state using sparse matrices in parallel.\n",
    "    The state is assumed to be a vector in the Hilbert space of L qubits.\n",
    "    \"\"\"\n",
    "    rhoA = ptrace_sparse(dm_sparse, list(range(L // 2)), [2] * L)\n",
    "    eigvals = np.linalg.eigvalsh(rhoA.toarray())\n",
    "    return -np.sum(eigvals * np.log(eigvals + 1e-12)).real  # Add small value to avoid log(0)\n",
    "\n",
    "def ee_sparse_parallel(dm_sparse, L, n_jobs=-1):\n",
    "    \"\"\"\n",
    "    Computes the entanglement entropy of a state using sparse matrices in parallel.\n",
    "    The state is assumed to be a vector in the Hilbert space of L qubits.\n",
    "    \"\"\"\n",
    "    rhoA = ptrace_sparse_parallel(dm_sparse, list(range(L // 2)), [2] * L, n_jobs=n_jobs)\n",
    "    eigvals = np.linalg.eigvalsh(rhoA.toarray())\n",
    "    return -np.sum(eigvals * np.log(eigvals + 1e-12)).real  # Add small value to avoid log(0)\n",
    "\n",
    "def rdm_qutip(state, L, keep_qubits):\n",
    "    rho = np.outer(state, state.conj())\n",
    "    rho_qobj = Qobj(rho, dims=[[2] * L, [2] * L])\n",
    "    rdm = ptrace(rho_qobj, keep_qubits)\n",
    "    rdm_mat = rdm.full()\n",
    "    eigvals = np.linalg.eigvalsh(rdm_mat)\n",
    "    min_eigval = np.min(eigvals)\n",
    "    # Rank: count nonzero eigenvalues (with tolerance)\n",
    "    rank = np.sum(eigvals > 1e-12)\n",
    "    return rdm, min_eigval, rank\n",
    "\n",
    "def ee_qutip(state, L):\n",
    "    rho = np.outer(state, state.conj())\n",
    "    rho_qobj = Qobj(rho, dims=[[2] * L, [2] * L])\n",
    "    rhoA = ptrace(rho_qobj, list(range(L//2)))\n",
    "    return entropy_vn(rhoA)"
   ]
  },
  {
   "cell_type": "code",
   "execution_count": 48,
   "id": "0856b1b1",
   "metadata": {},
   "outputs": [
    {
     "name": "stdout",
     "output_type": "stream",
     "text": [
      "All adjacent 2-site blocks: [[0, 1], [1, 2], [2, 3], [3, 4], [4, 5], [5, 6], [6, 7], [7, 8], [8, 9], [9, 10], [10, 11]]\n",
      "All adjacent 3-site blocks: [[0, 1, 2], [1, 2, 3], [2, 3, 4], [3, 4, 5], [4, 5, 6], [5, 6, 7], [6, 7, 8], [7, 8, 9], [8, 9, 10], [9, 10, 11]]\n",
      "All adjacent 4-site blocks: [[0, 1, 2, 3], [1, 2, 3, 4], [2, 3, 4, 5], [3, 4, 5, 6], [4, 5, 6, 7], [5, 6, 7, 8], [6, 7, 8, 9], [7, 8, 9, 10], [8, 9, 10, 11]]\n"
     ]
    }
   ],
   "source": [
    "L = 12 # number of sites -  it has to be even\n",
    "\n",
    "innermost_2 = innermost_adjacent_indices(L, 2)\n",
    "innermost_3 = innermost_adjacent_indices(L, 3)\n",
    "innermost_4 = innermost_adjacent_indices(L, 4)\n",
    "\n",
    "adjacent_2 = all_adjacent_indices(L, 2)\n",
    "adjacent_3 = all_adjacent_indices(L, 3)\n",
    "adjacent_4 = all_adjacent_indices(L, 4)\n",
    "\n",
    "print(\"All adjacent 2-site blocks:\", adjacent_2)\n",
    "print(\"All adjacent 3-site blocks:\", adjacent_3)\n",
    "print(\"All adjacent 4-site blocks:\", adjacent_4)"
   ]
  },
  {
   "cell_type": "code",
   "execution_count": 49,
   "id": "9a459ff4",
   "metadata": {},
   "outputs": [
    {
     "name": "stdout",
     "output_type": "stream",
     "text": [
      "ground state dimension for L=12: (4096,)\n",
      "Number of zero components in ground_state (tol=1e-12): 4041\n",
      "Number of zero elements of dm (tol=1e-12): 16253564\n",
      "\n",
      "All possible RDMs for block size 2:\n"
     ]
    },
    {
     "name": "stderr",
     "output_type": "stream",
     "text": []
    },
    {
     "name": "stdout",
     "output_type": "stream",
     "text": [
      "Block [0, 1]: min eigenvalue = 0.04209618104968535, rank = 4\n"
     ]
    },
    {
     "name": "stderr",
     "output_type": "stream",
     "text": [
      "\n"
     ]
    },
    {
     "name": "stdout",
     "output_type": "stream",
     "text": [
      "Block [1, 2]: min eigenvalue = 0.013356765526957212, rank = 4\n",
      "Block [2, 3]: min eigenvalue = 0.021318675383178155, rank = 4\n"
     ]
    },
    {
     "name": "stderr",
     "output_type": "stream",
     "text": [
      " 27%|██▋       | 3/11 [00:02<00:06,  1.23it/s]\u001b[A"
     ]
    },
    {
     "name": "stdout",
     "output_type": "stream",
     "text": [
      "Block [3, 4]: min eigenvalue = 0.02038018160726073, rank = 4\n"
     ]
    },
    {
     "name": "stderr",
     "output_type": "stream",
     "text": []
    },
    {
     "name": "stdout",
     "output_type": "stream",
     "text": [
      "Block [4, 5]: min eigenvalue = 0.018484803061878375, rank = 4\n"
     ]
    },
    {
     "name": "stderr",
     "output_type": "stream",
     "text": []
    },
    {
     "name": "stdout",
     "output_type": "stream",
     "text": [
      "Block [5, 6]: min eigenvalue = 0.023794145420323747, rank = 4\n"
     ]
    },
    {
     "name": "stderr",
     "output_type": "stream",
     "text": []
    },
    {
     "name": "stdout",
     "output_type": "stream",
     "text": [
      "Block [6, 7]: min eigenvalue = 0.018484803061877882, rank = 4\n"
     ]
    },
    {
     "name": "stderr",
     "output_type": "stream",
     "text": []
    },
    {
     "name": "stdout",
     "output_type": "stream",
     "text": [
      "Block [7, 8]: min eigenvalue = 0.02038018160726074, rank = 4\n"
     ]
    },
    {
     "name": "stderr",
     "output_type": "stream",
     "text": []
    },
    {
     "name": "stdout",
     "output_type": "stream",
     "text": [
      "Block [8, 9]: min eigenvalue = 0.021318675383178023, rank = 4\n"
     ]
    },
    {
     "name": "stderr",
     "output_type": "stream",
     "text": []
    },
    {
     "name": "stdout",
     "output_type": "stream",
     "text": [
      "Block [9, 10]: min eigenvalue = 0.013356765526957195, rank = 4\n"
     ]
    },
    {
     "name": "stderr",
     "output_type": "stream",
     "text": [
      "100%|██████████| 11/11 [00:10<00:00,  1.09it/s]\n"
     ]
    },
    {
     "name": "stdout",
     "output_type": "stream",
     "text": [
      "Block [10, 11]: min eigenvalue = 0.042096181049684794, rank = 4\n",
      "\n",
      "All possible RDMs for block size 3:\n"
     ]
    },
    {
     "name": "stderr",
     "output_type": "stream",
     "text": []
    },
    {
     "name": "stdout",
     "output_type": "stream",
     "text": [
      "Block [0, 1, 2]: min eigenvalue = 0.0008914265969980136, rank = 8\n"
     ]
    },
    {
     "name": "stderr",
     "output_type": "stream",
     "text": []
    },
    {
     "name": "stdout",
     "output_type": "stream",
     "text": [
      "Block [1, 2, 3]: min eigenvalue = 0.0003952105136016178, rank = 8\n"
     ]
    },
    {
     "name": "stderr",
     "output_type": "stream",
     "text": []
    },
    {
     "name": "stdout",
     "output_type": "stream",
     "text": [
      "Block [2, 3, 4]: min eigenvalue = 0.0006581007540281486, rank = 8\n"
     ]
    },
    {
     "name": "stderr",
     "output_type": "stream",
     "text": []
    },
    {
     "name": "stdout",
     "output_type": "stream",
     "text": [
      "Block [3, 4, 5]: min eigenvalue = 0.0003024670215722895, rank = 8\n"
     ]
    },
    {
     "name": "stderr",
     "output_type": "stream",
     "text": []
    },
    {
     "name": "stdout",
     "output_type": "stream",
     "text": [
      "Block [4, 5, 6]: min eigenvalue = 0.0006260847382694307, rank = 8\n"
     ]
    },
    {
     "name": "stderr",
     "output_type": "stream",
     "text": []
    },
    {
     "name": "stdout",
     "output_type": "stream",
     "text": [
      "Block [5, 6, 7]: min eigenvalue = 0.0006260847382693684, rank = 8\n"
     ]
    },
    {
     "name": "stderr",
     "output_type": "stream",
     "text": []
    },
    {
     "name": "stdout",
     "output_type": "stream",
     "text": [
      "Block [6, 7, 8]: min eigenvalue = 0.00030246702157219537, rank = 8\n"
     ]
    },
    {
     "name": "stderr",
     "output_type": "stream",
     "text": []
    },
    {
     "name": "stdout",
     "output_type": "stream",
     "text": [
      "Block [7, 8, 9]: min eigenvalue = 0.000658100754028024, rank = 8\n"
     ]
    },
    {
     "name": "stderr",
     "output_type": "stream",
     "text": []
    },
    {
     "name": "stdout",
     "output_type": "stream",
     "text": [
      "Block [8, 9, 10]: min eigenvalue = 0.0003952105136014674, rank = 8\n"
     ]
    },
    {
     "name": "stderr",
     "output_type": "stream",
     "text": [
      "100%|██████████| 10/10 [00:12<00:00,  1.20s/it]\n"
     ]
    },
    {
     "name": "stdout",
     "output_type": "stream",
     "text": [
      "Block [9, 10, 11]: min eigenvalue = 0.000891426596997946, rank = 8\n",
      "\n",
      "All possible RDMs for block size 4:\n"
     ]
    },
    {
     "name": "stderr",
     "output_type": "stream",
     "text": []
    },
    {
     "name": "stdout",
     "output_type": "stream",
     "text": [
      "Block [0, 1, 2, 3]: min eigenvalue = 5.8747798748496025e-06, rank = 16\n"
     ]
    },
    {
     "name": "stderr",
     "output_type": "stream",
     "text": []
    },
    {
     "name": "stdout",
     "output_type": "stream",
     "text": [
      "Block [1, 2, 3, 4]: min eigenvalue = 1.3117380787974838e-06, rank = 16\n"
     ]
    },
    {
     "name": "stderr",
     "output_type": "stream",
     "text": []
    },
    {
     "name": "stdout",
     "output_type": "stream",
     "text": [
      "Block [2, 3, 4, 5]: min eigenvalue = 3.1897214242665726e-06, rank = 16\n"
     ]
    },
    {
     "name": "stderr",
     "output_type": "stream",
     "text": []
    },
    {
     "name": "stdout",
     "output_type": "stream",
     "text": [
      "Block [3, 4, 5, 6]: min eigenvalue = 3.4016006781503635e-06, rank = 16\n"
     ]
    },
    {
     "name": "stderr",
     "output_type": "stream",
     "text": []
    },
    {
     "name": "stdout",
     "output_type": "stream",
     "text": [
      "Block [4, 5, 6, 7]: min eigenvalue = 3.580923061432907e-06, rank = 16\n"
     ]
    },
    {
     "name": "stderr",
     "output_type": "stream",
     "text": []
    },
    {
     "name": "stdout",
     "output_type": "stream",
     "text": [
      "Block [5, 6, 7, 8]: min eigenvalue = 3.4016006781530113e-06, rank = 16\n"
     ]
    },
    {
     "name": "stderr",
     "output_type": "stream",
     "text": []
    },
    {
     "name": "stdout",
     "output_type": "stream",
     "text": [
      "Block [6, 7, 8, 9]: min eigenvalue = 3.1897214242404023e-06, rank = 16\n"
     ]
    },
    {
     "name": "stderr",
     "output_type": "stream",
     "text": []
    },
    {
     "name": "stdout",
     "output_type": "stream",
     "text": [
      "Block [7, 8, 9, 10]: min eigenvalue = 1.3117380787425933e-06, rank = 16\n"
     ]
    },
    {
     "name": "stderr",
     "output_type": "stream",
     "text": [
      "100%|██████████| 9/9 [00:11<00:00,  1.25s/it]"
     ]
    },
    {
     "name": "stdout",
     "output_type": "stream",
     "text": [
      "Block [8, 9, 10, 11]: min eigenvalue = 5.8747798748656115e-06, rank = 16\n"
     ]
    },
    {
     "name": "stderr",
     "output_type": "stream",
     "text": [
      "\n"
     ]
    },
    {
     "data": {
      "text/plain": [
       "'density_matrix_qobj = Qobj(density_matrix_sparse, dims=[[2]*L, [2]*L])  # Convert to Qobj for qutip\\nrdm = ptrace(density_matrix_qobj, adjacent_4[0])\\n# Find the minimum eigenvalue of the traced-out density matrix\\neigenvalues_traced, eigenvectors_traced = np.linalg.eigh(rdm.full())\\nrank = np.linalg.matrix_rank(rdm.full())\\nmin_eigenvalue = np.min(eigenvalues_traced)\\nprint(f\"min eigenvalue = {min_eigenvalue}, rank = {rank}\")'"
      ]
     },
     "execution_count": 49,
     "metadata": {},
     "output_type": "execute_result"
    }
   ],
   "source": [
    "# DOMAIN WALL - PRB 024306 - qutip version\n",
    "\n",
    "H = hamiltonian_dwall(L, lam=1.0, delta=0.1, J=1.0, bc='pbc')\n",
    "ground_state = eigsh(H, k=1, which='SA', return_eigenvectors=True)[1][:, 0]  # Get the ground state vector\n",
    "print(f\"ground state dimension for L={L}: {ground_state.shape}\")\n",
    "\n",
    "# Print number of zero components (with tolerance 1e-12)\n",
    "#print(np.count_nonzero(scar_state))\n",
    "num_zeros = np.sum(np.abs(ground_state) > 1e-16)\n",
    "print(f\"Number of zero components in ground_state (tol=1e-12): {num_zeros}\")\n",
    "\n",
    "scar_sparse = csr_matrix(ground_state.reshape(-1, 1))  # Convert to sparse column vector\n",
    "density_matrix_sparse = scar_sparse @ scar_sparse.getH()  # Outer product to form density matrix\n",
    "density_matrix_qobj = Qobj(density_matrix_sparse, dims=[[2]*L, [2]*L])  # Convert to Qobj for qutip\n",
    "print(\"Number of zero elements of dm (tol=1e-12):\", np.sum(np.abs(density_matrix_sparse.data) > 1e-16))    #Trace out qubits using qutip partial trace\n",
    "\n",
    "# Calculate RDMs for all possible adjacent 2, 3, 4 site blocks\n",
    "for block_size, all_blocks in zip([2, 3, 4], [adjacent_2, adjacent_3, adjacent_4]):\n",
    "    print(f\"\\nAll possible RDMs for block size {block_size}:\")\n",
    "    for block_indices in tqdm(all_blocks):\n",
    "        rdm = ptrace(density_matrix_qobj, block_indices)\n",
    "        # Find the minimum eigenvalue of the traced-out density matrix\n",
    "        eigenvalues_traced, eigenvectors_traced = np.linalg.eigh(rdm.full())\n",
    "        rank = np.linalg.matrix_rank(rdm.full())\n",
    "        min_eigenvalue = np.min(eigenvalues_traced)\n",
    "        print(f\"Block {block_indices}: min eigenvalue = {min_eigenvalue}, rank = {rank}\")\n",
    "'''density_matrix_qobj = Qobj(density_matrix_sparse, dims=[[2]*L, [2]*L])  # Convert to Qobj for qutip\n",
    "rdm = ptrace(density_matrix_qobj, adjacent_4[0])\n",
    "# Find the minimum eigenvalue of the traced-out density matrix\n",
    "eigenvalues_traced, eigenvectors_traced = np.linalg.eigh(rdm.full())\n",
    "rank = np.linalg.matrix_rank(rdm.full())\n",
    "min_eigenvalue = np.min(eigenvalues_traced)\n",
    "print(f\"min eigenvalue = {min_eigenvalue}, rank = {rank}\")'''"
   ]
  },
  {
   "cell_type": "code",
   "execution_count": 50,
   "id": "cffcf498",
   "metadata": {},
   "outputs": [
    {
     "name": "stdout",
     "output_type": "stream",
     "text": [
      "scar state dimension for L=12: (4096, 1)\n",
      "Number of zero components in scar_state (tol=1e-12): 54\n",
      "Number of zero elements of dm (tol=1e-12): 2916\n",
      "\n",
      "All possible RDMs for block size 2:\n"
     ]
    },
    {
     "name": "stderr",
     "output_type": "stream",
     "text": [
      "\n",
      "\u001b[A\n",
      "\u001b[A\n",
      "\u001b[A\n",
      "\u001b[A\n",
      "\u001b[A\n",
      "2916it [00:01, 2740.15it/s]\n"
     ]
    },
    {
     "name": "stdout",
     "output_type": "stream",
     "text": [
      "Block [0, 1]: min eigenvalue = 0.0, rank = 3\n"
     ]
    },
    {
     "name": "stderr",
     "output_type": "stream",
     "text": [
      "\n",
      "\u001b[A\n",
      "\u001b[A\n",
      "\u001b[A\n",
      "2916it [00:00, 6435.91it/s]\n"
     ]
    },
    {
     "name": "stdout",
     "output_type": "stream",
     "text": [
      "Block [1, 2]: min eigenvalue = 0.0, rank = 3\n"
     ]
    },
    {
     "name": "stderr",
     "output_type": "stream",
     "text": [
      "\n",
      "\u001b[A\n",
      "\u001b[A\n",
      "\u001b[A\n",
      "2916it [00:00, 7579.50it/s]\n"
     ]
    },
    {
     "name": "stdout",
     "output_type": "stream",
     "text": [
      "Block [2, 3]: min eigenvalue = 0.0, rank = 3\n"
     ]
    },
    {
     "name": "stderr",
     "output_type": "stream",
     "text": [
      "\n",
      "\u001b[A\n",
      "\u001b[A\n",
      "\u001b[A\n",
      "2916it [00:00, 7942.15it/s]\n"
     ]
    },
    {
     "name": "stdout",
     "output_type": "stream",
     "text": [
      "Block [3, 4]: min eigenvalue = 0.0, rank = 3\n"
     ]
    },
    {
     "name": "stderr",
     "output_type": "stream",
     "text": [
      "\n",
      "\u001b[A\n",
      "\u001b[A\n",
      "\u001b[A\n",
      "2916it [00:00, 6718.79it/s]\n"
     ]
    },
    {
     "name": "stdout",
     "output_type": "stream",
     "text": [
      "Block [4, 5]: min eigenvalue = 0.0, rank = 3\n"
     ]
    },
    {
     "name": "stderr",
     "output_type": "stream",
     "text": [
      "\n",
      "\u001b[A\n",
      "\u001b[A\n",
      "\u001b[A\n",
      "2916it [00:00, 7209.81it/s]\n"
     ]
    },
    {
     "name": "stdout",
     "output_type": "stream",
     "text": [
      "Block [5, 6]: min eigenvalue = 0.0, rank = 3\n"
     ]
    },
    {
     "name": "stderr",
     "output_type": "stream",
     "text": [
      "\n",
      "\u001b[A\n",
      "\u001b[A\n",
      "\u001b[A\n",
      "2916it [00:00, 7695.02it/s]\n"
     ]
    },
    {
     "name": "stdout",
     "output_type": "stream",
     "text": [
      "Block [6, 7]: min eigenvalue = 0.0, rank = 3\n"
     ]
    },
    {
     "name": "stderr",
     "output_type": "stream",
     "text": [
      "\n",
      "\u001b[A\n",
      "\u001b[A\n",
      "\u001b[A\n",
      "2916it [00:00, 6665.53it/s]\n"
     ]
    },
    {
     "name": "stdout",
     "output_type": "stream",
     "text": [
      "Block [7, 8]: min eigenvalue = 0.0, rank = 3\n"
     ]
    },
    {
     "name": "stderr",
     "output_type": "stream",
     "text": [
      "\n",
      "\u001b[A\n",
      "\u001b[A\n",
      "\u001b[A\n",
      "2916it [00:00, 6898.48it/s]\n"
     ]
    },
    {
     "name": "stdout",
     "output_type": "stream",
     "text": [
      "Block [8, 9]: min eigenvalue = 0.0, rank = 3\n"
     ]
    },
    {
     "name": "stderr",
     "output_type": "stream",
     "text": [
      "\n",
      "\u001b[A\n",
      "\u001b[A\n",
      "\u001b[A\n",
      "2916it [00:00, 7169.80it/s]\n"
     ]
    },
    {
     "name": "stdout",
     "output_type": "stream",
     "text": [
      "Block [9, 10]: min eigenvalue = 0.0, rank = 3\n"
     ]
    },
    {
     "name": "stderr",
     "output_type": "stream",
     "text": [
      "\n",
      "\u001b[A\n",
      "\u001b[A\n",
      "2916it [00:00, 9425.76it/s]\n",
      "100%|██████████| 11/11 [00:08<00:00,  1.25it/s]\n"
     ]
    },
    {
     "name": "stdout",
     "output_type": "stream",
     "text": [
      "Block [10, 11]: min eigenvalue = 0.0, rank = 3\n",
      "\n",
      "All possible RDMs for block size 3:\n"
     ]
    },
    {
     "name": "stderr",
     "output_type": "stream",
     "text": [
      "\n",
      "\u001b[A\n",
      "\u001b[A\n",
      "\u001b[A\n",
      "2916it [00:00, 7635.01it/s]\n"
     ]
    },
    {
     "name": "stdout",
     "output_type": "stream",
     "text": [
      "Block [0, 1, 2]: min eigenvalue = 0.0, rank = 5\n"
     ]
    },
    {
     "name": "stderr",
     "output_type": "stream",
     "text": [
      "\n",
      "\u001b[A\n",
      "\u001b[A\n",
      "\u001b[A\n",
      "\u001b[A\n",
      "2916it [00:00, 6605.68it/s]\n"
     ]
    },
    {
     "name": "stdout",
     "output_type": "stream",
     "text": [
      "Block [1, 2, 3]: min eigenvalue = 0.0, rank = 5\n"
     ]
    },
    {
     "name": "stderr",
     "output_type": "stream",
     "text": [
      "\n",
      "\u001b[A\n",
      "\u001b[A\n",
      "\u001b[A\n",
      "2916it [00:00, 6776.98it/s]\n"
     ]
    },
    {
     "name": "stdout",
     "output_type": "stream",
     "text": [
      "Block [2, 3, 4]: min eigenvalue = 0.0, rank = 5\n"
     ]
    },
    {
     "name": "stderr",
     "output_type": "stream",
     "text": [
      "\n",
      "\u001b[A\n",
      "\u001b[A\n",
      "\u001b[A\n",
      "2916it [00:00, 7360.89it/s]\n"
     ]
    },
    {
     "name": "stdout",
     "output_type": "stream",
     "text": [
      "Block [3, 4, 5]: min eigenvalue = 0.0, rank = 5\n"
     ]
    },
    {
     "name": "stderr",
     "output_type": "stream",
     "text": [
      "\n",
      "\u001b[A\n",
      "\u001b[A\n",
      "2916it [00:00, 9284.86it/s]\n"
     ]
    },
    {
     "name": "stdout",
     "output_type": "stream",
     "text": [
      "Block [4, 5, 6]: min eigenvalue = 0.0, rank = 5\n"
     ]
    },
    {
     "name": "stderr",
     "output_type": "stream",
     "text": [
      "\n",
      "\u001b[A\n",
      "\u001b[A\n",
      "\u001b[A\n",
      "2916it [00:00, 7768.08it/s]\n"
     ]
    },
    {
     "name": "stdout",
     "output_type": "stream",
     "text": [
      "Block [5, 6, 7]: min eigenvalue = 0.0, rank = 5\n"
     ]
    },
    {
     "name": "stderr",
     "output_type": "stream",
     "text": [
      "\n",
      "\u001b[A\n",
      "\u001b[A\n",
      "\u001b[A\n",
      "2916it [00:00, 7483.44it/s]\n"
     ]
    },
    {
     "name": "stdout",
     "output_type": "stream",
     "text": [
      "Block [6, 7, 8]: min eigenvalue = 0.0, rank = 5\n"
     ]
    },
    {
     "name": "stderr",
     "output_type": "stream",
     "text": [
      "\n",
      "\u001b[A\n",
      "\u001b[A\n",
      "\u001b[A\n",
      "2916it [00:00, 6548.15it/s]\n"
     ]
    },
    {
     "name": "stdout",
     "output_type": "stream",
     "text": [
      "Block [7, 8, 9]: min eigenvalue = 0.0, rank = 5\n"
     ]
    },
    {
     "name": "stderr",
     "output_type": "stream",
     "text": [
      "\n",
      "\u001b[A\n",
      "\u001b[A\n",
      "\u001b[A\n",
      "2916it [00:00, 9541.25it/s] \n"
     ]
    },
    {
     "name": "stdout",
     "output_type": "stream",
     "text": [
      "Block [8, 9, 10]: min eigenvalue = 0.0, rank = 5\n"
     ]
    },
    {
     "name": "stderr",
     "output_type": "stream",
     "text": [
      "\n",
      "\u001b[A\n",
      "\u001b[A\n",
      "\u001b[A\n",
      "2916it [00:00, 6857.93it/s]\n",
      "100%|██████████| 10/10 [00:07<00:00,  1.40it/s]\n"
     ]
    },
    {
     "name": "stdout",
     "output_type": "stream",
     "text": [
      "Block [9, 10, 11]: min eigenvalue = 0.0, rank = 5\n",
      "\n",
      "All possible RDMs for block size 4:\n"
     ]
    },
    {
     "name": "stderr",
     "output_type": "stream",
     "text": [
      "\n",
      "\u001b[A\n",
      "\u001b[A\n",
      "\u001b[A\n",
      "2916it [00:00, 7683.68it/s]\n"
     ]
    },
    {
     "name": "stdout",
     "output_type": "stream",
     "text": [
      "Block [0, 1, 2, 3]: min eigenvalue = -7.307049483950634e-18, rank = 5\n"
     ]
    },
    {
     "name": "stderr",
     "output_type": "stream",
     "text": [
      "\n",
      "\u001b[A\n",
      "\u001b[A\n",
      "\u001b[A\n",
      "2916it [00:00, 8161.22it/s]\n"
     ]
    },
    {
     "name": "stdout",
     "output_type": "stream",
     "text": [
      "Block [1, 2, 3, 4]: min eigenvalue = -7.307049483950634e-18, rank = 5\n"
     ]
    },
    {
     "name": "stderr",
     "output_type": "stream",
     "text": [
      "\n",
      "\u001b[A\n",
      "\u001b[A\n",
      "\u001b[A\n",
      "\u001b[A\n",
      "2916it [00:00, 6596.49it/s]\n"
     ]
    },
    {
     "name": "stdout",
     "output_type": "stream",
     "text": [
      "Block [2, 3, 4, 5]: min eigenvalue = -7.307049483950634e-18, rank = 5\n"
     ]
    },
    {
     "name": "stderr",
     "output_type": "stream",
     "text": [
      "\n",
      "\u001b[A\n",
      "\u001b[A\n",
      "\u001b[A\n",
      "2916it [00:00, 8106.53it/s]\n"
     ]
    },
    {
     "name": "stdout",
     "output_type": "stream",
     "text": [
      "Block [3, 4, 5, 6]: min eigenvalue = -7.307049483950634e-18, rank = 5\n"
     ]
    },
    {
     "name": "stderr",
     "output_type": "stream",
     "text": [
      "\n",
      "\u001b[A\n",
      "\u001b[A\n",
      "\u001b[A\n",
      "2916it [00:00, 6963.44it/s]\n"
     ]
    },
    {
     "name": "stdout",
     "output_type": "stream",
     "text": [
      "Block [4, 5, 6, 7]: min eigenvalue = -7.307049483950634e-18, rank = 5\n"
     ]
    },
    {
     "name": "stderr",
     "output_type": "stream",
     "text": [
      "\n",
      "\u001b[A\n",
      "\u001b[A\n",
      "2916it [00:00, 9425.78it/s]\n"
     ]
    },
    {
     "name": "stdout",
     "output_type": "stream",
     "text": [
      "Block [5, 6, 7, 8]: min eigenvalue = -7.307049483950634e-18, rank = 5\n"
     ]
    },
    {
     "name": "stderr",
     "output_type": "stream",
     "text": [
      "\n",
      "\u001b[A\n",
      "\u001b[A\n",
      "2916it [00:00, 11718.40it/s]\n"
     ]
    },
    {
     "name": "stdout",
     "output_type": "stream",
     "text": [
      "Block [6, 7, 8, 9]: min eigenvalue = -7.307049483950634e-18, rank = 5\n"
     ]
    },
    {
     "name": "stderr",
     "output_type": "stream",
     "text": [
      "\n",
      "\u001b[A\n",
      "\u001b[A\n",
      "2916it [00:00, 11239.96it/s]\n"
     ]
    },
    {
     "name": "stdout",
     "output_type": "stream",
     "text": [
      "Block [7, 8, 9, 10]: min eigenvalue = -7.307049483950634e-18, rank = 5\n"
     ]
    },
    {
     "name": "stderr",
     "output_type": "stream",
     "text": [
      "\n",
      "\u001b[A\n",
      "\u001b[A\n",
      "\u001b[A\n",
      "2916it [00:00, 8057.08it/s]\n",
      "100%|██████████| 9/9 [00:05<00:00,  1.58it/s]"
     ]
    },
    {
     "name": "stdout",
     "output_type": "stream",
     "text": [
      "Block [8, 9, 10, 11]: min eigenvalue = -7.307049483950634e-18, rank = 5\n"
     ]
    },
    {
     "name": "stderr",
     "output_type": "stream",
     "text": [
      "\n"
     ]
    },
    {
     "data": {
      "text/plain": [
       "'rdm = ptrace_sparse_parallel(density_matrix_sparse, adjacent_4[0], [2]*L, n_jobs=-1) # Use the custom ptrace_sparse function\\n# Find the minimum eigenvalue of the traced-out density matrix\\neigenvalues_traced, eigenvectors_traced = np.linalg.eigh(rdm.toarray())\\nrank = np.linalg.matrix_rank(rdm.toarray())\\nmin_eigenvalue = np.min(eigenvalues_traced)\\nprint(f\"min eigenvalue = {min_eigenvalue}, rank = {rank}\")'"
      ]
     },
     "execution_count": 50,
     "metadata": {},
     "output_type": "execute_result"
    }
   ],
   "source": [
    "# DOMAIN WALL - PRB 024306\n",
    "\n",
    "scar_state = tower_state_p(int((L/2)/2 - 1), L, 'pbc')  # with boundary conditions\n",
    "#dimer_state = dimer_state.flatten()  # Reshape to column vector\n",
    "print(f\"scar state dimension for L={L}: {scar_state.shape}\")\n",
    "\n",
    "# Print number of zero components (with tolerance 1e-12)\n",
    "#print(np.count_nonzero(scar_state))\n",
    "num_zeros = np.sum(np.abs(scar_state) > 1e-16)\n",
    "print(f\"Number of zero components in scar_state (tol=1e-12): {num_zeros}\")\n",
    "\n",
    "scar_sparse = csr_matrix(scar_state.reshape(-1, 1))  # Convert to sparse column vector\n",
    "density_matrix_sparse = scar_sparse @ scar_sparse.getH()  # Outer product to form density matrix\n",
    "print(\"Number of zero elements of dm (tol=1e-12):\", np.sum(np.abs(density_matrix_sparse.data) > 1e-16))    #Trace out qubits using qutip partial trace\n",
    "\n",
    "# Calculate RDMs for all possible adjacent 2, 3, 4 site blocks\n",
    "for block_size, all_blocks in zip([2, 3, 4], [adjacent_2, adjacent_3, adjacent_4]):\n",
    "    print(f\"\\nAll possible RDMs for block size {block_size}:\")\n",
    "    for block_indices in tqdm(all_blocks):\n",
    "        rdm = ptrace_sparse_parallel(density_matrix_sparse, block_indices, [2]*L, n_jobs=-1) # Use the custom ptrace_sparse function\n",
    "        # Find the minimum eigenvalue of the traced-out density matrix\n",
    "        eigenvalues_traced, eigenvectors_traced = np.linalg.eigh(rdm.toarray())\n",
    "        rank = np.linalg.matrix_rank(rdm.toarray())\n",
    "        min_eigenvalue = np.min(eigenvalues_traced)\n",
    "        print(f\"Block {block_indices}: min eigenvalue = {min_eigenvalue}, rank = {rank}\")\n",
    "'''rdm = ptrace_sparse_parallel(density_matrix_sparse, adjacent_4[0], [2]*L, n_jobs=-1) # Use the custom ptrace_sparse function\n",
    "# Find the minimum eigenvalue of the traced-out density matrix\n",
    "eigenvalues_traced, eigenvectors_traced = np.linalg.eigh(rdm.toarray())\n",
    "rank = np.linalg.matrix_rank(rdm.toarray())\n",
    "min_eigenvalue = np.min(eigenvalues_traced)\n",
    "print(f\"min eigenvalue = {min_eigenvalue}, rank = {rank}\")'''"
   ]
  },
  {
   "cell_type": "code",
   "execution_count": 51,
   "id": "7c0c0fc3",
   "metadata": {},
   "outputs": [
    {
     "name": "stdout",
     "output_type": "stream",
     "text": [
      "scar state dimension for L=12: (4096, 1)\n",
      "Number of zero components in scar_state (tol=1e-12): 54\n",
      "Number of zero elements of dm (tol=1e-12): 2916\n",
      "\n",
      "All possible RDMs for block size 2:\n"
     ]
    },
    {
     "name": "stderr",
     "output_type": "stream",
     "text": [
      "100%|██████████| 11/11 [00:00<?, ?it/s]\n"
     ]
    },
    {
     "name": "stdout",
     "output_type": "stream",
     "text": [
      "Block [0, 1]: min eigenvalue = 0.0, rank = 3\n",
      "Block [1, 2]: min eigenvalue = 0.0, rank = 3\n",
      "Block [2, 3]: min eigenvalue = 0.0, rank = 3\n",
      "Block [3, 4]: min eigenvalue = 0.0, rank = 3\n",
      "Block [4, 5]: min eigenvalue = 0.0, rank = 3\n",
      "Block [5, 6]: min eigenvalue = 0.0, rank = 3\n",
      "Block [6, 7]: min eigenvalue = 0.0, rank = 3\n",
      "Block [7, 8]: min eigenvalue = 0.0, rank = 3\n",
      "Block [8, 9]: min eigenvalue = 0.0, rank = 3\n",
      "Block [9, 10]: min eigenvalue = 0.0, rank = 3\n",
      "Block [10, 11]: min eigenvalue = 0.0, rank = 3\n",
      "\n",
      "All possible RDMs for block size 3:\n"
     ]
    },
    {
     "name": "stderr",
     "output_type": "stream",
     "text": [
      "100%|██████████| 10/10 [00:00<00:00, 2838.02it/s]\n"
     ]
    },
    {
     "name": "stdout",
     "output_type": "stream",
     "text": [
      "Block [0, 1, 2]: min eigenvalue = 0.0, rank = 5\n",
      "Block [1, 2, 3]: min eigenvalue = 0.0, rank = 5\n",
      "Block [2, 3, 4]: min eigenvalue = 0.0, rank = 5\n",
      "Block [3, 4, 5]: min eigenvalue = 0.0, rank = 5\n",
      "Block [4, 5, 6]: min eigenvalue = 0.0, rank = 5\n",
      "Block [5, 6, 7]: min eigenvalue = 0.0, rank = 5\n",
      "Block [6, 7, 8]: min eigenvalue = 0.0, rank = 5\n",
      "Block [7, 8, 9]: min eigenvalue = 0.0, rank = 5\n",
      "Block [8, 9, 10]: min eigenvalue = 0.0, rank = 5\n",
      "Block [9, 10, 11]: min eigenvalue = 0.0, rank = 5\n",
      "\n",
      "All possible RDMs for block size 4:\n"
     ]
    },
    {
     "name": "stderr",
     "output_type": "stream",
     "text": [
      "100%|██████████| 9/9 [00:00<?, ?it/s]"
     ]
    },
    {
     "name": "stdout",
     "output_type": "stream",
     "text": [
      "Block [0, 1, 2, 3]: min eigenvalue = -7.307049483950634e-18, rank = 5\n",
      "Block [1, 2, 3, 4]: min eigenvalue = -7.307049483950634e-18, rank = 5\n",
      "Block [2, 3, 4, 5]: min eigenvalue = -7.307049483950634e-18, rank = 5\n",
      "Block [3, 4, 5, 6]: min eigenvalue = -7.307049483950634e-18, rank = 5\n",
      "Block [4, 5, 6, 7]: min eigenvalue = -7.307049483950634e-18, rank = 5\n",
      "Block [5, 6, 7, 8]: min eigenvalue = -7.307049483950634e-18, rank = 5\n",
      "Block [6, 7, 8, 9]: min eigenvalue = -7.307049483950634e-18, rank = 5\n",
      "Block [7, 8, 9, 10]: min eigenvalue = -7.307049483950634e-18, rank = 5\n",
      "Block [8, 9, 10, 11]: min eigenvalue = -7.307049483950634e-18, rank = 5\n"
     ]
    },
    {
     "name": "stderr",
     "output_type": "stream",
     "text": [
      "\n"
     ]
    },
    {
     "data": {
      "text/plain": [
       "'rdm = ptrace(density_matrix_qobj, adjacent_4[0])\\n# Find the minimum eigenvalue of the traced-out density matrix\\neigenvalues_traced, eigenvectors_traced = np.linalg.eigh(rdm.full())\\nrank = np.linalg.matrix_rank(rdm.full())\\nmin_eigenvalue = np.min(eigenvalues_traced)\\nprint(f\"min eigenvalue = {min_eigenvalue}, rank = {rank}\")'"
      ]
     },
     "execution_count": 51,
     "metadata": {},
     "output_type": "execute_result"
    }
   ],
   "source": [
    "# DOMAIN WALL - PRB 024306 - qutip version\n",
    "\n",
    "scar_state = tower_state_p(int((L/2)/2 - 1), L, 'pbc')  # with boundary conditions\n",
    "#dimer_state = dimer_state.flatten()  # Reshape to column vector\n",
    "print(f\"scar state dimension for L={L}: {scar_state.shape}\")\n",
    "\n",
    "# Print number of zero components (with tolerance 1e-12)\n",
    "#print(np.count_nonzero(scar_state))\n",
    "num_zeros = np.sum(np.abs(scar_state) > 1e-16)\n",
    "print(f\"Number of zero components in scar_state (tol=1e-12): {num_zeros}\")\n",
    "\n",
    "scar_sparse = csr_matrix(scar_state.reshape(-1, 1))  # Convert to sparse column vector\n",
    "density_matrix_sparse = scar_sparse @ scar_sparse.getH()  # Outer product to form density matrix\n",
    "density_matrix_qobj = Qobj(density_matrix_sparse, dims=[[2]*L, [2]*L])  # Convert to Qobj for qutip\n",
    "print(\"Number of zero elements of dm (tol=1e-12):\", np.sum(np.abs(density_matrix_sparse.data) > 1e-16))    #Trace out qubits using qutip partial trace\n",
    "\n",
    "# Calculate RDMs for all possible adjacent 2, 3, 4 site blocks\n",
    "for block_size, all_blocks in zip([2, 3, 4], [adjacent_2, adjacent_3, adjacent_4]):\n",
    "    print(f\"\\nAll possible RDMs for block size {block_size}:\")\n",
    "    for block_indices in tqdm(all_blocks):\n",
    "        rdm = ptrace(density_matrix_qobj, block_indices)\n",
    "        # Find the minimum eigenvalue of the traced-out density matrix\n",
    "        eigenvalues_traced, eigenvectors_traced = np.linalg.eigh(rdm.full())\n",
    "        rank = np.linalg.matrix_rank(rdm.full())\n",
    "        min_eigenvalue = np.min(eigenvalues_traced)\n",
    "        print(f\"Block {block_indices}: min eigenvalue = {min_eigenvalue}, rank = {rank}\")\n",
    "\n",
    "'''rdm = ptrace(density_matrix_qobj, adjacent_4[0])\n",
    "# Find the minimum eigenvalue of the traced-out density matrix\n",
    "eigenvalues_traced, eigenvectors_traced = np.linalg.eigh(rdm.full())\n",
    "rank = np.linalg.matrix_rank(rdm.full())\n",
    "min_eigenvalue = np.min(eigenvalues_traced)\n",
    "print(f\"min eigenvalue = {min_eigenvalue}, rank = {rank}\")'''"
   ]
  },
  {
   "cell_type": "code",
   "execution_count": 52,
   "id": "72e36871",
   "metadata": {},
   "outputs": [
    {
     "name": "stderr",
     "output_type": "stream",
     "text": [
      "2916it [00:00, 8942.61it/s]\n"
     ]
    },
    {
     "name": "stdout",
     "output_type": "stream",
     "text": [
      "xy-scar entanglement entropy for L=12: 1.5102089111093597\n"
     ]
    }
   ],
   "source": [
    "# DOMAIN WALL - PRB 024306\n",
    "\n",
    "'''\n",
    "# L is your system size\n",
    "# Nup = L//2 for Sz=0 sector (number of up spins)\n",
    "# kblock=0 for momentum k=0 (T=1 eigenvalue)\n",
    "sym_basis = spin_basis_1d(L, Nup=L//2, kblock=0)\n",
    "print(\"Basis size:\", sym_basis.Ns)\n",
    "\n",
    "# get symmetry basis states as integers\n",
    "proj_states = sym_basis.get_proj(np.arange(sym_basis.Ns))\n",
    "\n",
    "# project dimer_state onto the symmetry sector\n",
    "xy_proj = scar_state[proj_states]\n",
    "\n",
    "# normalize if desired\n",
    "xy_proj = xy_proj / np.linalg.norm(xy_proj)\n",
    "\n",
    "\n",
    "# xy_proj is now the state in the (Sz=0, T=1) sector basis\n",
    "'''\n",
    "\n",
    "\n",
    "# dimer ee for single L and Ltar dependence\n",
    "xy_scar_ee = ee_sparse_parallel(density_matrix_sparse, L, n_jobs=-1)\n",
    "print(f\"xy-scar entanglement entropy for L={L}: {xy_scar_ee/np.log(2)}\")\n",
    "\n",
    "#xy_scar_ee_tar = [ee_sparse_parallel(scar_state, Lt, n_jobs=-1) for Lt in tqdm(Ltar)]\n",
    "\n",
    "#plt.figure(figsize=(6,4))\n",
    "#plt.plot(Ltar, xy_scar_ee_tar, marker='o')\n",
    "#plt.xlabel('L')\n",
    "#plt.ylabel('Entanglement Entropy')\n",
    "#plt.title('Dimer Entanglement Entropy vs L')\n",
    "#plt.grid(True)\n",
    "#plt.show()"
   ]
  }
 ],
 "metadata": {
  "kernelspec": {
   "display_name": "base",
   "language": "python",
   "name": "python3"
  },
  "language_info": {
   "codemirror_mode": {
    "name": "ipython",
    "version": 3
   },
   "file_extension": ".py",
   "mimetype": "text/x-python",
   "name": "python",
   "nbconvert_exporter": "python",
   "pygments_lexer": "ipython3",
   "version": "3.11.8"
  }
 },
 "nbformat": 4,
 "nbformat_minor": 5
}
