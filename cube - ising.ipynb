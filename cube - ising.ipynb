{
 "cells": [
  {
   "cell_type": "code",
   "execution_count": 39,
   "metadata": {},
   "outputs": [],
   "source": [
    "import numpy as np\n",
    "from scipy.linalg import eigh, qr, null_space\n",
    "import matplotlib.pyplot as plt\n",
    "plt.rcParams['font.family'] = 'DejaVu Sans'\n",
    "from matplotlib.colors import Normalize\n",
    "from matplotlib.cm import ScalarMappable\n",
    "from scipy.sparse import kron, identity, csr_matrix, csc_matrix, lil_matrix, dok_matrix, issparse, coo_matrix\n",
    "from scipy.sparse.linalg import eigsh, eigs\n",
    "from scipy.optimize import curve_fit\n",
    "from qutip import Qobj, ptrace, entropy_vn, qeye, tensor\n",
    "from tqdm import tqdm\n",
    "from itertools import product\n",
    "from functools import reduce\n",
    "import torch\n",
    "import torch.optim as optim\n",
    "from torch.autograd import Variable\n",
    "import sympy as sp\n",
    "from collections import Counter"
   ]
  },
  {
   "cell_type": "code",
   "execution_count": 40,
   "metadata": {},
   "outputs": [],
   "source": [
    "def pauli_x():\n",
    "    \"\"\"Pauli X matrix.\"\"\"\n",
    "    return np.array([[0, 1], [1, 0]])\n",
    "\n",
    "def pauli_z():\n",
    "    \"\"\"Pauli Z matrix.\"\"\"\n",
    "    return np.array([[1, 0], [0, -1]])\n",
    "\n",
    "def cubic_bonds(): #8 vertices\n",
    "    \"\"\"\n",
    "    Defines the connectivity of a true 8-vertex cubic molecular structure.\n",
    "\n",
    "    Returns:\n",
    "        list of tuples: Each tuple (i, j) represents a bond between spin i and spin j.\n",
    "    \"\"\"\n",
    "    bonds = [\n",
    "    (0, 1), (0, 2), (0, 4),\n",
    "    (1, 3), (1, 5),\n",
    "    (2, 3), (2, 6),\n",
    "    (3, 7),\n",
    "    (4, 5), (4, 6),\n",
    "    (5, 7),\n",
    "    (6, 7)\n",
    "    ]\n",
    "    return bonds\n",
    "\n",
    "\n",
    "def transverse_field_ising_cubic(N, J, h):\n",
    "    \"\"\"\n",
    "    Constructs the Hamiltonian for the transverse field Ising model on a cubic molecular structure.\n",
    "\n",
    "    Parameters:\n",
    "        N (int): Number of spins (should match the cubic molecule, typically N=8).\n",
    "        J (float): Interaction strength.\n",
    "        h (float): Transverse field strength.\n",
    "    \n",
    "    Returns:\n",
    "        H (scipy.sparse.csr_matrix): The Hamiltonian matrix in sparse format.\n",
    "    \"\"\"\n",
    "    if N != 8:\n",
    "        raise ValueError(\"Cubic molecules typically have N = 8 sites.\")\n",
    "\n",
    "    # Sparse identity matrix\n",
    "    I = identity(2, format=\"csr\")\n",
    "    \n",
    "    # Pauli matrices as sparse matrices\n",
    "    X = csr_matrix(pauli_x())\n",
    "    Z = csr_matrix(pauli_z())\n",
    "    \n",
    "    # Initialize the Hamiltonian\n",
    "    H = csr_matrix((2**N, 2**N), dtype=np.float64)\n",
    "\n",
    "    # Get cubic bonds\n",
    "    bonds = cubic_bonds()\n",
    "\n",
    "    # Interaction term: J * sigma_i^x * sigma_j^x for cubic connectivity\n",
    "    for i, j in bonds:\n",
    "        term = 1\n",
    "        for k in range(N):\n",
    "            if k == i or k == j:\n",
    "                term = kron(term, X, format=\"csr\")\n",
    "            else:\n",
    "                term = kron(term, I, format=\"csr\")\n",
    "        H += J * term\n",
    "    \n",
    "    # Transverse field term: -h * sigma_i^z\n",
    "    for i in range(N):\n",
    "        term = 1\n",
    "        for j in range(N):\n",
    "            if j == i:\n",
    "                term = kron(term, Z, format=\"csr\")\n",
    "            else:\n",
    "                term = kron(term, I, format=\"csr\")\n",
    "        H += -h * term\n",
    "    \n",
    "    return H\n",
    "\n",
    "def transverse_field_cubic(N, h):\n",
    "    \"\"\"\n",
    "    Constructs the Hamiltonian for the transverse field Ising model on a cubic molecular structure.\n",
    "\n",
    "    Parameters:\n",
    "        N (int): Number of spins (should match the cubic molecule, typically N=8).\n",
    "        J (float): Interaction strength.\n",
    "        h (float): Transverse field strength.\n",
    "    \n",
    "    Returns:\n",
    "        H (scipy.sparse.csr_matrix): The Hamiltonian matrix in sparse format.\n",
    "    \"\"\"\n",
    "    if N != 8:\n",
    "        raise ValueError(\"Cubic molecules typically have N = 8 sites.\")\n",
    "\n",
    "    # Sparse identity matrix\n",
    "    I = identity(2, format=\"csr\")\n",
    "    \n",
    "    # Pauli matrices as sparse matrices\n",
    "    Z = csr_matrix(pauli_z())\n",
    "    \n",
    "    # Initialize the Hamiltonian\n",
    "    H = csr_matrix((2**N, 2**N), dtype=np.float64)\n",
    "    \n",
    "    # Get icosahedral bonds\n",
    "    bonds = cubic_bonds()\n",
    "    \n",
    "    # Transverse field term: -h * sigma_i^z\n",
    "    for i in range(N):\n",
    "        term = 1\n",
    "        for j in range(N):\n",
    "            if j == i:\n",
    "                term = kron(term, Z, format=\"csr\")\n",
    "            else:\n",
    "                term = kron(term, I, format=\"csr\")\n",
    "        H += -h * term\n",
    "    \n",
    "    return H\n",
    "\n",
    "#######################################################################################################################\n",
    "\n",
    "'''\n",
    "def partial_trace_qubit(rho, keep, dims):\n",
    "    \"\"\"Compute the partial trace of a density matrix of qubits.\"\"\"\n",
    "    keep_dims = np.prod([dims[i] for i in keep])\n",
    "    trace_dims = np.prod([dims[i] for i in range(len(dims)) if i not in keep])\n",
    "    rho = rho.reshape([keep_dims, trace_dims, keep_dims, trace_dims])\n",
    "    return np.trace(rho, axis1=1, axis2=3).reshape([keep_dims, keep_dims])\n",
    "\n",
    "def partial_trace_qubit_torch(rho, keep, dims):\n",
    "    \"\"\"Compute the partial trace of a density matrix of qubits using PyTorch.\"\"\"\n",
    "    keep_dims = torch.prod(torch.tensor([dims[i] for i in keep]))\n",
    "    trace_dims = torch.prod(torch.tensor([dims[i] for i in range(len(dims)) if i not in keep]))\n",
    "    rho = rho.view(keep_dims, trace_dims, keep_dims, trace_dims)\n",
    "    # Compute the partial trace\n",
    "    traced_rho = torch.zeros((keep_dims, keep_dims), dtype=rho.dtype)\n",
    "    for i in range(trace_dims):\n",
    "        traced_rho += rho[:, i, :, i]\n",
    "    #return traced_rho.view(keep_dims, keep_dims)\n",
    "    return traced_rho'''\n",
    "\n",
    "def isket_numpy(arr):\n",
    "    \"\"\"\n",
    "    Check if a NumPy array is a ket (column vector).\n",
    "\n",
    "    Parameters:\n",
    "    - arr: np.ndarray, the array to check.\n",
    "\n",
    "    Returns:\n",
    "    - bool, True if the array is a ket, False otherwise.\n",
    "    \"\"\"\n",
    "    if not isinstance(arr, np.ndarray):\n",
    "        raise ValueError(\"Input must be a NumPy array\")\n",
    "\n",
    "    shape = arr.shape\n",
    "\n",
    "    if len(shape) == 2 and shape[1] == 1:\n",
    "        return True\n",
    "    else:\n",
    "        return False\n",
    "\n",
    "def ptrace_numpy(Q, sel, dims): # numpy function adapted from ptrace of qutip\n",
    "    \"\"\"\n",
    "    Compute the partial trace of a density matrix of qubits using NumPy.\n",
    "\n",
    "    Parameters:\n",
    "    - Q: numpy object, the quantum object (density matrix or state vector).\n",
    "    - sel: list of int, indices of the subsystems to keep.\n",
    "    - dims: list of int, dimensions of the subsystems.\n",
    "\n",
    "    Returns:\n",
    "    - numpy object, the reduced density matrix after tracing out the specified subsystems.\n",
    "    \"\"\"\n",
    "    # Get the dimensions of the subsystems\n",
    "    rd = np.asarray(dims[0], dtype=np.int32).ravel()\n",
    "    nd = len(rd)\n",
    "    \n",
    "    # Ensure sel is a sorted array of indices\n",
    "    if isinstance(sel, int):\n",
    "        sel = np.array([sel])\n",
    "    else:\n",
    "        sel = np.asarray(sel)\n",
    "    sel = list(np.sort(sel))\n",
    "    \n",
    "    # Dimensions of the subsystems to keep\n",
    "    dkeep = (rd[sel]).tolist()\n",
    "    \n",
    "    # Indices of the subsystems to trace out\n",
    "    qtrace = list(set(np.arange(nd)) - set(sel))\n",
    "    \n",
    "    # Dimensions of the subsystems to trace out\n",
    "    dtrace = (rd[qtrace]).tolist()\n",
    "    \n",
    "    # Reshape the density matrix or state vector\n",
    "    rd = list(rd)\n",
    "    if isket_numpy(Q):\n",
    "        # Reshape and transpose for state vector\n",
    "        vmat = (Q\n",
    "                .reshape(rd)\n",
    "                .transpose(sel + qtrace)\n",
    "                .reshape([np.prod(dkeep), np.prod(dtrace)]))\n",
    "        # Compute the reduced density matrix\n",
    "        rhomat = vmat.dot(vmat.conj().T)\n",
    "    else:\n",
    "        # Reshape and transpose for density matrix\n",
    "        rhomat = np.trace(Q\n",
    "                          .reshape(rd + rd)\n",
    "                          .transpose(qtrace + [nd + q for q in qtrace] +\n",
    "                                     sel + [nd + q for q in sel])\n",
    "                          .reshape([np.prod(dtrace),\n",
    "                                    np.prod(dtrace),\n",
    "                                    np.prod(dkeep),\n",
    "                                    np.prod(dkeep)]))\n",
    "    return rhomat\n",
    "\n",
    "\n",
    "def ptrace_sparse(psi_sparse, keep, dims):\n",
    "    \"\"\"\n",
    "    Compute the partial trace over arbitrary subsystems using sparse matrix operations.\n",
    "\n",
    "    Args:\n",
    "        psi_sparse (scipy.sparse matrix): Full density matrix of shape (D, D), where D = product(dims)\n",
    "        keep (list of int): Subsystems to keep (indices, 0-indexed)\n",
    "        dims (list of int): List of subsystem dimensions, e.g., [2]*n for n qubits\n",
    "\n",
    "    Returns:\n",
    "        scipy.sparse.csr_matrix: Reduced density matrix over kept subsystems\n",
    "    \"\"\"\n",
    "    if not issparse(psi_sparse):\n",
    "        raise ValueError(\"psi_sparse must be a scipy.sparse matrix\")\n",
    "    n = len(dims)\n",
    "    D = np.prod(dims)\n",
    "    if psi_sparse.shape != (D, D):\n",
    "        raise ValueError(\"Density matrix shape does not match dims\")\n",
    "    trace = [i for i in range(n) if i not in keep]\n",
    "    d_keep = np.prod([dims[i] for i in keep])\n",
    "    # Prepare output\n",
    "    data = []\n",
    "    row_idx = []\n",
    "    col_idx = []\n",
    "\n",
    "    # Precompute bit masks\n",
    "    def idx_to_bits(idx):\n",
    "        return np.array(list(np.binary_repr(idx, width=n))).astype(int)\n",
    "    \n",
    "\n",
    "    psi_sparse = psi_sparse.tocoo()\n",
    "    for i, j, val in zip(psi_sparse.row, psi_sparse.col, psi_sparse.data):\n",
    "        bi = idx_to_bits(i)\n",
    "        bj = idx_to_bits(j)\n",
    "\n",
    "\n",
    "        # Only sum terms where traced-out subsystems agree\n",
    "        if np.all(bi[trace] == bj[trace]):\n",
    "            # Extract kept bits and convert to reduced indices\n",
    "            #print('condition met for i, j:', i, j)\n",
    "            i_red_bits = bi[keep]\n",
    "            j_red_bits = bj[keep]\n",
    "            i_red = int(\"\".join(i_red_bits.astype(str)), 2)\n",
    "            j_red = int(\"\".join(j_red_bits.astype(str)), 2)\n",
    "\n",
    "\n",
    "            data.append(val)\n",
    "            row_idx.append(i_red)\n",
    "            col_idx.append(j_red)\n",
    "    \n",
    "    return coo_matrix((data, (row_idx, col_idx)), shape=(d_keep, d_keep)).tocsr()\n",
    "\n",
    "\n",
    "def isket_torch(arr):\n",
    "    \"\"\"\n",
    "    Check if a PyTorch tensor is a ket (column vector).\n",
    "\n",
    "    Parameters:\n",
    "    - arr: torch.Tensor, the array to check.\n",
    "\n",
    "    Returns:\n",
    "    - bool, True if the array is a ket, False otherwise.\n",
    "    \"\"\"\n",
    "    if not isinstance(arr, torch.Tensor):\n",
    "        raise ValueError(\"Input must be a PyTorch tensor\")\n",
    "\n",
    "    shape = arr.shape\n",
    "\n",
    "    if len(shape) == 2 and shape[1] == 1:\n",
    "        return True\n",
    "    else:\n",
    "        return False\n",
    "\n",
    "def ptrace_torch(Q, sel, dims): # torch function adapted from ptrace of qutip\n",
    "    \"\"\"\n",
    "    Compute the partial trace of a density matrix of qubits using PyTorch.\n",
    "\n",
    "    Parameters:\n",
    "    - Q: torch.Tensor, the quantum object (density matrix or state vector).\n",
    "    - sel: list of int, indices of the subsystems to keep.\n",
    "    - dims: list of int, dimensions of the subsystems.\n",
    "\n",
    "    Returns:\n",
    "    - torch.Tensor, the reduced density matrix after tracing out the specified subsystems.\n",
    "    \"\"\"\n",
    "    # Get the dimensions of the subsystems\n",
    "    rd = torch.tensor(dims[0], dtype=torch.int32).flatten()\n",
    "    nd = len(rd)\n",
    "    #print(\"rd\", rd)\n",
    "    #print(\"nd\", nd)\n",
    "    \n",
    "    # Ensure sel is a sorted array of indices\n",
    "    if isinstance(sel, int):\n",
    "        sel = torch.tensor([sel])\n",
    "    else:\n",
    "        sel = torch.tensor(sel)\n",
    "    sel = torch.sort(sel).values.tolist()\n",
    "    \n",
    "    # Dimensions of the subsystems to keep\n",
    "    dkeep = rd[sel].tolist()\n",
    "    \n",
    "    # Indices of the subsystems to trace out\n",
    "    qtrace = list(set(range(nd)) - set(sel))\n",
    "    \n",
    "    # Dimensions of the subsystems to trace out\n",
    "    dtrace = rd[qtrace].tolist()\n",
    "    \n",
    "    # Reshape the density matrix or state vector\n",
    "    rd = rd.tolist()\n",
    "    if isket_torch(Q):\n",
    "        # Reshape and transpose for state vector\n",
    "        reshaped_Q = Q.reshape(rd)\n",
    "        #print(reshaped_Q.shape)\n",
    "        transposed_Q = reshaped_Q.permute(sel + qtrace)\n",
    "        #print(transposed_Q.shape)\n",
    "        vmat = transposed_Q.reshape([torch.prod(torch.tensor(dkeep)), torch.prod(torch.tensor(dtrace))])\n",
    "        #print(vmat.shape)\n",
    "        # Compute the reduced density matrix\n",
    "        rhomat = vmat @ vmat.conj().T\n",
    "        #print(rhomat.shape)\n",
    "    else:\n",
    "        # Reshape and transpose for density matrix\n",
    "        reshaped_Q = Q.reshape(rd + rd)\n",
    "        #print(\"reshaped_Q\", reshaped_Q.shape)\n",
    "        transposed_Q = reshaped_Q.permute(qtrace + [nd + q for q in qtrace] + sel + [nd + q for q in sel])\n",
    "        #print(\"transposed_Q\", transposed_Q.shape)\n",
    "        reshaped_transposed_Q = transposed_Q.reshape([torch.prod(torch.tensor(dtrace)), torch.prod(torch.tensor(dtrace)), torch.prod(torch.tensor(dkeep)), torch.prod(torch.tensor(dkeep))])\n",
    "        #print(\"reshaped_transposed_Q\", reshaped_transposed_Q.shape)\n",
    "        #rhomat = torch.trace(reshaped_transposed_Q)\n",
    "        rhomat = torch.einsum('iikl->kl', reshaped_transposed_Q)\n",
    "        # Trace out the first two dimensions\n",
    "        #rhomat = torch.zeros((torch.prod(torch.tensor(dkeep)), torch.prod(torch.tensor(dkeep))), dtype=Q.dtype)\n",
    "        #for i in range(reshaped_transposed_Q.shape[0]):\n",
    "        #    for j in range(reshaped_transposed_Q.shape[1]):\n",
    "        #        rhomat += reshaped_transposed_Q[i, j, :, :]\n",
    "        #print(\"rhomat\", rhomat.shape)\n",
    "    return rhomat\n",
    "\n",
    "def entanglement_entropy(psi, subsystem, total_size):\n",
    "\n",
    "    '''Computes the bipartite entanglement entropy of a pure state.\n",
    "    \n",
    "    Parameters:\n",
    "    psi : np.array\n",
    "        The wavefunction (state vector) of the full system.\n",
    "    subsystem_size : int\n",
    "        The number of qubits in subsystem A.\n",
    "    total_size : int\n",
    "        The total number of qubits in the system.\n",
    "    \n",
    "    Returns:\n",
    "    float\n",
    "        The von Neumann entanglement entropy S_A.'''\n",
    "    \n",
    "    psi_matrix =  np.outer(psi, psi.conj())\n",
    "\n",
    "    # Compute the reduced density matrix rho_A = Tr_B(|psi><psi|)\n",
    "    rho_A = ptrace_numpy(psi_matrix, subsystem, [[2]*total_size, [2]*total_size])  # Partial trace over B\n",
    "    \n",
    "    # Compute eigenvalues of rho_A\n",
    "    eigenvalues = np.linalg.eigvalsh(rho_A)\n",
    "    \n",
    "    # Filter out zero eigenvalues to avoid numerical issues in log calculation\n",
    "    eigenvalues = eigenvalues[eigenvalues > 0]\n",
    "    \n",
    "    # Compute von Neumann entropy S_A = -Tr(rho_A log rho_A)\n",
    "    entropy = -np.sum(eigenvalues * np.log2(eigenvalues))\n",
    "    \n",
    "    return entropy\n",
    "\n",
    "def entanglement_entropy_torch(psi, subsystem, total_size):\n",
    "    \"\"\"\n",
    "    Computes the bipartite entanglement entropy of a pure state using PyTorch.\n",
    "\n",
    "    Parameters:\n",
    "    - psi: torch.Tensor (complex), the wavefunction (state vector) of the full system.\n",
    "    - subsystem_size: int, the number of qubits in subsystem A.\n",
    "    - total_size: int, the total number of qubits in the system.\n",
    "\n",
    "    Returns:\n",
    "    - torch.Tensor (scalar), the von Neumann entanglement entropy S_A.\n",
    "    \"\"\"\n",
    "\n",
    "    if not isinstance(psi, torch.Tensor):\n",
    "        psi = torch.tensor(psi, dtype=torch.complex64)\n",
    "    \n",
    "    # Ensure psi is normalized\n",
    "    psi = psi / torch.norm(psi)\n",
    "\n",
    "    # Compute the density matrix |psi><psi|\n",
    "    psi_matrix = torch.outer(psi, psi.conj())\n",
    "\n",
    "    # Compute the reduced density matrix rho_A = Tr_B(|psi><psi|)\n",
    "    rho_A = ptrace_torch(psi_matrix, subsystem, [[2] * total_size, [2] * total_size])  # Partial trace over B\n",
    "\n",
    "    #rho_A = rho_A.to(dtype=torch.float64)\n",
    "    \n",
    "    # Compute eigenvalues of rho_A\n",
    "    eigvals = torch.linalg.eigvalsh(rho_A)\n",
    "\n",
    "    # Filter out zero eigenvalues to avoid numerical issues in log calculation\n",
    "    eigvals = eigvals[eigvals > 0]\n",
    "\n",
    "    # Compute von Neumann entropy S_A = -Tr(rho_A log rho_A)\n",
    "    entropy = -torch.sum(eigvals * torch.log2(eigvals))\n",
    "\n",
    "    return entropy\n",
    "\n",
    "def entanglement_entropy_qutip(psi, subsystem, total_size):\n",
    "    \n",
    "    # Convert the wavefunction to a QuTiP Qobj\n",
    "    density_matrix = np.outer(psi, psi.conj())\n",
    "    density_matrix_qobj = Qobj(density_matrix, dims=[[2]*total_size, [2]*total_size])\n",
    "\n",
    "    rho_A = ptrace(density_matrix_qobj, subsystem)\n",
    "    # Compute the von Neumann entropy S_A\n",
    "    entropy = entropy_vn(rho_A, base=2)\n",
    "    \n",
    "    return entropy\n",
    "\n",
    "def entanglement_entropy_np_ptrace(rdm):\n",
    "    # rdm already computed and converted to numpy\n",
    "    # Compute eigenvalues of rho_A\n",
    "    eigenvalues = np.linalg.eigvalsh(rdm)\n",
    "    \n",
    "    # Filter out zero eigenvalues to avoid numerical issues in log calculation\n",
    "    eigenvalues = eigenvalues[eigenvalues > 0]\n",
    "    \n",
    "    # Compute von Neumann entropy S_A = -Tr(rho_A log rho_A)\n",
    "    entropy = -np.sum(eigenvalues * np.log2(eigenvalues))\n",
    "    \n",
    "    return entropy\n",
    "\n",
    "def entanglement_entropy_torch_ptrace(rdm):\n",
    "\n",
    "    eigvals = torch.linalg.eigvalsh(rdm)\n",
    "    eigvals = eigvals[eigvals > 0]\n",
    "    entropy = -torch.sum(eigvals * torch.log2(eigvals))\n",
    "    return entropy\n",
    "\n",
    "\n",
    "def entanglement_entropy_qutip_torch(psi, N):\n",
    "    \"\"\"\n",
    "    Compute the von Neumann entanglement entropy using qutip.\n",
    "\n",
    "    Parameters:\n",
    "    - psi: torch.Tensor (complex), state vector of a quantum system.\n",
    "    - N: int, total number of qubits.\n",
    "\n",
    "    Returns:\n",
    "    - torch.Tensor (scalar), von Neumann entropy.\n",
    "    \"\"\"\n",
    "    # Ensure psi is normalized\n",
    "    psi = psi / torch.norm(psi)\n",
    "\n",
    "    # Convert PyTorch tensor to NumPy for QuTiP\n",
    "    psi_np = psi.detach().numpy()\n",
    "\n",
    "    rho_np = np.outer(psi_np, psi_np.conj())\n",
    "    rho_qobj = Qobj(rho_np, dims=[[2] * N, [2] * N])\n",
    "\n",
    "    rho_A = ptrace(rho_qobj, list(range(N // 2)))\n",
    "\n",
    "    # Compute von Neumann entropy\n",
    "    entropy = entropy_vn(rho_A, base=2)  # Compute in log base 2\n",
    "\n",
    "    # Convert back to PyTorch tensor to allow gradient flow\n",
    "    return torch.tensor(entropy, dtype=torch.float32, requires_grad=True)\n",
    "\n",
    "#######################################################################################################################\n",
    "\n",
    "# Define the linear combination function - numpy\n",
    "def linear_combination_np(coeffs, psis):\n",
    "    # Ensure psis are numpy tensors\n",
    "    psi_np = [np.array(psi) for psi in psis]\n",
    "    # Compute the linear combination in PyTorch\n",
    "    psi = sum(c * psi for c, psi in zip(coeffs, psis))\n",
    "    \n",
    "    return psi\n",
    "\n",
    "# Define the linear combination function - torch\n",
    "def linear_combination(coeffs, psis):\n",
    "    # Ensure psis are PyTorch tensors\n",
    "    psis_torch = [torch.tensor(psi, dtype=torch.complex64) if not isinstance(psi, torch.Tensor) else psi for psi in psis]\n",
    "    \n",
    "    # Compute the linear combination in PyTorch\n",
    "    psi_torch = sum(c * psi for c, psi in zip(coeffs, psis_torch))\n",
    "    \n",
    "    return psi_torch\n",
    "\n",
    "# Define the linear combination function - torch but after computing the ptrace of outer products of scars\n",
    "def linear_combination_outer(coeffs, outs):\n",
    "    # Ensure outs are PyTorch tensors\n",
    "    outs_torch = [torch.tensor(out, dtype=torch.complex64) if not isinstance(out, torch.Tensor) else out for out in outs]\n",
    "    torch_coeffs = torch.tensor(coeffs, dtype=torch.complex64)\n",
    "\n",
    "    # Compute the PyTorch tensor of out_coeffs which is the product of all possible combinations of c_i^* times c_j\n",
    "    out_coeffs = torch.zeros((len(torch_coeffs), len(torch_coeffs)), dtype=torch.complex64)\n",
    "    for i in range(len(torch_coeffs)):\n",
    "        for j in range(len(torch_coeffs)):\n",
    "            out_coeffs[i, j] = torch.conj(torch_coeffs[i]) * torch_coeffs[j]\n",
    "    \n",
    "    # Compute the linear combination in PyTorch\n",
    "    lin_torch = sum(out_coeffs[i, j] * outs_torch[i] for i in range(len(coeffs)) for j in range(len(coeffs)))\n",
    "    \n",
    "    return lin_torch\n",
    "\n",
    "######################################################\n",
    "\n",
    "# Function to apply permutation to a given spin configuration\n",
    "def apply_permutation(state_bits, N, perm):\n",
    "    new_bits = [0] * N\n",
    "    for i in range(N):\n",
    "        new_bits[perm[i]] = state_bits[i]  # Map value at index i to perm[i]\n",
    "    return new_bits\n",
    "\n",
    "# Function to convert an index to its binary representation\n",
    "def index_to_binary(index, num_qubits):\n",
    "    return format(index, f'0{num_qubits}b')"
   ]
  },
  {
   "cell_type": "code",
   "execution_count": 41,
   "metadata": {},
   "outputs": [],
   "source": [
    "N = 8  # Number of spins\n",
    "J = 1.0  # Interaction strength\n",
    "h = 3.0  # Transverse field strength # this is the value in the paper. maybe try  other values too, including the critical value one (h=J=1)\n",
    "\n",
    "keep_qubits = [0,1,2]\n",
    "\n",
    "trace_qubits = [i for i in range(N) if i not in keep_qubits]\n",
    "\n",
    "\n",
    "# Assuming transverse_field_ising is defined and returns a sparse Hermitian matrix\n",
    "H = transverse_field_ising_cubic(N, J, h)\n",
    "\n",
    "#print(f\"Hamiltonian shape: {H.shape}\")\n",
    "#print(f\"Non-zero elements in H: {H.nnz}\")"
   ]
  },
  {
   "cell_type": "code",
   "execution_count": 42,
   "metadata": {},
   "outputs": [
    {
     "name": "stdout",
     "output_type": "stream",
     "text": [
      "Eigenvalues of H: [-2.51148029e+01 -2.23928752e+01 -1.95189103e+01 -1.95189103e+01\n",
      " -1.95189103e+01 -1.82322200e+01 -1.76895343e+01 -1.76895343e+01\n",
      " -1.76895343e+01 -1.62319057e+01 -1.52667584e+01 -1.52667584e+01\n",
      " -1.52667584e+01 -1.45241593e+01 -1.45241593e+01 -1.45241593e+01\n",
      " -1.42737990e+01 -1.42737990e+01 -1.31602102e+01 -1.30224159e+01\n",
      " -1.24986360e+01 -1.24986360e+01 -1.24986360e+01 -1.24947995e+01\n",
      " -1.24947995e+01 -1.24947995e+01 -1.21655251e+01 -1.21655251e+01\n",
      " -1.19961448e+01 -1.04783206e+01 -1.04783206e+01 -1.04783206e+01\n",
      " -1.04407254e+01 -1.04407254e+01 -1.02868712e+01 -1.02868712e+01\n",
      " -1.02868712e+01 -9.78233499e+00 -9.78233499e+00 -9.78233499e+00\n",
      " -9.31765123e+00 -9.31765123e+00 -9.31765123e+00 -8.84746183e+00\n",
      " -8.64431788e+00 -8.64431788e+00 -8.64431788e+00 -8.64431788e+00\n",
      " -8.64431788e+00 -7.98178198e+00 -7.98178198e+00 -7.98178198e+00\n",
      " -7.94027872e+00 -7.94027872e+00 -7.94027872e+00 -7.88068701e+00\n",
      " -6.86925815e+00 -6.66295410e+00 -6.64431788e+00 -6.64431788e+00\n",
      " -6.64431788e+00 -6.64431788e+00 -6.64431788e+00 -6.13738299e+00\n",
      " -6.13738299e+00 -6.13738299e+00 -5.95800577e+00 -5.95800577e+00\n",
      " -5.95800577e+00 -5.85431810e+00 -5.85431810e+00 -5.85431810e+00\n",
      " -5.85431810e+00 -5.85431810e+00 -5.24573532e+00 -4.92532353e+00\n",
      " -4.92532353e+00 -4.92532353e+00 -4.39200580e+00 -4.31162191e+00\n",
      " -4.31162191e+00 -4.31162191e+00 -4.19063869e+00 -4.19063869e+00\n",
      " -4.19063869e+00 -3.85431810e+00 -3.85431810e+00 -3.85431810e+00\n",
      " -3.85431810e+00 -3.85431810e+00 -3.36903782e+00 -3.36903782e+00\n",
      " -3.36903782e+00 -3.35408946e+00 -3.35408946e+00 -3.28768421e+00\n",
      " -3.04792105e+00 -3.04792105e+00 -3.04792105e+00 -2.78999977e+00\n",
      " -2.78999977e+00 -2.78999977e+00 -2.76286159e+00 -2.32234459e+00\n",
      " -2.32234459e+00 -2.32234459e+00 -2.00000000e+00 -2.00000000e+00\n",
      " -2.00000000e+00 -1.94503556e+00 -1.94503556e+00 -1.94503556e+00\n",
      " -1.29250082e+00 -1.29250082e+00 -1.29250082e+00 -1.45148237e-01\n",
      " -4.71208085e-15 -4.61401713e-15 -3.88626055e-15 -3.44493404e-15\n",
      " -2.59797258e-15 -2.47644821e-15 -2.41473508e-15 -2.37127336e-15\n",
      " -1.94939546e-15 -1.64638756e-15 -1.14192492e-15 -1.05460234e-15\n",
      " -3.50732743e-16 -1.53375300e-16  3.22658567e-16  5.69459135e-16\n",
      "  1.80308054e-15  2.27934551e-15  2.58920934e-15  2.98100018e-15\n",
      "  3.18080861e-15  3.19847782e-15  3.90574651e-15  5.66213743e-15\n",
      "  1.45148237e-01  1.29250082e+00  1.29250082e+00  1.29250082e+00\n",
      "  1.94503556e+00  1.94503556e+00  1.94503556e+00  2.00000000e+00\n",
      "  2.00000000e+00  2.00000000e+00  2.32234459e+00  2.32234459e+00\n",
      "  2.32234459e+00  2.76286159e+00  2.78999977e+00  2.78999977e+00\n",
      "  2.78999977e+00  3.04792105e+00  3.04792105e+00  3.04792105e+00\n",
      "  3.28768421e+00  3.35408946e+00  3.35408946e+00  3.36903782e+00\n",
      "  3.36903782e+00  3.36903782e+00  3.85431810e+00  3.85431810e+00\n",
      "  3.85431810e+00  3.85431810e+00  3.85431810e+00  4.19063869e+00\n",
      "  4.19063869e+00  4.19063869e+00  4.31162191e+00  4.31162191e+00\n",
      "  4.31162191e+00  4.39200580e+00  4.92532353e+00  4.92532353e+00\n",
      "  4.92532353e+00  5.24573532e+00  5.85431810e+00  5.85431810e+00\n",
      "  5.85431810e+00  5.85431810e+00  5.85431810e+00  5.95800577e+00\n",
      "  5.95800577e+00  5.95800577e+00  6.13738299e+00  6.13738299e+00\n",
      "  6.13738299e+00  6.64431788e+00  6.64431788e+00  6.64431788e+00\n",
      "  6.64431788e+00  6.64431788e+00  6.66295410e+00  6.86925815e+00\n",
      "  7.88068701e+00  7.94027872e+00  7.94027872e+00  7.94027872e+00\n",
      "  7.98178198e+00  7.98178198e+00  7.98178198e+00  8.64431788e+00\n",
      "  8.64431788e+00  8.64431788e+00  8.64431788e+00  8.64431788e+00\n",
      "  8.84746183e+00  9.31765123e+00  9.31765123e+00  9.31765123e+00\n",
      "  9.78233499e+00  9.78233499e+00  9.78233499e+00  1.02868712e+01\n",
      "  1.02868712e+01  1.02868712e+01  1.04407254e+01  1.04407254e+01\n",
      "  1.04783206e+01  1.04783206e+01  1.04783206e+01  1.19961448e+01\n",
      "  1.21655251e+01  1.21655251e+01  1.24947995e+01  1.24947995e+01\n",
      "  1.24947995e+01  1.24986360e+01  1.24986360e+01  1.24986360e+01\n",
      "  1.30224159e+01  1.31602102e+01  1.42737990e+01  1.42737990e+01\n",
      "  1.45241593e+01  1.45241593e+01  1.45241593e+01  1.52667584e+01\n",
      "  1.52667584e+01  1.52667584e+01  1.62319057e+01  1.76895343e+01\n",
      "  1.76895343e+01  1.76895343e+01  1.82322200e+01  1.95189103e+01\n",
      "  1.95189103e+01  1.95189103e+01  2.23928752e+01  2.51148029e+01]\n",
      "Eigenvector 0, eigenvalue -25.114802878048362: 128 components > 1e-06\n",
      "Eigenvector 1, eigenvalue -22.39287522802269: 128 components > 1e-06\n",
      "Eigenvector 2, eigenvalue -19.51891027404601: 128 components > 1e-06\n",
      "Eigenvector 3, eigenvalue -19.518910274046: 128 components > 1e-06\n",
      "Eigenvector 4, eigenvalue -19.518910274046: 128 components > 1e-06\n",
      "Eigenvector 5, eigenvalue -18.232220015901202: 128 components > 1e-06\n",
      "Eigenvector 6, eigenvalue -17.68953431717526: 128 components > 1e-06\n",
      "Eigenvector 7, eigenvalue -17.689534317175255: 128 components > 1e-06\n",
      "Eigenvector 8, eigenvalue -17.68953431717525: 128 components > 1e-06\n",
      "Eigenvector 9, eigenvalue -16.23190567700238: 128 components > 1e-06\n",
      "Eigenvector 10, eigenvalue -15.26675837280273: 110 components > 1e-06\n",
      "Eigenvector 11, eigenvalue -15.266758372802727: 110 components > 1e-06\n",
      "Eigenvector 12, eigenvalue -15.266758372802723: 110 components > 1e-06\n",
      "Eigenvector 13, eigenvalue -14.524159319649023: 118 components > 1e-06\n",
      "Eigenvector 14, eigenvalue -14.524159319649016: 118 components > 1e-06\n",
      "Eigenvector 15, eigenvalue -14.524159319649003: 118 components > 1e-06\n",
      "Eigenvector 16, eigenvalue -14.273798985668492: 108 components > 1e-06\n",
      "Eigenvector 17, eigenvalue -14.273798985668488: 108 components > 1e-06\n",
      "Eigenvector 18, eigenvalue -13.160210200476955: 58 components > 1e-06\n",
      "Eigenvector 19, eigenvalue -13.022415939171893: 128 components > 1e-06\n",
      "Eigenvector 20, eigenvalue -12.49863597602226: 72 components > 1e-06\n",
      "Eigenvector 21, eigenvalue -12.498635976022257: 72 components > 1e-06\n",
      "Eigenvector 22, eigenvalue -12.498635976022253: 72 components > 1e-06\n",
      "Eigenvector 23, eigenvalue -12.494799453622914: 118 components > 1e-06\n",
      "Eigenvector 24, eigenvalue -12.494799453622914: 118 components > 1e-06\n",
      "Eigenvector 25, eigenvalue -12.49479945362291: 118 components > 1e-06\n",
      "Eigenvector 26, eigenvalue -12.165525060596433: 48 components > 1e-06\n",
      "Eigenvector 27, eigenvalue -12.165525060596426: 48 components > 1e-06\n",
      "Eigenvector 28, eigenvalue -11.996144805415625: 128 components > 1e-06\n",
      "Eigenvector 29, eigenvalue -10.478320642915056: 118 components > 1e-06\n",
      "Eigenvector 30, eigenvalue -10.478320642915053: 118 components > 1e-06\n",
      "Eigenvector 31, eigenvalue -10.478320642915053: 118 components > 1e-06\n",
      "Eigenvector 32, eigenvalue -10.440725376167043: 108 components > 1e-06\n",
      "Eigenvector 33, eigenvalue -10.440725376167041: 108 components > 1e-06\n",
      "Eigenvector 34, eigenvalue -10.286871152519637: 128 components > 1e-06\n",
      "Eigenvector 35, eigenvalue -10.286871152519634: 128 components > 1e-06\n",
      "Eigenvector 36, eigenvalue -10.28687115251963: 128 components > 1e-06\n",
      "Eigenvector 37, eigenvalue -9.782334987815608: 110 components > 1e-06\n",
      "Eigenvector 38, eigenvalue -9.782334987815604: 110 components > 1e-06\n",
      "Eigenvector 39, eigenvalue -9.782334987815602: 110 components > 1e-06\n",
      "Eigenvector 40, eigenvalue -9.31765122825746: 128 components > 1e-06\n",
      "Eigenvector 41, eigenvalue -9.317651228257457: 128 components > 1e-06\n",
      "Eigenvector 42, eigenvalue -9.31765122825745: 128 components > 1e-06\n",
      "Eigenvector 43, eigenvalue -8.84746183063536: 128 components > 1e-06\n",
      "Eigenvector 44, eigenvalue -8.644317875007733: 96 components > 1e-06\n",
      "Eigenvector 45, eigenvalue -8.644317875007731: 96 components > 1e-06\n",
      "Eigenvector 46, eigenvalue -8.644317875007731: 96 components > 1e-06\n",
      "Eigenvector 47, eigenvalue -8.64431787500773: 96 components > 1e-06\n",
      "Eigenvector 48, eigenvalue -8.644317875007728: 96 components > 1e-06\n",
      "Eigenvector 49, eigenvalue -7.981781977911526: 128 components > 1e-06\n",
      "Eigenvector 50, eigenvalue -7.981781977911526: 128 components > 1e-06\n",
      "Eigenvector 51, eigenvalue -7.981781977911517: 128 components > 1e-06\n",
      "Eigenvector 52, eigenvalue -7.940278716474284: 128 components > 1e-06\n",
      "Eigenvector 53, eigenvalue -7.94027871647428: 128 components > 1e-06\n",
      "Eigenvector 54, eigenvalue -7.9402787164742765: 128 components > 1e-06\n",
      "Eigenvector 55, eigenvalue -7.880687014936383: 128 components > 1e-06\n",
      "Eigenvector 56, eigenvalue -6.869258147013557: 128 components > 1e-06\n",
      "Eigenvector 57, eigenvalue -6.662954101349543: 128 components > 1e-06\n",
      "Eigenvector 58, eigenvalue -6.644317875007735: 96 components > 1e-06\n",
      "Eigenvector 59, eigenvalue -6.644317875007735: 96 components > 1e-06\n",
      "Eigenvector 60, eigenvalue -6.644317875007729: 96 components > 1e-06\n",
      "Eigenvector 61, eigenvalue -6.644317875007722: 96 components > 1e-06\n",
      "Eigenvector 62, eigenvalue -6.6443178750077205: 96 components > 1e-06\n",
      "Eigenvector 63, eigenvalue -6.13738299145896: 128 components > 1e-06\n",
      "Eigenvector 64, eigenvalue -6.13738299145896: 128 components > 1e-06\n",
      "Eigenvector 65, eigenvalue -6.137382991458953: 128 components > 1e-06\n",
      "Eigenvector 66, eigenvalue -5.9580057669475135: 128 components > 1e-06\n",
      "Eigenvector 67, eigenvalue -5.95800576694751: 128 components > 1e-06\n",
      "Eigenvector 68, eigenvalue -5.958005766947506: 128 components > 1e-06\n",
      "Eigenvector 69, eigenvalue -5.854318101014533: 96 components > 1e-06\n",
      "Eigenvector 70, eigenvalue -5.854318101014532: 96 components > 1e-06\n",
      "Eigenvector 71, eigenvalue -5.854318101014531: 96 components > 1e-06\n",
      "Eigenvector 72, eigenvalue -5.854318101014529: 96 components > 1e-06\n",
      "Eigenvector 73, eigenvalue -5.854318101014524: 96 components > 1e-06\n",
      "Eigenvector 74, eigenvalue -5.245735322401303: 128 components > 1e-06\n",
      "Eigenvector 75, eigenvalue -4.925323531533964: 128 components > 1e-06\n",
      "Eigenvector 76, eigenvalue -4.925323531533962: 128 components > 1e-06\n",
      "Eigenvector 77, eigenvalue -4.925323531533957: 128 components > 1e-06\n",
      "Eigenvector 78, eigenvalue -4.39200579889841: 128 components > 1e-06\n",
      "Eigenvector 79, eigenvalue -4.311621911608645: 128 components > 1e-06\n",
      "Eigenvector 80, eigenvalue -4.311621911608643: 128 components > 1e-06\n",
      "Eigenvector 81, eigenvalue -4.311621911608639: 128 components > 1e-06\n",
      "Eigenvector 82, eigenvalue -4.190638687463487: 110 components > 1e-06\n",
      "Eigenvector 83, eigenvalue -4.190638687463485: 110 components > 1e-06\n",
      "Eigenvector 84, eigenvalue -4.190638687463485: 110 components > 1e-06\n",
      "Eigenvector 85, eigenvalue -3.8543181010145293: 96 components > 1e-06\n",
      "Eigenvector 86, eigenvalue -3.854318101014527: 96 components > 1e-06\n",
      "Eigenvector 87, eigenvalue -3.854318101014527: 96 components > 1e-06\n",
      "Eigenvector 88, eigenvalue -3.854318101014527: 96 components > 1e-06\n",
      "Eigenvector 89, eigenvalue -3.854318101014524: 96 components > 1e-06\n",
      "Eigenvector 90, eigenvalue -3.369037823361288: 118 components > 1e-06\n",
      "Eigenvector 91, eigenvalue -3.3690378233612877: 118 components > 1e-06\n",
      "Eigenvector 92, eigenvalue -3.3690378233612854: 118 components > 1e-06\n",
      "Eigenvector 93, eigenvalue -3.354089464547803: 108 components > 1e-06\n",
      "Eigenvector 94, eigenvalue -3.354089464547796: 108 components > 1e-06\n",
      "Eigenvector 95, eigenvalue -3.2876842122172034: 58 components > 1e-06\n",
      "Eigenvector 96, eigenvalue -3.0479210484057764: 128 components > 1e-06\n",
      "Eigenvector 97, eigenvalue -3.047921048405775: 128 components > 1e-06\n",
      "Eigenvector 98, eigenvalue -3.047921048405774: 128 components > 1e-06\n",
      "Eigenvector 99, eigenvalue -2.789999773993207: 72 components > 1e-06\n",
      "Eigenvector 100, eigenvalue -2.789999773993201: 72 components > 1e-06\n",
      "Eigenvector 101, eigenvalue -2.789999773993201: 72 components > 1e-06\n",
      "Eigenvector 102, eigenvalue -2.7628615923253066: 128 components > 1e-06\n",
      "Eigenvector 103, eigenvalue -2.3223445863898124: 128 components > 1e-06\n",
      "Eigenvector 104, eigenvalue -2.3223445863898116: 128 components > 1e-06\n",
      "Eigenvector 105, eigenvalue -2.3223445863898102: 128 components > 1e-06\n",
      "Eigenvector 106, eigenvalue -2.000000000000001: 48 components > 1e-06\n",
      "Eigenvector 107, eigenvalue -2.0: 48 components > 1e-06\n",
      "Eigenvector 108, eigenvalue -1.9999999999999982: 48 components > 1e-06\n",
      "Eigenvector 109, eigenvalue -1.9450355575717493: 118 components > 1e-06\n",
      "Eigenvector 110, eigenvalue -1.9450355575717486: 118 components > 1e-06\n",
      "Eigenvector 111, eigenvalue -1.945035557571748: 118 components > 1e-06\n",
      "Eigenvector 112, eigenvalue -1.292500817698135: 110 components > 1e-06\n",
      "Eigenvector 113, eigenvalue -1.2925008176981336: 110 components > 1e-06\n",
      "Eigenvector 114, eigenvalue -1.2925008176981316: 110 components > 1e-06\n",
      "Eigenvector 115, eigenvalue -0.1451482374034968: 128 components > 1e-06\n",
      "Eigenvector 116, eigenvalue -4.712080853917639e-15: 126 components > 1e-06\n",
      "Eigenvector 117, eigenvalue -4.614017132952925e-15: 126 components > 1e-06\n",
      "Eigenvector 118, eigenvalue -3.886260551729883e-15: 126 components > 1e-06\n",
      "Eigenvector 119, eigenvalue -3.444934036409613e-15: 126 components > 1e-06\n",
      "Eigenvector 120, eigenvalue -2.5979725788808618e-15: 126 components > 1e-06\n",
      "Eigenvector 121, eigenvalue -2.4764482050307693e-15: 126 components > 1e-06\n",
      "Eigenvector 122, eigenvalue -2.4147350785597155e-15: 126 components > 1e-06\n",
      "Eigenvector 123, eigenvalue -2.3712733590595395e-15: 126 components > 1e-06\n",
      "Eigenvector 124, eigenvalue -1.9493954613177773e-15: 126 components > 1e-06\n",
      "Eigenvector 125, eigenvalue -1.6463875640366048e-15: 126 components > 1e-06\n",
      "Eigenvector 126, eigenvalue -1.141924915211168e-15: 126 components > 1e-06\n",
      "Eigenvector 127, eigenvalue -1.0546023431103999e-15: 126 components > 1e-06\n",
      "Eigenvector 128, eigenvalue -3.507327434046e-16: 126 components > 1e-06\n",
      "Eigenvector 129, eigenvalue -1.5337529957738658e-16: 126 components > 1e-06\n",
      "Eigenvector 130, eigenvalue 3.226585665688709e-16: 126 components > 1e-06\n",
      "Eigenvector 131, eigenvalue 5.694591354498317e-16: 126 components > 1e-06\n",
      "Eigenvector 132, eigenvalue 1.8030805424376295e-15: 126 components > 1e-06\n",
      "Eigenvector 133, eigenvalue 2.279345509144405e-15: 126 components > 1e-06\n",
      "Eigenvector 134, eigenvalue 2.589209343293884e-15: 126 components > 1e-06\n",
      "Eigenvector 135, eigenvalue 2.9810001802671762e-15: 126 components > 1e-06\n",
      "Eigenvector 136, eigenvalue 3.1808086143442574e-15: 126 components > 1e-06\n",
      "Eigenvector 137, eigenvalue 3.198477816166652e-15: 82 components > 1e-06\n",
      "Eigenvector 138, eigenvalue 3.90574651456908e-15: 126 components > 1e-06\n",
      "Eigenvector 139, eigenvalue 5.662137425588298e-15: 126 components > 1e-06\n",
      "Eigenvector 140, eigenvalue 0.145148237403494: 128 components > 1e-06\n",
      "Eigenvector 141, eigenvalue 1.292500817698131: 110 components > 1e-06\n",
      "Eigenvector 142, eigenvalue 1.292500817698134: 110 components > 1e-06\n",
      "Eigenvector 143, eigenvalue 1.2925008176981343: 110 components > 1e-06\n",
      "Eigenvector 144, eigenvalue 1.9450355575717466: 118 components > 1e-06\n",
      "Eigenvector 145, eigenvalue 1.9450355575717473: 118 components > 1e-06\n",
      "Eigenvector 146, eigenvalue 1.9450355575717506: 118 components > 1e-06\n",
      "Eigenvector 147, eigenvalue 1.999999999999999: 48 components > 1e-06\n",
      "Eigenvector 148, eigenvalue 1.999999999999999: 48 components > 1e-06\n",
      "Eigenvector 149, eigenvalue 2.0: 48 components > 1e-06\n",
      "Eigenvector 150, eigenvalue 2.3223445863898124: 128 components > 1e-06\n",
      "Eigenvector 151, eigenvalue 2.3223445863898124: 128 components > 1e-06\n",
      "Eigenvector 152, eigenvalue 2.3223445863898156: 128 components > 1e-06\n",
      "Eigenvector 153, eigenvalue 2.762861592325297: 128 components > 1e-06\n",
      "Eigenvector 154, eigenvalue 2.7899997739931957: 72 components > 1e-06\n",
      "Eigenvector 155, eigenvalue 2.789999773993201: 72 components > 1e-06\n",
      "Eigenvector 156, eigenvalue 2.789999773993202: 72 components > 1e-06\n",
      "Eigenvector 157, eigenvalue 3.047921048405771: 128 components > 1e-06\n",
      "Eigenvector 158, eigenvalue 3.0479210484057715: 128 components > 1e-06\n",
      "Eigenvector 159, eigenvalue 3.0479210484057764: 128 components > 1e-06\n",
      "Eigenvector 160, eigenvalue 3.287684212217198: 58 components > 1e-06\n",
      "Eigenvector 161, eigenvalue 3.3540894645477977: 108 components > 1e-06\n",
      "Eigenvector 162, eigenvalue 3.3540894645477994: 108 components > 1e-06\n",
      "Eigenvector 163, eigenvalue 3.369037823361287: 118 components > 1e-06\n",
      "Eigenvector 164, eigenvalue 3.369037823361289: 118 components > 1e-06\n",
      "Eigenvector 165, eigenvalue 3.36903782336129: 118 components > 1e-06\n",
      "Eigenvector 166, eigenvalue 3.8543181010145298: 96 components > 1e-06\n",
      "Eigenvector 167, eigenvalue 3.85431810101453: 96 components > 1e-06\n",
      "Eigenvector 168, eigenvalue 3.85431810101453: 96 components > 1e-06\n",
      "Eigenvector 169, eigenvalue 3.8543181010145324: 96 components > 1e-06\n",
      "Eigenvector 170, eigenvalue 3.8543181010145338: 96 components > 1e-06\n",
      "Eigenvector 171, eigenvalue 4.190638687463483: 110 components > 1e-06\n",
      "Eigenvector 172, eigenvalue 4.190638687463484: 110 components > 1e-06\n",
      "Eigenvector 173, eigenvalue 4.190638687463485: 110 components > 1e-06\n",
      "Eigenvector 174, eigenvalue 4.311621911608638: 128 components > 1e-06\n",
      "Eigenvector 175, eigenvalue 4.31162191160864: 128 components > 1e-06\n",
      "Eigenvector 176, eigenvalue 4.311621911608641: 128 components > 1e-06\n",
      "Eigenvector 177, eigenvalue 4.392005798898409: 128 components > 1e-06\n",
      "Eigenvector 178, eigenvalue 4.925323531533962: 128 components > 1e-06\n",
      "Eigenvector 179, eigenvalue 4.925323531533963: 128 components > 1e-06\n",
      "Eigenvector 180, eigenvalue 4.925323531533964: 128 components > 1e-06\n",
      "Eigenvector 181, eigenvalue 5.245735322401307: 128 components > 1e-06\n",
      "Eigenvector 182, eigenvalue 5.854318101014524: 96 components > 1e-06\n",
      "Eigenvector 183, eigenvalue 5.8543181010145275: 96 components > 1e-06\n",
      "Eigenvector 184, eigenvalue 5.8543181010145275: 96 components > 1e-06\n",
      "Eigenvector 185, eigenvalue 5.854318101014529: 96 components > 1e-06\n",
      "Eigenvector 186, eigenvalue 5.854318101014535: 96 components > 1e-06\n",
      "Eigenvector 187, eigenvalue 5.9580057669475055: 128 components > 1e-06\n",
      "Eigenvector 188, eigenvalue 5.958005766947508: 128 components > 1e-06\n",
      "Eigenvector 189, eigenvalue 5.958005766947509: 128 components > 1e-06\n",
      "Eigenvector 190, eigenvalue 6.137382991458955: 128 components > 1e-06\n",
      "Eigenvector 191, eigenvalue 6.137382991458955: 128 components > 1e-06\n",
      "Eigenvector 192, eigenvalue 6.137382991458957: 128 components > 1e-06\n",
      "Eigenvector 193, eigenvalue 6.644317875007728: 96 components > 1e-06\n",
      "Eigenvector 194, eigenvalue 6.64431787500773: 96 components > 1e-06\n",
      "Eigenvector 195, eigenvalue 6.64431787500773: 96 components > 1e-06\n",
      "Eigenvector 196, eigenvalue 6.64431787500773: 96 components > 1e-06\n",
      "Eigenvector 197, eigenvalue 6.644317875007733: 96 components > 1e-06\n",
      "Eigenvector 198, eigenvalue 6.662954101349547: 128 components > 1e-06\n",
      "Eigenvector 199, eigenvalue 6.869258147013561: 128 components > 1e-06\n",
      "Eigenvector 200, eigenvalue 7.880687014936388: 128 components > 1e-06\n",
      "Eigenvector 201, eigenvalue 7.940278716474265: 128 components > 1e-06\n",
      "Eigenvector 202, eigenvalue 7.940278716474276: 128 components > 1e-06\n",
      "Eigenvector 203, eigenvalue 7.94027871647428: 128 components > 1e-06\n",
      "Eigenvector 204, eigenvalue 7.981781977911515: 128 components > 1e-06\n",
      "Eigenvector 205, eigenvalue 7.981781977911519: 128 components > 1e-06\n",
      "Eigenvector 206, eigenvalue 7.981781977911524: 128 components > 1e-06\n",
      "Eigenvector 207, eigenvalue 8.644317875007728: 96 components > 1e-06\n",
      "Eigenvector 208, eigenvalue 8.64431787500773: 96 components > 1e-06\n",
      "Eigenvector 209, eigenvalue 8.644317875007733: 96 components > 1e-06\n",
      "Eigenvector 210, eigenvalue 8.644317875007737: 96 components > 1e-06\n",
      "Eigenvector 211, eigenvalue 8.644317875007738: 96 components > 1e-06\n",
      "Eigenvector 212, eigenvalue 8.847461830635359: 128 components > 1e-06\n",
      "Eigenvector 213, eigenvalue 9.317651228257454: 128 components > 1e-06\n",
      "Eigenvector 214, eigenvalue 9.31765122825746: 128 components > 1e-06\n",
      "Eigenvector 215, eigenvalue 9.31765122825746: 128 components > 1e-06\n",
      "Eigenvector 216, eigenvalue 9.7823349878156: 110 components > 1e-06\n",
      "Eigenvector 217, eigenvalue 9.78233498781561: 110 components > 1e-06\n",
      "Eigenvector 218, eigenvalue 9.782334987815617: 110 components > 1e-06\n",
      "Eigenvector 219, eigenvalue 10.286871152519618: 128 components > 1e-06\n",
      "Eigenvector 220, eigenvalue 10.286871152519627: 128 components > 1e-06\n",
      "Eigenvector 221, eigenvalue 10.286871152519637: 128 components > 1e-06\n",
      "Eigenvector 222, eigenvalue 10.440725376167041: 108 components > 1e-06\n",
      "Eigenvector 223, eigenvalue 10.440725376167048: 108 components > 1e-06\n",
      "Eigenvector 224, eigenvalue 10.478320642915053: 118 components > 1e-06\n",
      "Eigenvector 225, eigenvalue 10.478320642915055: 118 components > 1e-06\n",
      "Eigenvector 226, eigenvalue 10.478320642915065: 118 components > 1e-06\n",
      "Eigenvector 227, eigenvalue 11.996144805415618: 128 components > 1e-06\n",
      "Eigenvector 228, eigenvalue 12.165525060596433: 48 components > 1e-06\n",
      "Eigenvector 229, eigenvalue 12.165525060596435: 48 components > 1e-06\n",
      "Eigenvector 230, eigenvalue 12.494799453622914: 118 components > 1e-06\n",
      "Eigenvector 231, eigenvalue 12.49479945362292: 118 components > 1e-06\n",
      "Eigenvector 232, eigenvalue 12.494799453622925: 118 components > 1e-06\n",
      "Eigenvector 233, eigenvalue 12.49863597602225: 72 components > 1e-06\n",
      "Eigenvector 234, eigenvalue 12.498635976022257: 72 components > 1e-06\n",
      "Eigenvector 235, eigenvalue 12.49863597602226: 72 components > 1e-06\n",
      "Eigenvector 236, eigenvalue 13.022415939171891: 128 components > 1e-06\n",
      "Eigenvector 237, eigenvalue 13.160210200476957: 58 components > 1e-06\n",
      "Eigenvector 238, eigenvalue 14.273798985668485: 108 components > 1e-06\n",
      "Eigenvector 239, eigenvalue 14.273798985668508: 108 components > 1e-06\n",
      "Eigenvector 240, eigenvalue 14.524159319649003: 118 components > 1e-06\n",
      "Eigenvector 241, eigenvalue 14.524159319649009: 118 components > 1e-06\n",
      "Eigenvector 242, eigenvalue 14.524159319649014: 118 components > 1e-06\n",
      "Eigenvector 243, eigenvalue 15.266758372802734: 110 components > 1e-06\n",
      "Eigenvector 244, eigenvalue 15.266758372802741: 110 components > 1e-06\n",
      "Eigenvector 245, eigenvalue 15.266758372802743: 110 components > 1e-06\n",
      "Eigenvector 246, eigenvalue 16.231905677002384: 128 components > 1e-06\n",
      "Eigenvector 247, eigenvalue 17.689534317175248: 128 components > 1e-06\n",
      "Eigenvector 248, eigenvalue 17.68953431717526: 128 components > 1e-06\n",
      "Eigenvector 249, eigenvalue 17.68953431717527: 128 components > 1e-06\n",
      "Eigenvector 250, eigenvalue 18.23222001590118: 128 components > 1e-06\n",
      "Eigenvector 251, eigenvalue 19.518910274045993: 128 components > 1e-06\n",
      "Eigenvector 252, eigenvalue 19.518910274046: 128 components > 1e-06\n",
      "Eigenvector 253, eigenvalue 19.51891027404601: 128 components > 1e-06\n",
      "Eigenvector 254, eigenvalue 22.392875228022696: 128 components > 1e-06\n",
      "Eigenvector 255, eigenvalue 25.114802878048373: 128 components > 1e-06\n",
      "Zero count distribution: Counter({128: 100, 96: 40, 118: 30, 110: 24, 126: 23, 108: 12, 72: 12, 48: 10, 58: 4, 82: 1})\n"
     ]
    }
   ],
   "source": [
    "# All eigenvalues of H\n",
    "# Compute all eigenvalues and corresponding eigenvectors\n",
    "eigenvalues, eigenvectors = np.linalg.eigh(H.toarray())\n",
    "\n",
    "print(f\"Eigenvalues of H: {np.sort(eigenvalues)}\")\n",
    "\n",
    "# Count the number of (near-)zero components in each eigenvector\n",
    "zero_threshold = 1e-6\n",
    "zero_counts = []\n",
    "for i in range(eigenvectors.shape[1]):\n",
    "    num_nnzeros = np.sum(np.abs(eigenvectors[:, i]) > zero_threshold)\n",
    "    zero_counts.append(num_nnzeros)\n",
    "    print(f\"Eigenvector {i}, eigenvalue {eigenvalues[i]}: {num_nnzeros} components > {zero_threshold}\")\n",
    "\n",
    "# Optionally, print a summary\n",
    "print(\"Zero count distribution:\", Counter(zero_counts))\n",
    "\n",
    "# Check if each eigenvector is complex or real\n",
    "for i in range(eigenvectors.shape[1]):\n",
    "    vec = eigenvectors[:, i]\n",
    "    #if np.any(np.abs(vec.imag) > 1e-14):\n",
    "    #    print(f\"Eigenvector {i} is complex.\")\n",
    "    #else:\n",
    "    #    print(f\"Eigenvector {i} is real.\")"
   ]
  },
  {
   "cell_type": "code",
   "execution_count": 43,
   "metadata": {},
   "outputs": [],
   "source": [
    "##################### RDMS + EE #################################"
   ]
  },
  {
   "cell_type": "code",
   "execution_count": 44,
   "metadata": {},
   "outputs": [
    {
     "data": {
      "text/plain": [
       "'# rdm - qutip\\n\\nmin_eigenvalues = []\\nmin_rdms = []\\nrdm_eigenvalues = []\\n\\nfor i in tqdm(range(len(eigenvalues))):\\n    # Construct the density matrix for each eigenvector\\n    min_eigenvector = eigenvectors[:, i]\\n    density_matrix = np.outer(min_eigenvector, min_eigenvector.conj())\\n    density_matrix_qobj = Qobj(density_matrix, dims=[[2]*N, [2]*N])\\n\\n    # Trace out qubits\\n    traced_out_density_matrix = ptrace(density_matrix_qobj, keep_qubits)\\n\\n    # Convert the result back to a dense matrix if needed\\n    traced_out_density_matrix_dense = traced_out_density_matrix.full()\\n    # Check if the rank is not full and print it\\n    rank = np.linalg.matrix_rank(traced_out_density_matrix_dense)\\n    if rank < traced_out_density_matrix_dense.shape[0]:\\n        print(f\"Traced-out density matrix rank: {rank}\")\\n    # Diagonalize the traced-out density matrix\\n    eigenvalues_traced, eigenvectors_traced = np.linalg.eigh(traced_out_density_matrix_dense)\\n\\n    # Find the minimum eigenvalue of the traced-out density matrix\\n    min_eigenvalue = np.min(eigenvalues_traced) \\n    min_eigenvalues.append(min_eigenvalue)\\n\\n    if min_eigenvalue < 1e-16:\\n      min_rdms.append(traced_out_density_matrix_dense) #store the scarred rdms - step needed for optimization\\n      rdm_eigenvalues.append(eigenvalues_traced) #store the eigenvalues of the scarred rdms# Define the threshold - qutip\\nthreshold = 1e-16\\nmin_eigenvalues = np.array(min_eigenvalues)\\n\\n# Count points with y-component less than the threshold\\ncount = sum(1 for y in min_eigenvalues if y < threshold)\\n\\n# Highlight points with y-component less than the threshold in red\\ncolors = [\\'red\\' if y < threshold else \\'C0\\' for y in min_eigenvalues]\\n\\n# Plot the minimum eigenvalue of the traced-out density matrix as a function of the eigenvalue of the Hamiltonian H\\nplt.scatter(eigenvalues, np.abs(min_eigenvalues), color=colors, s=1)\\n\\nplt.xlabel(\\'Eigenvalue of H\\')\\nplt.ylabel(r\"$\\\\lambda_{\\text{min}}$\")\\nplt.yscale(\"log\")\\nplt.show()\\n\\n# Find indices of red points - qutip\\nred_indices = [i for i, y in enumerate(min_eigenvalues) if y < threshold]\\nprint(f\\'Indices of red points: {red_indices}\\')\\n\\nred_eigenvectors = []\\n\\n# Print eigenvalues, RDM minimum eigenvalues, and scalar products of eigenvectors for red points\\nfor i,ind in enumerate(red_indices):\\n    print(i, ind)\\n    print(f\\'Eigenvalue: {eigenvalues[ind]}, rdm Minimum Eigenvalue: {min_eigenvalues[ind]}\\')\\n    print(f\\'Eigenvector {ind}: rdm rank: {np.linalg.matrix_rank(min_rdms[i])}\\')\\n    red_eigenvectors.append(eigenvectors[:, ind])\\n\\nfor i in range(len(red_indices)):\\n    for j in range(len(red_indices)):\\n        idx1, idx2 = red_indices[i], red_indices[j]\\n        dot_product = np.dot(eigenvectors[:, idx1], np.conj(eigenvectors[:, idx2]))\\n        print(f\"Dot product between eigenvectors {idx1} and {idx2}: {dot_product}\")\\n\\n# Count entries of rdm_eigenvalues[i] - eigenvalues of the scarred rdms - that are non-zero\\ncounts = [np.sum(eigenvalues > 1e-16) for eigenvalues in rdm_eigenvalues]\\nprint(f\\'Counts of non-zero eigenvalues of the scarred rdms: {counts}\\')'"
      ]
     },
     "execution_count": 44,
     "metadata": {},
     "output_type": "execute_result"
    }
   ],
   "source": [
    "'''# rdm - qutip\n",
    "\n",
    "min_eigenvalues = []\n",
    "min_rdms = []\n",
    "rdm_eigenvalues = []\n",
    "\n",
    "for i in tqdm(range(len(eigenvalues))):\n",
    "    # Construct the density matrix for each eigenvector\n",
    "    min_eigenvector = eigenvectors[:, i]\n",
    "    density_matrix = np.outer(min_eigenvector, min_eigenvector.conj())\n",
    "    density_matrix_qobj = Qobj(density_matrix, dims=[[2]*N, [2]*N])\n",
    "\n",
    "    # Trace out qubits\n",
    "    traced_out_density_matrix = ptrace(density_matrix_qobj, keep_qubits)\n",
    "\n",
    "    # Convert the result back to a dense matrix if needed\n",
    "    traced_out_density_matrix_dense = traced_out_density_matrix.full()\n",
    "    # Check if the rank is not full and print it\n",
    "    rank = np.linalg.matrix_rank(traced_out_density_matrix_dense)\n",
    "    if rank < traced_out_density_matrix_dense.shape[0]:\n",
    "        print(f\"Traced-out density matrix rank: {rank}\")\n",
    "    # Diagonalize the traced-out density matrix\n",
    "    eigenvalues_traced, eigenvectors_traced = np.linalg.eigh(traced_out_density_matrix_dense)\n",
    "\n",
    "    # Find the minimum eigenvalue of the traced-out density matrix\n",
    "    min_eigenvalue = np.min(eigenvalues_traced) \n",
    "    min_eigenvalues.append(min_eigenvalue)\n",
    "\n",
    "    if min_eigenvalue < 1e-16:\n",
    "      min_rdms.append(traced_out_density_matrix_dense) #store the scarred rdms - step needed for optimization\n",
    "      rdm_eigenvalues.append(eigenvalues_traced) #store the eigenvalues of the scarred rdms# Define the threshold - qutip\n",
    "threshold = 1e-16\n",
    "min_eigenvalues = np.array(min_eigenvalues)\n",
    "\n",
    "# Count points with y-component less than the threshold\n",
    "count = sum(1 for y in min_eigenvalues if y < threshold)\n",
    "\n",
    "# Highlight points with y-component less than the threshold in red\n",
    "colors = ['red' if y < threshold else 'C0' for y in min_eigenvalues]\n",
    "\n",
    "# Plot the minimum eigenvalue of the traced-out density matrix as a function of the eigenvalue of the Hamiltonian H\n",
    "plt.scatter(eigenvalues, np.abs(min_eigenvalues), color=colors, s=1)\n",
    "\n",
    "plt.xlabel('Eigenvalue of H')\n",
    "plt.ylabel(r\"$\\lambda_{\\text{min}}$\")\n",
    "plt.yscale(\"log\")\n",
    "plt.show()\n",
    "\n",
    "# Find indices of red points - qutip\n",
    "red_indices = [i for i, y in enumerate(min_eigenvalues) if y < threshold]\n",
    "print(f'Indices of red points: {red_indices}')\n",
    "\n",
    "red_eigenvectors = []\n",
    "\n",
    "# Print eigenvalues, RDM minimum eigenvalues, and scalar products of eigenvectors for red points\n",
    "for i,ind in enumerate(red_indices):\n",
    "    print(i, ind)\n",
    "    print(f'Eigenvalue: {eigenvalues[ind]}, rdm Minimum Eigenvalue: {min_eigenvalues[ind]}')\n",
    "    print(f'Eigenvector {ind}: rdm rank: {np.linalg.matrix_rank(min_rdms[i])}')\n",
    "    red_eigenvectors.append(eigenvectors[:, ind])\n",
    "\n",
    "for i in range(len(red_indices)):\n",
    "    for j in range(len(red_indices)):\n",
    "        idx1, idx2 = red_indices[i], red_indices[j]\n",
    "        dot_product = np.dot(eigenvectors[:, idx1], np.conj(eigenvectors[:, idx2]))\n",
    "        print(f\"Dot product between eigenvectors {idx1} and {idx2}: {dot_product}\")\n",
    "\n",
    "# Count entries of rdm_eigenvalues[i] - eigenvalues of the scarred rdms - that are non-zero\n",
    "counts = [np.sum(eigenvalues > 1e-16) for eigenvalues in rdm_eigenvalues]\n",
    "print(f'Counts of non-zero eigenvalues of the scarred rdms: {counts}')'''"
   ]
  },
  {
   "cell_type": "code",
   "execution_count": 45,
   "metadata": {},
   "outputs": [
    {
     "name": "stderr",
     "output_type": "stream",
     "text": [
      "  0%|          | 0/256 [00:00<?, ?it/s]"
     ]
    },
    {
     "name": "stdout",
     "output_type": "stream",
     "text": [
      "Nonzero elements in state vector (tol=1e-12): 128\n",
      "Number of nonzero elements of dm (tol=1e-12): 16351\n"
     ]
    },
    {
     "name": "stderr",
     "output_type": "stream",
     "text": [
      "  0%|          | 1/256 [00:00<01:11,  3.55it/s]"
     ]
    },
    {
     "name": "stdout",
     "output_type": "stream",
     "text": [
      "Nonzero elements in state vector (tol=1e-12): 128\n",
      "Number of nonzero elements of dm (tol=1e-12): 16384\n"
     ]
    },
    {
     "name": "stderr",
     "output_type": "stream",
     "text": [
      "  1%|          | 2/256 [00:00<01:09,  3.68it/s]"
     ]
    },
    {
     "name": "stdout",
     "output_type": "stream",
     "text": [
      "Nonzero elements in state vector (tol=1e-12): 128\n",
      "Number of nonzero elements of dm (tol=1e-12): 13468\n"
     ]
    },
    {
     "name": "stderr",
     "output_type": "stream",
     "text": [
      "  1%|          | 3/256 [00:00<01:07,  3.75it/s]"
     ]
    },
    {
     "name": "stdout",
     "output_type": "stream",
     "text": [
      "Nonzero elements in state vector (tol=1e-12): 128\n",
      "Number of nonzero elements of dm (tol=1e-12): 12648\n"
     ]
    },
    {
     "name": "stderr",
     "output_type": "stream",
     "text": [
      "  2%|▏         | 4/256 [00:01<01:06,  3.80it/s]"
     ]
    },
    {
     "name": "stdout",
     "output_type": "stream",
     "text": [
      "Nonzero elements in state vector (tol=1e-12): 128\n",
      "Number of nonzero elements of dm (tol=1e-12): 12776\n"
     ]
    },
    {
     "name": "stderr",
     "output_type": "stream",
     "text": [
      "  2%|▏         | 5/256 [00:01<01:06,  3.78it/s]"
     ]
    },
    {
     "name": "stdout",
     "output_type": "stream",
     "text": [
      "Nonzero elements in state vector (tol=1e-12): 128\n",
      "Number of nonzero elements of dm (tol=1e-12): 16384\n"
     ]
    },
    {
     "name": "stderr",
     "output_type": "stream",
     "text": [
      "  2%|▏         | 6/256 [00:01<01:06,  3.75it/s]"
     ]
    },
    {
     "name": "stdout",
     "output_type": "stream",
     "text": [
      "Nonzero elements in state vector (tol=1e-12): 128\n",
      "Number of nonzero elements of dm (tol=1e-12): 14616\n"
     ]
    },
    {
     "name": "stderr",
     "output_type": "stream",
     "text": [
      "  3%|▎         | 7/256 [00:01<01:06,  3.77it/s]"
     ]
    },
    {
     "name": "stdout",
     "output_type": "stream",
     "text": [
      "Nonzero elements in state vector (tol=1e-12): 128\n",
      "Number of nonzero elements of dm (tol=1e-12): 14304\n"
     ]
    },
    {
     "name": "stderr",
     "output_type": "stream",
     "text": [
      "  3%|▎         | 8/256 [00:02<01:07,  3.69it/s]"
     ]
    },
    {
     "name": "stdout",
     "output_type": "stream",
     "text": [
      "Nonzero elements in state vector (tol=1e-12): 128\n",
      "Number of nonzero elements of dm (tol=1e-12): 14700\n"
     ]
    },
    {
     "name": "stderr",
     "output_type": "stream",
     "text": [
      "  4%|▎         | 9/256 [00:02<01:05,  3.76it/s]"
     ]
    },
    {
     "name": "stdout",
     "output_type": "stream",
     "text": [
      "Nonzero elements in state vector (tol=1e-12): 128\n",
      "Number of nonzero elements of dm (tol=1e-12): 16384\n"
     ]
    },
    {
     "name": "stderr",
     "output_type": "stream",
     "text": [
      "  4%|▍         | 11/256 [00:02<00:58,  4.17it/s]"
     ]
    },
    {
     "name": "stdout",
     "output_type": "stream",
     "text": [
      "Nonzero elements in state vector (tol=1e-12): 110\n",
      "Number of nonzero elements of dm (tol=1e-12): 11492\n",
      "Nonzero elements in state vector (tol=1e-12): 110\n",
      "Number of nonzero elements of dm (tol=1e-12): 11668\n"
     ]
    },
    {
     "name": "stderr",
     "output_type": "stream",
     "text": [
      "  5%|▌         | 13/256 [00:03<00:54,  4.49it/s]"
     ]
    },
    {
     "name": "stdout",
     "output_type": "stream",
     "text": [
      "Nonzero elements in state vector (tol=1e-12): 110\n",
      "Number of nonzero elements of dm (tol=1e-12): 11556\n",
      "Nonzero elements in state vector (tol=1e-12): 118\n",
      "Number of nonzero elements of dm (tol=1e-12): 13524\n"
     ]
    },
    {
     "name": "stderr",
     "output_type": "stream",
     "text": [
      "  5%|▌         | 14/256 [00:03<01:05,  3.69it/s]"
     ]
    },
    {
     "name": "stdout",
     "output_type": "stream",
     "text": [
      "Nonzero elements in state vector (tol=1e-12): 118\n",
      "Number of nonzero elements of dm (tol=1e-12): 13785\n"
     ]
    },
    {
     "name": "stderr",
     "output_type": "stream",
     "text": [
      "  6%|▌         | 15/256 [00:03<01:08,  3.50it/s]"
     ]
    },
    {
     "name": "stdout",
     "output_type": "stream",
     "text": [
      "Nonzero elements in state vector (tol=1e-12): 118\n",
      "Number of nonzero elements of dm (tol=1e-12): 13756\n"
     ]
    },
    {
     "name": "stderr",
     "output_type": "stream",
     "text": [
      "  6%|▋         | 16/256 [00:04<01:09,  3.45it/s]"
     ]
    },
    {
     "name": "stdout",
     "output_type": "stream",
     "text": [
      "Nonzero elements in state vector (tol=1e-12): 108\n",
      "Number of nonzero elements of dm (tol=1e-12): 11536\n"
     ]
    },
    {
     "name": "stderr",
     "output_type": "stream",
     "text": [
      "  7%|▋         | 17/256 [00:04<01:11,  3.34it/s]"
     ]
    },
    {
     "name": "stdout",
     "output_type": "stream",
     "text": [
      "Nonzero elements in state vector (tol=1e-12): 108\n",
      "Number of nonzero elements of dm (tol=1e-12): 11552\n"
     ]
    },
    {
     "name": "stderr",
     "output_type": "stream",
     "text": [
      "  7%|▋         | 18/256 [00:04<01:07,  3.52it/s]"
     ]
    },
    {
     "name": "stdout",
     "output_type": "stream",
     "text": [
      "Nonzero elements in state vector (tol=1e-12): 58\n",
      "Number of nonzero elements of dm (tol=1e-12): 3364\n",
      "Nonzero elements in state vector (tol=1e-12): 128\n",
      "Number of nonzero elements of dm (tol=1e-12): 16384\n"
     ]
    },
    {
     "name": "stderr",
     "output_type": "stream",
     "text": [
      "  8%|▊         | 21/256 [00:05<00:49,  4.71it/s]"
     ]
    },
    {
     "name": "stdout",
     "output_type": "stream",
     "text": [
      "Nonzero elements in state vector (tol=1e-12): 72\n",
      "Number of nonzero elements of dm (tol=1e-12): 5156\n",
      "Nonzero elements in state vector (tol=1e-12): 72\n",
      "Number of nonzero elements of dm (tol=1e-12): 5020\n"
     ]
    },
    {
     "name": "stderr",
     "output_type": "stream",
     "text": [
      "  9%|▉         | 23/256 [00:05<00:40,  5.79it/s]"
     ]
    },
    {
     "name": "stdout",
     "output_type": "stream",
     "text": [
      "Nonzero elements in state vector (tol=1e-12): 72\n",
      "Number of nonzero elements of dm (tol=1e-12): 5092\n",
      "Nonzero elements in state vector (tol=1e-12): 118\n",
      "Number of nonzero elements of dm (tol=1e-12): 13363\n"
     ]
    },
    {
     "name": "stderr",
     "output_type": "stream",
     "text": [
      "  9%|▉         | 24/256 [00:06<01:03,  3.65it/s]"
     ]
    },
    {
     "name": "stdout",
     "output_type": "stream",
     "text": [
      "Nonzero elements in state vector (tol=1e-12): 118\n",
      "Number of nonzero elements of dm (tol=1e-12): 11936\n"
     ]
    },
    {
     "name": "stderr",
     "output_type": "stream",
     "text": [
      " 10%|▉         | 25/256 [00:06<01:17,  3.00it/s]"
     ]
    },
    {
     "name": "stdout",
     "output_type": "stream",
     "text": [
      "Nonzero elements in state vector (tol=1e-12): 118\n",
      "Number of nonzero elements of dm (tol=1e-12): 12496\n"
     ]
    },
    {
     "name": "stderr",
     "output_type": "stream",
     "text": [
      " 11%|█         | 28/256 [00:07<00:55,  4.11it/s]"
     ]
    },
    {
     "name": "stdout",
     "output_type": "stream",
     "text": [
      "Nonzero elements in state vector (tol=1e-12): 48\n",
      "Number of nonzero elements of dm (tol=1e-12): 2304\n",
      "Nonzero elements in state vector (tol=1e-12): 48\n",
      "Number of nonzero elements of dm (tol=1e-12): 2160\n",
      "Nonzero elements in state vector (tol=1e-12): 128\n",
      "Number of nonzero elements of dm (tol=1e-12): 16384\n"
     ]
    },
    {
     "name": "stderr",
     "output_type": "stream",
     "text": [
      " 11%|█▏        | 29/256 [00:07<00:59,  3.82it/s]"
     ]
    },
    {
     "name": "stdout",
     "output_type": "stream",
     "text": [
      "Nonzero elements in state vector (tol=1e-12): 118\n",
      "Number of nonzero elements of dm (tol=1e-12): 11272\n"
     ]
    },
    {
     "name": "stderr",
     "output_type": "stream",
     "text": [
      " 12%|█▏        | 30/256 [00:07<01:05,  3.43it/s]"
     ]
    },
    {
     "name": "stdout",
     "output_type": "stream",
     "text": [
      "Nonzero elements in state vector (tol=1e-12): 118\n",
      "Number of nonzero elements of dm (tol=1e-12): 12864\n"
     ]
    },
    {
     "name": "stderr",
     "output_type": "stream",
     "text": [
      " 12%|█▏        | 31/256 [00:08<01:09,  3.23it/s]"
     ]
    },
    {
     "name": "stdout",
     "output_type": "stream",
     "text": [
      "Nonzero elements in state vector (tol=1e-12): 118\n",
      "Number of nonzero elements of dm (tol=1e-12): 13539\n"
     ]
    },
    {
     "name": "stderr",
     "output_type": "stream",
     "text": [
      " 12%|█▎        | 32/256 [00:08<01:12,  3.09it/s]"
     ]
    },
    {
     "name": "stdout",
     "output_type": "stream",
     "text": [
      "Nonzero elements in state vector (tol=1e-12): 108\n",
      "Number of nonzero elements of dm (tol=1e-12): 11648\n"
     ]
    },
    {
     "name": "stderr",
     "output_type": "stream",
     "text": [
      " 13%|█▎        | 33/256 [00:08<01:10,  3.16it/s]"
     ]
    },
    {
     "name": "stdout",
     "output_type": "stream",
     "text": [
      "Nonzero elements in state vector (tol=1e-12): 108\n",
      "Number of nonzero elements of dm (tol=1e-12): 11648\n"
     ]
    },
    {
     "name": "stderr",
     "output_type": "stream",
     "text": [
      " 13%|█▎        | 34/256 [00:09<01:11,  3.12it/s]"
     ]
    },
    {
     "name": "stdout",
     "output_type": "stream",
     "text": [
      "Nonzero elements in state vector (tol=1e-12): 128\n",
      "Number of nonzero elements of dm (tol=1e-12): 16364\n"
     ]
    },
    {
     "name": "stderr",
     "output_type": "stream",
     "text": [
      " 14%|█▎        | 35/256 [00:09<01:21,  2.72it/s]"
     ]
    },
    {
     "name": "stdout",
     "output_type": "stream",
     "text": [
      "Nonzero elements in state vector (tol=1e-12): 128\n",
      "Number of nonzero elements of dm (tol=1e-12): 16304\n"
     ]
    },
    {
     "name": "stderr",
     "output_type": "stream",
     "text": [
      " 14%|█▍        | 36/256 [00:10<01:28,  2.47it/s]"
     ]
    },
    {
     "name": "stdout",
     "output_type": "stream",
     "text": [
      "Nonzero elements in state vector (tol=1e-12): 128\n",
      "Number of nonzero elements of dm (tol=1e-12): 16284\n"
     ]
    },
    {
     "name": "stderr",
     "output_type": "stream",
     "text": [
      " 14%|█▍        | 37/256 [00:10<01:25,  2.56it/s]"
     ]
    },
    {
     "name": "stdout",
     "output_type": "stream",
     "text": [
      "Nonzero elements in state vector (tol=1e-12): 110\n",
      "Number of nonzero elements of dm (tol=1e-12): 12100\n"
     ]
    },
    {
     "name": "stderr",
     "output_type": "stream",
     "text": [
      " 15%|█▍        | 38/256 [00:10<01:15,  2.89it/s]"
     ]
    },
    {
     "name": "stdout",
     "output_type": "stream",
     "text": [
      "Nonzero elements in state vector (tol=1e-12): 110\n",
      "Number of nonzero elements of dm (tol=1e-12): 11312\n"
     ]
    },
    {
     "name": "stderr",
     "output_type": "stream",
     "text": [
      " 15%|█▌        | 39/256 [00:11<01:06,  3.25it/s]"
     ]
    },
    {
     "name": "stdout",
     "output_type": "stream",
     "text": [
      "Nonzero elements in state vector (tol=1e-12): 110\n",
      "Number of nonzero elements of dm (tol=1e-12): 12084\n"
     ]
    },
    {
     "name": "stderr",
     "output_type": "stream",
     "text": [
      " 16%|█▌        | 40/256 [00:11<01:11,  3.01it/s]"
     ]
    },
    {
     "name": "stdout",
     "output_type": "stream",
     "text": [
      "Nonzero elements in state vector (tol=1e-12): 128\n",
      "Number of nonzero elements of dm (tol=1e-12): 16364\n"
     ]
    },
    {
     "name": "stderr",
     "output_type": "stream",
     "text": [
      " 16%|█▌        | 41/256 [00:11<01:10,  3.06it/s]"
     ]
    },
    {
     "name": "stdout",
     "output_type": "stream",
     "text": [
      "Nonzero elements in state vector (tol=1e-12): 128\n",
      "Number of nonzero elements of dm (tol=1e-12): 16292\n"
     ]
    },
    {
     "name": "stderr",
     "output_type": "stream",
     "text": [
      " 16%|█▋        | 42/256 [00:12<01:11,  2.99it/s]"
     ]
    },
    {
     "name": "stdout",
     "output_type": "stream",
     "text": [
      "Nonzero elements in state vector (tol=1e-12): 128\n",
      "Number of nonzero elements of dm (tol=1e-12): 16260\n"
     ]
    },
    {
     "name": "stderr",
     "output_type": "stream",
     "text": [
      " 17%|█▋        | 43/256 [00:12<01:10,  3.04it/s]"
     ]
    },
    {
     "name": "stdout",
     "output_type": "stream",
     "text": [
      "Nonzero elements in state vector (tol=1e-12): 128\n",
      "Number of nonzero elements of dm (tol=1e-12): 16384\n"
     ]
    },
    {
     "name": "stderr",
     "output_type": "stream",
     "text": [
      " 18%|█▊        | 45/256 [00:12<00:59,  3.53it/s]"
     ]
    },
    {
     "name": "stdout",
     "output_type": "stream",
     "text": [
      "Nonzero elements in state vector (tol=1e-12): 96\n",
      "Number of nonzero elements of dm (tol=1e-12): 9216\n",
      "Nonzero elements in state vector (tol=1e-12): 96\n"
     ]
    },
    {
     "name": "stderr",
     "output_type": "stream",
     "text": [
      " 18%|█▊        | 46/256 [00:13<00:53,  3.91it/s]"
     ]
    },
    {
     "name": "stdout",
     "output_type": "stream",
     "text": [
      "Number of nonzero elements of dm (tol=1e-12): 9212\n",
      "Nonzero elements in state vector (tol=1e-12): 96\n",
      "Number of nonzero elements of dm (tol=1e-12): 9216\n"
     ]
    },
    {
     "name": "stderr",
     "output_type": "stream",
     "text": [
      " 19%|█▉        | 48/256 [00:13<00:49,  4.19it/s]"
     ]
    },
    {
     "name": "stdout",
     "output_type": "stream",
     "text": [
      "Nonzero elements in state vector (tol=1e-12): 96\n",
      "Number of nonzero elements of dm (tol=1e-12): 9200\n",
      "Nonzero elements in state vector (tol=1e-12): 96\n",
      "Number of nonzero elements of dm (tol=1e-12): 9216\n"
     ]
    },
    {
     "name": "stderr",
     "output_type": "stream",
     "text": [
      " 19%|█▉        | 49/256 [00:13<00:49,  4.21it/s]"
     ]
    },
    {
     "name": "stdout",
     "output_type": "stream",
     "text": [
      "Nonzero elements in state vector (tol=1e-12): 128\n",
      "Number of nonzero elements of dm (tol=1e-12): 16140\n"
     ]
    },
    {
     "name": "stderr",
     "output_type": "stream",
     "text": [
      " 20%|█▉        | 50/256 [00:14<01:02,  3.28it/s]"
     ]
    },
    {
     "name": "stdout",
     "output_type": "stream",
     "text": [
      "Nonzero elements in state vector (tol=1e-12): 128\n",
      "Number of nonzero elements of dm (tol=1e-12): 16204\n"
     ]
    },
    {
     "name": "stderr",
     "output_type": "stream",
     "text": [
      " 20%|█▉        | 51/256 [00:14<01:09,  2.94it/s]"
     ]
    },
    {
     "name": "stdout",
     "output_type": "stream",
     "text": [
      "Nonzero elements in state vector (tol=1e-12): 128\n",
      "Number of nonzero elements of dm (tol=1e-12): 16000\n"
     ]
    },
    {
     "name": "stderr",
     "output_type": "stream",
     "text": [
      " 20%|██        | 52/256 [00:15<01:09,  2.94it/s]"
     ]
    },
    {
     "name": "stdout",
     "output_type": "stream",
     "text": [
      "Nonzero elements in state vector (tol=1e-12): 128\n",
      "Number of nonzero elements of dm (tol=1e-12): 16384\n"
     ]
    },
    {
     "name": "stderr",
     "output_type": "stream",
     "text": [
      " 21%|██        | 53/256 [00:15<01:13,  2.75it/s]"
     ]
    },
    {
     "name": "stdout",
     "output_type": "stream",
     "text": [
      "Nonzero elements in state vector (tol=1e-12): 128\n",
      "Number of nonzero elements of dm (tol=1e-12): 16276\n"
     ]
    },
    {
     "name": "stderr",
     "output_type": "stream",
     "text": [
      " 21%|██        | 54/256 [00:15<01:12,  2.80it/s]"
     ]
    },
    {
     "name": "stdout",
     "output_type": "stream",
     "text": [
      "Nonzero elements in state vector (tol=1e-12): 128\n",
      "Number of nonzero elements of dm (tol=1e-12): 16292\n"
     ]
    },
    {
     "name": "stderr",
     "output_type": "stream",
     "text": [
      " 21%|██▏       | 55/256 [00:16<01:14,  2.71it/s]"
     ]
    },
    {
     "name": "stdout",
     "output_type": "stream",
     "text": [
      "Nonzero elements in state vector (tol=1e-12): 128\n",
      "Number of nonzero elements of dm (tol=1e-12): 16384\n"
     ]
    },
    {
     "name": "stderr",
     "output_type": "stream",
     "text": [
      " 22%|██▏       | 56/256 [00:16<01:16,  2.62it/s]"
     ]
    },
    {
     "name": "stdout",
     "output_type": "stream",
     "text": [
      "Nonzero elements in state vector (tol=1e-12): 128\n",
      "Number of nonzero elements of dm (tol=1e-12): 16384\n"
     ]
    },
    {
     "name": "stderr",
     "output_type": "stream",
     "text": [
      " 22%|██▏       | 57/256 [00:17<01:19,  2.50it/s]"
     ]
    },
    {
     "name": "stdout",
     "output_type": "stream",
     "text": [
      "Nonzero elements in state vector (tol=1e-12): 128\n",
      "Number of nonzero elements of dm (tol=1e-12): 16384\n"
     ]
    },
    {
     "name": "stderr",
     "output_type": "stream",
     "text": [
      " 23%|██▎       | 58/256 [00:17<01:23,  2.38it/s]"
     ]
    },
    {
     "name": "stdout",
     "output_type": "stream",
     "text": [
      "Nonzero elements in state vector (tol=1e-12): 96\n",
      "Number of nonzero elements of dm (tol=1e-12): 8848\n"
     ]
    },
    {
     "name": "stderr",
     "output_type": "stream",
     "text": [
      " 23%|██▎       | 59/256 [00:17<01:19,  2.47it/s]"
     ]
    },
    {
     "name": "stdout",
     "output_type": "stream",
     "text": [
      "Nonzero elements in state vector (tol=1e-12): 96\n",
      "Number of nonzero elements of dm (tol=1e-12): 9212\n"
     ]
    },
    {
     "name": "stderr",
     "output_type": "stream",
     "text": [
      " 23%|██▎       | 60/256 [00:18<01:10,  2.76it/s]"
     ]
    },
    {
     "name": "stdout",
     "output_type": "stream",
     "text": [
      "Nonzero elements in state vector (tol=1e-12): 96\n",
      "Number of nonzero elements of dm (tol=1e-12): 9212\n"
     ]
    },
    {
     "name": "stderr",
     "output_type": "stream",
     "text": [
      " 24%|██▍       | 62/256 [00:18<01:00,  3.18it/s]"
     ]
    },
    {
     "name": "stdout",
     "output_type": "stream",
     "text": [
      "Nonzero elements in state vector (tol=1e-12): 96\n",
      "Number of nonzero elements of dm (tol=1e-12): 9156\n",
      "Nonzero elements in state vector (tol=1e-12): 96\n",
      "Number of nonzero elements of dm (tol=1e-12): 9152\n"
     ]
    },
    {
     "name": "stderr",
     "output_type": "stream",
     "text": [
      " 25%|██▍       | 63/256 [00:18<00:54,  3.53it/s]"
     ]
    },
    {
     "name": "stdout",
     "output_type": "stream",
     "text": [
      "Nonzero elements in state vector (tol=1e-12): 128\n",
      "Number of nonzero elements of dm (tol=1e-12): 16384\n"
     ]
    },
    {
     "name": "stderr",
     "output_type": "stream",
     "text": [
      " 25%|██▌       | 64/256 [00:19<01:04,  2.96it/s]"
     ]
    },
    {
     "name": "stdout",
     "output_type": "stream",
     "text": [
      "Nonzero elements in state vector (tol=1e-12): 128\n",
      "Number of nonzero elements of dm (tol=1e-12): 16108\n"
     ]
    },
    {
     "name": "stderr",
     "output_type": "stream",
     "text": [
      " 25%|██▌       | 65/256 [00:19<01:09,  2.73it/s]"
     ]
    },
    {
     "name": "stdout",
     "output_type": "stream",
     "text": [
      "Nonzero elements in state vector (tol=1e-12): 128\n",
      "Number of nonzero elements of dm (tol=1e-12): 16272\n"
     ]
    },
    {
     "name": "stderr",
     "output_type": "stream",
     "text": [
      " 26%|██▌       | 66/256 [00:20<01:09,  2.73it/s]"
     ]
    },
    {
     "name": "stdout",
     "output_type": "stream",
     "text": [
      "Nonzero elements in state vector (tol=1e-12): 128\n",
      "Number of nonzero elements of dm (tol=1e-12): 16304\n"
     ]
    },
    {
     "name": "stderr",
     "output_type": "stream",
     "text": [
      " 26%|██▌       | 67/256 [00:20<01:17,  2.44it/s]"
     ]
    },
    {
     "name": "stdout",
     "output_type": "stream",
     "text": [
      "Nonzero elements in state vector (tol=1e-12): 128\n",
      "Number of nonzero elements of dm (tol=1e-12): 16384\n"
     ]
    },
    {
     "name": "stderr",
     "output_type": "stream",
     "text": [
      " 27%|██▋       | 68/256 [00:21<01:17,  2.43it/s]"
     ]
    },
    {
     "name": "stdout",
     "output_type": "stream",
     "text": [
      "Nonzero elements in state vector (tol=1e-12): 128\n",
      "Number of nonzero elements of dm (tol=1e-12): 16332\n"
     ]
    },
    {
     "name": "stderr",
     "output_type": "stream",
     "text": [
      " 27%|██▋       | 70/256 [00:21<01:07,  2.74it/s]"
     ]
    },
    {
     "name": "stdout",
     "output_type": "stream",
     "text": [
      "Nonzero elements in state vector (tol=1e-12): 96\n",
      "Number of nonzero elements of dm (tol=1e-12): 9056\n",
      "Nonzero elements in state vector (tol=1e-12): 96\n",
      "Number of nonzero elements of dm (tol=1e-12): 9216\n"
     ]
    },
    {
     "name": "stderr",
     "output_type": "stream",
     "text": [
      " 28%|██▊       | 71/256 [00:21<00:55,  3.36it/s]"
     ]
    },
    {
     "name": "stdout",
     "output_type": "stream",
     "text": [
      "Nonzero elements in state vector (tol=1e-12): 96\n",
      "Number of nonzero elements of dm (tol=1e-12): 9216\n"
     ]
    },
    {
     "name": "stderr",
     "output_type": "stream",
     "text": [
      " 28%|██▊       | 72/256 [00:22<00:49,  3.68it/s]"
     ]
    },
    {
     "name": "stdout",
     "output_type": "stream",
     "text": [
      "Nonzero elements in state vector (tol=1e-12): 96\n",
      "Number of nonzero elements of dm (tol=1e-12): 9216\n"
     ]
    },
    {
     "name": "stderr",
     "output_type": "stream",
     "text": [
      " 29%|██▊       | 73/256 [00:22<00:47,  3.85it/s]"
     ]
    },
    {
     "name": "stdout",
     "output_type": "stream",
     "text": [
      "Nonzero elements in state vector (tol=1e-12): 96\n",
      "Number of nonzero elements of dm (tol=1e-12): 9216\n"
     ]
    },
    {
     "name": "stderr",
     "output_type": "stream",
     "text": [
      " 29%|██▉       | 74/256 [00:22<00:44,  4.10it/s]"
     ]
    },
    {
     "name": "stdout",
     "output_type": "stream",
     "text": [
      "Nonzero elements in state vector (tol=1e-12): 128\n",
      "Number of nonzero elements of dm (tol=1e-12): 16384\n"
     ]
    },
    {
     "name": "stderr",
     "output_type": "stream",
     "text": [
      " 29%|██▉       | 75/256 [00:23<00:53,  3.40it/s]"
     ]
    },
    {
     "name": "stdout",
     "output_type": "stream",
     "text": [
      "Nonzero elements in state vector (tol=1e-12): 128\n",
      "Number of nonzero elements of dm (tol=1e-12): 16384\n"
     ]
    },
    {
     "name": "stderr",
     "output_type": "stream",
     "text": [
      " 30%|██▉       | 76/256 [00:23<00:55,  3.22it/s]"
     ]
    },
    {
     "name": "stdout",
     "output_type": "stream",
     "text": [
      "Nonzero elements in state vector (tol=1e-12): 128\n",
      "Number of nonzero elements of dm (tol=1e-12): 16364\n"
     ]
    },
    {
     "name": "stderr",
     "output_type": "stream",
     "text": [
      " 30%|███       | 77/256 [00:23<01:01,  2.92it/s]"
     ]
    },
    {
     "name": "stdout",
     "output_type": "stream",
     "text": [
      "Nonzero elements in state vector (tol=1e-12): 128\n",
      "Number of nonzero elements of dm (tol=1e-12): 16300\n"
     ]
    },
    {
     "name": "stderr",
     "output_type": "stream",
     "text": [
      " 30%|███       | 78/256 [00:24<00:59,  3.02it/s]"
     ]
    },
    {
     "name": "stdout",
     "output_type": "stream",
     "text": [
      "Nonzero elements in state vector (tol=1e-12): 128\n",
      "Number of nonzero elements of dm (tol=1e-12): 16384\n"
     ]
    },
    {
     "name": "stderr",
     "output_type": "stream",
     "text": [
      " 31%|███       | 79/256 [00:24<00:57,  3.07it/s]"
     ]
    },
    {
     "name": "stdout",
     "output_type": "stream",
     "text": [
      "Nonzero elements in state vector (tol=1e-12): 128\n",
      "Number of nonzero elements of dm (tol=1e-12): 16280\n"
     ]
    },
    {
     "name": "stderr",
     "output_type": "stream",
     "text": [
      " 31%|███▏      | 80/256 [00:24<01:02,  2.79it/s]"
     ]
    },
    {
     "name": "stdout",
     "output_type": "stream",
     "text": [
      "Nonzero elements in state vector (tol=1e-12): 128\n",
      "Number of nonzero elements of dm (tol=1e-12): 16252\n"
     ]
    },
    {
     "name": "stderr",
     "output_type": "stream",
     "text": [
      " 32%|███▏      | 81/256 [00:25<01:05,  2.69it/s]"
     ]
    },
    {
     "name": "stdout",
     "output_type": "stream",
     "text": [
      "Nonzero elements in state vector (tol=1e-12): 128\n",
      "Number of nonzero elements of dm (tol=1e-12): 16320\n"
     ]
    },
    {
     "name": "stderr",
     "output_type": "stream",
     "text": [
      " 32%|███▏      | 82/256 [00:25<01:03,  2.74it/s]"
     ]
    },
    {
     "name": "stdout",
     "output_type": "stream",
     "text": [
      "Nonzero elements in state vector (tol=1e-12): 110\n",
      "Number of nonzero elements of dm (tol=1e-12): 12052\n"
     ]
    },
    {
     "name": "stderr",
     "output_type": "stream",
     "text": [
      " 32%|███▏      | 83/256 [00:25<01:00,  2.87it/s]"
     ]
    },
    {
     "name": "stdout",
     "output_type": "stream",
     "text": [
      "Nonzero elements in state vector (tol=1e-12): 110\n",
      "Number of nonzero elements of dm (tol=1e-12): 12100\n"
     ]
    },
    {
     "name": "stderr",
     "output_type": "stream",
     "text": [
      " 33%|███▎      | 84/256 [00:26<00:59,  2.90it/s]"
     ]
    },
    {
     "name": "stdout",
     "output_type": "stream",
     "text": [
      "Nonzero elements in state vector (tol=1e-12): 110\n",
      "Number of nonzero elements of dm (tol=1e-12): 12068\n"
     ]
    },
    {
     "name": "stderr",
     "output_type": "stream",
     "text": [
      " 34%|███▎      | 86/256 [00:26<00:46,  3.64it/s]"
     ]
    },
    {
     "name": "stdout",
     "output_type": "stream",
     "text": [
      "Nonzero elements in state vector (tol=1e-12): 96\n",
      "Number of nonzero elements of dm (tol=1e-12): 9216\n",
      "Nonzero elements in state vector (tol=1e-12): 96\n",
      "Number of nonzero elements of dm (tol=1e-12): 9216\n"
     ]
    },
    {
     "name": "stderr",
     "output_type": "stream",
     "text": [
      " 34%|███▍      | 88/256 [00:27<00:38,  4.34it/s]"
     ]
    },
    {
     "name": "stdout",
     "output_type": "stream",
     "text": [
      "Nonzero elements in state vector (tol=1e-12): 96\n",
      "Number of nonzero elements of dm (tol=1e-12): 9212\n"
     ]
    },
    {
     "name": "stderr",
     "output_type": "stream",
     "text": [
      " 35%|███▍      | 89/256 [00:27<00:34,  4.87it/s]"
     ]
    },
    {
     "name": "stdout",
     "output_type": "stream",
     "text": [
      "Nonzero elements in state vector (tol=1e-12): 96\n",
      "Number of nonzero elements of dm (tol=1e-12): 9192\n",
      "Nonzero elements in state vector (tol=1e-12): 96\n",
      "Number of nonzero elements of dm (tol=1e-12): 9216\n"
     ]
    },
    {
     "name": "stderr",
     "output_type": "stream",
     "text": [
      " 35%|███▌      | 90/256 [00:27<00:31,  5.28it/s]"
     ]
    },
    {
     "name": "stdout",
     "output_type": "stream",
     "text": [
      "Nonzero elements in state vector (tol=1e-12): 118\n",
      "Number of nonzero elements of dm (tol=1e-12): 13924\n"
     ]
    },
    {
     "name": "stderr",
     "output_type": "stream",
     "text": [
      " 36%|███▌      | 91/256 [00:27<00:36,  4.58it/s]"
     ]
    },
    {
     "name": "stdout",
     "output_type": "stream",
     "text": [
      "Nonzero elements in state vector (tol=1e-12): 118\n",
      "Number of nonzero elements of dm (tol=1e-12): 13924\n"
     ]
    },
    {
     "name": "stderr",
     "output_type": "stream",
     "text": [
      " 36%|███▌      | 92/256 [00:27<00:40,  4.06it/s]"
     ]
    },
    {
     "name": "stdout",
     "output_type": "stream",
     "text": [
      "Nonzero elements in state vector (tol=1e-12): 118\n",
      "Number of nonzero elements of dm (tol=1e-12): 13924\n"
     ]
    },
    {
     "name": "stderr",
     "output_type": "stream",
     "text": [
      " 36%|███▋      | 93/256 [00:28<00:40,  4.06it/s]"
     ]
    },
    {
     "name": "stdout",
     "output_type": "stream",
     "text": [
      "Nonzero elements in state vector (tol=1e-12): 108\n",
      "Number of nonzero elements of dm (tol=1e-12): 11664\n"
     ]
    },
    {
     "name": "stderr",
     "output_type": "stream",
     "text": [
      " 37%|███▋      | 94/256 [00:28<00:42,  3.81it/s]"
     ]
    },
    {
     "name": "stdout",
     "output_type": "stream",
     "text": [
      "Nonzero elements in state vector (tol=1e-12): 108\n",
      "Number of nonzero elements of dm (tol=1e-12): 11664\n"
     ]
    },
    {
     "name": "stderr",
     "output_type": "stream",
     "text": [
      " 37%|███▋      | 95/256 [00:29<00:57,  2.80it/s]"
     ]
    },
    {
     "name": "stdout",
     "output_type": "stream",
     "text": [
      "Nonzero elements in state vector (tol=1e-12): 58\n",
      "Number of nonzero elements of dm (tol=1e-12): 3364\n"
     ]
    },
    {
     "name": "stderr",
     "output_type": "stream",
     "text": [
      " 38%|███▊      | 96/256 [00:29<00:54,  2.92it/s]"
     ]
    },
    {
     "name": "stdout",
     "output_type": "stream",
     "text": [
      "Nonzero elements in state vector (tol=1e-12): 128\n",
      "Number of nonzero elements of dm (tol=1e-12): 16352\n"
     ]
    },
    {
     "name": "stderr",
     "output_type": "stream",
     "text": [
      " 38%|███▊      | 97/256 [00:30<01:17,  2.04it/s]"
     ]
    },
    {
     "name": "stdout",
     "output_type": "stream",
     "text": [
      "Nonzero elements in state vector (tol=1e-12): 128\n",
      "Number of nonzero elements of dm (tol=1e-12): 15768\n"
     ]
    },
    {
     "name": "stderr",
     "output_type": "stream",
     "text": [
      " 38%|███▊      | 98/256 [00:31<01:40,  1.58it/s]"
     ]
    },
    {
     "name": "stdout",
     "output_type": "stream",
     "text": [
      "Nonzero elements in state vector (tol=1e-12): 128\n",
      "Number of nonzero elements of dm (tol=1e-12): 16384\n"
     ]
    },
    {
     "name": "stderr",
     "output_type": "stream",
     "text": [
      " 39%|███▉      | 100/256 [00:31<01:16,  2.05it/s]"
     ]
    },
    {
     "name": "stdout",
     "output_type": "stream",
     "text": [
      "Nonzero elements in state vector (tol=1e-12): 72\n",
      "Number of nonzero elements of dm (tol=1e-12): 5184\n",
      "Nonzero elements in state vector (tol=1e-12): 72\n",
      "Number of nonzero elements of dm (tol=1e-12): 5184\n"
     ]
    },
    {
     "name": "stderr",
     "output_type": "stream",
     "text": [
      " 40%|███▉      | 102/256 [00:32<00:48,  3.19it/s]"
     ]
    },
    {
     "name": "stdout",
     "output_type": "stream",
     "text": [
      "Nonzero elements in state vector (tol=1e-12): 72\n",
      "Number of nonzero elements of dm (tol=1e-12): 5184\n",
      "Nonzero elements in state vector (tol=1e-12): 128\n",
      "Number of nonzero elements of dm (tol=1e-12): 16384\n"
     ]
    },
    {
     "name": "stderr",
     "output_type": "stream",
     "text": [
      " 40%|████      | 103/256 [00:32<00:53,  2.86it/s]"
     ]
    },
    {
     "name": "stdout",
     "output_type": "stream",
     "text": [
      "Nonzero elements in state vector (tol=1e-12): 128\n",
      "Number of nonzero elements of dm (tol=1e-12): 16276\n"
     ]
    },
    {
     "name": "stderr",
     "output_type": "stream",
     "text": [
      " 41%|████      | 104/256 [00:33<00:55,  2.76it/s]"
     ]
    },
    {
     "name": "stdout",
     "output_type": "stream",
     "text": [
      "Nonzero elements in state vector (tol=1e-12): 128\n",
      "Number of nonzero elements of dm (tol=1e-12): 16316\n"
     ]
    },
    {
     "name": "stderr",
     "output_type": "stream",
     "text": [
      " 41%|████      | 105/256 [00:33<00:57,  2.63it/s]"
     ]
    },
    {
     "name": "stdout",
     "output_type": "stream",
     "text": [
      "Nonzero elements in state vector (tol=1e-12): 128\n",
      "Number of nonzero elements of dm (tol=1e-12): 16332\n"
     ]
    },
    {
     "name": "stderr",
     "output_type": "stream",
     "text": [
      " 43%|████▎     | 109/256 [00:34<00:28,  5.21it/s]"
     ]
    },
    {
     "name": "stdout",
     "output_type": "stream",
     "text": [
      "Nonzero elements in state vector (tol=1e-12): 48\n",
      "Number of nonzero elements of dm (tol=1e-12): 2304\n",
      "Nonzero elements in state vector (tol=1e-12): 48\n",
      "Number of nonzero elements of dm (tol=1e-12): 2304\n",
      "Nonzero elements in state vector (tol=1e-12): 48\n",
      "Number of nonzero elements of dm (tol=1e-12): 2304\n",
      "Nonzero elements in state vector (tol=1e-12): 118\n",
      "Number of nonzero elements of dm (tol=1e-12): 13876\n"
     ]
    },
    {
     "name": "stderr",
     "output_type": "stream",
     "text": [
      " 43%|████▎     | 110/256 [00:34<00:31,  4.66it/s]"
     ]
    },
    {
     "name": "stdout",
     "output_type": "stream",
     "text": [
      "Nonzero elements in state vector (tol=1e-12): 118\n",
      "Number of nonzero elements of dm (tol=1e-12): 13924\n"
     ]
    },
    {
     "name": "stderr",
     "output_type": "stream",
     "text": [
      " 43%|████▎     | 111/256 [00:34<00:36,  4.00it/s]"
     ]
    },
    {
     "name": "stdout",
     "output_type": "stream",
     "text": [
      "Nonzero elements in state vector (tol=1e-12): 118\n",
      "Number of nonzero elements of dm (tol=1e-12): 11392\n"
     ]
    },
    {
     "name": "stderr",
     "output_type": "stream",
     "text": [
      " 44%|████▍     | 112/256 [00:35<00:44,  3.25it/s]"
     ]
    },
    {
     "name": "stdout",
     "output_type": "stream",
     "text": [
      "Nonzero elements in state vector (tol=1e-12): 110\n",
      "Number of nonzero elements of dm (tol=1e-12): 12096\n"
     ]
    },
    {
     "name": "stderr",
     "output_type": "stream",
     "text": [
      " 44%|████▍     | 113/256 [00:35<00:41,  3.47it/s]"
     ]
    },
    {
     "name": "stdout",
     "output_type": "stream",
     "text": [
      "Nonzero elements in state vector (tol=1e-12): 110\n",
      "Number of nonzero elements of dm (tol=1e-12): 12100\n"
     ]
    },
    {
     "name": "stderr",
     "output_type": "stream",
     "text": [
      " 45%|████▍     | 114/256 [00:35<00:42,  3.37it/s]"
     ]
    },
    {
     "name": "stdout",
     "output_type": "stream",
     "text": [
      "Nonzero elements in state vector (tol=1e-12): 110\n",
      "Number of nonzero elements of dm (tol=1e-12): 12100\n"
     ]
    },
    {
     "name": "stderr",
     "output_type": "stream",
     "text": [
      " 45%|████▍     | 115/256 [00:35<00:40,  3.49it/s]"
     ]
    },
    {
     "name": "stdout",
     "output_type": "stream",
     "text": [
      "Nonzero elements in state vector (tol=1e-12): 128\n",
      "Number of nonzero elements of dm (tol=1e-12): 16384\n"
     ]
    },
    {
     "name": "stderr",
     "output_type": "stream",
     "text": [
      " 45%|████▌     | 116/256 [00:36<00:44,  3.14it/s]"
     ]
    },
    {
     "name": "stdout",
     "output_type": "stream",
     "text": [
      "Nonzero elements in state vector (tol=1e-12): 126\n",
      "Number of nonzero elements of dm (tol=1e-12): 15870\n"
     ]
    },
    {
     "name": "stderr",
     "output_type": "stream",
     "text": [
      " 46%|████▌     | 117/256 [00:36<00:49,  2.79it/s]"
     ]
    },
    {
     "name": "stdout",
     "output_type": "stream",
     "text": [
      "Nonzero elements in state vector (tol=1e-12): 126\n",
      "Number of nonzero elements of dm (tol=1e-12): 15875\n"
     ]
    },
    {
     "name": "stderr",
     "output_type": "stream",
     "text": [
      " 46%|████▌     | 118/256 [00:37<00:49,  2.77it/s]"
     ]
    },
    {
     "name": "stdout",
     "output_type": "stream",
     "text": [
      "Nonzero elements in state vector (tol=1e-12): 126\n",
      "Number of nonzero elements of dm (tol=1e-12): 15831\n"
     ]
    },
    {
     "name": "stderr",
     "output_type": "stream",
     "text": [
      " 46%|████▋     | 119/256 [00:37<00:48,  2.80it/s]"
     ]
    },
    {
     "name": "stdout",
     "output_type": "stream",
     "text": [
      "Nonzero elements in state vector (tol=1e-12): 126\n",
      "Number of nonzero elements of dm (tol=1e-12): 15836\n"
     ]
    },
    {
     "name": "stderr",
     "output_type": "stream",
     "text": [
      " 47%|████▋     | 120/256 [00:37<00:44,  3.08it/s]"
     ]
    },
    {
     "name": "stdout",
     "output_type": "stream",
     "text": [
      "Nonzero elements in state vector (tol=1e-12): 126\n",
      "Number of nonzero elements of dm (tol=1e-12): 15655\n"
     ]
    },
    {
     "name": "stderr",
     "output_type": "stream",
     "text": [
      " 47%|████▋     | 121/256 [00:38<00:46,  2.93it/s]"
     ]
    },
    {
     "name": "stdout",
     "output_type": "stream",
     "text": [
      "Nonzero elements in state vector (tol=1e-12): 126\n",
      "Number of nonzero elements of dm (tol=1e-12): 15853\n"
     ]
    },
    {
     "name": "stderr",
     "output_type": "stream",
     "text": [
      " 48%|████▊     | 122/256 [00:38<00:48,  2.74it/s]"
     ]
    },
    {
     "name": "stdout",
     "output_type": "stream",
     "text": [
      "Nonzero elements in state vector (tol=1e-12): 126\n",
      "Number of nonzero elements of dm (tol=1e-12): 15876\n"
     ]
    },
    {
     "name": "stderr",
     "output_type": "stream",
     "text": [
      " 48%|████▊     | 123/256 [00:39<00:50,  2.63it/s]"
     ]
    },
    {
     "name": "stdout",
     "output_type": "stream",
     "text": [
      "Nonzero elements in state vector (tol=1e-12): 126\n",
      "Number of nonzero elements of dm (tol=1e-12): 15820\n"
     ]
    },
    {
     "name": "stderr",
     "output_type": "stream",
     "text": [
      " 48%|████▊     | 124/256 [00:39<00:47,  2.80it/s]"
     ]
    },
    {
     "name": "stdout",
     "output_type": "stream",
     "text": [
      "Nonzero elements in state vector (tol=1e-12): 126\n",
      "Number of nonzero elements of dm (tol=1e-12): 15867\n"
     ]
    },
    {
     "name": "stderr",
     "output_type": "stream",
     "text": [
      " 49%|████▉     | 125/256 [00:39<00:52,  2.50it/s]"
     ]
    },
    {
     "name": "stdout",
     "output_type": "stream",
     "text": [
      "Nonzero elements in state vector (tol=1e-12): 126\n",
      "Number of nonzero elements of dm (tol=1e-12): 15760\n"
     ]
    },
    {
     "name": "stderr",
     "output_type": "stream",
     "text": [
      " 49%|████▉     | 126/256 [00:40<00:50,  2.57it/s]"
     ]
    },
    {
     "name": "stdout",
     "output_type": "stream",
     "text": [
      "Nonzero elements in state vector (tol=1e-12): 126\n",
      "Number of nonzero elements of dm (tol=1e-12): 15872\n"
     ]
    },
    {
     "name": "stderr",
     "output_type": "stream",
     "text": [
      " 50%|████▉     | 127/256 [00:40<00:48,  2.68it/s]"
     ]
    },
    {
     "name": "stdout",
     "output_type": "stream",
     "text": [
      "Nonzero elements in state vector (tol=1e-12): 126\n",
      "Number of nonzero elements of dm (tol=1e-12): 15875\n"
     ]
    },
    {
     "name": "stderr",
     "output_type": "stream",
     "text": [
      " 50%|█████     | 128/256 [00:40<00:43,  2.93it/s]"
     ]
    },
    {
     "name": "stdout",
     "output_type": "stream",
     "text": [
      "Nonzero elements in state vector (tol=1e-12): 126\n",
      "Number of nonzero elements of dm (tol=1e-12): 15876\n"
     ]
    },
    {
     "name": "stderr",
     "output_type": "stream",
     "text": [
      " 50%|█████     | 129/256 [00:41<00:43,  2.91it/s]"
     ]
    },
    {
     "name": "stdout",
     "output_type": "stream",
     "text": [
      "Nonzero elements in state vector (tol=1e-12): 126\n",
      "Number of nonzero elements of dm (tol=1e-12): 15872\n"
     ]
    },
    {
     "name": "stderr",
     "output_type": "stream",
     "text": [
      " 51%|█████     | 130/256 [00:41<00:43,  2.93it/s]"
     ]
    },
    {
     "name": "stdout",
     "output_type": "stream",
     "text": [
      "Nonzero elements in state vector (tol=1e-12): 126\n",
      "Number of nonzero elements of dm (tol=1e-12): 15812\n"
     ]
    },
    {
     "name": "stderr",
     "output_type": "stream",
     "text": [
      " 51%|█████     | 131/256 [00:41<00:44,  2.80it/s]"
     ]
    },
    {
     "name": "stdout",
     "output_type": "stream",
     "text": [
      "Nonzero elements in state vector (tol=1e-12): 126\n",
      "Number of nonzero elements of dm (tol=1e-12): 15844\n"
     ]
    },
    {
     "name": "stderr",
     "output_type": "stream",
     "text": [
      " 52%|█████▏    | 132/256 [00:42<00:44,  2.81it/s]"
     ]
    },
    {
     "name": "stdout",
     "output_type": "stream",
     "text": [
      "Nonzero elements in state vector (tol=1e-12): 126\n",
      "Number of nonzero elements of dm (tol=1e-12): 15827\n"
     ]
    },
    {
     "name": "stderr",
     "output_type": "stream",
     "text": [
      " 52%|█████▏    | 133/256 [00:42<00:44,  2.78it/s]"
     ]
    },
    {
     "name": "stdout",
     "output_type": "stream",
     "text": [
      "Nonzero elements in state vector (tol=1e-12): 126\n",
      "Number of nonzero elements of dm (tol=1e-12): 15853\n"
     ]
    },
    {
     "name": "stderr",
     "output_type": "stream",
     "text": [
      " 52%|█████▏    | 134/256 [00:42<00:42,  2.84it/s]"
     ]
    },
    {
     "name": "stdout",
     "output_type": "stream",
     "text": [
      "Nonzero elements in state vector (tol=1e-12): 126\n",
      "Number of nonzero elements of dm (tol=1e-12): 15867\n"
     ]
    },
    {
     "name": "stderr",
     "output_type": "stream",
     "text": [
      " 53%|█████▎    | 135/256 [00:43<00:39,  3.06it/s]"
     ]
    },
    {
     "name": "stdout",
     "output_type": "stream",
     "text": [
      "Nonzero elements in state vector (tol=1e-12): 126\n",
      "Number of nonzero elements of dm (tol=1e-12): 15793\n"
     ]
    },
    {
     "name": "stderr",
     "output_type": "stream",
     "text": [
      " 53%|█████▎    | 136/256 [00:43<00:40,  2.96it/s]"
     ]
    },
    {
     "name": "stdout",
     "output_type": "stream",
     "text": [
      "Nonzero elements in state vector (tol=1e-12): 126\n",
      "Number of nonzero elements of dm (tol=1e-12): 15876\n"
     ]
    },
    {
     "name": "stderr",
     "output_type": "stream",
     "text": [
      " 54%|█████▍    | 138/256 [00:43<00:31,  3.79it/s]"
     ]
    },
    {
     "name": "stdout",
     "output_type": "stream",
     "text": [
      "Nonzero elements in state vector (tol=1e-12): 82\n",
      "Number of nonzero elements of dm (tol=1e-12): 6724\n",
      "Nonzero elements in state vector (tol=1e-12): 126\n",
      "Number of nonzero elements of dm (tol=1e-12): 15813\n"
     ]
    },
    {
     "name": "stderr",
     "output_type": "stream",
     "text": [
      " 54%|█████▍    | 139/256 [00:44<00:35,  3.28it/s]"
     ]
    },
    {
     "name": "stdout",
     "output_type": "stream",
     "text": [
      "Nonzero elements in state vector (tol=1e-12): 126\n",
      "Number of nonzero elements of dm (tol=1e-12): 15855\n"
     ]
    },
    {
     "name": "stderr",
     "output_type": "stream",
     "text": [
      " 55%|█████▍    | 140/256 [00:44<00:37,  3.07it/s]"
     ]
    },
    {
     "name": "stdout",
     "output_type": "stream",
     "text": [
      "Nonzero elements in state vector (tol=1e-12): 128\n",
      "Number of nonzero elements of dm (tol=1e-12): 16384\n"
     ]
    },
    {
     "name": "stderr",
     "output_type": "stream",
     "text": [
      " 55%|█████▌    | 141/256 [00:45<00:41,  2.80it/s]"
     ]
    },
    {
     "name": "stdout",
     "output_type": "stream",
     "text": [
      "Nonzero elements in state vector (tol=1e-12): 110\n",
      "Number of nonzero elements of dm (tol=1e-12): 12100\n"
     ]
    },
    {
     "name": "stderr",
     "output_type": "stream",
     "text": [
      " 55%|█████▌    | 142/256 [00:45<00:39,  2.90it/s]"
     ]
    },
    {
     "name": "stdout",
     "output_type": "stream",
     "text": [
      "Nonzero elements in state vector (tol=1e-12): 110\n",
      "Number of nonzero elements of dm (tol=1e-12): 11148\n"
     ]
    },
    {
     "name": "stderr",
     "output_type": "stream",
     "text": [
      " 56%|█████▌    | 143/256 [00:45<00:37,  2.97it/s]"
     ]
    },
    {
     "name": "stdout",
     "output_type": "stream",
     "text": [
      "Nonzero elements in state vector (tol=1e-12): 110\n",
      "Number of nonzero elements of dm (tol=1e-12): 12100\n"
     ]
    },
    {
     "name": "stderr",
     "output_type": "stream",
     "text": [
      " 56%|█████▋    | 144/256 [00:46<00:37,  3.02it/s]"
     ]
    },
    {
     "name": "stdout",
     "output_type": "stream",
     "text": [
      "Nonzero elements in state vector (tol=1e-12): 118\n",
      "Number of nonzero elements of dm (tol=1e-12): 13924\n"
     ]
    },
    {
     "name": "stderr",
     "output_type": "stream",
     "text": [
      " 57%|█████▋    | 145/256 [00:46<00:39,  2.80it/s]"
     ]
    },
    {
     "name": "stdout",
     "output_type": "stream",
     "text": [
      "Nonzero elements in state vector (tol=1e-12): 118\n",
      "Number of nonzero elements of dm (tol=1e-12): 13728\n"
     ]
    },
    {
     "name": "stderr",
     "output_type": "stream",
     "text": [
      " 57%|█████▋    | 146/256 [00:46<00:37,  2.94it/s]"
     ]
    },
    {
     "name": "stdout",
     "output_type": "stream",
     "text": [
      "Nonzero elements in state vector (tol=1e-12): 118\n",
      "Number of nonzero elements of dm (tol=1e-12): 13924\n"
     ]
    },
    {
     "name": "stderr",
     "output_type": "stream",
     "text": [
      " 59%|█████▊    | 150/256 [00:47<00:18,  5.60it/s]"
     ]
    },
    {
     "name": "stdout",
     "output_type": "stream",
     "text": [
      "Nonzero elements in state vector (tol=1e-12): 48\n",
      "Number of nonzero elements of dm (tol=1e-12): 2304\n",
      "Nonzero elements in state vector (tol=1e-12): 48\n",
      "Number of nonzero elements of dm (tol=1e-12): 2304\n",
      "Nonzero elements in state vector (tol=1e-12): 48\n",
      "Number of nonzero elements of dm (tol=1e-12): 2304\n",
      "Nonzero elements in state vector (tol=1e-12): 128\n",
      "Number of nonzero elements of dm (tol=1e-12): 16380\n"
     ]
    },
    {
     "name": "stderr",
     "output_type": "stream",
     "text": [
      " 59%|█████▉    | 151/256 [00:47<00:22,  4.71it/s]"
     ]
    },
    {
     "name": "stdout",
     "output_type": "stream",
     "text": [
      "Nonzero elements in state vector (tol=1e-12): 128\n",
      "Number of nonzero elements of dm (tol=1e-12): 16136\n"
     ]
    },
    {
     "name": "stderr",
     "output_type": "stream",
     "text": [
      " 59%|█████▉    | 152/256 [00:47<00:23,  4.37it/s]"
     ]
    },
    {
     "name": "stdout",
     "output_type": "stream",
     "text": [
      "Nonzero elements in state vector (tol=1e-12): 128\n",
      "Number of nonzero elements of dm (tol=1e-12): 16384\n"
     ]
    },
    {
     "name": "stderr",
     "output_type": "stream",
     "text": [
      " 60%|█████▉    | 153/256 [00:48<00:27,  3.68it/s]"
     ]
    },
    {
     "name": "stdout",
     "output_type": "stream",
     "text": [
      "Nonzero elements in state vector (tol=1e-12): 128\n",
      "Number of nonzero elements of dm (tol=1e-12): 16384\n"
     ]
    },
    {
     "name": "stderr",
     "output_type": "stream",
     "text": [
      " 61%|██████    | 155/256 [00:48<00:27,  3.71it/s]"
     ]
    },
    {
     "name": "stdout",
     "output_type": "stream",
     "text": [
      "Nonzero elements in state vector (tol=1e-12): 72\n",
      "Number of nonzero elements of dm (tol=1e-12): 5184\n",
      "Nonzero elements in state vector (tol=1e-12): 72\n",
      "Number of nonzero elements of dm (tol=1e-12): 5184\n"
     ]
    },
    {
     "name": "stderr",
     "output_type": "stream",
     "text": [
      " 61%|██████▏   | 157/256 [00:49<00:21,  4.64it/s]"
     ]
    },
    {
     "name": "stdout",
     "output_type": "stream",
     "text": [
      "Nonzero elements in state vector (tol=1e-12): 72\n",
      "Number of nonzero elements of dm (tol=1e-12): 5184\n",
      "Nonzero elements in state vector (tol=1e-12): 128\n",
      "Number of nonzero elements of dm (tol=1e-12): 16144\n"
     ]
    },
    {
     "name": "stderr",
     "output_type": "stream",
     "text": [
      " 62%|██████▏   | 158/256 [00:49<00:29,  3.31it/s]"
     ]
    },
    {
     "name": "stdout",
     "output_type": "stream",
     "text": [
      "Nonzero elements in state vector (tol=1e-12): 128\n",
      "Number of nonzero elements of dm (tol=1e-12): 16384\n"
     ]
    },
    {
     "name": "stderr",
     "output_type": "stream",
     "text": [
      " 62%|██████▏   | 159/256 [00:50<00:33,  2.88it/s]"
     ]
    },
    {
     "name": "stdout",
     "output_type": "stream",
     "text": [
      "Nonzero elements in state vector (tol=1e-12): 128\n",
      "Number of nonzero elements of dm (tol=1e-12): 16356\n"
     ]
    },
    {
     "name": "stderr",
     "output_type": "stream",
     "text": [
      " 62%|██████▎   | 160/256 [00:50<00:41,  2.32it/s]"
     ]
    },
    {
     "name": "stdout",
     "output_type": "stream",
     "text": [
      "Nonzero elements in state vector (tol=1e-12): 58\n",
      "Number of nonzero elements of dm (tol=1e-12): 3364\n",
      "Nonzero elements in state vector (tol=1e-12): 108\n",
      "Number of nonzero elements of dm (tol=1e-12): 11664\n"
     ]
    },
    {
     "name": "stderr",
     "output_type": "stream",
     "text": [
      " 63%|██████▎   | 162/256 [00:51<00:31,  3.01it/s]"
     ]
    },
    {
     "name": "stdout",
     "output_type": "stream",
     "text": [
      "Nonzero elements in state vector (tol=1e-12): 108\n",
      "Number of nonzero elements of dm (tol=1e-12): 11664\n"
     ]
    },
    {
     "name": "stderr",
     "output_type": "stream",
     "text": [
      " 64%|██████▎   | 163/256 [00:51<00:30,  3.06it/s]"
     ]
    },
    {
     "name": "stdout",
     "output_type": "stream",
     "text": [
      "Nonzero elements in state vector (tol=1e-12): 118\n",
      "Number of nonzero elements of dm (tol=1e-12): 13915\n"
     ]
    },
    {
     "name": "stderr",
     "output_type": "stream",
     "text": [
      " 64%|██████▍   | 164/256 [00:51<00:30,  3.01it/s]"
     ]
    },
    {
     "name": "stdout",
     "output_type": "stream",
     "text": [
      "Nonzero elements in state vector (tol=1e-12): 118\n",
      "Number of nonzero elements of dm (tol=1e-12): 13924\n"
     ]
    },
    {
     "name": "stderr",
     "output_type": "stream",
     "text": [
      " 64%|██████▍   | 165/256 [00:52<00:30,  2.95it/s]"
     ]
    },
    {
     "name": "stdout",
     "output_type": "stream",
     "text": [
      "Nonzero elements in state vector (tol=1e-12): 118\n",
      "Number of nonzero elements of dm (tol=1e-12): 13924\n"
     ]
    },
    {
     "name": "stderr",
     "output_type": "stream",
     "text": [
      " 65%|██████▍   | 166/256 [00:52<00:33,  2.70it/s]"
     ]
    },
    {
     "name": "stdout",
     "output_type": "stream",
     "text": [
      "Nonzero elements in state vector (tol=1e-12): 96\n",
      "Number of nonzero elements of dm (tol=1e-12): 9216\n"
     ]
    },
    {
     "name": "stderr",
     "output_type": "stream",
     "text": [
      " 65%|██████▌   | 167/256 [00:53<00:29,  2.98it/s]"
     ]
    },
    {
     "name": "stdout",
     "output_type": "stream",
     "text": [
      "Nonzero elements in state vector (tol=1e-12): 96\n",
      "Number of nonzero elements of dm (tol=1e-12): 9216\n"
     ]
    },
    {
     "name": "stderr",
     "output_type": "stream",
     "text": [
      " 66%|██████▌   | 168/256 [00:53<00:27,  3.17it/s]"
     ]
    },
    {
     "name": "stdout",
     "output_type": "stream",
     "text": [
      "Nonzero elements in state vector (tol=1e-12): 96\n",
      "Number of nonzero elements of dm (tol=1e-12): 9216\n"
     ]
    },
    {
     "name": "stderr",
     "output_type": "stream",
     "text": [
      " 66%|██████▋   | 170/256 [00:53<00:23,  3.72it/s]"
     ]
    },
    {
     "name": "stdout",
     "output_type": "stream",
     "text": [
      "Nonzero elements in state vector (tol=1e-12): 96\n",
      "Number of nonzero elements of dm (tol=1e-12): 9200\n",
      "Nonzero elements in state vector (tol=1e-12): 96\n",
      "Number of nonzero elements of dm (tol=1e-12): 9212\n"
     ]
    },
    {
     "name": "stderr",
     "output_type": "stream",
     "text": [
      " 67%|██████▋   | 171/256 [00:53<00:20,  4.19it/s]"
     ]
    },
    {
     "name": "stdout",
     "output_type": "stream",
     "text": [
      "Nonzero elements in state vector (tol=1e-12): 110\n",
      "Number of nonzero elements of dm (tol=1e-12): 12052\n"
     ]
    },
    {
     "name": "stderr",
     "output_type": "stream",
     "text": [
      " 67%|██████▋   | 172/256 [00:54<00:19,  4.24it/s]"
     ]
    },
    {
     "name": "stdout",
     "output_type": "stream",
     "text": [
      "Nonzero elements in state vector (tol=1e-12): 110\n",
      "Number of nonzero elements of dm (tol=1e-12): 12100\n"
     ]
    },
    {
     "name": "stderr",
     "output_type": "stream",
     "text": [
      " 68%|██████▊   | 173/256 [00:54<00:21,  3.83it/s]"
     ]
    },
    {
     "name": "stdout",
     "output_type": "stream",
     "text": [
      "Nonzero elements in state vector (tol=1e-12): 110\n",
      "Number of nonzero elements of dm (tol=1e-12): 12100\n"
     ]
    },
    {
     "name": "stderr",
     "output_type": "stream",
     "text": [
      " 68%|██████▊   | 174/256 [00:54<00:24,  3.36it/s]"
     ]
    },
    {
     "name": "stdout",
     "output_type": "stream",
     "text": [
      "Nonzero elements in state vector (tol=1e-12): 128\n",
      "Number of nonzero elements of dm (tol=1e-12): 16188\n"
     ]
    },
    {
     "name": "stderr",
     "output_type": "stream",
     "text": [
      " 68%|██████▊   | 175/256 [00:55<00:26,  3.05it/s]"
     ]
    },
    {
     "name": "stdout",
     "output_type": "stream",
     "text": [
      "Nonzero elements in state vector (tol=1e-12): 128\n",
      "Number of nonzero elements of dm (tol=1e-12): 16304\n"
     ]
    },
    {
     "name": "stderr",
     "output_type": "stream",
     "text": [
      " 69%|██████▉   | 176/256 [00:55<00:27,  2.94it/s]"
     ]
    },
    {
     "name": "stdout",
     "output_type": "stream",
     "text": [
      "Nonzero elements in state vector (tol=1e-12): 128\n",
      "Number of nonzero elements of dm (tol=1e-12): 16380\n"
     ]
    },
    {
     "name": "stderr",
     "output_type": "stream",
     "text": [
      " 69%|██████▉   | 177/256 [00:56<00:28,  2.76it/s]"
     ]
    },
    {
     "name": "stdout",
     "output_type": "stream",
     "text": [
      "Nonzero elements in state vector (tol=1e-12): 128\n",
      "Number of nonzero elements of dm (tol=1e-12): 16384\n"
     ]
    },
    {
     "name": "stderr",
     "output_type": "stream",
     "text": [
      " 70%|██████▉   | 178/256 [00:56<00:28,  2.72it/s]"
     ]
    },
    {
     "name": "stdout",
     "output_type": "stream",
     "text": [
      "Nonzero elements in state vector (tol=1e-12): 128\n",
      "Number of nonzero elements of dm (tol=1e-12): 16384\n"
     ]
    },
    {
     "name": "stderr",
     "output_type": "stream",
     "text": [
      " 70%|██████▉   | 179/256 [00:56<00:30,  2.56it/s]"
     ]
    },
    {
     "name": "stdout",
     "output_type": "stream",
     "text": [
      "Nonzero elements in state vector (tol=1e-12): 128\n",
      "Number of nonzero elements of dm (tol=1e-12): 16156\n"
     ]
    },
    {
     "name": "stderr",
     "output_type": "stream",
     "text": [
      " 70%|███████   | 180/256 [00:57<00:27,  2.75it/s]"
     ]
    },
    {
     "name": "stdout",
     "output_type": "stream",
     "text": [
      "Nonzero elements in state vector (tol=1e-12): 128\n",
      "Number of nonzero elements of dm (tol=1e-12): 16384\n"
     ]
    },
    {
     "name": "stderr",
     "output_type": "stream",
     "text": [
      " 71%|███████   | 181/256 [00:57<00:25,  2.92it/s]"
     ]
    },
    {
     "name": "stdout",
     "output_type": "stream",
     "text": [
      "Nonzero elements in state vector (tol=1e-12): 128\n",
      "Number of nonzero elements of dm (tol=1e-12): 16384\n"
     ]
    },
    {
     "name": "stderr",
     "output_type": "stream",
     "text": [
      " 71%|███████   | 182/256 [00:57<00:27,  2.71it/s]"
     ]
    },
    {
     "name": "stdout",
     "output_type": "stream",
     "text": [
      "Nonzero elements in state vector (tol=1e-12): 96\n",
      "Number of nonzero elements of dm (tol=1e-12): 9216\n"
     ]
    },
    {
     "name": "stderr",
     "output_type": "stream",
     "text": [
      " 71%|███████▏  | 183/256 [00:58<00:25,  2.91it/s]"
     ]
    },
    {
     "name": "stdout",
     "output_type": "stream",
     "text": [
      "Nonzero elements in state vector (tol=1e-12): 96\n",
      "Number of nonzero elements of dm (tol=1e-12): 9176\n"
     ]
    },
    {
     "name": "stderr",
     "output_type": "stream",
     "text": [
      " 72%|███████▏  | 185/256 [00:58<00:18,  3.74it/s]"
     ]
    },
    {
     "name": "stdout",
     "output_type": "stream",
     "text": [
      "Nonzero elements in state vector (tol=1e-12): 96\n",
      "Number of nonzero elements of dm (tol=1e-12): 9200\n",
      "Nonzero elements in state vector (tol=1e-12): 96\n",
      "Number of nonzero elements of dm (tol=1e-12): 9204\n"
     ]
    },
    {
     "name": "stderr",
     "output_type": "stream",
     "text": [
      " 73%|███████▎  | 186/256 [00:58<00:17,  3.89it/s]"
     ]
    },
    {
     "name": "stdout",
     "output_type": "stream",
     "text": [
      "Nonzero elements in state vector (tol=1e-12): 96\n",
      "Number of nonzero elements of dm (tol=1e-12): 9216\n"
     ]
    },
    {
     "name": "stderr",
     "output_type": "stream",
     "text": [
      " 73%|███████▎  | 187/256 [00:59<00:16,  4.13it/s]"
     ]
    },
    {
     "name": "stdout",
     "output_type": "stream",
     "text": [
      "Nonzero elements in state vector (tol=1e-12): 128\n",
      "Number of nonzero elements of dm (tol=1e-12): 16384\n"
     ]
    },
    {
     "name": "stderr",
     "output_type": "stream",
     "text": [
      " 73%|███████▎  | 188/256 [00:59<00:19,  3.45it/s]"
     ]
    },
    {
     "name": "stdout",
     "output_type": "stream",
     "text": [
      "Nonzero elements in state vector (tol=1e-12): 128\n",
      "Number of nonzero elements of dm (tol=1e-12): 16088\n"
     ]
    },
    {
     "name": "stderr",
     "output_type": "stream",
     "text": [
      " 74%|███████▍  | 189/256 [00:59<00:19,  3.45it/s]"
     ]
    },
    {
     "name": "stdout",
     "output_type": "stream",
     "text": [
      "Nonzero elements in state vector (tol=1e-12): 128\n",
      "Number of nonzero elements of dm (tol=1e-12): 16364\n"
     ]
    },
    {
     "name": "stderr",
     "output_type": "stream",
     "text": [
      " 74%|███████▍  | 190/256 [01:00<00:20,  3.16it/s]"
     ]
    },
    {
     "name": "stdout",
     "output_type": "stream",
     "text": [
      "Nonzero elements in state vector (tol=1e-12): 128\n",
      "Number of nonzero elements of dm (tol=1e-12): 16060\n"
     ]
    },
    {
     "name": "stderr",
     "output_type": "stream",
     "text": [
      " 75%|███████▍  | 191/256 [01:00<00:21,  2.96it/s]"
     ]
    },
    {
     "name": "stdout",
     "output_type": "stream",
     "text": [
      "Nonzero elements in state vector (tol=1e-12): 128\n",
      "Number of nonzero elements of dm (tol=1e-12): 16308\n"
     ]
    },
    {
     "name": "stderr",
     "output_type": "stream",
     "text": [
      " 75%|███████▌  | 192/256 [01:00<00:23,  2.69it/s]"
     ]
    },
    {
     "name": "stdout",
     "output_type": "stream",
     "text": [
      "Nonzero elements in state vector (tol=1e-12): 128\n",
      "Number of nonzero elements of dm (tol=1e-12): 16220\n"
     ]
    },
    {
     "name": "stderr",
     "output_type": "stream",
     "text": [
      " 75%|███████▌  | 193/256 [01:01<00:22,  2.77it/s]"
     ]
    },
    {
     "name": "stdout",
     "output_type": "stream",
     "text": [
      "Nonzero elements in state vector (tol=1e-12): 96\n",
      "Number of nonzero elements of dm (tol=1e-12): 9212\n"
     ]
    },
    {
     "name": "stderr",
     "output_type": "stream",
     "text": [
      " 76%|███████▌  | 194/256 [01:01<00:20,  3.06it/s]"
     ]
    },
    {
     "name": "stdout",
     "output_type": "stream",
     "text": [
      "Nonzero elements in state vector (tol=1e-12): 96\n",
      "Number of nonzero elements of dm (tol=1e-12): 9216\n"
     ]
    },
    {
     "name": "stderr",
     "output_type": "stream",
     "text": [
      " 76%|███████▌  | 195/256 [01:01<00:18,  3.24it/s]"
     ]
    },
    {
     "name": "stdout",
     "output_type": "stream",
     "text": [
      "Nonzero elements in state vector (tol=1e-12): 96\n",
      "Number of nonzero elements of dm (tol=1e-12): 9216\n"
     ]
    },
    {
     "name": "stderr",
     "output_type": "stream",
     "text": [
      " 77%|███████▋  | 196/256 [01:02<00:17,  3.49it/s]"
     ]
    },
    {
     "name": "stdout",
     "output_type": "stream",
     "text": [
      "Nonzero elements in state vector (tol=1e-12): 96\n",
      "Number of nonzero elements of dm (tol=1e-12): 9216\n"
     ]
    },
    {
     "name": "stderr",
     "output_type": "stream",
     "text": [
      " 77%|███████▋  | 198/256 [01:02<00:13,  4.34it/s]"
     ]
    },
    {
     "name": "stdout",
     "output_type": "stream",
     "text": [
      "Nonzero elements in state vector (tol=1e-12): 96\n",
      "Number of nonzero elements of dm (tol=1e-12): 9212\n",
      "Nonzero elements in state vector (tol=1e-12): 128\n",
      "Number of nonzero elements of dm (tol=1e-12): 16384\n"
     ]
    },
    {
     "name": "stderr",
     "output_type": "stream",
     "text": [
      " 78%|███████▊  | 199/256 [01:02<00:13,  4.16it/s]"
     ]
    },
    {
     "name": "stdout",
     "output_type": "stream",
     "text": [
      "Nonzero elements in state vector (tol=1e-12): 128\n",
      "Number of nonzero elements of dm (tol=1e-12): 16384\n"
     ]
    },
    {
     "name": "stderr",
     "output_type": "stream",
     "text": [
      " 78%|███████▊  | 200/256 [01:02<00:14,  3.85it/s]"
     ]
    },
    {
     "name": "stdout",
     "output_type": "stream",
     "text": [
      "Nonzero elements in state vector (tol=1e-12): 128\n",
      "Number of nonzero elements of dm (tol=1e-12): 16384\n"
     ]
    },
    {
     "name": "stderr",
     "output_type": "stream",
     "text": [
      " 79%|███████▊  | 201/256 [01:03<00:16,  3.43it/s]"
     ]
    },
    {
     "name": "stdout",
     "output_type": "stream",
     "text": [
      "Nonzero elements in state vector (tol=1e-12): 128\n",
      "Number of nonzero elements of dm (tol=1e-12): 16352\n"
     ]
    },
    {
     "name": "stderr",
     "output_type": "stream",
     "text": [
      " 79%|███████▉  | 202/256 [01:03<00:17,  3.02it/s]"
     ]
    },
    {
     "name": "stdout",
     "output_type": "stream",
     "text": [
      "Nonzero elements in state vector (tol=1e-12): 128\n",
      "Number of nonzero elements of dm (tol=1e-12): 16372\n"
     ]
    },
    {
     "name": "stderr",
     "output_type": "stream",
     "text": [
      " 79%|███████▉  | 203/256 [01:04<00:18,  2.90it/s]"
     ]
    },
    {
     "name": "stdout",
     "output_type": "stream",
     "text": [
      "Nonzero elements in state vector (tol=1e-12): 128\n",
      "Number of nonzero elements of dm (tol=1e-12): 16288\n"
     ]
    },
    {
     "name": "stderr",
     "output_type": "stream",
     "text": [
      " 80%|███████▉  | 204/256 [01:04<00:19,  2.73it/s]"
     ]
    },
    {
     "name": "stdout",
     "output_type": "stream",
     "text": [
      "Nonzero elements in state vector (tol=1e-12): 128\n",
      "Number of nonzero elements of dm (tol=1e-12): 16288\n"
     ]
    },
    {
     "name": "stderr",
     "output_type": "stream",
     "text": [
      " 80%|████████  | 205/256 [01:04<00:19,  2.65it/s]"
     ]
    },
    {
     "name": "stdout",
     "output_type": "stream",
     "text": [
      "Nonzero elements in state vector (tol=1e-12): 128\n",
      "Number of nonzero elements of dm (tol=1e-12): 16256\n"
     ]
    },
    {
     "name": "stderr",
     "output_type": "stream",
     "text": [
      " 80%|████████  | 206/256 [01:05<00:18,  2.64it/s]"
     ]
    },
    {
     "name": "stdout",
     "output_type": "stream",
     "text": [
      "Nonzero elements in state vector (tol=1e-12): 128\n",
      "Number of nonzero elements of dm (tol=1e-12): 16320\n"
     ]
    },
    {
     "name": "stderr",
     "output_type": "stream",
     "text": [
      " 81%|████████  | 207/256 [01:05<00:17,  2.75it/s]"
     ]
    },
    {
     "name": "stdout",
     "output_type": "stream",
     "text": [
      "Nonzero elements in state vector (tol=1e-12): 96\n",
      "Number of nonzero elements of dm (tol=1e-12): 9204\n"
     ]
    },
    {
     "name": "stderr",
     "output_type": "stream",
     "text": [
      " 82%|████████▏ | 209/256 [01:06<00:13,  3.45it/s]"
     ]
    },
    {
     "name": "stdout",
     "output_type": "stream",
     "text": [
      "Nonzero elements in state vector (tol=1e-12): 96\n",
      "Number of nonzero elements of dm (tol=1e-12): 9108\n",
      "Nonzero elements in state vector (tol=1e-12): 96\n",
      "Number of nonzero elements of dm (tol=1e-12): 9108\n"
     ]
    },
    {
     "name": "stderr",
     "output_type": "stream",
     "text": [
      " 82%|████████▏ | 211/256 [01:06<00:10,  4.25it/s]"
     ]
    },
    {
     "name": "stdout",
     "output_type": "stream",
     "text": [
      "Nonzero elements in state vector (tol=1e-12): 96\n",
      "Number of nonzero elements of dm (tol=1e-12): 9216\n",
      "Nonzero elements in state vector (tol=1e-12): 96\n",
      "Number of nonzero elements of dm (tol=1e-12): 9204\n"
     ]
    },
    {
     "name": "stderr",
     "output_type": "stream",
     "text": [
      " 83%|████████▎ | 212/256 [01:06<00:09,  4.79it/s]"
     ]
    },
    {
     "name": "stdout",
     "output_type": "stream",
     "text": [
      "Nonzero elements in state vector (tol=1e-12): 128\n",
      "Number of nonzero elements of dm (tol=1e-12): 16384\n"
     ]
    },
    {
     "name": "stderr",
     "output_type": "stream",
     "text": [
      " 83%|████████▎ | 213/256 [01:07<00:11,  3.75it/s]"
     ]
    },
    {
     "name": "stdout",
     "output_type": "stream",
     "text": [
      "Nonzero elements in state vector (tol=1e-12): 128\n",
      "Number of nonzero elements of dm (tol=1e-12): 16240\n"
     ]
    },
    {
     "name": "stderr",
     "output_type": "stream",
     "text": [
      " 84%|████████▎ | 214/256 [01:07<00:12,  3.44it/s]"
     ]
    },
    {
     "name": "stdout",
     "output_type": "stream",
     "text": [
      "Nonzero elements in state vector (tol=1e-12): 128\n",
      "Number of nonzero elements of dm (tol=1e-12): 16368\n"
     ]
    },
    {
     "name": "stderr",
     "output_type": "stream",
     "text": [
      " 84%|████████▍ | 215/256 [01:07<00:14,  2.86it/s]"
     ]
    },
    {
     "name": "stdout",
     "output_type": "stream",
     "text": [
      "Nonzero elements in state vector (tol=1e-12): 128\n",
      "Number of nonzero elements of dm (tol=1e-12): 16212\n"
     ]
    },
    {
     "name": "stderr",
     "output_type": "stream",
     "text": [
      " 84%|████████▍ | 216/256 [01:08<00:13,  2.86it/s]"
     ]
    },
    {
     "name": "stdout",
     "output_type": "stream",
     "text": [
      "Nonzero elements in state vector (tol=1e-12): 110\n",
      "Number of nonzero elements of dm (tol=1e-12): 12084\n"
     ]
    },
    {
     "name": "stderr",
     "output_type": "stream",
     "text": [
      " 85%|████████▍ | 217/256 [01:08<00:12,  3.15it/s]"
     ]
    },
    {
     "name": "stdout",
     "output_type": "stream",
     "text": [
      "Nonzero elements in state vector (tol=1e-12): 110\n",
      "Number of nonzero elements of dm (tol=1e-12): 12100\n"
     ]
    },
    {
     "name": "stderr",
     "output_type": "stream",
     "text": [
      " 85%|████████▌ | 218/256 [01:08<00:11,  3.44it/s]"
     ]
    },
    {
     "name": "stdout",
     "output_type": "stream",
     "text": [
      "Nonzero elements in state vector (tol=1e-12): 110\n",
      "Number of nonzero elements of dm (tol=1e-12): 12100\n"
     ]
    },
    {
     "name": "stderr",
     "output_type": "stream",
     "text": [
      " 86%|████████▌ | 219/256 [01:08<00:10,  3.38it/s]"
     ]
    },
    {
     "name": "stdout",
     "output_type": "stream",
     "text": [
      "Nonzero elements in state vector (tol=1e-12): 128\n",
      "Number of nonzero elements of dm (tol=1e-12): 16128\n"
     ]
    },
    {
     "name": "stderr",
     "output_type": "stream",
     "text": [
      " 86%|████████▌ | 220/256 [01:09<00:11,  3.06it/s]"
     ]
    },
    {
     "name": "stdout",
     "output_type": "stream",
     "text": [
      "Nonzero elements in state vector (tol=1e-12): 128\n",
      "Number of nonzero elements of dm (tol=1e-12): 15992\n"
     ]
    },
    {
     "name": "stderr",
     "output_type": "stream",
     "text": [
      " 86%|████████▋ | 221/256 [01:09<00:11,  3.12it/s]"
     ]
    },
    {
     "name": "stdout",
     "output_type": "stream",
     "text": [
      "Nonzero elements in state vector (tol=1e-12): 128\n",
      "Number of nonzero elements of dm (tol=1e-12): 16172\n"
     ]
    },
    {
     "name": "stderr",
     "output_type": "stream",
     "text": [
      " 87%|████████▋ | 222/256 [01:10<00:12,  2.82it/s]"
     ]
    },
    {
     "name": "stdout",
     "output_type": "stream",
     "text": [
      "Nonzero elements in state vector (tol=1e-12): 108\n",
      "Number of nonzero elements of dm (tol=1e-12): 11056\n"
     ]
    },
    {
     "name": "stderr",
     "output_type": "stream",
     "text": [
      " 87%|████████▋ | 223/256 [01:10<00:10,  3.00it/s]"
     ]
    },
    {
     "name": "stdout",
     "output_type": "stream",
     "text": [
      "Nonzero elements in state vector (tol=1e-12): 108\n",
      "Number of nonzero elements of dm (tol=1e-12): 11664\n"
     ]
    },
    {
     "name": "stderr",
     "output_type": "stream",
     "text": [
      " 88%|████████▊ | 224/256 [01:10<00:10,  3.14it/s]"
     ]
    },
    {
     "name": "stdout",
     "output_type": "stream",
     "text": [
      "Nonzero elements in state vector (tol=1e-12): 118\n",
      "Number of nonzero elements of dm (tol=1e-12): 13417\n"
     ]
    },
    {
     "name": "stderr",
     "output_type": "stream",
     "text": [
      " 88%|████████▊ | 225/256 [01:11<00:10,  2.92it/s]"
     ]
    },
    {
     "name": "stdout",
     "output_type": "stream",
     "text": [
      "Nonzero elements in state vector (tol=1e-12): 118\n",
      "Number of nonzero elements of dm (tol=1e-12): 12096\n"
     ]
    },
    {
     "name": "stderr",
     "output_type": "stream",
     "text": [
      " 88%|████████▊ | 226/256 [01:11<00:09,  3.06it/s]"
     ]
    },
    {
     "name": "stdout",
     "output_type": "stream",
     "text": [
      "Nonzero elements in state vector (tol=1e-12): 118\n",
      "Number of nonzero elements of dm (tol=1e-12): 13631\n"
     ]
    },
    {
     "name": "stderr",
     "output_type": "stream",
     "text": [
      " 89%|████████▊ | 227/256 [01:11<00:08,  3.31it/s]"
     ]
    },
    {
     "name": "stdout",
     "output_type": "stream",
     "text": [
      "Nonzero elements in state vector (tol=1e-12): 128\n",
      "Number of nonzero elements of dm (tol=1e-12): 16384\n"
     ]
    },
    {
     "name": "stderr",
     "output_type": "stream",
     "text": [
      " 90%|████████▉ | 230/256 [01:12<00:04,  5.21it/s]"
     ]
    },
    {
     "name": "stdout",
     "output_type": "stream",
     "text": [
      "Nonzero elements in state vector (tol=1e-12): 48\n",
      "Number of nonzero elements of dm (tol=1e-12): 2288\n",
      "Nonzero elements in state vector (tol=1e-12): 48\n",
      "Number of nonzero elements of dm (tol=1e-12): 2288\n",
      "Nonzero elements in state vector (tol=1e-12): 118\n",
      "Number of nonzero elements of dm (tol=1e-12): 13508\n"
     ]
    },
    {
     "name": "stderr",
     "output_type": "stream",
     "text": [
      " 90%|█████████ | 231/256 [01:12<00:05,  4.33it/s]"
     ]
    },
    {
     "name": "stdout",
     "output_type": "stream",
     "text": [
      "Nonzero elements in state vector (tol=1e-12): 118\n",
      "Number of nonzero elements of dm (tol=1e-12): 12638\n"
     ]
    },
    {
     "name": "stderr",
     "output_type": "stream",
     "text": [
      " 91%|█████████ | 232/256 [01:12<00:06,  3.87it/s]"
     ]
    },
    {
     "name": "stdout",
     "output_type": "stream",
     "text": [
      "Nonzero elements in state vector (tol=1e-12): 118\n",
      "Number of nonzero elements of dm (tol=1e-12): 13612\n"
     ]
    },
    {
     "name": "stderr",
     "output_type": "stream",
     "text": [
      " 91%|█████████▏| 234/256 [01:13<00:04,  4.45it/s]"
     ]
    },
    {
     "name": "stdout",
     "output_type": "stream",
     "text": [
      "Nonzero elements in state vector (tol=1e-12): 72\n",
      "Number of nonzero elements of dm (tol=1e-12): 4996\n",
      "Nonzero elements in state vector (tol=1e-12): 72\n",
      "Number of nonzero elements of dm (tol=1e-12): 4844\n"
     ]
    },
    {
     "name": "stderr",
     "output_type": "stream",
     "text": [
      " 92%|█████████▏| 236/256 [01:13<00:03,  5.43it/s]"
     ]
    },
    {
     "name": "stdout",
     "output_type": "stream",
     "text": [
      "Nonzero elements in state vector (tol=1e-12): 72\n",
      "Number of nonzero elements of dm (tol=1e-12): 5172\n",
      "Nonzero elements in state vector (tol=1e-12): 128\n",
      "Number of nonzero elements of dm (tol=1e-12): 16384\n"
     ]
    },
    {
     "name": "stderr",
     "output_type": "stream",
     "text": [
      " 93%|█████████▎| 237/256 [01:13<00:04,  4.21it/s]"
     ]
    },
    {
     "name": "stdout",
     "output_type": "stream",
     "text": [
      "Nonzero elements in state vector (tol=1e-12): 58\n",
      "Number of nonzero elements of dm (tol=1e-12): 3364\n",
      "Nonzero elements in state vector (tol=1e-12): 108\n",
      "Number of nonzero elements of dm (tol=1e-12): 9856\n"
     ]
    },
    {
     "name": "stderr",
     "output_type": "stream",
     "text": [
      " 93%|█████████▎| 239/256 [01:14<00:03,  4.54it/s]"
     ]
    },
    {
     "name": "stdout",
     "output_type": "stream",
     "text": [
      "Nonzero elements in state vector (tol=1e-12): 108\n",
      "Number of nonzero elements of dm (tol=1e-12): 11600\n"
     ]
    },
    {
     "name": "stderr",
     "output_type": "stream",
     "text": [
      " 94%|█████████▍| 240/256 [01:14<00:03,  4.18it/s]"
     ]
    },
    {
     "name": "stdout",
     "output_type": "stream",
     "text": [
      "Nonzero elements in state vector (tol=1e-12): 118\n",
      "Number of nonzero elements of dm (tol=1e-12): 13548\n"
     ]
    },
    {
     "name": "stderr",
     "output_type": "stream",
     "text": [
      " 94%|█████████▍| 241/256 [01:14<00:03,  3.93it/s]"
     ]
    },
    {
     "name": "stdout",
     "output_type": "stream",
     "text": [
      "Nonzero elements in state vector (tol=1e-12): 118\n",
      "Number of nonzero elements of dm (tol=1e-12): 13819\n"
     ]
    },
    {
     "name": "stderr",
     "output_type": "stream",
     "text": [
      " 95%|█████████▍| 242/256 [01:15<00:03,  3.60it/s]"
     ]
    },
    {
     "name": "stdout",
     "output_type": "stream",
     "text": [
      "Nonzero elements in state vector (tol=1e-12): 118\n",
      "Number of nonzero elements of dm (tol=1e-12): 13811\n"
     ]
    },
    {
     "name": "stderr",
     "output_type": "stream",
     "text": [
      " 95%|█████████▍| 243/256 [01:15<00:03,  3.34it/s]"
     ]
    },
    {
     "name": "stdout",
     "output_type": "stream",
     "text": [
      "Nonzero elements in state vector (tol=1e-12): 110\n",
      "Number of nonzero elements of dm (tol=1e-12): 11368\n"
     ]
    },
    {
     "name": "stderr",
     "output_type": "stream",
     "text": [
      " 95%|█████████▌| 244/256 [01:15<00:03,  3.22it/s]"
     ]
    },
    {
     "name": "stdout",
     "output_type": "stream",
     "text": [
      "Nonzero elements in state vector (tol=1e-12): 110\n",
      "Number of nonzero elements of dm (tol=1e-12): 11648\n"
     ]
    },
    {
     "name": "stderr",
     "output_type": "stream",
     "text": [
      " 96%|█████████▌| 245/256 [01:16<00:03,  3.14it/s]"
     ]
    },
    {
     "name": "stdout",
     "output_type": "stream",
     "text": [
      "Nonzero elements in state vector (tol=1e-12): 110\n",
      "Number of nonzero elements of dm (tol=1e-12): 11508\n"
     ]
    },
    {
     "name": "stderr",
     "output_type": "stream",
     "text": [
      " 96%|█████████▌| 246/256 [01:16<00:03,  2.92it/s]"
     ]
    },
    {
     "name": "stdout",
     "output_type": "stream",
     "text": [
      "Nonzero elements in state vector (tol=1e-12): 128\n",
      "Number of nonzero elements of dm (tol=1e-12): 16384\n"
     ]
    },
    {
     "name": "stderr",
     "output_type": "stream",
     "text": [
      " 96%|█████████▋| 247/256 [01:16<00:03,  2.75it/s]"
     ]
    },
    {
     "name": "stdout",
     "output_type": "stream",
     "text": [
      "Nonzero elements in state vector (tol=1e-12): 128\n",
      "Number of nonzero elements of dm (tol=1e-12): 14176\n"
     ]
    },
    {
     "name": "stderr",
     "output_type": "stream",
     "text": [
      " 97%|█████████▋| 248/256 [01:17<00:03,  2.65it/s]"
     ]
    },
    {
     "name": "stdout",
     "output_type": "stream",
     "text": [
      "Nonzero elements in state vector (tol=1e-12): 128\n",
      "Number of nonzero elements of dm (tol=1e-12): 15320\n"
     ]
    },
    {
     "name": "stderr",
     "output_type": "stream",
     "text": [
      " 97%|█████████▋| 249/256 [01:17<00:02,  2.56it/s]"
     ]
    },
    {
     "name": "stdout",
     "output_type": "stream",
     "text": [
      "Nonzero elements in state vector (tol=1e-12): 128\n",
      "Number of nonzero elements of dm (tol=1e-12): 14792\n"
     ]
    },
    {
     "name": "stderr",
     "output_type": "stream",
     "text": [
      " 98%|█████████▊| 250/256 [01:18<00:02,  2.59it/s]"
     ]
    },
    {
     "name": "stdout",
     "output_type": "stream",
     "text": [
      "Nonzero elements in state vector (tol=1e-12): 128\n",
      "Number of nonzero elements of dm (tol=1e-12): 16384\n"
     ]
    },
    {
     "name": "stderr",
     "output_type": "stream",
     "text": [
      " 98%|█████████▊| 251/256 [01:18<00:01,  2.57it/s]"
     ]
    },
    {
     "name": "stdout",
     "output_type": "stream",
     "text": [
      "Nonzero elements in state vector (tol=1e-12): 128\n",
      "Number of nonzero elements of dm (tol=1e-12): 13288\n"
     ]
    },
    {
     "name": "stderr",
     "output_type": "stream",
     "text": [
      " 98%|█████████▊| 252/256 [01:18<00:01,  2.73it/s]"
     ]
    },
    {
     "name": "stdout",
     "output_type": "stream",
     "text": [
      "Nonzero elements in state vector (tol=1e-12): 128\n",
      "Number of nonzero elements of dm (tol=1e-12): 13500\n"
     ]
    },
    {
     "name": "stderr",
     "output_type": "stream",
     "text": [
      " 99%|█████████▉| 253/256 [01:19<00:01,  2.73it/s]"
     ]
    },
    {
     "name": "stdout",
     "output_type": "stream",
     "text": [
      "Nonzero elements in state vector (tol=1e-12): 128\n",
      "Number of nonzero elements of dm (tol=1e-12): 12608\n"
     ]
    },
    {
     "name": "stderr",
     "output_type": "stream",
     "text": [
      " 99%|█████████▉| 254/256 [01:19<00:00,  2.81it/s]"
     ]
    },
    {
     "name": "stdout",
     "output_type": "stream",
     "text": [
      "Nonzero elements in state vector (tol=1e-12): 128\n",
      "Number of nonzero elements of dm (tol=1e-12): 16384\n"
     ]
    },
    {
     "name": "stderr",
     "output_type": "stream",
     "text": [
      "100%|█████████▉| 255/256 [01:19<00:00,  2.82it/s]"
     ]
    },
    {
     "name": "stdout",
     "output_type": "stream",
     "text": [
      "Nonzero elements in state vector (tol=1e-12): 128\n",
      "Number of nonzero elements of dm (tol=1e-12): 16351\n"
     ]
    },
    {
     "name": "stderr",
     "output_type": "stream",
     "text": [
      "100%|██████████| 256/256 [01:20<00:00,  3.19it/s]\n"
     ]
    },
    {
     "data": {
      "image/png": "[encoded data removed]",
      "text/plain": [
       "<Figure size 640x480 with 1 Axes>"
      ]
     },
     "metadata": {},
     "output_type": "display_data"
    },
    {
     "name": "stdout",
     "output_type": "stream",
     "text": [
      "0 0\n",
      "Eigenvalue: -25.114802878048362, rdm Minimum Eigenvalue: 1.2898396735892122e-06\n",
      "Eigenvector 0: rdm rank: 8\n",
      "1 1\n",
      "Eigenvalue: -22.39287522802269, rdm Minimum Eigenvalue: 3.4316441698408685e-05\n",
      "Eigenvector 1: rdm rank: 8\n",
      "2 2\n",
      "Eigenvalue: -19.51891027404601, rdm Minimum Eigenvalue: 2.4264695660824058e-05\n",
      "Eigenvector 2: rdm rank: 8\n",
      "3 3\n",
      "Eigenvalue: -19.518910274046, rdm Minimum Eigenvalue: 2.7113415762279296e-06\n",
      "Eigenvector 3: rdm rank: 8\n",
      "4 4\n",
      "Eigenvalue: -19.518910274046, rdm Minimum Eigenvalue: 2.3208719580565366e-05\n",
      "Eigenvector 4: rdm rank: 8\n",
      "5 5\n",
      "Eigenvalue: -18.232220015901202, rdm Minimum Eigenvalue: 6.693007596871759e-05\n",
      "Eigenvector 5: rdm rank: 8\n",
      "6 6\n",
      "Eigenvalue: -17.68953431717526, rdm Minimum Eigenvalue: 8.63857637237806e-06\n",
      "Eigenvector 6: rdm rank: 8\n",
      "7 7\n",
      "Eigenvalue: -17.689534317175255, rdm Minimum Eigenvalue: 7.220978405097781e-05\n",
      "Eigenvector 7: rdm rank: 8\n",
      "8 8\n",
      "Eigenvalue: -17.68953431717525, rdm Minimum Eigenvalue: 1.2741185825761004e-05\n",
      "Eigenvector 8: rdm rank: 8\n",
      "9 9\n",
      "Eigenvalue: -16.23190567700238, rdm Minimum Eigenvalue: 4.112535928899744e-05\n",
      "Eigenvector 9: rdm rank: 8\n",
      "10 10\n",
      "Eigenvalue: -15.26675837280273, rdm Minimum Eigenvalue: 0.0003882836450612287\n",
      "Eigenvector 10: rdm rank: 8\n",
      "11 11\n",
      "Eigenvalue: -15.266758372802727, rdm Minimum Eigenvalue: 0.0005558547260098018\n",
      "Eigenvector 11: rdm rank: 8\n",
      "12 12\n",
      "Eigenvalue: -15.266758372802723, rdm Minimum Eigenvalue: 4.154328121643708e-05\n",
      "Eigenvector 12: rdm rank: 8\n",
      "13 13\n",
      "Eigenvalue: -14.524159319649023, rdm Minimum Eigenvalue: 0.00010818472131950472\n",
      "Eigenvector 13: rdm rank: 8\n",
      "14 14\n",
      "Eigenvalue: -14.524159319649016, rdm Minimum Eigenvalue: 7.434439671576287e-05\n",
      "Eigenvector 14: rdm rank: 8\n",
      "15 15\n",
      "Eigenvalue: -14.524159319649003, rdm Minimum Eigenvalue: 0.0005276526150991266\n",
      "Eigenvector 15: rdm rank: 8\n",
      "16 16\n",
      "Eigenvalue: -14.273798985668492, rdm Minimum Eigenvalue: 0.000312069557879948\n",
      "Eigenvector 16: rdm rank: 8\n",
      "17 17\n",
      "Eigenvalue: -14.273798985668488, rdm Minimum Eigenvalue: 0.00026376938808126153\n",
      "Eigenvector 17: rdm rank: 8\n",
      "18 18\n",
      "Eigenvalue: -13.160210200476955, rdm Minimum Eigenvalue: 0.00018849313220269874\n",
      "Eigenvector 18: rdm rank: 8\n",
      "19 19\n",
      "Eigenvalue: -13.022415939171893, rdm Minimum Eigenvalue: 0.0025782695615073985\n",
      "Eigenvector 19: rdm rank: 8\n",
      "20 20\n",
      "Eigenvalue: -12.49863597602226, rdm Minimum Eigenvalue: 0.0004949351183593412\n",
      "Eigenvector 20: rdm rank: 8\n",
      "21 21\n",
      "Eigenvalue: -12.498635976022257, rdm Minimum Eigenvalue: 0.00012522556461428766\n",
      "Eigenvector 21: rdm rank: 8\n",
      "22 22\n",
      "Eigenvalue: -12.498635976022253, rdm Minimum Eigenvalue: 0.0012508194099184232\n",
      "Eigenvector 22: rdm rank: 8\n",
      "23 23\n",
      "Eigenvalue: -12.494799453622914, rdm Minimum Eigenvalue: 0.00020681337868395968\n",
      "Eigenvector 23: rdm rank: 8\n",
      "24 24\n",
      "Eigenvalue: -12.494799453622914, rdm Minimum Eigenvalue: 1.633693921490603e-05\n",
      "Eigenvector 24: rdm rank: 8\n",
      "25 25\n",
      "Eigenvalue: -12.49479945362291, rdm Minimum Eigenvalue: 9.356898723834557e-05\n",
      "Eigenvector 25: rdm rank: 8\n",
      "26 26\n",
      "Eigenvalue: -12.165525060596433, rdm Minimum Eigenvalue: 0.00012077080178481179\n",
      "Eigenvector 26: rdm rank: 8\n",
      "27 27\n",
      "Eigenvalue: -12.165525060596426, rdm Minimum Eigenvalue: 7.867632942050303e-06\n",
      "Eigenvector 27: rdm rank: 8\n",
      "28 28\n",
      "Eigenvalue: -11.996144805415625, rdm Minimum Eigenvalue: 0.002322662186722049\n",
      "Eigenvector 28: rdm rank: 8\n",
      "29 29\n",
      "Eigenvalue: -10.478320642915056, rdm Minimum Eigenvalue: 3.9466250325255104e-05\n",
      "Eigenvector 29: rdm rank: 8\n",
      "30 30\n",
      "Eigenvalue: -10.478320642915053, rdm Minimum Eigenvalue: 0.0007419485741841792\n",
      "Eigenvector 30: rdm rank: 8\n",
      "31 31\n",
      "Eigenvalue: -10.478320642915053, rdm Minimum Eigenvalue: 9.543713134556531e-05\n",
      "Eigenvector 31: rdm rank: 8\n",
      "32 32\n",
      "Eigenvalue: -10.440725376167043, rdm Minimum Eigenvalue: 0.0002532071774758182\n",
      "Eigenvector 32: rdm rank: 8\n",
      "33 33\n",
      "Eigenvalue: -10.440725376167041, rdm Minimum Eigenvalue: 0.0027986540962567532\n",
      "Eigenvector 33: rdm rank: 8\n",
      "34 34\n",
      "Eigenvalue: -10.286871152519637, rdm Minimum Eigenvalue: 0.0001838925946074653\n",
      "Eigenvector 34: rdm rank: 8\n",
      "35 35\n",
      "Eigenvalue: -10.286871152519634, rdm Minimum Eigenvalue: 0.0019292343228361948\n",
      "Eigenvector 35: rdm rank: 8\n",
      "36 36\n",
      "Eigenvalue: -10.28687115251963, rdm Minimum Eigenvalue: 0.010394181588602447\n",
      "Eigenvector 36: rdm rank: 8\n",
      "37 37\n",
      "Eigenvalue: -9.782334987815608, rdm Minimum Eigenvalue: 0.0016819499477938606\n",
      "Eigenvector 37: rdm rank: 8\n",
      "38 38\n",
      "Eigenvalue: -9.782334987815604, rdm Minimum Eigenvalue: 0.001944696766857124\n",
      "Eigenvector 38: rdm rank: 8\n",
      "39 39\n",
      "Eigenvalue: -9.782334987815602, rdm Minimum Eigenvalue: 7.473286284215203e-05\n",
      "Eigenvector 39: rdm rank: 8\n",
      "40 40\n",
      "Eigenvalue: -9.31765122825746, rdm Minimum Eigenvalue: 5.3912707316480656e-05\n",
      "Eigenvector 40: rdm rank: 8\n",
      "41 41\n",
      "Eigenvalue: -9.317651228257457, rdm Minimum Eigenvalue: 0.004977378848950574\n",
      "Eigenvector 41: rdm rank: 8\n",
      "42 42\n",
      "Eigenvalue: -9.31765122825745, rdm Minimum Eigenvalue: 0.0022365185811821734\n",
      "Eigenvector 42: rdm rank: 8\n",
      "43 43\n",
      "Eigenvalue: -8.84746183063536, rdm Minimum Eigenvalue: 0.0010735506727653557\n",
      "Eigenvector 43: rdm rank: 8\n",
      "44 44\n",
      "Eigenvalue: -8.644317875007733, rdm Minimum Eigenvalue: 0.014683243464897416\n",
      "Eigenvector 44: rdm rank: 8\n",
      "45 45\n",
      "Eigenvalue: -8.644317875007731, rdm Minimum Eigenvalue: 0.00515880184001254\n",
      "Eigenvector 45: rdm rank: 8\n",
      "46 46\n",
      "Eigenvalue: -8.644317875007731, rdm Minimum Eigenvalue: 0.009321113919742436\n",
      "Eigenvector 46: rdm rank: 8\n",
      "47 47\n",
      "Eigenvalue: -8.64431787500773, rdm Minimum Eigenvalue: 0.017728022935563855\n",
      "Eigenvector 47: rdm rank: 8\n",
      "48 48\n",
      "Eigenvalue: -8.644317875007728, rdm Minimum Eigenvalue: 0.006790494012571248\n",
      "Eigenvector 48: rdm rank: 8\n",
      "49 49\n",
      "Eigenvalue: -7.981781977911526, rdm Minimum Eigenvalue: 0.0056566222029160885\n",
      "Eigenvector 49: rdm rank: 8\n",
      "50 50\n",
      "Eigenvalue: -7.981781977911526, rdm Minimum Eigenvalue: 0.01317505440564221\n",
      "Eigenvector 50: rdm rank: 8\n",
      "51 51\n",
      "Eigenvalue: -7.981781977911517, rdm Minimum Eigenvalue: 0.04083099120084064\n",
      "Eigenvector 51: rdm rank: 8\n",
      "52 52\n",
      "Eigenvalue: -7.940278716474284, rdm Minimum Eigenvalue: 0.014747398773795526\n",
      "Eigenvector 52: rdm rank: 8\n",
      "53 53\n",
      "Eigenvalue: -7.94027871647428, rdm Minimum Eigenvalue: 0.002234233827382808\n",
      "Eigenvector 53: rdm rank: 8\n",
      "54 54\n",
      "Eigenvalue: -7.9402787164742765, rdm Minimum Eigenvalue: 0.0023425380449388\n",
      "Eigenvector 54: rdm rank: 8\n",
      "55 55\n",
      "Eigenvalue: -7.880687014936383, rdm Minimum Eigenvalue: 0.00165716023907392\n",
      "Eigenvector 55: rdm rank: 8\n",
      "56 56\n",
      "Eigenvalue: -6.869258147013557, rdm Minimum Eigenvalue: 0.007021929172021107\n",
      "Eigenvector 56: rdm rank: 8\n",
      "57 57\n",
      "Eigenvalue: -6.662954101349543, rdm Minimum Eigenvalue: 0.035221236671541555\n",
      "Eigenvector 57: rdm rank: 8\n",
      "58 58\n",
      "Eigenvalue: -6.644317875007735, rdm Minimum Eigenvalue: 0.008037444565720295\n",
      "Eigenvector 58: rdm rank: 8\n",
      "59 59\n",
      "Eigenvalue: -6.644317875007735, rdm Minimum Eigenvalue: 0.002783573205648647\n",
      "Eigenvector 59: rdm rank: 8\n",
      "60 60\n",
      "Eigenvalue: -6.644317875007729, rdm Minimum Eigenvalue: 0.0202270776880955\n",
      "Eigenvector 60: rdm rank: 8\n",
      "61 61\n",
      "Eigenvalue: -6.644317875007722, rdm Minimum Eigenvalue: 0.008633207292277614\n",
      "Eigenvector 61: rdm rank: 8\n",
      "62 62\n",
      "Eigenvalue: -6.6443178750077205, rdm Minimum Eigenvalue: 0.00028773679829678276\n",
      "Eigenvector 62: rdm rank: 8\n",
      "63 63\n",
      "Eigenvalue: -6.13738299145896, rdm Minimum Eigenvalue: 0.0018280008893842184\n",
      "Eigenvector 63: rdm rank: 8\n",
      "64 64\n",
      "Eigenvalue: -6.13738299145896, rdm Minimum Eigenvalue: 0.0014552521677206592\n",
      "Eigenvector 64: rdm rank: 8\n",
      "65 65\n",
      "Eigenvalue: -6.137382991458953, rdm Minimum Eigenvalue: 0.004176378203748626\n",
      "Eigenvector 65: rdm rank: 8\n",
      "66 66\n",
      "Eigenvalue: -5.9580057669475135, rdm Minimum Eigenvalue: 0.00166328443170541\n",
      "Eigenvector 66: rdm rank: 8\n",
      "67 67\n",
      "Eigenvalue: -5.95800576694751, rdm Minimum Eigenvalue: 0.0016125968610290256\n",
      "Eigenvector 67: rdm rank: 8\n",
      "68 68\n",
      "Eigenvalue: -5.958005766947506, rdm Minimum Eigenvalue: 0.005572447107624777\n",
      "Eigenvector 68: rdm rank: 8\n",
      "69 69\n",
      "Eigenvalue: -5.854318101014533, rdm Minimum Eigenvalue: 0.01200770833545256\n",
      "Eigenvector 69: rdm rank: 8\n",
      "70 70\n",
      "Eigenvalue: -5.854318101014532, rdm Minimum Eigenvalue: 0.023571430188510135\n",
      "Eigenvector 70: rdm rank: 8\n",
      "71 71\n",
      "Eigenvalue: -5.854318101014531, rdm Minimum Eigenvalue: 0.033163304565949826\n",
      "Eigenvector 71: rdm rank: 8\n",
      "72 72\n",
      "Eigenvalue: -5.854318101014529, rdm Minimum Eigenvalue: 0.004989127925897163\n",
      "Eigenvector 72: rdm rank: 8\n",
      "73 73\n",
      "Eigenvalue: -5.854318101014524, rdm Minimum Eigenvalue: 0.0256921934214726\n",
      "Eigenvector 73: rdm rank: 8\n",
      "74 74\n",
      "Eigenvalue: -5.245735322401303, rdm Minimum Eigenvalue: 0.03038220806552204\n",
      "Eigenvector 74: rdm rank: 8\n",
      "75 75\n",
      "Eigenvalue: -4.925323531533964, rdm Minimum Eigenvalue: 0.024299867400028236\n",
      "Eigenvector 75: rdm rank: 8\n",
      "76 76\n",
      "Eigenvalue: -4.925323531533962, rdm Minimum Eigenvalue: 0.0008858633325186678\n",
      "Eigenvector 76: rdm rank: 8\n",
      "77 77\n",
      "Eigenvalue: -4.925323531533957, rdm Minimum Eigenvalue: 0.003798730467164765\n",
      "Eigenvector 77: rdm rank: 8\n",
      "78 78\n",
      "Eigenvalue: -4.39200579889841, rdm Minimum Eigenvalue: 0.001461472453796711\n",
      "Eigenvector 78: rdm rank: 8\n",
      "79 79\n",
      "Eigenvalue: -4.311621911608645, rdm Minimum Eigenvalue: 0.005960252289798863\n",
      "Eigenvector 79: rdm rank: 8\n",
      "80 80\n",
      "Eigenvalue: -4.311621911608643, rdm Minimum Eigenvalue: 0.010370816538179123\n",
      "Eigenvector 80: rdm rank: 8\n",
      "81 81\n",
      "Eigenvalue: -4.311621911608639, rdm Minimum Eigenvalue: 0.006360426360197418\n",
      "Eigenvector 81: rdm rank: 8\n",
      "82 82\n",
      "Eigenvalue: -4.190638687463487, rdm Minimum Eigenvalue: 0.0016366209552844493\n",
      "Eigenvector 82: rdm rank: 8\n",
      "83 83\n",
      "Eigenvalue: -4.190638687463485, rdm Minimum Eigenvalue: 0.012637814381391858\n",
      "Eigenvector 83: rdm rank: 8\n",
      "84 84\n",
      "Eigenvalue: -4.190638687463485, rdm Minimum Eigenvalue: 0.0045768246029444255\n",
      "Eigenvector 84: rdm rank: 8\n",
      "85 85\n",
      "Eigenvalue: -3.8543181010145293, rdm Minimum Eigenvalue: 0.004692475950992399\n",
      "Eigenvector 85: rdm rank: 8\n",
      "86 86\n",
      "Eigenvalue: -3.854318101014527, rdm Minimum Eigenvalue: 0.011080103341374768\n",
      "Eigenvector 86: rdm rank: 8\n",
      "87 87\n",
      "Eigenvalue: -3.854318101014527, rdm Minimum Eigenvalue: 0.029565524147589985\n",
      "Eigenvector 87: rdm rank: 8\n",
      "88 88\n",
      "Eigenvalue: -3.854318101014527, rdm Minimum Eigenvalue: 0.0035415942777197204\n",
      "Eigenvector 88: rdm rank: 8\n",
      "89 89\n",
      "Eigenvalue: -3.854318101014524, rdm Minimum Eigenvalue: 0.003258879718294093\n",
      "Eigenvector 89: rdm rank: 8\n",
      "90 90\n",
      "Eigenvalue: -3.369037823361288, rdm Minimum Eigenvalue: 0.011819057809007182\n",
      "Eigenvector 90: rdm rank: 8\n",
      "91 91\n",
      "Eigenvalue: -3.3690378233612877, rdm Minimum Eigenvalue: 0.006132383308393235\n",
      "Eigenvector 91: rdm rank: 8\n",
      "92 92\n",
      "Eigenvalue: -3.3690378233612854, rdm Minimum Eigenvalue: 0.00971086340587637\n",
      "Eigenvector 92: rdm rank: 8\n",
      "93 93\n",
      "Eigenvalue: -3.354089464547803, rdm Minimum Eigenvalue: 0.024076448042406193\n",
      "Eigenvector 93: rdm rank: 8\n",
      "94 94\n",
      "Eigenvalue: -3.354089464547796, rdm Minimum Eigenvalue: 0.02367189811075543\n",
      "Eigenvector 94: rdm rank: 8\n",
      "95 95\n",
      "Eigenvalue: -3.2876842122172034, rdm Minimum Eigenvalue: 0.022212606861209676\n",
      "Eigenvector 95: rdm rank: 8\n",
      "96 96\n",
      "Eigenvalue: -3.0479210484057764, rdm Minimum Eigenvalue: 0.011383225793602108\n",
      "Eigenvector 96: rdm rank: 8\n",
      "97 97\n",
      "Eigenvalue: -3.047921048405775, rdm Minimum Eigenvalue: 0.002628059737839057\n",
      "Eigenvector 97: rdm rank: 8\n",
      "98 98\n",
      "Eigenvalue: -3.047921048405774, rdm Minimum Eigenvalue: 0.0019435191444087717\n",
      "Eigenvector 98: rdm rank: 8\n",
      "99 99\n",
      "Eigenvalue: -2.789999773993207, rdm Minimum Eigenvalue: 0.00877755895621988\n",
      "Eigenvector 99: rdm rank: 8\n",
      "100 100\n",
      "Eigenvalue: -2.789999773993201, rdm Minimum Eigenvalue: 0.05975224173638005\n",
      "Eigenvector 100: rdm rank: 8\n",
      "101 101\n",
      "Eigenvalue: -2.789999773993201, rdm Minimum Eigenvalue: 0.054060015782542235\n",
      "Eigenvector 101: rdm rank: 8\n",
      "102 102\n",
      "Eigenvalue: -2.7628615923253066, rdm Minimum Eigenvalue: 0.0370019676085296\n",
      "Eigenvector 102: rdm rank: 8\n",
      "103 103\n",
      "Eigenvalue: -2.3223445863898124, rdm Minimum Eigenvalue: 0.003957620099976058\n",
      "Eigenvector 103: rdm rank: 8\n",
      "104 104\n",
      "Eigenvalue: -2.3223445863898116, rdm Minimum Eigenvalue: 0.007804608233008329\n",
      "Eigenvector 104: rdm rank: 8\n",
      "105 105\n",
      "Eigenvalue: -2.3223445863898102, rdm Minimum Eigenvalue: 0.008136983106479123\n",
      "Eigenvector 105: rdm rank: 8\n",
      "106 106\n",
      "Eigenvalue: -2.000000000000001, rdm Minimum Eigenvalue: 0.013312363600588108\n",
      "Eigenvector 106: rdm rank: 8\n",
      "107 107\n",
      "Eigenvalue: -2.0, rdm Minimum Eigenvalue: 0.0033889279507072793\n",
      "Eigenvector 107: rdm rank: 8\n",
      "108 108\n",
      "Eigenvalue: -1.9999999999999982, rdm Minimum Eigenvalue: 0.00638391066687039\n",
      "Eigenvector 108: rdm rank: 8\n",
      "109 109\n",
      "Eigenvalue: -1.9450355575717493, rdm Minimum Eigenvalue: 0.002153540618662842\n",
      "Eigenvector 109: rdm rank: 8\n",
      "110 110\n",
      "Eigenvalue: -1.9450355575717486, rdm Minimum Eigenvalue: 0.0055652375076853215\n",
      "Eigenvector 110: rdm rank: 8\n",
      "111 111\n",
      "Eigenvalue: -1.945035557571748, rdm Minimum Eigenvalue: 0.03164507363116747\n",
      "Eigenvector 111: rdm rank: 8\n",
      "112 112\n",
      "Eigenvalue: -1.292500817698135, rdm Minimum Eigenvalue: 0.04590536333949507\n",
      "Eigenvector 112: rdm rank: 8\n",
      "113 113\n",
      "Eigenvalue: -1.2925008176981336, rdm Minimum Eigenvalue: 0.011399664197176161\n",
      "Eigenvector 113: rdm rank: 8\n",
      "114 114\n",
      "Eigenvalue: -1.2925008176981316, rdm Minimum Eigenvalue: 0.024728109571949923\n",
      "Eigenvector 114: rdm rank: 8\n",
      "115 115\n",
      "Eigenvalue: -0.1451482374034968, rdm Minimum Eigenvalue: 0.004183822687644584\n",
      "Eigenvector 115: rdm rank: 8\n",
      "116 116\n",
      "Eigenvalue: -4.712080853917639e-15, rdm Minimum Eigenvalue: 0.032008195029219574\n",
      "Eigenvector 116: rdm rank: 8\n",
      "117 117\n",
      "Eigenvalue: -4.614017132952925e-15, rdm Minimum Eigenvalue: 0.014472278464649291\n",
      "Eigenvector 117: rdm rank: 8\n",
      "118 118\n",
      "Eigenvalue: -3.886260551729883e-15, rdm Minimum Eigenvalue: 0.02518301149826226\n",
      "Eigenvector 118: rdm rank: 8\n",
      "119 119\n",
      "Eigenvalue: -3.444934036409613e-15, rdm Minimum Eigenvalue: 0.03903355417827182\n",
      "Eigenvector 119: rdm rank: 8\n",
      "120 120\n",
      "Eigenvalue: -2.5979725788808618e-15, rdm Minimum Eigenvalue: 0.030772792913218484\n",
      "Eigenvector 120: rdm rank: 8\n",
      "121 121\n",
      "Eigenvalue: -2.4764482050307693e-15, rdm Minimum Eigenvalue: 0.05082703717725158\n",
      "Eigenvector 121: rdm rank: 8\n",
      "122 122\n",
      "Eigenvalue: -2.4147350785597155e-15, rdm Minimum Eigenvalue: 0.024878434971701512\n",
      "Eigenvector 122: rdm rank: 8\n",
      "123 123\n",
      "Eigenvalue: -2.3712733590595395e-15, rdm Minimum Eigenvalue: 0.04031695388033633\n",
      "Eigenvector 123: rdm rank: 8\n",
      "124 124\n",
      "Eigenvalue: -1.9493954613177773e-15, rdm Minimum Eigenvalue: 0.023203823510612908\n",
      "Eigenvector 124: rdm rank: 8\n",
      "125 125\n",
      "Eigenvalue: -1.6463875640366048e-15, rdm Minimum Eigenvalue: 0.016202435632838807\n",
      "Eigenvector 125: rdm rank: 8\n",
      "126 126\n",
      "Eigenvalue: -1.141924915211168e-15, rdm Minimum Eigenvalue: 0.06336952145484226\n",
      "Eigenvector 126: rdm rank: 8\n",
      "127 127\n",
      "Eigenvalue: -1.0546023431103999e-15, rdm Minimum Eigenvalue: 0.03271066801109559\n",
      "Eigenvector 127: rdm rank: 8\n",
      "128 128\n",
      "Eigenvalue: -3.507327434046e-16, rdm Minimum Eigenvalue: 0.02572178347952455\n",
      "Eigenvector 128: rdm rank: 8\n",
      "129 129\n",
      "Eigenvalue: -1.5337529957738658e-16, rdm Minimum Eigenvalue: 0.03268765031033635\n",
      "Eigenvector 129: rdm rank: 8\n",
      "130 130\n",
      "Eigenvalue: 3.226585665688709e-16, rdm Minimum Eigenvalue: 0.038344228405351614\n",
      "Eigenvector 130: rdm rank: 8\n",
      "131 131\n",
      "Eigenvalue: 5.694591354498317e-16, rdm Minimum Eigenvalue: 0.028709974348088335\n",
      "Eigenvector 131: rdm rank: 8\n",
      "132 132\n",
      "Eigenvalue: 1.8030805424376295e-15, rdm Minimum Eigenvalue: 0.024522600014188968\n",
      "Eigenvector 132: rdm rank: 8\n",
      "133 133\n",
      "Eigenvalue: 2.279345509144405e-15, rdm Minimum Eigenvalue: 0.052582132544844194\n",
      "Eigenvector 133: rdm rank: 8\n",
      "134 134\n",
      "Eigenvalue: 2.589209343293884e-15, rdm Minimum Eigenvalue: 0.03743645293010252\n",
      "Eigenvector 134: rdm rank: 8\n",
      "135 135\n",
      "Eigenvalue: 2.9810001802671762e-15, rdm Minimum Eigenvalue: 0.04376147143808995\n",
      "Eigenvector 135: rdm rank: 8\n",
      "136 136\n",
      "Eigenvalue: 3.1808086143442574e-15, rdm Minimum Eigenvalue: 0.04237621440902967\n",
      "Eigenvector 136: rdm rank: 8\n",
      "137 137\n",
      "Eigenvalue: 3.198477816166652e-15, rdm Minimum Eigenvalue: 0.11557317408920864\n",
      "Eigenvector 137: rdm rank: 8\n",
      "138 138\n",
      "Eigenvalue: 3.90574651456908e-15, rdm Minimum Eigenvalue: 0.024729169634077883\n",
      "Eigenvector 138: rdm rank: 8\n",
      "139 139\n",
      "Eigenvalue: 5.662137425588298e-15, rdm Minimum Eigenvalue: 0.022261747918504386\n",
      "Eigenvector 139: rdm rank: 8\n",
      "140 140\n",
      "Eigenvalue: 0.145148237403494, rdm Minimum Eigenvalue: 0.004183822687644773\n",
      "Eigenvector 140: rdm rank: 8\n",
      "141 141\n",
      "Eigenvalue: 1.292500817698131, rdm Minimum Eigenvalue: 0.04553429511643602\n",
      "Eigenvector 141: rdm rank: 8\n",
      "142 142\n",
      "Eigenvalue: 1.292500817698134, rdm Minimum Eigenvalue: 0.045633628191063175\n",
      "Eigenvector 142: rdm rank: 8\n",
      "143 143\n",
      "Eigenvalue: 1.2925008176981343, rdm Minimum Eigenvalue: 0.06391515026931206\n",
      "Eigenvector 143: rdm rank: 8\n",
      "144 144\n",
      "Eigenvalue: 1.9450355575717466, rdm Minimum Eigenvalue: 0.02731485007245489\n",
      "Eigenvector 144: rdm rank: 8\n",
      "145 145\n",
      "Eigenvalue: 1.9450355575717473, rdm Minimum Eigenvalue: 0.03483608810181493\n",
      "Eigenvector 145: rdm rank: 8\n",
      "146 146\n",
      "Eigenvalue: 1.9450355575717506, rdm Minimum Eigenvalue: 0.0021127710111444142\n",
      "Eigenvector 146: rdm rank: 8\n",
      "147 147\n",
      "Eigenvalue: 1.999999999999999, rdm Minimum Eigenvalue: 0.020866363319941118\n",
      "Eigenvector 147: rdm rank: 8\n",
      "148 148\n",
      "Eigenvalue: 1.999999999999999, rdm Minimum Eigenvalue: 0.06237540499009381\n",
      "Eigenvector 148: rdm rank: 8\n",
      "149 149\n",
      "Eigenvalue: 2.0, rdm Minimum Eigenvalue: 0.0016984568748311763\n",
      "Eigenvector 149: rdm rank: 8\n",
      "150 150\n",
      "Eigenvalue: 2.3223445863898124, rdm Minimum Eigenvalue: 0.002196378628422417\n",
      "Eigenvector 150: rdm rank: 8\n",
      "151 151\n",
      "Eigenvalue: 2.3223445863898124, rdm Minimum Eigenvalue: 0.007008010909349258\n",
      "Eigenvector 151: rdm rank: 8\n",
      "152 152\n",
      "Eigenvalue: 2.3223445863898156, rdm Minimum Eigenvalue: 0.004914879726854602\n",
      "Eigenvector 152: rdm rank: 8\n",
      "153 153\n",
      "Eigenvalue: 2.762861592325297, rdm Minimum Eigenvalue: 0.037001967608529716\n",
      "Eigenvector 153: rdm rank: 8\n",
      "154 154\n",
      "Eigenvalue: 2.7899997739931957, rdm Minimum Eigenvalue: 0.019101606312154375\n",
      "Eigenvector 154: rdm rank: 8\n",
      "155 155\n",
      "Eigenvalue: 2.789999773993201, rdm Minimum Eigenvalue: 0.04364204745646099\n",
      "Eigenvector 155: rdm rank: 8\n",
      "156 156\n",
      "Eigenvalue: 2.789999773993202, rdm Minimum Eigenvalue: 0.07178507007437683\n",
      "Eigenvector 156: rdm rank: 8\n",
      "157 157\n",
      "Eigenvalue: 3.047921048405771, rdm Minimum Eigenvalue: 0.004684913849521417\n",
      "Eigenvector 157: rdm rank: 8\n",
      "158 158\n",
      "Eigenvalue: 3.0479210484057715, rdm Minimum Eigenvalue: 0.00356015732795793\n",
      "Eigenvector 158: rdm rank: 8\n",
      "159 159\n",
      "Eigenvalue: 3.0479210484057764, rdm Minimum Eigenvalue: 0.005495882197625743\n",
      "Eigenvector 159: rdm rank: 8\n",
      "160 160\n",
      "Eigenvalue: 3.287684212217198, rdm Minimum Eigenvalue: 0.022212606861210172\n",
      "Eigenvector 160: rdm rank: 8\n",
      "161 161\n",
      "Eigenvalue: 3.3540894645477977, rdm Minimum Eigenvalue: 0.03947586597329988\n",
      "Eigenvector 161: rdm rank: 8\n",
      "162 162\n",
      "Eigenvalue: 3.3540894645477994, rdm Minimum Eigenvalue: 0.011280313704530198\n",
      "Eigenvector 162: rdm rank: 8\n",
      "163 163\n",
      "Eigenvalue: 3.369037823361287, rdm Minimum Eigenvalue: 0.009167350837591012\n",
      "Eigenvector 163: rdm rank: 8\n",
      "164 164\n",
      "Eigenvalue: 3.369037823361289, rdm Minimum Eigenvalue: 0.0056999078838216415\n",
      "Eigenvector 164: rdm rank: 8\n",
      "165 165\n",
      "Eigenvalue: 3.36903782336129, rdm Minimum Eigenvalue: 0.009418444453568578\n",
      "Eigenvector 165: rdm rank: 8\n",
      "166 166\n",
      "Eigenvalue: 3.8543181010145298, rdm Minimum Eigenvalue: 0.0222393668161385\n",
      "Eigenvector 166: rdm rank: 8\n",
      "167 167\n",
      "Eigenvalue: 3.85431810101453, rdm Minimum Eigenvalue: 0.0032737357388348803\n",
      "Eigenvector 167: rdm rank: 8\n",
      "168 168\n",
      "Eigenvalue: 3.85431810101453, rdm Minimum Eigenvalue: 0.009646541522071636\n",
      "Eigenvector 168: rdm rank: 8\n",
      "169 169\n",
      "Eigenvalue: 3.8543181010145324, rdm Minimum Eigenvalue: 0.005703150618982781\n",
      "Eigenvector 169: rdm rank: 8\n",
      "170 170\n",
      "Eigenvalue: 3.8543181010145338, rdm Minimum Eigenvalue: 0.0033666973762483785\n",
      "Eigenvector 170: rdm rank: 8\n",
      "171 171\n",
      "Eigenvalue: 4.190638687463483, rdm Minimum Eigenvalue: 0.0016513832205064711\n",
      "Eigenvector 171: rdm rank: 8\n",
      "172 172\n",
      "Eigenvalue: 4.190638687463484, rdm Minimum Eigenvalue: 0.0037936299946189265\n",
      "Eigenvector 172: rdm rank: 8\n",
      "173 173\n",
      "Eigenvalue: 4.190638687463485, rdm Minimum Eigenvalue: 0.004564531033070265\n",
      "Eigenvector 173: rdm rank: 8\n",
      "174 174\n",
      "Eigenvalue: 4.311621911608638, rdm Minimum Eigenvalue: 0.011517979009757696\n",
      "Eigenvector 174: rdm rank: 8\n",
      "175 175\n",
      "Eigenvalue: 4.31162191160864, rdm Minimum Eigenvalue: 0.010508958204584386\n",
      "Eigenvector 175: rdm rank: 8\n",
      "176 176\n",
      "Eigenvalue: 4.311621911608641, rdm Minimum Eigenvalue: 0.006824165320669641\n",
      "Eigenvector 176: rdm rank: 8\n",
      "177 177\n",
      "Eigenvalue: 4.392005798898409, rdm Minimum Eigenvalue: 0.0014614724537967043\n",
      "Eigenvector 177: rdm rank: 8\n",
      "178 178\n",
      "Eigenvalue: 4.925323531533962, rdm Minimum Eigenvalue: 0.006591507213677317\n",
      "Eigenvector 178: rdm rank: 8\n",
      "179 179\n",
      "Eigenvalue: 4.925323531533963, rdm Minimum Eigenvalue: 0.010028244366286236\n",
      "Eigenvector 179: rdm rank: 8\n",
      "180 180\n",
      "Eigenvalue: 4.925323531533964, rdm Minimum Eigenvalue: 0.03999704459901968\n",
      "Eigenvector 180: rdm rank: 8\n",
      "181 181\n",
      "Eigenvalue: 5.245735322401307, rdm Minimum Eigenvalue: 0.030382208065522158\n",
      "Eigenvector 181: rdm rank: 8\n",
      "182 182\n",
      "Eigenvalue: 5.854318101014524, rdm Minimum Eigenvalue: 0.006852560861945849\n",
      "Eigenvector 182: rdm rank: 8\n",
      "183 183\n",
      "Eigenvalue: 5.8543181010145275, rdm Minimum Eigenvalue: 0.021655448849977443\n",
      "Eigenvector 183: rdm rank: 8\n",
      "184 184\n",
      "Eigenvalue: 5.8543181010145275, rdm Minimum Eigenvalue: 0.014816980191024861\n",
      "Eigenvector 184: rdm rank: 8\n",
      "185 185\n",
      "Eigenvalue: 5.854318101014529, rdm Minimum Eigenvalue: 0.02865891589751173\n",
      "Eigenvector 185: rdm rank: 8\n",
      "186 186\n",
      "Eigenvalue: 5.854318101014535, rdm Minimum Eigenvalue: 0.0024732369876421614\n",
      "Eigenvector 186: rdm rank: 8\n",
      "187 187\n",
      "Eigenvalue: 5.9580057669475055, rdm Minimum Eigenvalue: 0.004222353719177243\n",
      "Eigenvector 187: rdm rank: 8\n",
      "188 188\n",
      "Eigenvalue: 5.958005766947508, rdm Minimum Eigenvalue: 0.013687201593182315\n",
      "Eigenvector 188: rdm rank: 8\n",
      "189 189\n",
      "Eigenvalue: 5.958005766947509, rdm Minimum Eigenvalue: 0.0009731015199618956\n",
      "Eigenvector 189: rdm rank: 8\n",
      "190 190\n",
      "Eigenvalue: 6.137382991458955, rdm Minimum Eigenvalue: 0.002441583138893471\n",
      "Eigenvector 190: rdm rank: 8\n",
      "191 191\n",
      "Eigenvalue: 6.137382991458955, rdm Minimum Eigenvalue: 0.0019655786734658477\n",
      "Eigenvector 191: rdm rank: 8\n",
      "192 192\n",
      "Eigenvalue: 6.137382991458957, rdm Minimum Eigenvalue: 0.003936562790610894\n",
      "Eigenvector 192: rdm rank: 8\n",
      "193 193\n",
      "Eigenvalue: 6.644317875007728, rdm Minimum Eigenvalue: 0.03685540069521258\n",
      "Eigenvector 193: rdm rank: 8\n",
      "194 194\n",
      "Eigenvalue: 6.64431787500773, rdm Minimum Eigenvalue: 0.007487740009407959\n",
      "Eigenvector 194: rdm rank: 8\n",
      "195 195\n",
      "Eigenvalue: 6.64431787500773, rdm Minimum Eigenvalue: 0.012846974501158626\n",
      "Eigenvector 195: rdm rank: 8\n",
      "196 196\n",
      "Eigenvalue: 6.64431787500773, rdm Minimum Eigenvalue: 0.007483863844699328\n",
      "Eigenvector 196: rdm rank: 8\n",
      "197 197\n",
      "Eigenvalue: 6.644317875007733, rdm Minimum Eigenvalue: 0.0009244621094770213\n",
      "Eigenvector 197: rdm rank: 8\n",
      "198 198\n",
      "Eigenvalue: 6.662954101349547, rdm Minimum Eigenvalue: 0.03522123667154138\n",
      "Eigenvector 198: rdm rank: 8\n",
      "199 199\n",
      "Eigenvalue: 6.869258147013561, rdm Minimum Eigenvalue: 0.007021929172021084\n",
      "Eigenvector 199: rdm rank: 8\n",
      "200 200\n",
      "Eigenvalue: 7.880687014936388, rdm Minimum Eigenvalue: 0.0016571602390739223\n",
      "Eigenvector 200: rdm rank: 8\n",
      "201 201\n",
      "Eigenvalue: 7.940278716474265, rdm Minimum Eigenvalue: 0.008123610999819996\n",
      "Eigenvector 201: rdm rank: 8\n",
      "202 202\n",
      "Eigenvalue: 7.940278716474276, rdm Minimum Eigenvalue: 0.006140597999868552\n",
      "Eigenvector 202: rdm rank: 8\n",
      "203 203\n",
      "Eigenvalue: 7.94027871647428, rdm Minimum Eigenvalue: 0.021299952491230567\n",
      "Eigenvector 203: rdm rank: 8\n",
      "204 204\n",
      "Eigenvalue: 7.981781977911515, rdm Minimum Eigenvalue: 0.020704937010883842\n",
      "Eigenvector 204: rdm rank: 8\n",
      "205 205\n",
      "Eigenvalue: 7.981781977911519, rdm Minimum Eigenvalue: 0.01573233247175221\n",
      "Eigenvector 205: rdm rank: 8\n",
      "206 206\n",
      "Eigenvalue: 7.981781977911524, rdm Minimum Eigenvalue: 0.006425308414845327\n",
      "Eigenvector 206: rdm rank: 8\n",
      "207 207\n",
      "Eigenvalue: 8.644317875007728, rdm Minimum Eigenvalue: 0.020142188579149695\n",
      "Eigenvector 207: rdm rank: 8\n",
      "208 208\n",
      "Eigenvalue: 8.64431787500773, rdm Minimum Eigenvalue: 0.0030872445705073096\n",
      "Eigenvector 208: rdm rank: 8\n",
      "209 209\n",
      "Eigenvalue: 8.644317875007733, rdm Minimum Eigenvalue: 0.0023706030909332685\n",
      "Eigenvector 209: rdm rank: 8\n",
      "210 210\n",
      "Eigenvalue: 8.644317875007737, rdm Minimum Eigenvalue: 0.0017698474496401538\n",
      "Eigenvector 210: rdm rank: 8\n",
      "211 211\n",
      "Eigenvalue: 8.644317875007738, rdm Minimum Eigenvalue: 0.00048151928389795476\n",
      "Eigenvector 211: rdm rank: 8\n",
      "212 212\n",
      "Eigenvalue: 8.847461830635359, rdm Minimum Eigenvalue: 0.0010735506727660227\n",
      "Eigenvector 212: rdm rank: 8\n",
      "213 213\n",
      "Eigenvalue: 9.317651228257454, rdm Minimum Eigenvalue: 0.0012014289138808684\n",
      "Eigenvector 213: rdm rank: 8\n",
      "214 214\n",
      "Eigenvalue: 9.31765122825746, rdm Minimum Eigenvalue: 0.0004942601084395819\n",
      "Eigenvector 214: rdm rank: 8\n",
      "215 215\n",
      "Eigenvalue: 9.31765122825746, rdm Minimum Eigenvalue: 0.005445887598162529\n",
      "Eigenvector 215: rdm rank: 8\n",
      "216 216\n",
      "Eigenvalue: 9.7823349878156, rdm Minimum Eigenvalue: 0.0002189530542190148\n",
      "Eigenvector 216: rdm rank: 8\n",
      "217 217\n",
      "Eigenvalue: 9.78233498781561, rdm Minimum Eigenvalue: 0.001964937804095113\n",
      "Eigenvector 217: rdm rank: 8\n",
      "218 218\n",
      "Eigenvalue: 9.782334987815617, rdm Minimum Eigenvalue: 0.002033715064192878\n",
      "Eigenvector 218: rdm rank: 8\n",
      "219 219\n",
      "Eigenvalue: 10.286871152519618, rdm Minimum Eigenvalue: 0.0013408927689617734\n",
      "Eigenvector 219: rdm rank: 8\n",
      "220 220\n",
      "Eigenvalue: 10.286871152519627, rdm Minimum Eigenvalue: 0.0019303053625137109\n",
      "Eigenvector 220: rdm rank: 8\n",
      "221 221\n",
      "Eigenvalue: 10.286871152519637, rdm Minimum Eigenvalue: 0.008836484535700026\n",
      "Eigenvector 221: rdm rank: 8\n",
      "222 222\n",
      "Eigenvalue: 10.440725376167041, rdm Minimum Eigenvalue: 0.0022298513812120187\n",
      "Eigenvector 222: rdm rank: 8\n",
      "223 223\n",
      "Eigenvalue: 10.440725376167048, rdm Minimum Eigenvalue: 0.0007277251570764542\n",
      "Eigenvector 223: rdm rank: 8\n",
      "224 224\n",
      "Eigenvalue: 10.478320642915053, rdm Minimum Eigenvalue: 8.240193034502415e-05\n",
      "Eigenvector 224: rdm rank: 8\n",
      "225 225\n",
      "Eigenvalue: 10.478320642915055, rdm Minimum Eigenvalue: 0.0005928580491366082\n",
      "Eigenvector 225: rdm rank: 8\n",
      "226 226\n",
      "Eigenvalue: 10.478320642915065, rdm Minimum Eigenvalue: 8.831009130128476e-05\n",
      "Eigenvector 226: rdm rank: 8\n",
      "227 227\n",
      "Eigenvalue: 11.996144805415618, rdm Minimum Eigenvalue: 0.0023226621867220676\n",
      "Eigenvector 227: rdm rank: 8\n",
      "228 228\n",
      "Eigenvalue: 12.165525060596433, rdm Minimum Eigenvalue: 9.822172578136745e-06\n",
      "Eigenvector 228: rdm rank: 8\n",
      "229 229\n",
      "Eigenvalue: 12.165525060596435, rdm Minimum Eigenvalue: 5.726951663132814e-06\n",
      "Eigenvector 229: rdm rank: 8\n",
      "230 230\n",
      "Eigenvalue: 12.494799453622914, rdm Minimum Eigenvalue: 0.0005469252206046215\n",
      "Eigenvector 230: rdm rank: 8\n",
      "231 231\n",
      "Eigenvalue: 12.49479945362292, rdm Minimum Eigenvalue: 0.0015845295780809216\n",
      "Eigenvector 231: rdm rank: 8\n",
      "232 232\n",
      "Eigenvalue: 12.494799453622925, rdm Minimum Eigenvalue: 7.122121538175331e-05\n",
      "Eigenvector 232: rdm rank: 8\n",
      "233 233\n",
      "Eigenvalue: 12.49863597602225, rdm Minimum Eigenvalue: 0.0007689145477141133\n",
      "Eigenvector 233: rdm rank: 8\n",
      "234 234\n",
      "Eigenvalue: 12.498635976022257, rdm Minimum Eigenvalue: 0.000502553941277091\n",
      "Eigenvector 234: rdm rank: 8\n",
      "235 235\n",
      "Eigenvalue: 12.49863597602226, rdm Minimum Eigenvalue: 0.00016226513533778046\n",
      "Eigenvector 235: rdm rank: 8\n",
      "236 236\n",
      "Eigenvalue: 13.022415939171891, rdm Minimum Eigenvalue: 0.0025782695615074575\n",
      "Eigenvector 236: rdm rank: 8\n",
      "237 237\n",
      "Eigenvalue: 13.160210200476957, rdm Minimum Eigenvalue: 0.00018849313220270828\n",
      "Eigenvector 237: rdm rank: 8\n",
      "238 238\n",
      "Eigenvalue: 14.273798985668485, rdm Minimum Eigenvalue: 2.9954157118032276e-07\n",
      "Eigenvector 238: rdm rank: 8\n",
      "239 239\n",
      "Eigenvalue: 14.273798985668508, rdm Minimum Eigenvalue: 0.0007337766937972889\n",
      "Eigenvector 239: rdm rank: 8\n",
      "240 240\n",
      "Eigenvalue: 14.524159319649003, rdm Minimum Eigenvalue: 4.155181714387587e-05\n",
      "Eigenvector 240: rdm rank: 8\n",
      "241 241\n",
      "Eigenvalue: 14.524159319649009, rdm Minimum Eigenvalue: 0.0006014203885615518\n",
      "Eigenvector 241: rdm rank: 8\n",
      "242 242\n",
      "Eigenvalue: 14.524159319649014, rdm Minimum Eigenvalue: 1.8721195861856758e-05\n",
      "Eigenvector 242: rdm rank: 8\n",
      "243 243\n",
      "Eigenvalue: 15.266758372802734, rdm Minimum Eigenvalue: 0.00023040834976888538\n",
      "Eigenvector 243: rdm rank: 8\n",
      "244 244\n",
      "Eigenvalue: 15.266758372802741, rdm Minimum Eigenvalue: 0.000448748974437558\n",
      "Eigenvector 244: rdm rank: 8\n",
      "245 245\n",
      "Eigenvalue: 15.266758372802743, rdm Minimum Eigenvalue: 0.00031930679326533487\n",
      "Eigenvector 245: rdm rank: 8\n",
      "246 246\n",
      "Eigenvalue: 16.231905677002384, rdm Minimum Eigenvalue: 4.1125359289179175e-05\n",
      "Eigenvector 246: rdm rank: 8\n",
      "247 247\n",
      "Eigenvalue: 17.689534317175248, rdm Minimum Eigenvalue: 4.6333085511928935e-06\n",
      "Eigenvector 247: rdm rank: 8\n",
      "248 248\n",
      "Eigenvalue: 17.68953431717526, rdm Minimum Eigenvalue: 6.685513788580954e-05\n",
      "Eigenvector 248: rdm rank: 8\n",
      "249 249\n",
      "Eigenvalue: 17.68953431717527, rdm Minimum Eigenvalue: 2.8970770407801358e-05\n",
      "Eigenvector 249: rdm rank: 8\n",
      "250 250\n",
      "Eigenvalue: 18.23222001590118, rdm Minimum Eigenvalue: 6.693007596877427e-05\n",
      "Eigenvector 250: rdm rank: 8\n",
      "251 251\n",
      "Eigenvalue: 19.518910274045993, rdm Minimum Eigenvalue: 3.07652188460154e-05\n",
      "Eigenvector 251: rdm rank: 8\n",
      "252 252\n",
      "Eigenvalue: 19.518910274046, rdm Minimum Eigenvalue: 7.96048585163993e-06\n",
      "Eigenvector 252: rdm rank: 8\n",
      "253 253\n",
      "Eigenvalue: 19.51891027404601, rdm Minimum Eigenvalue: 2.6880520381206652e-05\n",
      "Eigenvector 253: rdm rank: 8\n",
      "254 254\n",
      "Eigenvalue: 22.392875228022696, rdm Minimum Eigenvalue: 3.431644169860884e-05\n",
      "Eigenvector 254: rdm rank: 8\n",
      "255 255\n",
      "Eigenvalue: 25.114802878048373, rdm Minimum Eigenvalue: 1.2898396736403977e-06\n",
      "Eigenvector 255: rdm rank: 8\n",
      "Ranks of the scarred rdms: [8, 8, 8, 8, 8, 8, 8, 8, 8, 8, 8, 8, 8, 8, 8, 8, 8, 8, 8, 8, 8, 8, 8, 8, 8, 8, 8, 8, 8, 8, 8, 8, 8, 8, 8, 8, 8, 8, 8, 8, 8, 8, 8, 8, 8, 8, 8, 8, 8, 8, 8, 8, 8, 8, 8, 8, 8, 8, 8, 8, 8, 8, 8, 8, 8, 8, 8, 8, 8, 8, 8, 8, 8, 8, 8, 8, 8, 8, 8, 8, 8, 8, 8, 8, 8, 8, 8, 8, 8, 8, 8, 8, 8, 8, 8, 8, 8, 8, 8, 8, 8, 8, 8, 8, 8, 8, 8, 8, 8, 8, 8, 8, 8, 8, 8, 8, 8, 8, 8, 8, 8, 8, 8, 8, 8, 8, 8, 8, 8, 8, 8, 8, 8, 8, 8, 8, 8, 8, 8, 8, 8, 8, 8, 8, 8, 8, 8, 8, 8, 8, 8, 8, 8, 8, 8, 8, 8, 8, 8, 8, 8, 8, 8, 8, 8, 8, 8, 8, 8, 8, 8, 8, 8, 8, 8, 8, 8, 8, 8, 8, 8, 8, 8, 8, 8, 8, 8, 8, 8, 8, 8, 8, 8, 8, 8, 8, 8, 8, 8, 8, 8, 8, 8, 8, 8, 8, 8, 8, 8, 8, 8, 8, 8, 8, 8, 8, 8, 8, 8, 8, 8, 8, 8, 8, 8, 8, 8, 8, 8, 8, 8, 8, 8, 8, 8, 8, 8, 8, 8, 8, 8, 8, 8, 8, 8, 8, 8, 8, 8, 8, 8, 8, 8, 8, 8, 8]\n"
     ]
    }
   ],
   "source": [
    "# rdm - sparse\n",
    "\n",
    "min_eigenvalues_sparse = []\n",
    "min_rdms_sparse = []\n",
    "rdm_ranks_sparse = []\n",
    "\n",
    "for i in tqdm(range(eigenvectors.shape[1])):\n",
    "    # Construct the density matrix for each eigenvector (as sparse)\n",
    "    min_eigenvector = eigenvectors[:, i]\n",
    "    print(\"Nonzero elements in state vector (tol=1e-12):\", np.sum(np.abs(min_eigenvector) > 1e-6))\n",
    "    min_eigenvector[np.abs(min_eigenvector) < 1e-7] = 0\n",
    "    min_eig_sparse = csr_matrix(min_eigenvector.reshape(-1, 1))  # Convert to sparse column vector\n",
    "    density_matrix_sparse = min_eig_sparse @ min_eig_sparse.getH()  # Outer product to form density matrix\n",
    "\n",
    "    print(\"Number of nonzero elements of dm (tol=1e-12):\", np.sum(np.abs(density_matrix_sparse.data) > 1e-6))    #Trace out qubits using qutip partial trace\n",
    "    rdm = ptrace_sparse(density_matrix_sparse, keep_qubits, [2]*N) # Use the custom ptrace_sparse function\n",
    "    # Find the minimum eigenvalue of the traced-out density matrix\n",
    "    eigenvalues_traced, eigenvectors_traced = np.linalg.eigh(rdm.toarray())\n",
    "    min_eigenvalue = np.min(eigenvalues_traced)\n",
    "    min_eigenvalues_sparse.append(min_eigenvalue)\n",
    "\n",
    "\n",
    "    min_rdms_sparse.append(rdm)  # store the sparse RDM\n",
    "    rdm_ranks_sparse.append(np.linalg.matrix_rank(rdm.toarray()))  # store the rank\n",
    "\n",
    "# Define the threshold\n",
    "threshold = 1e-16\n",
    "min_eigenvalues_sparse = np.array(min_eigenvalues_sparse)\n",
    "\n",
    "# Count points with y-component less than the threshold\n",
    "count = sum(1 for y in min_eigenvalues_sparse if y < threshold)\n",
    "\n",
    "# Highlight points with y-component less than the threshold in red\n",
    "colors = ['red' if y < threshold else 'C0' for y in min_eigenvalues_sparse]\n",
    "\n",
    "\n",
    "# Plot the minimum eigenvalue of the traced-out density matrix as a function of the eigenvalue of the Hamiltonian H\n",
    "plt.scatter(eigenvalues, np.abs(min_eigenvalues_sparse), color=colors, s=1)\n",
    "plt.xlabel('Eigenvalue of H')\n",
    "plt.ylabel(r\"$\\lambda_{\\text{min}}$\")\n",
    "plt.yscale(\"log\")\n",
    "plt.show()\n",
    "\n",
    "# Find indices of red points - sparse\n",
    "#red_indices_sparse = [i for i, y in enumerate(min_eigenvalues_sparse) if y < threshold]\n",
    "#print(f'Indices of red points: {red_indices_sparse}')\n",
    "\n",
    "red_eigenvectors_sparse = []\n",
    "\n",
    "# Print eigenvalues, RDM minimum eigenvalues, and ranks for red points\n",
    "for i, ind in enumerate(range(len(min_eigenvalues_sparse))):\n",
    "    print(i, ind)\n",
    "    print(f'Eigenvalue: {eigenvalues[ind]}, rdm Minimum Eigenvalue: {min_eigenvalues_sparse[i]}')\n",
    "    print(f'Eigenvector {ind}: rdm rank: {rdm_ranks_sparse[i]}')\n",
    "    red_eigenvectors_sparse.append(eigenvectors[:, ind])\n",
    "\n",
    "# Print the ranks of the scarred rdms\n",
    "print(f'Ranks of the scarred rdms: {rdm_ranks_sparse}')"
   ]
  },
  {
   "cell_type": "code",
   "execution_count": 46,
   "metadata": {},
   "outputs": [
    {
     "name": "stderr",
     "output_type": "stream",
     "text": [
      "  2%|▏         | 6/256 [00:00<00:04, 53.14it/s]"
     ]
    },
    {
     "name": "stdout",
     "output_type": "stream",
     "text": [
      "Nonzero elements in state vector (tol=1e-12): 128\n",
      "Shape of result: (256, 1)\n",
      "for 0-th eigenvector: Number of nonzero elements in result: 58\n",
      "Max absolute value in result: 22.62704194441719\n",
      "Nonzero elements in state vector (tol=1e-12): 128\n",
      "Shape of result: (256, 1)\n",
      "for 1-th eigenvector: Number of nonzero elements in result: 128\n",
      "Max absolute value in result: 5.949548432995964\n",
      "Nonzero elements in state vector (tol=1e-12): 128\n",
      "Shape of result: (256, 1)\n",
      "for 2-th eigenvector: Number of nonzero elements in result: 128\n",
      "Max absolute value in result: 7.1642031423684385\n",
      "Nonzero elements in state vector (tol=1e-12): 128\n",
      "Shape of result: (256, 1)\n",
      "for 3-th eigenvector: Number of nonzero elements in result: 128\n",
      "Max absolute value in result: 9.410896986612709\n",
      "Nonzero elements in state vector (tol=1e-12): 128\n",
      "Shape of result: (256, 1)\n",
      "for 4-th eigenvector: Number of nonzero elements in result: 128\n",
      "Max absolute value in result: 8.958380544541539\n",
      "Nonzero elements in state vector (tol=1e-12): 128\n",
      "Shape of result: (256, 1)\n",
      "for 5-th eigenvector: Number of nonzero elements in result: 58\n",
      "Max absolute value in result: 6.214173149518675\n",
      "Nonzero elements in state vector (tol=1e-12): 128\n",
      "Shape of result: (256, 1)\n",
      "for 6-th eigenvector: Number of nonzero elements in result: 128\n",
      "Max absolute value in result: 9.898330855436491\n",
      "Nonzero elements in state vector (tol=1e-12): 128\n",
      "Shape of result: (256, 1)\n",
      "for 7-th eigenvector: Number of nonzero elements in result: 128\n",
      "Max absolute value in result: 10.524088075066803\n",
      "Nonzero elements in state vector (tol=1e-12): 128\n",
      "Shape of result: (256, 1)\n",
      "for 8-th eigenvector: Number of nonzero elements in result: 128\n",
      "Max absolute value in result: 9.299989890919461\n",
      "Nonzero elements in state vector (tol=1e-12): 128\n",
      "Shape of result: (256, 1)\n",
      "for 9-th eigenvector: Number of nonzero elements in result: 128\n",
      "Max absolute value in result: 6.026959980509017\n",
      "Nonzero elements in state vector (tol=1e-12): 110\n",
      "Shape of result: (256, 1)"
     ]
    },
    {
     "name": "stderr",
     "output_type": "stream",
     "text": [
      "  7%|▋         | 17/256 [00:00<00:05, 43.74it/s]"
     ]
    },
    {
     "name": "stdout",
     "output_type": "stream",
     "text": [
      "\n",
      "for 10-th eigenvector: Number of nonzero elements in result: 48\n",
      "Max absolute value in result: 3.709890433542342\n",
      "Nonzero elements in state vector (tol=1e-12): 110\n",
      "Shape of result: (256, 1)\n",
      "for 11-th eigenvector: Number of nonzero elements in result: 48\n",
      "Max absolute value in result: 3.896002140144839\n",
      "Nonzero elements in state vector (tol=1e-12): 110\n",
      "Shape of result: (256, 1)\n",
      "for 12-th eigenvector: Number of nonzero elements in result: 48\n",
      "Max absolute value in result: 4.0748824601549\n",
      "Nonzero elements in state vector (tol=1e-12): 118\n",
      "Shape of result: (256, 1)\n",
      "for 13-th eigenvector: Number of nonzero elements in result: 56\n",
      "Max absolute value in result: 5.7409099846899565\n",
      "Nonzero elements in state vector (tol=1e-12): 118\n",
      "Shape of result: (256, 1)\n",
      "for 14-th eigenvector: Number of nonzero elements in result: 56\n",
      "Max absolute value in result: 6.5568056278313325\n",
      "Nonzero elements in state vector (tol=1e-12): 118\n",
      "Shape of result: (256, 1)\n",
      "for 15-th eigenvector: Number of nonzero elements in result: 56\n",
      "Max absolute value in result: 5.836133570503358\n",
      "Nonzero elements in state vector (tol=1e-12): 108\n",
      "Shape of result: (256, 1)\n",
      "for 16-th eigenvector: Number of nonzero elements in result: 48\n",
      "Max absolute value in result: 3.376901257963314\n",
      "Nonzero elements in state vector (tol=1e-12): 108\n",
      "Shape of result: (256, 1)\n",
      "for 17-th eigenvector: Number of nonzero elements in result: 48\n",
      "Max absolute value in result: 3.4730105076568867\n",
      "Nonzero elements in state vector (tol=1e-12): 58\n",
      "Shape of result: (256, 1)\n",
      "for 18-th eigenvector: Number of nonzero elements in result: 24\n",
      "Max absolute value in result: 3.299235693923729\n",
      "Nonzero elements in state vector (tol=1e-12): 128\n",
      "Shape of result: (256, 1)\n",
      "for 19-th eigenvector: Number of nonzero elements in result: 128\n",
      "Max absolute value in result: 2.000463565845438\n",
      "Nonzero elements in state vector (tol=1e-12): 72\n"
     ]
    },
    {
     "name": "stderr",
     "output_type": "stream",
     "text": [
      "  9%|▊         | 22/256 [00:00<00:05, 43.55it/s]"
     ]
    },
    {
     "name": "stdout",
     "output_type": "stream",
     "text": [
      "Shape of result: (256, 1)\n",
      "for 20-th eigenvector: Number of nonzero elements in result: 24\n",
      "Max absolute value in result: 5.752754639885054\n",
      "Nonzero elements in state vector (tol=1e-12): 72\n",
      "Shape of result: (256, 1)\n",
      "for 21-th eigenvector: Number of nonzero elements in result: 24\n",
      "Max absolute value in result: 5.276791128603483\n",
      "Nonzero elements in state vector (tol=1e-12): 72\n",
      "Shape of result: (256, 1)\n",
      "for 22-th eigenvector: Number of nonzero elements in result: 24\n",
      "Max absolute value in result: 5.1901341254748115\n",
      "Nonzero elements in state vector (tol=1e-12): 118\n",
      "Shape of result: (256, 1)\n",
      "for 23-th eigenvector: Number of nonzero elements in result: 56\n",
      "Max absolute value in result: 4.55507462588211\n",
      "Nonzero elements in state vector (tol=1e-12): 118\n",
      "Shape of result: (256, 1)\n",
      "for 24-th eigenvector: Number of nonzero elements in result: 56\n",
      "Max absolute value in result: 5.776304236491876\n",
      "Nonzero elements in state vector (tol=1e-12): 118\n",
      "Shape of result: (256, 1)\n",
      "for 25-th eigenvector: Number of nonzero elements in result: 56\n",
      "Max absolute value in result: 4.568573666659889\n",
      "Nonzero elements in state vector (tol=1e-12): 48\n"
     ]
    },
    {
     "name": "stderr",
     "output_type": "stream",
     "text": [
      " 12%|█▏        | 31/256 [00:00<00:06, 36.40it/s]"
     ]
    },
    {
     "name": "stdout",
     "output_type": "stream",
     "text": [
      "Shape of result: (256, 1)\n",
      "for 26-th eigenvector: Number of nonzero elements in result: 24\n",
      "Max absolute value in result: 4.848854108469629\n",
      "Nonzero elements in state vector (tol=1e-12): 48\n",
      "Shape of result: (256, 1)\n",
      "for 27-th eigenvector: Number of nonzero elements in result: 24\n",
      "Max absolute value in result: 4.401207790444238\n",
      "Nonzero elements in state vector (tol=1e-12): 128\n",
      "Shape of result: (256, 1)\n",
      "for 28-th eigenvector: Number of nonzero elements in result: 58\n",
      "Max absolute value in result: 4.527519086676177\n",
      "Nonzero elements in state vector (tol=1e-12): 118\n",
      "Shape of result: (256, 1)\n",
      "for 29-th eigenvector: Number of nonzero elements in result: 56\n",
      "Max absolute value in result: 5.087371538976382\n",
      "Nonzero elements in state vector (tol=1e-12): 118\n",
      "Shape of result: (256, 1)\n",
      "for 30-th eigenvector: Number of nonzero elements in result: 56\n",
      "Max absolute value in result: 4.788760228818267\n",
      "Nonzero elements in state vector (tol=1e-12): 118\n",
      "Shape of result: (256, 1)\n",
      "for 31-th eigenvector: Number of nonzero elements in result: 56\n",
      "Max absolute value in result: 5.5657892500579225\n",
      "Nonzero elements in state vector (tol=1e-12): 108\n",
      "Shape of result: (256, 1)\n",
      "for 32-th eigenvector: Number of nonzero elements in result: 48\n",
      "Max absolute value in result: 3.4224515941122706\n",
      "Nonzero elements in state vector (tol=1e-12): 108\n",
      "Shape of result: (256, 1)\n",
      "for 33-th eigenvector: Number of nonzero elements in result: 48\n",
      "Max absolute value in result: 3.412637514276473\n",
      "Nonzero elements in state vector (tol=1e-12): 128\n"
     ]
    },
    {
     "name": "stderr",
     "output_type": "stream",
     "text": [
      " 15%|█▌        | 39/256 [00:00<00:05, 36.50it/s]"
     ]
    },
    {
     "name": "stdout",
     "output_type": "stream",
     "text": [
      "Shape of result: (256, 1)\n",
      "for 34-th eigenvector: Number of nonzero elements in result: 128\n",
      "Max absolute value in result: 1.4418274581392883\n",
      "Nonzero elements in state vector (tol=1e-12): 128\n",
      "Shape of result: (256, 1)\n",
      "for 35-th eigenvector: Number of nonzero elements in result: 128\n",
      "Max absolute value in result: 1.2737841956730471\n",
      "Nonzero elements in state vector (tol=1e-12): 128\n",
      "Shape of result: (256, 1)\n",
      "for 36-th eigenvector: Number of nonzero elements in result: 128\n",
      "Max absolute value in result: 1.3497673873240728\n",
      "Nonzero elements in state vector (tol=1e-12): 110\n",
      "Shape of result: (256, 1)\n",
      "for 37-th eigenvector: Number of nonzero elements in result: 48\n",
      "Max absolute value in result: 3.9031349158702984\n",
      "Nonzero elements in state vector (tol=1e-12): 110\n",
      "Shape of result: (256, 1)\n",
      "for 38-th eigenvector: Number of nonzero elements in result: 48\n",
      "Max absolute value in result: 4.022122340406603\n",
      "Nonzero elements in state vector (tol=1e-12): 110\n",
      "Shape of result: (256, 1)\n",
      "for 39-th eigenvector: Number of nonzero elements in result: 48\n",
      "Max absolute value in result: 3.9258796494757395\n",
      "Nonzero elements in state vector (tol=1e-12): 128\n",
      "Shape of result: (256, 1)\n",
      "for 40-th eigenvector: Number of nonzero elements in result: 128\n",
      "Max absolute value in result: 1.8053384056017476\n",
      "Nonzero elements in state vector (tol=1e-12): 128\n",
      "Shape of result: (256, 1)\n",
      "for 41-th eigenvector: Number of nonzero elements in result: 128\n",
      "Max absolute value in result: 1.7277963925453326\n",
      "Nonzero elements in state vector (tol=1e-12): 128\n"
     ]
    },
    {
     "name": "stderr",
     "output_type": "stream",
     "text": [
      " 19%|█▉        | 49/256 [00:01<00:05, 40.15it/s]"
     ]
    },
    {
     "name": "stdout",
     "output_type": "stream",
     "text": [
      "Shape of result: (256, 1)\n",
      "for 42-th eigenvector: Number of nonzero elements in result: 128\n",
      "Max absolute value in result: 1.8952510854672338\n",
      "Nonzero elements in state vector (tol=1e-12): 128\n",
      "Shape of result: (256, 1)\n",
      "for 43-th eigenvector: Number of nonzero elements in result: 128\n",
      "Max absolute value in result: 1.756058738780552\n",
      "Nonzero elements in state vector (tol=1e-12): 96\n",
      "Shape of result: (256, 1)\n",
      "for 44-th eigenvector: Number of nonzero elements in result: 96\n",
      "Max absolute value in result: 1.763056313059294\n",
      "Nonzero elements in state vector (tol=1e-12): 96\n",
      "Shape of result: (256, 1)\n",
      "for 45-th eigenvector: Number of nonzero elements in result: 96\n",
      "Max absolute value in result: 1.7701411918699852\n",
      "Nonzero elements in state vector (tol=1e-12): 96\n",
      "Shape of result: (256, 1)\n",
      "for 46-th eigenvector: Number of nonzero elements in result: 96\n",
      "Max absolute value in result: 1.4870752686181654\n",
      "Nonzero elements in state vector (tol=1e-12): 96\n",
      "Shape of result: (256, 1)\n",
      "for 47-th eigenvector: Number of nonzero elements in result: 96\n",
      "Max absolute value in result: 1.6662273456442067\n",
      "Nonzero elements in state vector (tol=1e-12): 96\n",
      "Shape of result: (256, 1)\n",
      "for 48-th eigenvector: Number of nonzero elements in result: 96\n",
      "Max absolute value in result: 1.8905465493091977\n",
      "Nonzero elements in state vector (tol=1e-12): 128\n",
      "Shape of result: (256, 1)\n",
      "for 49-th eigenvector: Number of nonzero elements in result: 128\n",
      "Max absolute value in result: 1.7188170722392788\n",
      "Nonzero elements in state vector (tol=1e-12): 128\n"
     ]
    },
    {
     "name": "stderr",
     "output_type": "stream",
     "text": [
      " 23%|██▎       | 59/256 [00:01<00:04, 41.92it/s]"
     ]
    },
    {
     "name": "stdout",
     "output_type": "stream",
     "text": [
      "Shape of result: (256, 1)\n",
      "for 50-th eigenvector: Number of nonzero elements in result: 128\n",
      "Max absolute value in result: 1.7531804104298385\n",
      "Nonzero elements in state vector (tol=1e-12): 128\n",
      "Shape of result: (256, 1)\n",
      "for 51-th eigenvector: Number of nonzero elements in result: 128\n",
      "Max absolute value in result: 1.8049833515143634\n",
      "Nonzero elements in state vector (tol=1e-12): 128\n",
      "Shape of result: (256, 1)\n",
      "for 52-th eigenvector: Number of nonzero elements in result: 128\n",
      "Max absolute value in result: 1.434869260330156\n",
      "Nonzero elements in state vector (tol=1e-12): 128\n",
      "Shape of result: (256, 1)\n",
      "for 53-th eigenvector: Number of nonzero elements in result: 128\n",
      "Max absolute value in result: 1.6918826919886973\n",
      "Nonzero elements in state vector (tol=1e-12): 128\n",
      "Shape of result: (256, 1)\n",
      "for 54-th eigenvector: Number of nonzero elements in result: 128\n",
      "Max absolute value in result: 1.6884729457272738\n",
      "Nonzero elements in state vector (tol=1e-12): 128\n",
      "Shape of result: (256, 1)\n",
      "for 55-th eigenvector: Number of nonzero elements in result: 58\n",
      "Max absolute value in result: 2.617847566235684\n",
      "Nonzero elements in state vector (tol=1e-12): 128\n",
      "Shape of result: (256, 1)\n",
      "for 56-th eigenvector: Number of nonzero elements in result: 58\n",
      "Max absolute value in result: 1.46551658761351\n",
      "Nonzero elements in state vector (tol=1e-12): 128\n",
      "Shape of result: (256, 1)\n",
      "for 57-th eigenvector: Number of nonzero elements in result: 128\n",
      "Max absolute value in result: 0.9956077861600838\n",
      "Nonzero elements in state vector (tol=1e-12): 96\n",
      "Shape of result: (256, 1)\n",
      "for 58-th eigenvector: Number of nonzero elements in result: 96\n",
      "Max absolute value in result: 1.8370870272779172\n",
      "Nonzero elements in state vector (tol=1e-12): 96\n",
      "Shape of result: (256, 1)\n",
      "for 59-th eigenvector: Number of nonzero elements in result: 96\n",
      "Max absolute value in result: 1.6436095319305444\n",
      "Nonzero elements in state vector (tol=1e-12): 96\n",
      "Shape of result: (256, 1)\n",
      "for 60-th eigenvector: Number of nonzero elements in result: 96\n",
      "Max absolute value in result: 1.9200336871239068\n",
      "Nonzero elements in state vector (tol=1e-12): 96\n"
     ]
    },
    {
     "name": "stderr",
     "output_type": "stream",
     "text": [
      " 27%|██▋       | 69/256 [00:01<00:04, 40.07it/s]"
     ]
    },
    {
     "name": "stdout",
     "output_type": "stream",
     "text": [
      "Shape of result: (256, 1)\n",
      "for 61-th eigenvector: Number of nonzero elements in result: 96\n",
      "Max absolute value in result: 1.541005936442489\n",
      "Nonzero elements in state vector (tol=1e-12): 96\n",
      "Shape of result: (256, 1)\n",
      "for 62-th eigenvector: Number of nonzero elements in result: 96\n",
      "Max absolute value in result: 1.8536716988802868\n",
      "Nonzero elements in state vector (tol=1e-12): 128\n",
      "Shape of result: (256, 1)\n",
      "for 63-th eigenvector: Number of nonzero elements in result: 128\n",
      "Max absolute value in result: 1.6404485571623921\n",
      "Nonzero elements in state vector (tol=1e-12): 128\n",
      "Shape of result: (256, 1)\n",
      "for 64-th eigenvector: Number of nonzero elements in result: 128\n",
      "Max absolute value in result: 1.7540292901675443\n",
      "Nonzero elements in state vector (tol=1e-12): 128\n",
      "Shape of result: (256, 1)\n",
      "for 65-th eigenvector: Number of nonzero elements in result: 128\n",
      "Max absolute value in result: 1.9478320275237124\n",
      "Nonzero elements in state vector (tol=1e-12): 128\n",
      "Shape of result: (256, 1)\n",
      "for 66-th eigenvector: Number of nonzero elements in result: 128\n",
      "Max absolute value in result: 2.0621949777441455\n",
      "Nonzero elements in state vector (tol=1e-12): 128\n",
      "Shape of result: (256, 1)\n",
      "for 67-th eigenvector: Number of nonzero elements in result: 128\n",
      "Max absolute value in result: 1.7764977484916658\n",
      "Nonzero elements in state vector (tol=1e-12): 128\n",
      "Shape of result: (256, 1)\n",
      "for 68-th eigenvector: Number of nonzero elements in result: 128\n",
      "Max absolute value in result: 2.2079845924032617\n",
      "Nonzero elements in state vector (tol=1e-12): 96\n",
      "Shape of result: (256, 1)\n",
      "for 69-th eigenvector: Number of nonzero elements in result: 96\n",
      "Max absolute value in result: 1.6261417672063048\n",
      "Nonzero elements in state vector (tol=1e-12): 96\n",
      "Shape of result: (256, 1)\n",
      "for 70-th eigenvector: Number of nonzero elements in result: 96\n",
      "Max absolute value in result: 1.6647579074188141\n",
      "Nonzero elements in state vector (tol=1e-12): 96\n"
     ]
    },
    {
     "name": "stderr",
     "output_type": "stream",
     "text": [
      " 31%|███▏      | 80/256 [00:01<00:03, 44.01it/s]"
     ]
    },
    {
     "name": "stdout",
     "output_type": "stream",
     "text": [
      "Shape of result: (256, 1)\n",
      "for 71-th eigenvector: Number of nonzero elements in result: 96\n",
      "Max absolute value in result: 1.99767269990951\n",
      "Nonzero elements in state vector (tol=1e-12): 96\n",
      "Shape of result: (256, 1)\n",
      "for 72-th eigenvector: Number of nonzero elements in result: 96\n",
      "Max absolute value in result: 1.7940951636838027\n",
      "Nonzero elements in state vector (tol=1e-12): 96\n",
      "Shape of result: (256, 1)\n",
      "for 73-th eigenvector: Number of nonzero elements in result: 96\n",
      "Max absolute value in result: 1.697485542391568\n",
      "Nonzero elements in state vector (tol=1e-12): 128\n",
      "Shape of result: (256, 1)\n",
      "for 74-th eigenvector: Number of nonzero elements in result: 128\n",
      "Max absolute value in result: 1.2727960353410719\n",
      "Nonzero elements in state vector (tol=1e-12): 128\n",
      "Shape of result: (256, 1)\n",
      "for 75-th eigenvector: Number of nonzero elements in result: 128\n",
      "Max absolute value in result: 1.589590411117856\n",
      "Nonzero elements in state vector (tol=1e-12): 128\n",
      "Shape of result: (256, 1)\n",
      "for 76-th eigenvector: Number of nonzero elements in result: 128\n",
      "Max absolute value in result: 1.5723177160588793\n",
      "Nonzero elements in state vector (tol=1e-12): 128\n",
      "Shape of result: (256, 1)\n",
      "for 77-th eigenvector: Number of nonzero elements in result: 128\n",
      "Max absolute value in result: 1.4596798201452859\n",
      "Nonzero elements in state vector (tol=1e-12): 128\n",
      "Shape of result: (256, 1)\n",
      "for 78-th eigenvector: Number of nonzero elements in result: 128\n",
      "Max absolute value in result: 1.7105844581070595\n",
      "Nonzero elements in state vector (tol=1e-12): 128\n",
      "Shape of result: (256, 1)\n",
      "for 79-th eigenvector: Number of nonzero elements in result: 128\n",
      "Max absolute value in result: 1.7606597573621414\n",
      "Nonzero elements in state vector (tol=1e-12): 128\n",
      "Shape of result: (256, 1)\n",
      "for 80-th eigenvector: Number of nonzero elements in result: 128\n",
      "Max absolute value in result: 1.736727342998385\n",
      "Nonzero elements in state vector (tol=1e-12): 128\n"
     ]
    },
    {
     "name": "stderr",
     "output_type": "stream",
     "text": [
      " 36%|███▌      | 91/256 [00:02<00:03, 47.68it/s]"
     ]
    },
    {
     "name": "stdout",
     "output_type": "stream",
     "text": [
      "Shape of result: (256, 1)\n",
      "for 81-th eigenvector: Number of nonzero elements in result: 128\n",
      "Max absolute value in result: 1.6647892024985445\n",
      "Nonzero elements in state vector (tol=1e-12): 110\n",
      "Shape of result: (256, 1)\n",
      "for 82-th eigenvector: Number of nonzero elements in result: 48\n",
      "Max absolute value in result: 0.8580537715762647\n",
      "Nonzero elements in state vector (tol=1e-12): 110\n",
      "Shape of result: (256, 1)\n",
      "for 83-th eigenvector: Number of nonzero elements in result: 48\n",
      "Max absolute value in result: 0.9868082751047145\n",
      "Nonzero elements in state vector (tol=1e-12): 110\n",
      "Shape of result: (256, 1)\n",
      "for 84-th eigenvector: Number of nonzero elements in result: 48\n",
      "Max absolute value in result: 1.0093558908202813\n",
      "Nonzero elements in state vector (tol=1e-12): 96\n",
      "Shape of result: (256, 1)\n",
      "for 85-th eigenvector: Number of nonzero elements in result: 96\n",
      "Max absolute value in result: 1.714630364833572\n",
      "Nonzero elements in state vector (tol=1e-12): 96\n",
      "Shape of result: (256, 1)\n",
      "for 86-th eigenvector: Number of nonzero elements in result: 96\n",
      "Max absolute value in result: 1.586364557987064\n",
      "Nonzero elements in state vector (tol=1e-12): 96\n",
      "Shape of result: (256, 1)\n",
      "for 87-th eigenvector: Number of nonzero elements in result: 96\n",
      "Max absolute value in result: 1.6182180259118775\n",
      "Nonzero elements in state vector (tol=1e-12): 96\n",
      "Shape of result: (256, 1)\n",
      "for 88-th eigenvector: Number of nonzero elements in result: 96\n",
      "Max absolute value in result: 1.8376274910195685\n",
      "Nonzero elements in state vector (tol=1e-12): 96\n",
      "Shape of result: (256, 1)\n",
      "for 89-th eigenvector: Number of nonzero elements in result: 96\n",
      "Max absolute value in result: 1.6379611694459122\n",
      "Nonzero elements in state vector (tol=1e-12): 118\n",
      "Shape of result: (256, 1)\n",
      "for 90-th eigenvector: Number of nonzero elements in result: 56\n",
      "Max absolute value in result: 0.9300158767347528\n",
      "Nonzero elements in state vector (tol=1e-12): 118\n",
      "Shape of result: (256, 1)\n",
      "for 91-th eigenvector: Number of nonzero elements in result: 56\n",
      "Max absolute value in result: 0.9958359587317187\n",
      "Nonzero elements in state vector (tol=1e-12): 118\n"
     ]
    },
    {
     "name": "stderr",
     "output_type": "stream",
     "text": [
      " 38%|███▊      | 96/256 [00:02<00:03, 40.85it/s]"
     ]
    },
    {
     "name": "stdout",
     "output_type": "stream",
     "text": [
      "Shape of result: (256, 1)\n",
      "for 92-th eigenvector: Number of nonzero elements in result: 56\n",
      "Max absolute value in result: 0.9284565917460255\n",
      "Nonzero elements in state vector (tol=1e-12): 108\n",
      "Shape of result: (256, 1)\n",
      "for 93-th eigenvector: Number of nonzero elements in result: 48\n",
      "Max absolute value in result: 0.6281819447783819\n",
      "Nonzero elements in state vector (tol=1e-12): 108\n",
      "Shape of result: (256, 1)\n",
      "for 94-th eigenvector: Number of nonzero elements in result: 48\n",
      "Max absolute value in result: 0.6303421318200555\n",
      "Nonzero elements in state vector (tol=1e-12): 58\n",
      "Shape of result: (256, 1)\n",
      "for 95-th eigenvector: Number of nonzero elements in result: 24\n",
      "Max absolute value in result: 0.6897996631635717\n",
      "Nonzero elements in state vector (tol=1e-12): 128\n",
      "Shape of result: (256, 1)\n",
      "for 96-th eigenvector: Number of nonzero elements in result: 128\n",
      "Max absolute value in result: 1.8403697368875007\n",
      "Nonzero elements in state vector (tol=1e-12): 128\n",
      "Shape of result: (256, 1)\n",
      "for 97-th eigenvector: Number of nonzero elements in result: 128\n",
      "Max absolute value in result: 1.7250877553347643\n",
      "Nonzero elements in state vector (tol=1e-12): 128\n"
     ]
    },
    {
     "name": "stderr",
     "output_type": "stream",
     "text": [
      " 41%|████▏     | 106/256 [00:02<00:03, 39.65it/s]"
     ]
    },
    {
     "name": "stdout",
     "output_type": "stream",
     "text": [
      "Shape of result: (256, 1)\n",
      "for 98-th eigenvector: Number of nonzero elements in result: 128\n",
      "Max absolute value in result: 1.4794280089040832\n",
      "Nonzero elements in state vector (tol=1e-12): 72\n",
      "Shape of result: (256, 1)\n",
      "for 99-th eigenvector: Number of nonzero elements in result: 24\n",
      "Max absolute value in result: 0.7227287265933293\n",
      "Nonzero elements in state vector (tol=1e-12): 72\n",
      "Shape of result: (256, 1)\n",
      "for 100-th eigenvector: Number of nonzero elements in result: 24\n",
      "Max absolute value in result: 0.6782447854009568\n",
      "Nonzero elements in state vector (tol=1e-12): 72\n",
      "Shape of result: (256, 1)\n",
      "for 101-th eigenvector: Number of nonzero elements in result: 24\n",
      "Max absolute value in result: 0.7622336017244719\n",
      "Nonzero elements in state vector (tol=1e-12): 128\n",
      "Shape of result: (256, 1)\n",
      "for 102-th eigenvector: Number of nonzero elements in result: 58\n",
      "Max absolute value in result: 0.6690907637142777\n",
      "Nonzero elements in state vector (tol=1e-12): 128\n",
      "Shape of result: (256, 1)\n",
      "for 103-th eigenvector: Number of nonzero elements in result: 128\n",
      "Max absolute value in result: 1.395663341854029\n",
      "Nonzero elements in state vector (tol=1e-12): 128\n",
      "Shape of result: (256, 1)\n",
      "for 104-th eigenvector: Number of nonzero elements in result: 128\n",
      "Max absolute value in result: 1.3866053264110083\n",
      "Nonzero elements in state vector (tol=1e-12): 128\n",
      "Shape of result: (256, 1)\n",
      "for 105-th eigenvector: Number of nonzero elements in result: 128\n",
      "Max absolute value in result: 1.1033731807607126\n",
      "Nonzero elements in state vector (tol=1e-12): 48\n",
      "Shape of result: (256, 1)\n",
      "for 106-th eigenvector: Number of nonzero elements in result: 0\n",
      "Max absolute value in result: 0.0\n",
      "Nonzero elements in state vector (tol=1e-12): 48\n",
      "Shape of result: (256, 1)\n",
      "for 107-th eigenvector: Number of nonzero elements in result: 0\n",
      "Max absolute value in result: 0.0\n",
      "Nonzero elements in state vector (tol=1e-12): 48\n",
      "Shape of result: (256, 1)\n",
      "for 108-th eigenvector: Number of nonzero elements in result: 0\n",
      "Max absolute value in result: 0.0\n",
      "Nonzero elements in state vector (tol=1e-12): 118\n"
     ]
    },
    {
     "name": "stderr",
     "output_type": "stream",
     "text": [
      " 45%|████▌     | 116/256 [00:02<00:03, 41.95it/s]"
     ]
    },
    {
     "name": "stdout",
     "output_type": "stream",
     "text": [
      "Shape of result: (256, 1)\n",
      "for 109-th eigenvector: Number of nonzero elements in result: 56\n",
      "Max absolute value in result: 0.6400319026950723\n",
      "Nonzero elements in state vector (tol=1e-12): 118\n",
      "Shape of result: (256, 1)\n",
      "for 110-th eigenvector: Number of nonzero elements in result: 56\n",
      "Max absolute value in result: 0.6707773206039771\n",
      "Nonzero elements in state vector (tol=1e-12): 118\n",
      "Shape of result: (256, 1)\n",
      "for 111-th eigenvector: Number of nonzero elements in result: 56\n",
      "Max absolute value in result: 0.6271942443421124\n",
      "Nonzero elements in state vector (tol=1e-12): 110\n",
      "Shape of result: (256, 1)\n",
      "for 112-th eigenvector: Number of nonzero elements in result: 48\n",
      "Max absolute value in result: 0.5317019577545865\n",
      "Nonzero elements in state vector (tol=1e-12): 110\n",
      "Shape of result: (256, 1)\n",
      "for 113-th eigenvector: Number of nonzero elements in result: 48\n",
      "Max absolute value in result: 0.5802982886181047\n",
      "Nonzero elements in state vector (tol=1e-12): 110\n",
      "Shape of result: (256, 1)\n",
      "for 114-th eigenvector: Number of nonzero elements in result: 48\n",
      "Max absolute value in result: 0.5637916942638779\n",
      "Nonzero elements in state vector (tol=1e-12): 128\n",
      "Shape of result: (256, 1)\n",
      "for 115-th eigenvector: Number of nonzero elements in result: 128\n",
      "Max absolute value in result: 1.1093369231841668\n",
      "Nonzero elements in state vector (tol=1e-12): 126\n",
      "Shape of result: (256, 1)\n",
      "for 116-th eigenvector: Number of nonzero elements in result: 56\n",
      "Max absolute value in result: 0.39696227171340787\n",
      "Nonzero elements in state vector (tol=1e-12): 126\n",
      "Shape of result: (256, 1)\n",
      "for 117-th eigenvector: Number of nonzero elements in result: 56\n",
      "Max absolute value in result: 0.5454723896584739\n",
      "Nonzero elements in state vector (tol=1e-12): 126\n",
      "Shape of result: (256, 1)\n",
      "for 118-th eigenvector: Number of nonzero elements in result: 56\n",
      "Max absolute value in result: 0.5093787905149991\n",
      "Nonzero elements in state vector (tol=1e-12): 126\n"
     ]
    },
    {
     "name": "stderr",
     "output_type": "stream",
     "text": [
      " 50%|████▉     | 127/256 [00:03<00:02, 43.68it/s]"
     ]
    },
    {
     "name": "stdout",
     "output_type": "stream",
     "text": [
      "Shape of result: (256, 1)\n",
      "for 119-th eigenvector: Number of nonzero elements in result: 56\n",
      "Max absolute value in result: 0.7206859219104467\n",
      "Nonzero elements in state vector (tol=1e-12): 126\n",
      "Shape of result: (256, 1)\n",
      "for 120-th eigenvector: Number of nonzero elements in result: 56\n",
      "Max absolute value in result: 0.7157572715650731\n",
      "Nonzero elements in state vector (tol=1e-12): 126\n",
      "Shape of result: (256, 1)\n",
      "for 121-th eigenvector: Number of nonzero elements in result: 56\n",
      "Max absolute value in result: 0.8546980796607313\n",
      "Nonzero elements in state vector (tol=1e-12): 126\n",
      "Shape of result: (256, 1)\n",
      "for 122-th eigenvector: Number of nonzero elements in result: 56\n",
      "Max absolute value in result: 0.5237965119757906\n",
      "Nonzero elements in state vector (tol=1e-12): 126\n",
      "Shape of result: (256, 1)\n",
      "for 123-th eigenvector: Number of nonzero elements in result: 56\n",
      "Max absolute value in result: 0.7308174658496157\n",
      "Nonzero elements in state vector (tol=1e-12): 126\n",
      "Shape of result: (256, 1)\n",
      "for 124-th eigenvector: Number of nonzero elements in result: 56\n",
      "Max absolute value in result: 0.5620082671080779\n",
      "Nonzero elements in state vector (tol=1e-12): 126\n",
      "Shape of result: (256, 1)\n",
      "for 125-th eigenvector: Number of nonzero elements in result: 56\n",
      "Max absolute value in result: 0.6324028466130207\n",
      "Nonzero elements in state vector (tol=1e-12): 126\n",
      "Shape of result: (256, 1)\n",
      "for 126-th eigenvector: Number of nonzero elements in result: 56\n",
      "Max absolute value in result: 0.5404703693589902\n",
      "Nonzero elements in state vector (tol=1e-12): 126\n",
      "Shape of result: (256, 1)\n",
      "for 127-th eigenvector: Number of nonzero elements in result: 56\n",
      "Max absolute value in result: 0.5650620267301378\n",
      "Nonzero elements in state vector (tol=1e-12): 126\n",
      "Shape of result: (256, 1)\n",
      "for 128-th eigenvector: Number of nonzero elements in result: 56\n",
      "Max absolute value in result: 0.7443514590982901\n",
      "Nonzero elements in state vector (tol=1e-12): 126\n",
      "Shape of result: (256, 1)\n",
      "for 129-th eigenvector: Number of nonzero elements in result: 56\n",
      "Max absolute value in result: 0.5578612074736261\n",
      "Nonzero elements in state vector (tol=1e-12): 126\n"
     ]
    },
    {
     "name": "stderr",
     "output_type": "stream",
     "text": [
      " 54%|█████▍    | 139/256 [00:03<00:02, 47.73it/s]"
     ]
    },
    {
     "name": "stdout",
     "output_type": "stream",
     "text": [
      "Shape of result: (256, 1)\n",
      "for 130-th eigenvector: Number of nonzero elements in result: 56\n",
      "Max absolute value in result: 0.8994794970507227\n",
      "Nonzero elements in state vector (tol=1e-12): 126\n",
      "Shape of result: (256, 1)\n",
      "for 131-th eigenvector: Number of nonzero elements in result: 56\n",
      "Max absolute value in result: 0.5828536637468471\n",
      "Nonzero elements in state vector (tol=1e-12): 126\n",
      "Shape of result: (256, 1)\n",
      "for 132-th eigenvector: Number of nonzero elements in result: 56\n",
      "Max absolute value in result: 0.5841048002807667\n",
      "Nonzero elements in state vector (tol=1e-12): 126\n",
      "Shape of result: (256, 1)\n",
      "for 133-th eigenvector: Number of nonzero elements in result: 56\n",
      "Max absolute value in result: 0.7384727224751004\n",
      "Nonzero elements in state vector (tol=1e-12): 126\n",
      "Shape of result: (256, 1)\n",
      "for 134-th eigenvector: Number of nonzero elements in result: 56\n",
      "Max absolute value in result: 0.4844519729511349\n",
      "Nonzero elements in state vector (tol=1e-12): 126\n",
      "Shape of result: (256, 1)\n",
      "for 135-th eigenvector: Number of nonzero elements in result: 56\n",
      "Max absolute value in result: 0.5296614336527301\n",
      "Nonzero elements in state vector (tol=1e-12): 126\n",
      "Shape of result: (256, 1)\n",
      "for 136-th eigenvector: Number of nonzero elements in result: 56\n",
      "Max absolute value in result: 0.6705752780497447\n",
      "Nonzero elements in state vector (tol=1e-12): 82\n",
      "Shape of result: (256, 1)\n",
      "for 137-th eigenvector: Number of nonzero elements in result: 50\n",
      "Max absolute value in result: 0.6994578065209287\n",
      "Nonzero elements in state vector (tol=1e-12): 126\n",
      "Shape of result: (256, 1)\n",
      "for 138-th eigenvector: Number of nonzero elements in result: 56\n",
      "Max absolute value in result: 0.6071280222790407\n",
      "Nonzero elements in state vector (tol=1e-12): 126\n",
      "Shape of result: (256, 1)\n",
      "for 139-th eigenvector: Number of nonzero elements in result: 56\n",
      "Max absolute value in result: 0.6453029860299753\n",
      "Nonzero elements in state vector (tol=1e-12): 128\n",
      "Shape of result: (256, 1)\n",
      "for 140-th eigenvector: Number of nonzero elements in result: 128\n",
      "Max absolute value in result: 1.1093369231841665\n",
      "Nonzero elements in state vector (tol=1e-12): 110\n"
     ]
    },
    {
     "name": "stderr",
     "output_type": "stream",
     "text": [
      " 58%|█████▊    | 149/256 [00:03<00:02, 44.96it/s]"
     ]
    },
    {
     "name": "stdout",
     "output_type": "stream",
     "text": [
      "Shape of result: (256, 1)\n",
      "for 141-th eigenvector: Number of nonzero elements in result: 48\n",
      "Max absolute value in result: 0.5406789390973562\n",
      "Nonzero elements in state vector (tol=1e-12): 110\n",
      "Shape of result: (256, 1)\n",
      "for 142-th eigenvector: Number of nonzero elements in result: 48\n",
      "Max absolute value in result: 0.5207188391124893\n",
      "Nonzero elements in state vector (tol=1e-12): 110\n",
      "Shape of result: (256, 1)\n",
      "for 143-th eigenvector: Number of nonzero elements in result: 48\n",
      "Max absolute value in result: 0.601650235866763\n",
      "Nonzero elements in state vector (tol=1e-12): 118\n",
      "Shape of result: (256, 1)\n",
      "for 144-th eigenvector: Number of nonzero elements in result: 56\n",
      "Max absolute value in result: 0.7322165540863997\n",
      "Nonzero elements in state vector (tol=1e-12): 118\n",
      "Shape of result: (256, 1)\n",
      "for 145-th eigenvector: Number of nonzero elements in result: 56\n",
      "Max absolute value in result: 0.670680895081935\n",
      "Nonzero elements in state vector (tol=1e-12): 118\n",
      "Shape of result: (256, 1)\n",
      "for 146-th eigenvector: Number of nonzero elements in result: 56\n",
      "Max absolute value in result: 0.6431359007168932\n",
      "Nonzero elements in state vector (tol=1e-12): 48\n",
      "Shape of result: (256, 1)\n",
      "for 147-th eigenvector: Number of nonzero elements in result: 0\n",
      "Max absolute value in result: 0.0\n",
      "Nonzero elements in state vector (tol=1e-12): 48\n",
      "Shape of result: (256, 1)\n",
      "for 148-th eigenvector: Number of nonzero elements in result: 0\n",
      "Max absolute value in result: 0.0\n",
      "Nonzero elements in state vector (tol=1e-12): 48\n",
      "Shape of result: (256, 1)\n",
      "for 149-th eigenvector: Number of nonzero elements in result: 0\n",
      "Max absolute value in result: 0.0\n",
      "Nonzero elements in state vector (tol=1e-12): 128\n",
      "Shape of result: (256, 1)\n",
      "for 150-th eigenvector: Number of nonzero elements in result: 128\n",
      "Max absolute value in result: 1.6980995363069091\n",
      "Nonzero elements in state vector (tol=1e-12): 128\n"
     ]
    },
    {
     "name": "stderr",
     "output_type": "stream",
     "text": [
      " 62%|██████▏   | 159/256 [00:03<00:02, 43.73it/s]"
     ]
    },
    {
     "name": "stdout",
     "output_type": "stream",
     "text": [
      "Shape of result: (256, 1)\n",
      "for 151-th eigenvector: Number of nonzero elements in result: 128\n",
      "Max absolute value in result: 1.5045074263149458\n",
      "Nonzero elements in state vector (tol=1e-12): 128\n",
      "Shape of result: (256, 1)\n",
      "for 152-th eigenvector: Number of nonzero elements in result: 128\n",
      "Max absolute value in result: 1.7497902080076964\n",
      "Nonzero elements in state vector (tol=1e-12): 128\n",
      "Shape of result: (256, 1)\n",
      "for 153-th eigenvector: Number of nonzero elements in result: 58\n",
      "Max absolute value in result: 0.6690907637142782\n",
      "Nonzero elements in state vector (tol=1e-12): 72\n",
      "Shape of result: (256, 1)\n",
      "for 154-th eigenvector: Number of nonzero elements in result: 24\n",
      "Max absolute value in result: 0.7250338684045633\n",
      "Nonzero elements in state vector (tol=1e-12): 72\n",
      "Shape of result: (256, 1)\n",
      "for 155-th eigenvector: Number of nonzero elements in result: 24\n",
      "Max absolute value in result: 0.7757325851817585\n",
      "Nonzero elements in state vector (tol=1e-12): 72\n",
      "Shape of result: (256, 1)\n",
      "for 156-th eigenvector: Number of nonzero elements in result: 24\n",
      "Max absolute value in result: 0.6866199115812864\n",
      "Nonzero elements in state vector (tol=1e-12): 128\n",
      "Shape of result: (256, 1)\n",
      "for 157-th eigenvector: Number of nonzero elements in result: 128\n",
      "Max absolute value in result: 1.6830020660623215\n",
      "Nonzero elements in state vector (tol=1e-12): 128\n",
      "Shape of result: (256, 1)\n",
      "for 158-th eigenvector: Number of nonzero elements in result: 128\n",
      "Max absolute value in result: 1.4786508569348094\n",
      "Nonzero elements in state vector (tol=1e-12): 128\n"
     ]
    },
    {
     "name": "stderr",
     "output_type": "stream",
     "text": [
      " 64%|██████▍   | 164/256 [00:03<00:02, 36.61it/s]"
     ]
    },
    {
     "name": "stdout",
     "output_type": "stream",
     "text": [
      "Shape of result: (256, 1)\n",
      "for 159-th eigenvector: Number of nonzero elements in result: 128\n",
      "Max absolute value in result: 1.5532160525767573\n",
      "Nonzero elements in state vector (tol=1e-12): 58\n",
      "Shape of result: (256, 1)\n",
      "for 160-th eigenvector: Number of nonzero elements in result: 24\n",
      "Max absolute value in result: 0.689799663163574\n",
      "Nonzero elements in state vector (tol=1e-12): 108\n",
      "Shape of result: (256, 1)\n",
      "for 161-th eigenvector: Number of nonzero elements in result: 48\n",
      "Max absolute value in result: 0.6183893298282337\n",
      "Nonzero elements in state vector (tol=1e-12): 108\n",
      "Shape of result: (256, 1)\n",
      "for 162-th eigenvector: Number of nonzero elements in result: 48\n",
      "Max absolute value in result: 0.6380252373304964\n",
      "Nonzero elements in state vector (tol=1e-12): 118\n",
      "Shape of result: (256, 1)\n",
      "for 163-th eigenvector: Number of nonzero elements in result: 56\n",
      "Max absolute value in result: 0.7729472658931666\n",
      "Nonzero elements in state vector (tol=1e-12): 118\n",
      "Shape of result: (256, 1)\n",
      "for 164-th eigenvector: Number of nonzero elements in result: 56\n",
      "Max absolute value in result: 1.0153281015452453\n",
      "Nonzero elements in state vector (tol=1e-12): 118\n"
     ]
    },
    {
     "name": "stderr",
     "output_type": "stream",
     "text": [
      " 68%|██████▊   | 175/256 [00:04<00:01, 43.36it/s]"
     ]
    },
    {
     "name": "stdout",
     "output_type": "stream",
     "text": [
      "Shape of result: (256, 1)\n",
      "for 165-th eigenvector: Number of nonzero elements in result: 56\n",
      "Max absolute value in result: 0.7574141076968921\n",
      "Nonzero elements in state vector (tol=1e-12): 96\n",
      "Shape of result: (256, 1)\n",
      "for 166-th eigenvector: Number of nonzero elements in result: 96\n",
      "Max absolute value in result: 1.4984738004203813\n",
      "Nonzero elements in state vector (tol=1e-12): 96\n",
      "Shape of result: (256, 1)\n",
      "for 167-th eigenvector: Number of nonzero elements in result: 96\n",
      "Max absolute value in result: 1.448236680563717\n",
      "Nonzero elements in state vector (tol=1e-12): 96\n",
      "Shape of result: (256, 1)\n",
      "for 168-th eigenvector: Number of nonzero elements in result: 96\n",
      "Max absolute value in result: 1.813886469892957\n",
      "Nonzero elements in state vector (tol=1e-12): 96\n",
      "Shape of result: (256, 1)\n",
      "for 169-th eigenvector: Number of nonzero elements in result: 96\n",
      "Max absolute value in result: 1.9592245536447561\n",
      "Nonzero elements in state vector (tol=1e-12): 96\n",
      "Shape of result: (256, 1)\n",
      "for 170-th eigenvector: Number of nonzero elements in result: 96\n",
      "Max absolute value in result: 1.5160750712789186\n",
      "Nonzero elements in state vector (tol=1e-12): 110\n",
      "Shape of result: (256, 1)\n",
      "for 171-th eigenvector: Number of nonzero elements in result: 48\n",
      "Max absolute value in result: 0.8752648860915226\n",
      "Nonzero elements in state vector (tol=1e-12): 110\n",
      "Shape of result: (256, 1)\n",
      "for 172-th eigenvector: Number of nonzero elements in result: 48\n",
      "Max absolute value in result: 0.9363332904285797\n",
      "Nonzero elements in state vector (tol=1e-12): 110\n",
      "Shape of result: (256, 1)\n",
      "for 173-th eigenvector: Number of nonzero elements in result: 48\n",
      "Max absolute value in result: 0.9265574986193577\n",
      "Nonzero elements in state vector (tol=1e-12): 128\n",
      "Shape of result: (256, 1)\n",
      "for 174-th eigenvector: Number of nonzero elements in result: 128\n",
      "Max absolute value in result: 1.8141808100239025\n",
      "Nonzero elements in state vector (tol=1e-12): 128\n",
      "Shape of result: (256, 1)\n",
      "for 175-th eigenvector: Number of nonzero elements in result: 128\n",
      "Max absolute value in result: 1.763546738085009\n",
      "Nonzero elements in state vector (tol=1e-12): 128\n",
      "Shape of result: (256, 1)\n",
      "for 176-th eigenvector: Number of nonzero elements in result: 128\n",
      "Max absolute value in result: 1.8456433121019273\n",
      "Nonzero elements in state vector (tol=1e-12): 128\n"
     ]
    },
    {
     "name": "stderr",
     "output_type": "stream",
     "text": [
      " 73%|███████▎  | 186/256 [00:04<00:01, 44.18it/s]"
     ]
    },
    {
     "name": "stdout",
     "output_type": "stream",
     "text": [
      "Shape of result: (256, 1)\n",
      "for 177-th eigenvector: Number of nonzero elements in result: 128\n",
      "Max absolute value in result: 1.7105844581070624\n",
      "Nonzero elements in state vector (tol=1e-12): 128\n",
      "Shape of result: (256, 1)\n",
      "for 178-th eigenvector: Number of nonzero elements in result: 128\n",
      "Max absolute value in result: 1.4835073905725482\n",
      "Nonzero elements in state vector (tol=1e-12): 128\n",
      "Shape of result: (256, 1)\n",
      "for 179-th eigenvector: Number of nonzero elements in result: 128\n",
      "Max absolute value in result: 1.5740267651239483\n",
      "Nonzero elements in state vector (tol=1e-12): 128\n",
      "Shape of result: (256, 1)\n",
      "for 180-th eigenvector: Number of nonzero elements in result: 128\n",
      "Max absolute value in result: 1.5537135811194789\n",
      "Nonzero elements in state vector (tol=1e-12): 128\n",
      "Shape of result: (256, 1)\n",
      "for 181-th eigenvector: Number of nonzero elements in result: 128\n",
      "Max absolute value in result: 1.2727960353410726\n",
      "Nonzero elements in state vector (tol=1e-12): 96\n",
      "Shape of result: (256, 1)\n",
      "for 182-th eigenvector: Number of nonzero elements in result: 96\n",
      "Max absolute value in result: 1.574163390194101\n",
      "Nonzero elements in state vector (tol=1e-12): 96\n",
      "Shape of result: (256, 1)\n",
      "for 183-th eigenvector: Number of nonzero elements in result: 96\n",
      "Max absolute value in result: 1.8373097614749354\n",
      "Nonzero elements in state vector (tol=1e-12): 96\n",
      "Shape of result: (256, 1)\n",
      "for 184-th eigenvector: Number of nonzero elements in result: 96\n",
      "Max absolute value in result: 1.6679977066890692\n",
      "Nonzero elements in state vector (tol=1e-12): 96\n",
      "Shape of result: (256, 1)\n",
      "for 185-th eigenvector: Number of nonzero elements in result: 96\n",
      "Max absolute value in result: 1.424136421559533\n",
      "Nonzero elements in state vector (tol=1e-12): 96\n",
      "Shape of result: (256, 1)\n",
      "for 186-th eigenvector: Number of nonzero elements in result: 96\n",
      "Max absolute value in result: 1.7340964798961789\n",
      "Nonzero elements in state vector (tol=1e-12): 128\n",
      "Shape of result: (256, 1)\n",
      "for 187-th eigenvector: Number of nonzero elements in result: 128\n",
      "Max absolute value in result: 1.8908702445228827\n",
      "Nonzero elements in state vector (tol=1e-12): 128\n"
     ]
    },
    {
     "name": "stderr",
     "output_type": "stream",
     "text": [
      " 77%|███████▋  | 196/256 [00:04<00:01, 44.72it/s]"
     ]
    },
    {
     "name": "stdout",
     "output_type": "stream",
     "text": [
      "Shape of result: (256, 1)\n",
      "for 188-th eigenvector: Number of nonzero elements in result: 128\n",
      "Max absolute value in result: 2.0579223018411277\n",
      "Nonzero elements in state vector (tol=1e-12): 128\n",
      "Shape of result: (256, 1)\n",
      "for 189-th eigenvector: Number of nonzero elements in result: 128\n",
      "Max absolute value in result: 2.2099930338485176\n",
      "Nonzero elements in state vector (tol=1e-12): 128\n",
      "Shape of result: (256, 1)\n",
      "for 190-th eigenvector: Number of nonzero elements in result: 128\n",
      "Max absolute value in result: 1.8830841885273295\n",
      "Nonzero elements in state vector (tol=1e-12): 128\n",
      "Shape of result: (256, 1)\n",
      "for 191-th eigenvector: Number of nonzero elements in result: 128\n",
      "Max absolute value in result: 1.7005193663387466\n",
      "Nonzero elements in state vector (tol=1e-12): 128\n",
      "Shape of result: (256, 1)\n",
      "for 192-th eigenvector: Number of nonzero elements in result: 128\n",
      "Max absolute value in result: 1.9866508607229183\n",
      "Nonzero elements in state vector (tol=1e-12): 96\n",
      "Shape of result: (256, 1)\n",
      "for 193-th eigenvector: Number of nonzero elements in result: 96\n",
      "Max absolute value in result: 1.4715138169641664\n",
      "Nonzero elements in state vector (tol=1e-12): 96\n",
      "Shape of result: (256, 1)\n",
      "for 194-th eigenvector: Number of nonzero elements in result: 96\n",
      "Max absolute value in result: 1.314915801034861\n",
      "Nonzero elements in state vector (tol=1e-12): 96\n",
      "Shape of result: (256, 1)\n",
      "for 195-th eigenvector: Number of nonzero elements in result: 96\n",
      "Max absolute value in result: 1.5035778556669603\n",
      "Nonzero elements in state vector (tol=1e-12): 96\n",
      "Shape of result: (256, 1)\n",
      "for 196-th eigenvector: Number of nonzero elements in result: 96\n",
      "Max absolute value in result: 1.7123485868774857\n",
      "Nonzero elements in state vector (tol=1e-12): 96\n",
      "Shape of result: (256, 1)\n",
      "for 197-th eigenvector: Number of nonzero elements in result: 96\n",
      "Max absolute value in result: 1.544966680539757\n",
      "Nonzero elements in state vector (tol=1e-12): 128\n"
     ]
    },
    {
     "name": "stderr",
     "output_type": "stream",
     "text": [
      " 80%|████████  | 206/256 [00:04<00:01, 43.36it/s]"
     ]
    },
    {
     "name": "stdout",
     "output_type": "stream",
     "text": [
      "Shape of result: (256, 1)\n",
      "for 198-th eigenvector: Number of nonzero elements in result: 128\n",
      "Max absolute value in result: 0.9956077861601529\n",
      "Nonzero elements in state vector (tol=1e-12): 128\n",
      "Shape of result: (256, 1)\n",
      "for 199-th eigenvector: Number of nonzero elements in result: 58\n",
      "Max absolute value in result: 1.4655165876134943\n",
      "Nonzero elements in state vector (tol=1e-12): 128\n",
      "Shape of result: (256, 1)\n",
      "for 200-th eigenvector: Number of nonzero elements in result: 58\n",
      "Max absolute value in result: 2.6178475662356897\n",
      "Nonzero elements in state vector (tol=1e-12): 128\n",
      "Shape of result: (256, 1)\n",
      "for 201-th eigenvector: Number of nonzero elements in result: 128\n",
      "Max absolute value in result: 1.6549964224666494\n",
      "Nonzero elements in state vector (tol=1e-12): 128\n",
      "Shape of result: (256, 1)\n",
      "for 202-th eigenvector: Number of nonzero elements in result: 128\n",
      "Max absolute value in result: 1.6561119195637635\n",
      "Nonzero elements in state vector (tol=1e-12): 128\n",
      "Shape of result: (256, 1)\n",
      "for 203-th eigenvector: Number of nonzero elements in result: 128\n",
      "Max absolute value in result: 1.7293909249364288\n",
      "Nonzero elements in state vector (tol=1e-12): 128\n",
      "Shape of result: (256, 1)\n",
      "for 204-th eigenvector: Number of nonzero elements in result: 128\n",
      "Max absolute value in result: 1.7021047175398258\n",
      "Nonzero elements in state vector (tol=1e-12): 128\n",
      "Shape of result: (256, 1)\n",
      "for 205-th eigenvector: Number of nonzero elements in result: 128\n",
      "Max absolute value in result: 1.7871454582416373\n",
      "Nonzero elements in state vector (tol=1e-12): 128\n",
      "Shape of result: (256, 1)\n",
      "for 206-th eigenvector: Number of nonzero elements in result: 128\n",
      "Max absolute value in result: 1.7116286606528697\n",
      "Nonzero elements in state vector (tol=1e-12): 96\n",
      "Shape of result: (256, 1)\n",
      "for 207-th eigenvector: Number of nonzero elements in result: 96\n",
      "Max absolute value in result: 1.6776937648020411\n",
      "Nonzero elements in state vector (tol=1e-12): 96\n",
      "Shape of result: (256, 1)\n",
      "for 208-th eigenvector: Number of nonzero elements in result: 96\n",
      "Max absolute value in result: 1.6963110013432918\n",
      "Nonzero elements in state vector (tol=1e-12): 96\n"
     ]
    },
    {
     "name": "stderr",
     "output_type": "stream",
     "text": [
      " 85%|████████▍ | 217/256 [00:05<00:00, 44.52it/s]"
     ]
    },
    {
     "name": "stdout",
     "output_type": "stream",
     "text": [
      "Shape of result: (256, 1)\n",
      "for 209-th eigenvector: Number of nonzero elements in result: 96\n",
      "Max absolute value in result: 1.718333965680353\n",
      "Nonzero elements in state vector (tol=1e-12): 96\n",
      "Shape of result: (256, 1)\n",
      "for 210-th eigenvector: Number of nonzero elements in result: 96\n",
      "Max absolute value in result: 1.8525533264375964\n",
      "Nonzero elements in state vector (tol=1e-12): 96\n",
      "Shape of result: (256, 1)\n",
      "for 211-th eigenvector: Number of nonzero elements in result: 96\n",
      "Max absolute value in result: 1.3901359998153475\n",
      "Nonzero elements in state vector (tol=1e-12): 128\n",
      "Shape of result: (256, 1)\n",
      "for 212-th eigenvector: Number of nonzero elements in result: 128\n",
      "Max absolute value in result: 1.7560587387805586\n",
      "Nonzero elements in state vector (tol=1e-12): 128\n",
      "Shape of result: (256, 1)\n",
      "for 213-th eigenvector: Number of nonzero elements in result: 128\n",
      "Max absolute value in result: 1.7283142077224134\n",
      "Nonzero elements in state vector (tol=1e-12): 128\n",
      "Shape of result: (256, 1)\n",
      "for 214-th eigenvector: Number of nonzero elements in result: 128\n",
      "Max absolute value in result: 1.9891709586693864\n",
      "Nonzero elements in state vector (tol=1e-12): 128\n",
      "Shape of result: (256, 1)\n",
      "for 215-th eigenvector: Number of nonzero elements in result: 128\n",
      "Max absolute value in result: 1.863682215891342\n",
      "Nonzero elements in state vector (tol=1e-12): 110\n",
      "Shape of result: (256, 1)\n",
      "for 216-th eigenvector: Number of nonzero elements in result: 48\n",
      "Max absolute value in result: 3.885588540907423\n",
      "Nonzero elements in state vector (tol=1e-12): 110\n",
      "Shape of result: (256, 1)\n",
      "for 217-th eigenvector: Number of nonzero elements in result: 48\n",
      "Max absolute value in result: 3.7333435730952744\n",
      "Nonzero elements in state vector (tol=1e-12): 110\n",
      "Shape of result: (256, 1)\n",
      "for 218-th eigenvector: Number of nonzero elements in result: 48\n",
      "Max absolute value in result: 3.8298602510109427\n",
      "Nonzero elements in state vector (tol=1e-12): 128\n",
      "Shape of result: (256, 1)\n",
      "for 219-th eigenvector: Number of nonzero elements in result: 128\n",
      "Max absolute value in result: 1.5133543847741333\n",
      "Nonzero elements in state vector (tol=1e-12): 128\n"
     ]
    },
    {
     "name": "stderr",
     "output_type": "stream",
     "text": [
      " 89%|████████▊ | 227/256 [00:05<00:00, 42.79it/s]"
     ]
    },
    {
     "name": "stdout",
     "output_type": "stream",
     "text": [
      "Shape of result: (256, 1)\n",
      "for 220-th eigenvector: Number of nonzero elements in result: 128\n",
      "Max absolute value in result: 1.508118492658124\n",
      "Nonzero elements in state vector (tol=1e-12): 128\n",
      "Shape of result: (256, 1)\n",
      "for 221-th eigenvector: Number of nonzero elements in result: 128\n",
      "Max absolute value in result: 1.318388629566861\n",
      "Nonzero elements in state vector (tol=1e-12): 108\n",
      "Shape of result: (256, 1)\n",
      "for 222-th eigenvector: Number of nonzero elements in result: 48\n",
      "Max absolute value in result: 3.14361944766578\n",
      "Nonzero elements in state vector (tol=1e-12): 108\n",
      "Shape of result: (256, 1)\n",
      "for 223-th eigenvector: Number of nonzero elements in result: 48\n",
      "Max absolute value in result: 3.5342709881155416\n",
      "Nonzero elements in state vector (tol=1e-12): 118\n",
      "Shape of result: (256, 1)\n",
      "for 224-th eigenvector: Number of nonzero elements in result: 56\n",
      "Max absolute value in result: 5.696835574043893\n",
      "Nonzero elements in state vector (tol=1e-12): 118\n",
      "Shape of result: (256, 1)\n",
      "for 225-th eigenvector: Number of nonzero elements in result: 56\n",
      "Max absolute value in result: 5.184307322426797\n",
      "Nonzero elements in state vector (tol=1e-12): 118\n",
      "Shape of result: (256, 1)\n",
      "for 226-th eigenvector: Number of nonzero elements in result: 56\n",
      "Max absolute value in result: 6.2407214580635015\n",
      "Nonzero elements in state vector (tol=1e-12): 128\n",
      "Shape of result: (256, 1)\n",
      "for 227-th eigenvector: Number of nonzero elements in result: 58\n",
      "Max absolute value in result: 4.527519086676179\n",
      "Nonzero elements in state vector (tol=1e-12): 48\n",
      "Shape of result: (256, 1)\n",
      "for 228-th eigenvector: Number of nonzero elements in result: 24\n",
      "Max absolute value in result: 4.748276691411631\n",
      "Nonzero elements in state vector (tol=1e-12): 48\n"
     ]
    },
    {
     "name": "stderr",
     "output_type": "stream",
     "text": [
      " 91%|█████████ | 232/256 [00:05<00:00, 35.35it/s]"
     ]
    },
    {
     "name": "stdout",
     "output_type": "stream",
     "text": [
      "Shape of result: (256, 1)\n",
      "for 229-th eigenvector: Number of nonzero elements in result: 24\n",
      "Max absolute value in result: 4.6432669650995475\n",
      "Nonzero elements in state vector (tol=1e-12): 118\n",
      "Shape of result: (256, 1)\n",
      "for 230-th eigenvector: Number of nonzero elements in result: 56\n",
      "Max absolute value in result: 5.2497852446240065\n",
      "Nonzero elements in state vector (tol=1e-12): 118\n",
      "Shape of result: (256, 1)\n",
      "for 231-th eigenvector: Number of nonzero elements in result: 56\n",
      "Max absolute value in result: 4.739013625655719\n",
      "Nonzero elements in state vector (tol=1e-12): 118\n",
      "Shape of result: (256, 1)\n",
      "for 232-th eigenvector: Number of nonzero elements in result: 56\n",
      "Max absolute value in result: 5.278308710351431\n",
      "Nonzero elements in state vector (tol=1e-12): 72\n",
      "Shape of result: (256, 1)\n",
      "for 233-th eigenvector: Number of nonzero elements in result: 24\n",
      "Max absolute value in result: 5.149807024552734\n",
      "Nonzero elements in state vector (tol=1e-12): 72\n",
      "Shape of result: (256, 1)\n",
      "for 234-th eigenvector: Number of nonzero elements in result: 24\n",
      "Max absolute value in result: 5.100970355776624\n",
      "Nonzero elements in state vector (tol=1e-12): 72\n",
      "Shape of result: (256, 1)\n",
      "for 235-th eigenvector: Number of nonzero elements in result: 24\n",
      "Max absolute value in result: 5.761912450354063\n",
      "Nonzero elements in state vector (tol=1e-12): 128\n"
     ]
    },
    {
     "name": "stderr",
     "output_type": "stream",
     "text": [
      " 95%|█████████▍| 243/256 [00:05<00:00, 41.46it/s]"
     ]
    },
    {
     "name": "stdout",
     "output_type": "stream",
     "text": [
      "Shape of result: (256, 1)\n",
      "for 236-th eigenvector: Number of nonzero elements in result: 128\n",
      "Max absolute value in result: 2.0004635658454344\n",
      "Nonzero elements in state vector (tol=1e-12): 58\n",
      "Shape of result: (256, 1)\n",
      "for 237-th eigenvector: Number of nonzero elements in result: 24\n",
      "Max absolute value in result: 3.299235693923725\n",
      "Nonzero elements in state vector (tol=1e-12): 108\n",
      "Shape of result: (256, 1)\n",
      "for 238-th eigenvector: Number of nonzero elements in result: 48\n",
      "Max absolute value in result: 3.102407614172777\n",
      "Nonzero elements in state vector (tol=1e-12): 108\n",
      "Shape of result: (256, 1)\n",
      "for 239-th eigenvector: Number of nonzero elements in result: 48\n",
      "Max absolute value in result: 3.550196199545499\n",
      "Nonzero elements in state vector (tol=1e-12): 118\n",
      "Shape of result: (256, 1)\n",
      "for 240-th eigenvector: Number of nonzero elements in result: 56\n",
      "Max absolute value in result: 5.275334060386005\n",
      "Nonzero elements in state vector (tol=1e-12): 118\n",
      "Shape of result: (256, 1)\n",
      "for 241-th eigenvector: Number of nonzero elements in result: 56\n",
      "Max absolute value in result: 6.109735587624138\n",
      "Nonzero elements in state vector (tol=1e-12): 118\n",
      "Shape of result: (256, 1)\n",
      "for 242-th eigenvector: Number of nonzero elements in result: 56\n",
      "Max absolute value in result: 6.1628358071441784\n",
      "Nonzero elements in state vector (tol=1e-12): 110\n",
      "Shape of result: (256, 1)\n",
      "for 243-th eigenvector: Number of nonzero elements in result: 48\n",
      "Max absolute value in result: 3.6289208024872694\n",
      "Nonzero elements in state vector (tol=1e-12): 110\n",
      "Shape of result: (256, 1)\n",
      "for 244-th eigenvector: Number of nonzero elements in result: 48\n",
      "Max absolute value in result: 3.946052679416562\n",
      "Nonzero elements in state vector (tol=1e-12): 110\n",
      "Shape of result: (256, 1)\n",
      "for 245-th eigenvector: Number of nonzero elements in result: 48\n",
      "Max absolute value in result: 4.091438530667293\n",
      "Nonzero elements in state vector (tol=1e-12): 128\n"
     ]
    },
    {
     "name": "stderr",
     "output_type": "stream",
     "text": [
      "100%|██████████| 256/256 [00:06<00:00, 41.88it/s]"
     ]
    },
    {
     "name": "stdout",
     "output_type": "stream",
     "text": [
      "Shape of result: (256, 1)\n",
      "for 246-th eigenvector: Number of nonzero elements in result: 128\n",
      "Max absolute value in result: 6.02695998050901\n",
      "Nonzero elements in state vector (tol=1e-12): 128\n",
      "Shape of result: (256, 1)\n",
      "for 247-th eigenvector: Number of nonzero elements in result: 128\n",
      "Max absolute value in result: 9.280087689398762\n",
      "Nonzero elements in state vector (tol=1e-12): 128\n",
      "Shape of result: (256, 1)\n",
      "for 248-th eigenvector: Number of nonzero elements in result: 128\n",
      "Max absolute value in result: 8.362691723865698\n",
      "Nonzero elements in state vector (tol=1e-12): 128\n",
      "Shape of result: (256, 1)\n",
      "for 249-th eigenvector: Number of nonzero elements in result: 128\n",
      "Max absolute value in result: 10.134387071167218\n",
      "Nonzero elements in state vector (tol=1e-12): 128\n",
      "Shape of result: (256, 1)\n",
      "for 250-th eigenvector: Number of nonzero elements in result: 58\n",
      "Max absolute value in result: 6.214173149518675\n",
      "Nonzero elements in state vector (tol=1e-12): 128\n",
      "Shape of result: (256, 1)\n",
      "for 251-th eigenvector: Number of nonzero elements in result: 128\n",
      "Max absolute value in result: 8.16944426446992\n",
      "Nonzero elements in state vector (tol=1e-12): 128\n",
      "Shape of result: (256, 1)\n",
      "for 252-th eigenvector: Number of nonzero elements in result: 128\n",
      "Max absolute value in result: 9.415243784284208\n",
      "Nonzero elements in state vector (tol=1e-12): 128\n",
      "Shape of result: (256, 1)\n",
      "for 253-th eigenvector: Number of nonzero elements in result: 128\n",
      "Max absolute value in result: 8.059216018671192\n",
      "Nonzero elements in state vector (tol=1e-12): 128\n",
      "Shape of result: (256, 1)\n",
      "for 254-th eigenvector: Number of nonzero elements in result: 128\n",
      "Max absolute value in result: 5.949548432995966\n",
      "Nonzero elements in state vector (tol=1e-12): 128\n",
      "Shape of result: (256, 1)\n",
      "for 255-th eigenvector: Number of nonzero elements in result: 58\n",
      "Max absolute value in result: 22.62704194441719\n"
     ]
    },
    {
     "name": "stderr",
     "output_type": "stream",
     "text": [
      "\n"
     ]
    }
   ],
   "source": [
    "# scars + tf field - sparse\n",
    "\n",
    "for i in tqdm(range(eigenvectors.shape[1])):\n",
    "    # Construct the density matrix for each eigenvector (as sparse)\n",
    "    min_eigenvector = eigenvectors[:, i]\n",
    "    print(\"Nonzero elements in state vector (tol=1e-12):\", np.sum(np.abs(min_eigenvector) > 1e-6))\n",
    "    min_eigenvector[np.abs(min_eigenvector) < 1e-7] = 0\n",
    "    min_eig_sparse = csr_matrix(min_eigenvector.reshape(-1, 1))  # Convert to sparse column vector\n",
    "    \n",
    "    # Apply the transverse field operator to the sparse vector\n",
    "    vecs = transverse_field_cubic(N, h) @ min_eig_sparse\n",
    "    vecs = vecs.toarray()  # Convert to dense array for further processing\n",
    "    \n",
    "    # Print information about the result\n",
    "    print(f\"Shape of result: {vecs.shape}\")\n",
    "    print(f\"for {i}-th eigenvector: Number of nonzero elements in result: {np.count_nonzero(vecs)}\")\n",
    "    print(f\"Max absolute value in result: {np.max(np.abs(vecs.data))}\")"
   ]
  },
  {
   "cell_type": "code",
   "execution_count": 47,
   "metadata": {},
   "outputs": [
    {
     "name": "stdout",
     "output_type": "stream",
     "text": [
      "Scar index 0: ||[H_tf, ρ_scar]||_F = 5.716e+00\n",
      "Scar index 1: ||[H_tf, ρ_scar]||_F = 5.973e+00\n",
      "Scar index 2: ||[H_tf, ρ_scar]||_F = 3.328e+00\n",
      "Scar index 3: ||[H_tf, ρ_scar]||_F = 3.328e+00\n",
      "Scar index 4: ||[H_tf, ρ_scar]||_F = 3.328e+00\n",
      "Scar index 5: ||[H_tf, ρ_scar]||_F = 7.296e+00\n",
      "Scar index 6: ||[H_tf, ρ_scar]||_F = 4.334e+00\n",
      "Scar index 7: ||[H_tf, ρ_scar]||_F = 4.334e+00\n",
      "Scar index 8: ||[H_tf, ρ_scar]||_F = 4.334e+00\n",
      "Scar index 9: ||[H_tf, ρ_scar]||_F = 5.419e+00\n",
      "Scar index 10: ||[H_tf, ρ_scar]||_F = 3.020e+00\n",
      "Scar index 11: ||[H_tf, ρ_scar]||_F = 3.020e+00\n",
      "Scar index 12: ||[H_tf, ρ_scar]||_F = 3.020e+00\n",
      "Scar index 13: ||[H_tf, ρ_scar]||_F = 3.536e+00\n",
      "Scar index 14: ||[H_tf, ρ_scar]||_F = 3.536e+00\n",
      "Scar index 15: ||[H_tf, ρ_scar]||_F = 3.536e+00\n",
      "Scar index 16: ||[H_tf, ρ_scar]||_F = 2.332e+00\n",
      "Scar index 17: ||[H_tf, ρ_scar]||_F = 2.332e+00\n",
      "Scar index 18: ||[H_tf, ρ_scar]||_F = 5.083e+00\n",
      "Scar index 19: ||[H_tf, ρ_scar]||_F = 7.389e+00\n",
      "Scar index 20: ||[H_tf, ρ_scar]||_F = 3.381e+00\n",
      "Scar index 21: ||[H_tf, ρ_scar]||_F = 3.381e+00\n",
      "Scar index 22: ||[H_tf, ρ_scar]||_F = 3.381e+00\n",
      "Scar index 23: ||[H_tf, ρ_scar]||_F = 3.394e+00\n",
      "Scar index 24: ||[H_tf, ρ_scar]||_F = 3.394e+00\n",
      "Scar index 25: ||[H_tf, ρ_scar]||_F = 3.394e+00\n",
      "Scar index 26: ||[H_tf, ρ_scar]||_F = 1.973e+00\n",
      "Scar index 27: ||[H_tf, ρ_scar]||_F = 1.973e+00\n",
      "Scar index 28: ||[H_tf, ρ_scar]||_F = 4.673e+00\n",
      "Scar index 29: ||[H_tf, ρ_scar]||_F = 3.291e+00\n",
      "Scar index 30: ||[H_tf, ρ_scar]||_F = 3.291e+00\n",
      "Scar index 31: ||[H_tf, ρ_scar]||_F = 3.291e+00\n",
      "Scar index 32: ||[H_tf, ρ_scar]||_F = 3.701e+00\n",
      "Scar index 33: ||[H_tf, ρ_scar]||_F = 3.701e+00\n",
      "Scar index 34: ||[H_tf, ρ_scar]||_F = 2.766e+00\n",
      "Scar index 35: ||[H_tf, ρ_scar]||_F = 2.766e+00\n",
      "Scar index 36: ||[H_tf, ρ_scar]||_F = 2.766e+00\n",
      "Scar index 37: ||[H_tf, ρ_scar]||_F = 4.203e+00\n",
      "Scar index 38: ||[H_tf, ρ_scar]||_F = 4.203e+00\n",
      "Scar index 39: ||[H_tf, ρ_scar]||_F = 4.203e+00\n",
      "Scar index 40: ||[H_tf, ρ_scar]||_F = 4.541e+00\n",
      "Scar index 41: ||[H_tf, ρ_scar]||_F = 4.541e+00\n",
      "Scar index 42: ||[H_tf, ρ_scar]||_F = 4.541e+00\n",
      "Scar index 43: ||[H_tf, ρ_scar]||_F = 4.902e+00\n",
      "Scar index 44: ||[H_tf, ρ_scar]||_F = 2.226e+00\n",
      "Scar index 45: ||[H_tf, ρ_scar]||_F = 2.226e+00\n",
      "Scar index 46: ||[H_tf, ρ_scar]||_F = 2.226e+00\n",
      "Scar index 47: ||[H_tf, ρ_scar]||_F = 2.226e+00\n",
      "Scar index 48: ||[H_tf, ρ_scar]||_F = 2.226e+00\n",
      "Scar index 49: ||[H_tf, ρ_scar]||_F = 2.763e+00\n",
      "Scar index 50: ||[H_tf, ρ_scar]||_F = 2.763e+00\n",
      "Scar index 51: ||[H_tf, ρ_scar]||_F = 2.763e+00\n",
      "Scar index 52: ||[H_tf, ρ_scar]||_F = 2.856e+00\n",
      "Scar index 53: ||[H_tf, ρ_scar]||_F = 2.856e+00\n",
      "Scar index 54: ||[H_tf, ρ_scar]||_F = 2.856e+00\n",
      "Scar index 55: ||[H_tf, ρ_scar]||_F = 6.066e+00\n",
      "Scar index 56: ||[H_tf, ρ_scar]||_F = 7.316e+00\n",
      "Scar index 57: ||[H_tf, ρ_scar]||_F = 4.484e+00\n",
      "Scar index 58: ||[H_tf, ρ_scar]||_F = 2.226e+00\n",
      "Scar index 59: ||[H_tf, ρ_scar]||_F = 2.226e+00\n",
      "Scar index 60: ||[H_tf, ρ_scar]||_F = 2.226e+00\n",
      "Scar index 61: ||[H_tf, ρ_scar]||_F = 2.226e+00\n",
      "Scar index 62: ||[H_tf, ρ_scar]||_F = 2.226e+00\n",
      "Scar index 63: ||[H_tf, ρ_scar]||_F = 3.029e+00\n",
      "Scar index 64: ||[H_tf, ρ_scar]||_F = 3.029e+00\n",
      "Scar index 65: ||[H_tf, ρ_scar]||_F = 3.029e+00\n",
      "Scar index 66: ||[H_tf, ρ_scar]||_F = 3.242e+00\n",
      "Scar index 67: ||[H_tf, ρ_scar]||_F = 3.242e+00\n",
      "Scar index 68: ||[H_tf, ρ_scar]||_F = 3.242e+00\n",
      "Scar index 69: ||[H_tf, ρ_scar]||_F = 2.585e+00\n",
      "Scar index 70: ||[H_tf, ρ_scar]||_F = 2.585e+00\n",
      "Scar index 71: ||[H_tf, ρ_scar]||_F = 2.585e+00\n",
      "Scar index 72: ||[H_tf, ρ_scar]||_F = 2.585e+00\n",
      "Scar index 73: ||[H_tf, ρ_scar]||_F = 2.585e+00\n",
      "Scar index 74: ||[H_tf, ρ_scar]||_F = 4.222e+00\n",
      "Scar index 75: ||[H_tf, ρ_scar]||_F = 3.592e+00\n",
      "Scar index 76: ||[H_tf, ρ_scar]||_F = 3.592e+00\n",
      "Scar index 77: ||[H_tf, ρ_scar]||_F = 3.592e+00\n",
      "Scar index 78: ||[H_tf, ρ_scar]||_F = 4.157e+00\n",
      "Scar index 79: ||[H_tf, ρ_scar]||_F = 2.967e+00\n",
      "Scar index 80: ||[H_tf, ρ_scar]||_F = 2.967e+00\n",
      "Scar index 81: ||[H_tf, ρ_scar]||_F = 2.967e+00\n",
      "Scar index 82: ||[H_tf, ρ_scar]||_F = 3.433e+00\n",
      "Scar index 83: ||[H_tf, ρ_scar]||_F = 3.433e+00\n",
      "Scar index 84: ||[H_tf, ρ_scar]||_F = 3.433e+00\n",
      "Scar index 85: ||[H_tf, ρ_scar]||_F = 2.585e+00\n",
      "Scar index 86: ||[H_tf, ρ_scar]||_F = 2.585e+00\n",
      "Scar index 87: ||[H_tf, ρ_scar]||_F = 2.585e+00\n",
      "Scar index 88: ||[H_tf, ρ_scar]||_F = 2.585e+00\n",
      "Scar index 89: ||[H_tf, ρ_scar]||_F = 2.585e+00\n",
      "Scar index 90: ||[H_tf, ρ_scar]||_F = 4.590e+00\n",
      "Scar index 91: ||[H_tf, ρ_scar]||_F = 4.590e+00\n",
      "Scar index 92: ||[H_tf, ρ_scar]||_F = 4.590e+00\n",
      "Scar index 93: ||[H_tf, ρ_scar]||_F = 2.878e+00\n",
      "Scar index 94: ||[H_tf, ρ_scar]||_F = 2.878e+00\n",
      "Scar index 95: ||[H_tf, ρ_scar]||_F = 3.863e+00\n",
      "Scar index 96: ||[H_tf, ρ_scar]||_F = 3.956e+00\n",
      "Scar index 97: ||[H_tf, ρ_scar]||_F = 3.956e+00\n",
      "Scar index 98: ||[H_tf, ρ_scar]||_F = 3.956e+00\n",
      "Scar index 99: ||[H_tf, ρ_scar]||_F = 2.839e+00\n",
      "Scar index 100: ||[H_tf, ρ_scar]||_F = 2.839e+00\n",
      "Scar index 101: ||[H_tf, ρ_scar]||_F = 2.839e+00\n",
      "Scar index 102: ||[H_tf, ρ_scar]||_F = 3.379e+00\n",
      "Scar index 103: ||[H_tf, ρ_scar]||_F = 3.967e+00\n",
      "Scar index 104: ||[H_tf, ρ_scar]||_F = 3.967e+00\n",
      "Scar index 105: ||[H_tf, ρ_scar]||_F = 3.967e+00\n",
      "Scar index 106: ||[H_tf, ρ_scar]||_F = 0.000e+00\n",
      "Scar index 107: ||[H_tf, ρ_scar]||_F = 0.000e+00\n",
      "Scar index 108: ||[H_tf, ρ_scar]||_F = 0.000e+00\n",
      "Scar index 109: ||[H_tf, ρ_scar]||_F = 2.832e+00\n",
      "Scar index 110: ||[H_tf, ρ_scar]||_F = 2.832e+00\n",
      "Scar index 111: ||[H_tf, ρ_scar]||_F = 2.832e+00\n",
      "Scar index 112: ||[H_tf, ρ_scar]||_F = 2.531e+00\n",
      "Scar index 113: ||[H_tf, ρ_scar]||_F = 2.531e+00\n",
      "Scar index 114: ||[H_tf, ρ_scar]||_F = 2.531e+00\n",
      "Scar index 115: ||[H_tf, ρ_scar]||_F = 6.578e+00\n",
      "Scar index 116: ||[H_tf, ρ_scar]||_F = 2.093e+00\n",
      "Scar index 117: ||[H_tf, ρ_scar]||_F = 2.351e+00\n",
      "Scar index 118: ||[H_tf, ρ_scar]||_F = 2.816e+00\n",
      "Scar index 119: ||[H_tf, ρ_scar]||_F = 2.773e+00\n",
      "Scar index 120: ||[H_tf, ρ_scar]||_F = 3.049e+00\n",
      "Scar index 121: ||[H_tf, ρ_scar]||_F = 3.265e+00\n",
      "Scar index 122: ||[H_tf, ρ_scar]||_F = 2.781e+00\n",
      "Scar index 123: ||[H_tf, ρ_scar]||_F = 2.837e+00\n",
      "Scar index 124: ||[H_tf, ρ_scar]||_F = 2.475e+00\n",
      "Scar index 125: ||[H_tf, ρ_scar]||_F = 2.664e+00\n",
      "Scar index 126: ||[H_tf, ρ_scar]||_F = 2.837e+00\n",
      "Scar index 127: ||[H_tf, ρ_scar]||_F = 3.069e+00\n",
      "Scar index 128: ||[H_tf, ρ_scar]||_F = 3.409e+00\n",
      "Scar index 129: ||[H_tf, ρ_scar]||_F = 2.903e+00\n",
      "Scar index 130: ||[H_tf, ρ_scar]||_F = 3.837e+00\n",
      "Scar index 131: ||[H_tf, ρ_scar]||_F = 3.204e+00\n",
      "Scar index 132: ||[H_tf, ρ_scar]||_F = 2.588e+00\n",
      "Scar index 133: ||[H_tf, ρ_scar]||_F = 3.381e+00\n",
      "Scar index 134: ||[H_tf, ρ_scar]||_F = 2.905e+00\n",
      "Scar index 135: ||[H_tf, ρ_scar]||_F = 2.612e+00\n",
      "Scar index 136: ||[H_tf, ρ_scar]||_F = 2.411e+00\n",
      "Scar index 137: ||[H_tf, ρ_scar]||_F = 5.296e+00\n",
      "Scar index 138: ||[H_tf, ρ_scar]||_F = 3.098e+00\n",
      "Scar index 139: ||[H_tf, ρ_scar]||_F = 3.166e+00\n",
      "Scar index 140: ||[H_tf, ρ_scar]||_F = 6.578e+00\n",
      "Scar index 141: ||[H_tf, ρ_scar]||_F = 2.531e+00\n",
      "Scar index 142: ||[H_tf, ρ_scar]||_F = 2.531e+00\n",
      "Scar index 143: ||[H_tf, ρ_scar]||_F = 2.531e+00\n",
      "Scar index 144: ||[H_tf, ρ_scar]||_F = 2.832e+00\n",
      "Scar index 145: ||[H_tf, ρ_scar]||_F = 2.832e+00\n",
      "Scar index 146: ||[H_tf, ρ_scar]||_F = 2.832e+00\n",
      "Scar index 147: ||[H_tf, ρ_scar]||_F = 0.000e+00\n",
      "Scar index 148: ||[H_tf, ρ_scar]||_F = 0.000e+00\n",
      "Scar index 149: ||[H_tf, ρ_scar]||_F = 0.000e+00\n",
      "Scar index 150: ||[H_tf, ρ_scar]||_F = 3.967e+00\n",
      "Scar index 151: ||[H_tf, ρ_scar]||_F = 3.967e+00\n",
      "Scar index 152: ||[H_tf, ρ_scar]||_F = 3.967e+00\n",
      "Scar index 153: ||[H_tf, ρ_scar]||_F = 3.379e+00\n",
      "Scar index 154: ||[H_tf, ρ_scar]||_F = 2.839e+00\n",
      "Scar index 155: ||[H_tf, ρ_scar]||_F = 2.839e+00\n",
      "Scar index 156: ||[H_tf, ρ_scar]||_F = 2.839e+00\n",
      "Scar index 157: ||[H_tf, ρ_scar]||_F = 3.956e+00\n",
      "Scar index 158: ||[H_tf, ρ_scar]||_F = 3.956e+00\n",
      "Scar index 159: ||[H_tf, ρ_scar]||_F = 3.956e+00\n",
      "Scar index 160: ||[H_tf, ρ_scar]||_F = 3.863e+00\n",
      "Scar index 161: ||[H_tf, ρ_scar]||_F = 2.878e+00\n",
      "Scar index 162: ||[H_tf, ρ_scar]||_F = 2.878e+00\n",
      "Scar index 163: ||[H_tf, ρ_scar]||_F = 4.590e+00\n",
      "Scar index 164: ||[H_tf, ρ_scar]||_F = 4.590e+00\n",
      "Scar index 165: ||[H_tf, ρ_scar]||_F = 4.590e+00\n",
      "Scar index 166: ||[H_tf, ρ_scar]||_F = 2.585e+00\n",
      "Scar index 167: ||[H_tf, ρ_scar]||_F = 2.585e+00\n",
      "Scar index 168: ||[H_tf, ρ_scar]||_F = 2.585e+00\n",
      "Scar index 169: ||[H_tf, ρ_scar]||_F = 2.585e+00\n",
      "Scar index 170: ||[H_tf, ρ_scar]||_F = 2.585e+00\n",
      "Scar index 171: ||[H_tf, ρ_scar]||_F = 3.433e+00\n",
      "Scar index 172: ||[H_tf, ρ_scar]||_F = 3.433e+00\n",
      "Scar index 173: ||[H_tf, ρ_scar]||_F = 3.433e+00\n",
      "Scar index 174: ||[H_tf, ρ_scar]||_F = 2.967e+00\n",
      "Scar index 175: ||[H_tf, ρ_scar]||_F = 2.967e+00\n",
      "Scar index 176: ||[H_tf, ρ_scar]||_F = 2.967e+00\n",
      "Scar index 177: ||[H_tf, ρ_scar]||_F = 4.157e+00\n",
      "Scar index 178: ||[H_tf, ρ_scar]||_F = 3.592e+00\n",
      "Scar index 179: ||[H_tf, ρ_scar]||_F = 3.592e+00\n",
      "Scar index 180: ||[H_tf, ρ_scar]||_F = 3.592e+00\n",
      "Scar index 181: ||[H_tf, ρ_scar]||_F = 4.222e+00\n",
      "Scar index 182: ||[H_tf, ρ_scar]||_F = 2.585e+00\n",
      "Scar index 183: ||[H_tf, ρ_scar]||_F = 2.585e+00\n",
      "Scar index 184: ||[H_tf, ρ_scar]||_F = 2.585e+00\n",
      "Scar index 185: ||[H_tf, ρ_scar]||_F = 2.585e+00\n",
      "Scar index 186: ||[H_tf, ρ_scar]||_F = 2.585e+00\n",
      "Scar index 187: ||[H_tf, ρ_scar]||_F = 3.242e+00\n",
      "Scar index 188: ||[H_tf, ρ_scar]||_F = 3.242e+00\n",
      "Scar index 189: ||[H_tf, ρ_scar]||_F = 3.242e+00\n",
      "Scar index 190: ||[H_tf, ρ_scar]||_F = 3.029e+00\n",
      "Scar index 191: ||[H_tf, ρ_scar]||_F = 3.029e+00\n",
      "Scar index 192: ||[H_tf, ρ_scar]||_F = 3.029e+00\n",
      "Scar index 193: ||[H_tf, ρ_scar]||_F = 2.226e+00\n",
      "Scar index 194: ||[H_tf, ρ_scar]||_F = 2.226e+00\n",
      "Scar index 195: ||[H_tf, ρ_scar]||_F = 2.226e+00\n",
      "Scar index 196: ||[H_tf, ρ_scar]||_F = 2.226e+00\n",
      "Scar index 197: ||[H_tf, ρ_scar]||_F = 2.226e+00\n",
      "Scar index 198: ||[H_tf, ρ_scar]||_F = 4.484e+00\n",
      "Scar index 199: ||[H_tf, ρ_scar]||_F = 7.316e+00\n",
      "Scar index 200: ||[H_tf, ρ_scar]||_F = 6.066e+00\n",
      "Scar index 201: ||[H_tf, ρ_scar]||_F = 2.856e+00\n",
      "Scar index 202: ||[H_tf, ρ_scar]||_F = 2.856e+00\n",
      "Scar index 203: ||[H_tf, ρ_scar]||_F = 2.856e+00\n",
      "Scar index 204: ||[H_tf, ρ_scar]||_F = 2.763e+00\n",
      "Scar index 205: ||[H_tf, ρ_scar]||_F = 2.763e+00\n",
      "Scar index 206: ||[H_tf, ρ_scar]||_F = 2.763e+00\n",
      "Scar index 207: ||[H_tf, ρ_scar]||_F = 2.226e+00\n",
      "Scar index 208: ||[H_tf, ρ_scar]||_F = 2.226e+00\n",
      "Scar index 209: ||[H_tf, ρ_scar]||_F = 2.226e+00\n",
      "Scar index 210: ||[H_tf, ρ_scar]||_F = 2.226e+00\n",
      "Scar index 211: ||[H_tf, ρ_scar]||_F = 2.226e+00\n",
      "Scar index 212: ||[H_tf, ρ_scar]||_F = 4.902e+00\n",
      "Scar index 213: ||[H_tf, ρ_scar]||_F = 4.541e+00\n",
      "Scar index 214: ||[H_tf, ρ_scar]||_F = 4.541e+00\n",
      "Scar index 215: ||[H_tf, ρ_scar]||_F = 4.541e+00\n",
      "Scar index 216: ||[H_tf, ρ_scar]||_F = 4.203e+00\n",
      "Scar index 217: ||[H_tf, ρ_scar]||_F = 4.203e+00\n",
      "Scar index 218: ||[H_tf, ρ_scar]||_F = 4.203e+00\n",
      "Scar index 219: ||[H_tf, ρ_scar]||_F = 2.766e+00\n",
      "Scar index 220: ||[H_tf, ρ_scar]||_F = 2.766e+00\n",
      "Scar index 221: ||[H_tf, ρ_scar]||_F = 2.766e+00\n",
      "Scar index 222: ||[H_tf, ρ_scar]||_F = 3.701e+00\n",
      "Scar index 223: ||[H_tf, ρ_scar]||_F = 3.701e+00\n",
      "Scar index 224: ||[H_tf, ρ_scar]||_F = 3.291e+00\n",
      "Scar index 225: ||[H_tf, ρ_scar]||_F = 3.291e+00\n",
      "Scar index 226: ||[H_tf, ρ_scar]||_F = 3.291e+00\n",
      "Scar index 227: ||[H_tf, ρ_scar]||_F = 4.673e+00\n",
      "Scar index 228: ||[H_tf, ρ_scar]||_F = 1.973e+00\n",
      "Scar index 229: ||[H_tf, ρ_scar]||_F = 1.973e+00\n",
      "Scar index 230: ||[H_tf, ρ_scar]||_F = 3.394e+00\n",
      "Scar index 231: ||[H_tf, ρ_scar]||_F = 3.394e+00\n",
      "Scar index 232: ||[H_tf, ρ_scar]||_F = 3.394e+00\n",
      "Scar index 233: ||[H_tf, ρ_scar]||_F = 3.381e+00\n",
      "Scar index 234: ||[H_tf, ρ_scar]||_F = 3.381e+00\n",
      "Scar index 235: ||[H_tf, ρ_scar]||_F = 3.381e+00\n",
      "Scar index 236: ||[H_tf, ρ_scar]||_F = 7.389e+00\n",
      "Scar index 237: ||[H_tf, ρ_scar]||_F = 5.083e+00\n",
      "Scar index 238: ||[H_tf, ρ_scar]||_F = 2.332e+00\n",
      "Scar index 239: ||[H_tf, ρ_scar]||_F = 2.332e+00\n",
      "Scar index 240: ||[H_tf, ρ_scar]||_F = 3.536e+00\n",
      "Scar index 241: ||[H_tf, ρ_scar]||_F = 3.536e+00\n",
      "Scar index 242: ||[H_tf, ρ_scar]||_F = 3.536e+00\n",
      "Scar index 243: ||[H_tf, ρ_scar]||_F = 3.020e+00\n",
      "Scar index 244: ||[H_tf, ρ_scar]||_F = 3.020e+00\n",
      "Scar index 245: ||[H_tf, ρ_scar]||_F = 3.020e+00\n",
      "Scar index 246: ||[H_tf, ρ_scar]||_F = 5.419e+00\n",
      "Scar index 247: ||[H_tf, ρ_scar]||_F = 4.334e+00\n",
      "Scar index 248: ||[H_tf, ρ_scar]||_F = 4.334e+00\n",
      "Scar index 249: ||[H_tf, ρ_scar]||_F = 4.334e+00\n",
      "Scar index 250: ||[H_tf, ρ_scar]||_F = 7.296e+00\n",
      "Scar index 251: ||[H_tf, ρ_scar]||_F = 3.328e+00\n",
      "Scar index 252: ||[H_tf, ρ_scar]||_F = 3.328e+00\n",
      "Scar index 253: ||[H_tf, ρ_scar]||_F = 3.328e+00\n",
      "Scar index 254: ||[H_tf, ρ_scar]||_F = 5.973e+00\n",
      "Scar index 255: ||[H_tf, ρ_scar]||_F = 5.716e+00\n",
      "All commutator norms: [5.716262917249273, 5.97304583138827, 3.3283089130200163, 3.328308913020023, 3.3283089130200207, 7.295529476998973, 4.333530072535237, 4.33353007253524, 4.333530072535236, 5.419366612715585, 3.0201116263490517, 3.020111626349049, 3.0201116263490553, 3.536222181577009, 3.5362221815769956, 3.536222181576999, 2.331763473453541, 2.3317634734535413, 5.082971169751175, 7.3889641496991425, 3.3809931045947783, 3.38099310459478, 3.3809931045947756, 3.393762574881375, 3.393762574881372, 3.393762574881372, 1.9727878476642866, 1.9727878476642886, 4.6729508909474795, 3.2906923629365865, 3.2906923629365874, 3.290692362936589, 3.700609572518749, 3.7006095725187422, 2.765556408446178, 2.7655564084461877, 2.7655564084461797, 4.202624895617368, 4.202624895617367, 4.20262489561737, 4.541214598173173, 4.541214598173179, 4.54121459817318, 4.901747270437323, 2.2263761303350575, 2.2263761303350544, 2.226376130335055, 2.226376130335055, 2.2263761303350535, 2.7632719386578626, 2.7632719386578626, 2.763271938657865, 2.8560965269528413, 2.8560965269528396, 2.8560965269528378, 6.066091461032189, 7.3160950599115955, 4.4844239099357734, 2.2263761303350558, 2.226376130335053, 2.226376130335053, 2.226376130335054, 2.2263761303350553, 3.029257551149838, 3.0292575511498274, 3.029257551149823, 3.2421932883924973, 3.2421932883924978, 3.2421932883924973, 2.5853657767014946, 2.5853657767014946, 2.5853657767014964, 2.585365776701496, 2.5853657767014964, 4.222314741555434, 3.5921490707475243, 3.592149070747521, 3.5921490707475194, 4.157167876042461, 2.967497068370983, 2.967497068370982, 2.9674970683709794, 3.433208454619728, 3.4332084546197232, 3.433208454619726, 2.5853657767014986, 2.5853657767014946, 2.5853657767014977, 2.585365776701493, 2.5853657767014973, 4.5900606059686195, 4.5900606059686195, 4.590060605968618, 2.877697642184258, 2.8776976421842613, 3.8629236716320934, 3.9563691956570652, 3.9563691956570604, 3.9563691956570666, 2.839215681944937, 2.839215681944942, 2.8392156819449417, 3.378800443615092, 3.9673117632964767, 3.9673117632964723, 3.9673117632964723, 0.0, 0.0, 0.0, 2.832205331121058, 2.83220533112106, 2.8322053311210564, 2.531051856144744, 2.5310518561447464, 2.531051856144743, 6.577814338198906, 2.0928810631542745, 2.350869365448941, 2.816491190571544, 2.773297812625553, 3.048891695993811, 3.2646893868114235, 2.781492884067364, 2.8369069926333803, 2.4745075524868057, 2.6638742152009125, 2.8374964195210994, 3.0689886695553104, 3.4092231605203116, 2.903114157505869, 3.837054385174738, 3.2036511980304, 2.5882335194581136, 3.3806762530992605, 2.905151813840719, 2.611741861812228, 2.410572963778431, 5.296209033315751, 3.097887266236926, 3.165640104160372, 6.577814338198916, 2.5310518561447437, 2.531051856144747, 2.5310518561447455, 2.8322053311210587, 2.832205331121059, 2.8322053311210627, 0.0, 0.0, 0.0, 3.967311763296471, 3.967311763296474, 3.9673117632964687, 3.3788004436151, 2.8392156819449434, 2.839215681944943, 2.8392156819449372, 3.9563691956570657, 3.956369195657063, 3.9563691956570644, 3.8629236716320934, 2.8776976421842555, 2.8776976421842586, 4.590060605968617, 4.59006060596862, 4.590060605968619, 2.5853657767014973, 2.5853657767015, 2.5853657767014964, 2.5853657767014977, 2.585365776701494, 3.433208454619728, 3.433208454619731, 3.4332084546197295, 2.967497068370981, 2.967497068370983, 2.9674970683709785, 4.157167876042465, 3.592149070747513, 3.592149070747522, 3.5921490707475194, 4.222314741555432, 2.585365776701494, 2.5853657767014946, 2.5853657767014946, 2.585365776701498, 2.5853657767014977, 3.2421932883924924, 3.242193288392492, 3.242193288392494, 3.0292575511498305, 3.0292575511498288, 3.0292575511498288, 2.226376130335051, 2.226376130335056, 2.226376130335056, 2.2263761303350535, 2.2263761303350567, 4.4844239099357734, 7.316095059911577, 6.066091461032159, 2.856096526952836, 2.8560965269528347, 2.8560965269528364, 2.76327193865786, 2.7632719386578617, 2.763271938657859, 2.2263761303350553, 2.226376130335053, 2.2263761303350535, 2.2263761303350575, 2.2263761303350544, 4.901747270437322, 4.541214598173179, 4.541214598173178, 4.541214598173179, 4.202624895617366, 4.202624895617369, 4.202624895617368, 2.765556408446178, 2.765556408446177, 2.7655564084461846, 3.700609572518741, 3.7006095725187387, 3.2906923629365856, 3.2906923629365847, 3.290692362936595, 4.672950890947471, 1.9727878476642864, 1.972787847664288, 3.393762574881368, 3.39376257488137, 3.3937625748813733, 3.3809931045947783, 3.380993104594783, 3.3809931045947756, 7.388964149699126, 5.082971169751161, 2.331763473453542, 2.3317634734535453, 3.5362221815769903, 3.536222181577002, 3.536222181577004, 3.0201116263490517, 3.0201116263490593, 3.020111626349056, 5.419366612715594, 4.333530072535236, 4.333530072535241, 4.333530072535235, 7.295529476998964, 3.3283089130200163, 3.3283089130200176, 3.3283089130200243, 5.973045831388269, 5.716262917249275]\n"
     ]
    }
   ],
   "source": [
    "# Compute commutator [H_tf, ρ_scar] for each scarred state\n",
    "\n",
    "H_tf = transverse_field_cubic(N, h)  # Transverse field Hamiltonian (sparse)\n",
    "commutator_norms = []\n",
    "\n",
    "for i in range(eigenvectors.shape[1]):\n",
    "    scar_vec = eigenvectors[:, i]\n",
    "    # Density matrix of the scarred state\n",
    "    rho_scar = np.outer(scar_vec, scar_vec.conj())\n",
    "    # Convert to sparse for multiplication\n",
    "    rho_scar_sparse = csr_matrix(rho_scar)\n",
    "    # Compute commutator: [H_tf, ρ_scar] = H_tf * ρ_scar - ρ_scar * H_tf\n",
    "    comm = H_tf @ rho_scar_sparse - rho_scar_sparse @ H_tf\n",
    "    # Compute the Frobenius norm of the commutator\n",
    "    comm_norm = np.linalg.norm(comm.toarray(), ord='fro')\n",
    "    commutator_norms.append(comm_norm)\n",
    "    print(f\"Scar index {i}: ||[H_tf, ρ_scar]||_F = {comm_norm:.3e}\")\n",
    "\n",
    "print(\"All commutator norms:\", commutator_norms)"
   ]
  },
  {
   "cell_type": "code",
   "execution_count": 48,
   "metadata": {},
   "outputs": [
    {
     "name": "stdout",
     "output_type": "stream",
     "text": [
      "Scar RDM 0 (index 0): ||[H_tf_sub, RDM]||_F = 2.195e+00\n",
      "Scar RDM 1 (index 1): ||[H_tf_sub, RDM]||_F = 2.476e+00\n",
      "Scar RDM 2 (index 2): ||[H_tf_sub, RDM]||_F = 9.892e-01\n",
      "Scar RDM 3 (index 3): ||[H_tf_sub, RDM]||_F = 1.213e+00\n",
      "Scar RDM 4 (index 4): ||[H_tf_sub, RDM]||_F = 8.152e-01\n",
      "Scar RDM 5 (index 5): ||[H_tf_sub, RDM]||_F = 1.436e+00\n",
      "Scar RDM 6 (index 6): ||[H_tf_sub, RDM]||_F = 1.361e+00\n",
      "Scar RDM 7 (index 7): ||[H_tf_sub, RDM]||_F = 1.094e+00\n",
      "Scar RDM 8 (index 8): ||[H_tf_sub, RDM]||_F = 1.385e+00\n",
      "Scar RDM 9 (index 9): ||[H_tf_sub, RDM]||_F = 1.954e+00\n",
      "Scar RDM 10 (index 10): ||[H_tf_sub, RDM]||_F = 8.043e-01\n",
      "Scar RDM 11 (index 11): ||[H_tf_sub, RDM]||_F = 6.294e-01\n",
      "Scar RDM 12 (index 12): ||[H_tf_sub, RDM]||_F = 1.049e+00\n",
      "Scar RDM 13 (index 13): ||[H_tf_sub, RDM]||_F = 9.255e-01\n",
      "Scar RDM 14 (index 14): ||[H_tf_sub, RDM]||_F = 9.829e-01\n",
      "Scar RDM 15 (index 15): ||[H_tf_sub, RDM]||_F = 8.798e-01\n",
      "Scar RDM 16 (index 16): ||[H_tf_sub, RDM]||_F = 5.526e-01\n",
      "Scar RDM 17 (index 17): ||[H_tf_sub, RDM]||_F = 5.579e-01\n",
      "Scar RDM 18 (index 18): ||[H_tf_sub, RDM]||_F = 1.624e+00\n",
      "Scar RDM 19 (index 19): ||[H_tf_sub, RDM]||_F = 1.387e+00\n",
      "Scar RDM 20 (index 20): ||[H_tf_sub, RDM]||_F = 6.078e-01\n",
      "Scar RDM 21 (index 21): ||[H_tf_sub, RDM]||_F = 9.510e-01\n",
      "Scar RDM 22 (index 22): ||[H_tf_sub, RDM]||_F = 8.419e-01\n",
      "Scar RDM 23 (index 23): ||[H_tf_sub, RDM]||_F = 9.385e-01\n",
      "Scar RDM 24 (index 24): ||[H_tf_sub, RDM]||_F = 6.143e-01\n",
      "Scar RDM 25 (index 25): ||[H_tf_sub, RDM]||_F = 9.126e-01\n",
      "Scar RDM 26 (index 26): ||[H_tf_sub, RDM]||_F = 5.202e-01\n",
      "Scar RDM 27 (index 27): ||[H_tf_sub, RDM]||_F = 7.438e-02\n",
      "Scar RDM 28 (index 28): ||[H_tf_sub, RDM]||_F = 3.964e-01\n",
      "Scar RDM 29 (index 29): ||[H_tf_sub, RDM]||_F = 7.630e-01\n",
      "Scar RDM 30 (index 30): ||[H_tf_sub, RDM]||_F = 6.579e-01\n",
      "Scar RDM 31 (index 31): ||[H_tf_sub, RDM]||_F = 8.215e-01\n",
      "Scar RDM 32 (index 32): ||[H_tf_sub, RDM]||_F = 9.170e-01\n",
      "Scar RDM 33 (index 33): ||[H_tf_sub, RDM]||_F = 8.242e-01\n",
      "Scar RDM 34 (index 34): ||[H_tf_sub, RDM]||_F = 4.843e-01\n",
      "Scar RDM 35 (index 35): ||[H_tf_sub, RDM]||_F = 4.947e-01\n",
      "Scar RDM 36 (index 36): ||[H_tf_sub, RDM]||_F = 3.838e-01\n",
      "Scar RDM 37 (index 37): ||[H_tf_sub, RDM]||_F = 8.610e-01\n",
      "Scar RDM 38 (index 38): ||[H_tf_sub, RDM]||_F = 1.253e+00\n",
      "Scar RDM 39 (index 39): ||[H_tf_sub, RDM]||_F = 1.034e+00\n",
      "Scar RDM 40 (index 40): ||[H_tf_sub, RDM]||_F = 8.371e-01\n",
      "Scar RDM 41 (index 41): ||[H_tf_sub, RDM]||_F = 5.608e-01\n",
      "Scar RDM 42 (index 42): ||[H_tf_sub, RDM]||_F = 8.301e-01\n",
      "Scar RDM 43 (index 43): ||[H_tf_sub, RDM]||_F = 8.500e-01\n",
      "Scar RDM 44 (index 44): ||[H_tf_sub, RDM]||_F = 1.361e-01\n",
      "Scar RDM 45 (index 45): ||[H_tf_sub, RDM]||_F = 6.263e-01\n",
      "Scar RDM 46 (index 46): ||[H_tf_sub, RDM]||_F = 5.726e-01\n",
      "Scar RDM 47 (index 47): ||[H_tf_sub, RDM]||_F = 2.761e-01\n",
      "Scar RDM 48 (index 48): ||[H_tf_sub, RDM]||_F = 5.447e-01\n",
      "Scar RDM 49 (index 49): ||[H_tf_sub, RDM]||_F = 3.311e-01\n",
      "Scar RDM 50 (index 50): ||[H_tf_sub, RDM]||_F = 3.522e-01\n",
      "Scar RDM 51 (index 51): ||[H_tf_sub, RDM]||_F = 2.379e-01\n",
      "Scar RDM 52 (index 52): ||[H_tf_sub, RDM]||_F = 3.791e-01\n",
      "Scar RDM 53 (index 53): ||[H_tf_sub, RDM]||_F = 5.078e-01\n",
      "Scar RDM 54 (index 54): ||[H_tf_sub, RDM]||_F = 5.109e-01\n",
      "Scar RDM 55 (index 55): ||[H_tf_sub, RDM]||_F = 1.750e+00\n",
      "Scar RDM 56 (index 56): ||[H_tf_sub, RDM]||_F = 1.737e+00\n",
      "Scar RDM 57 (index 57): ||[H_tf_sub, RDM]||_F = 5.034e-01\n",
      "Scar RDM 58 (index 58): ||[H_tf_sub, RDM]||_F = 3.280e-01\n",
      "Scar RDM 59 (index 59): ||[H_tf_sub, RDM]||_F = 5.133e-01\n",
      "Scar RDM 60 (index 60): ||[H_tf_sub, RDM]||_F = 4.725e-01\n",
      "Scar RDM 61 (index 61): ||[H_tf_sub, RDM]||_F = 4.914e-01\n",
      "Scar RDM 62 (index 62): ||[H_tf_sub, RDM]||_F = 3.848e-01\n",
      "Scar RDM 63 (index 63): ||[H_tf_sub, RDM]||_F = 4.273e-01\n",
      "Scar RDM 64 (index 64): ||[H_tf_sub, RDM]||_F = 4.841e-01\n",
      "Scar RDM 65 (index 65): ||[H_tf_sub, RDM]||_F = 5.640e-01\n",
      "Scar RDM 66 (index 66): ||[H_tf_sub, RDM]||_F = 4.154e-01\n",
      "Scar RDM 67 (index 67): ||[H_tf_sub, RDM]||_F = 3.728e-01\n",
      "Scar RDM 68 (index 68): ||[H_tf_sub, RDM]||_F = 4.914e-01\n",
      "Scar RDM 69 (index 69): ||[H_tf_sub, RDM]||_F = 4.507e-01\n",
      "Scar RDM 70 (index 70): ||[H_tf_sub, RDM]||_F = 4.913e-01\n",
      "Scar RDM 71 (index 71): ||[H_tf_sub, RDM]||_F = 5.341e-01\n",
      "Scar RDM 72 (index 72): ||[H_tf_sub, RDM]||_F = 1.938e-01\n",
      "Scar RDM 73 (index 73): ||[H_tf_sub, RDM]||_F = 6.952e-01\n",
      "Scar RDM 74 (index 74): ||[H_tf_sub, RDM]||_F = 3.641e-01\n",
      "Scar RDM 75 (index 75): ||[H_tf_sub, RDM]||_F = 9.023e-01\n",
      "Scar RDM 76 (index 76): ||[H_tf_sub, RDM]||_F = 8.023e-01\n",
      "Scar RDM 77 (index 77): ||[H_tf_sub, RDM]||_F = 6.594e-01\n",
      "Scar RDM 78 (index 78): ||[H_tf_sub, RDM]||_F = 9.625e-01\n",
      "Scar RDM 79 (index 79): ||[H_tf_sub, RDM]||_F = 3.171e-01\n",
      "Scar RDM 80 (index 80): ||[H_tf_sub, RDM]||_F = 4.032e-01\n",
      "Scar RDM 81 (index 81): ||[H_tf_sub, RDM]||_F = 4.074e-01\n",
      "Scar RDM 82 (index 82): ||[H_tf_sub, RDM]||_F = 4.645e-01\n",
      "Scar RDM 83 (index 83): ||[H_tf_sub, RDM]||_F = 9.340e-01\n",
      "Scar RDM 84 (index 84): ||[H_tf_sub, RDM]||_F = 4.980e-01\n",
      "Scar RDM 85 (index 85): ||[H_tf_sub, RDM]||_F = 7.277e-01\n",
      "Scar RDM 86 (index 86): ||[H_tf_sub, RDM]||_F = 5.975e-01\n",
      "Scar RDM 87 (index 87): ||[H_tf_sub, RDM]||_F = 2.831e-01\n",
      "Scar RDM 88 (index 88): ||[H_tf_sub, RDM]||_F = 3.395e-01\n",
      "Scar RDM 89 (index 89): ||[H_tf_sub, RDM]||_F = 4.272e-01\n",
      "Scar RDM 90 (index 90): ||[H_tf_sub, RDM]||_F = 8.865e-01\n",
      "Scar RDM 91 (index 91): ||[H_tf_sub, RDM]||_F = 7.927e-01\n",
      "Scar RDM 92 (index 92): ||[H_tf_sub, RDM]||_F = 9.350e-01\n",
      "Scar RDM 93 (index 93): ||[H_tf_sub, RDM]||_F = 4.153e-01\n",
      "Scar RDM 94 (index 94): ||[H_tf_sub, RDM]||_F = 4.162e-01\n",
      "Scar RDM 95 (index 95): ||[H_tf_sub, RDM]||_F = 7.292e-01\n",
      "Scar RDM 96 (index 96): ||[H_tf_sub, RDM]||_F = 6.927e-01\n",
      "Scar RDM 97 (index 97): ||[H_tf_sub, RDM]||_F = 7.549e-01\n",
      "Scar RDM 98 (index 98): ||[H_tf_sub, RDM]||_F = 9.366e-01\n",
      "Scar RDM 99 (index 99): ||[H_tf_sub, RDM]||_F = 4.952e-01\n",
      "Scar RDM 100 (index 100): ||[H_tf_sub, RDM]||_F = 2.581e-01\n",
      "Scar RDM 101 (index 101): ||[H_tf_sub, RDM]||_F = 2.890e-01\n",
      "Scar RDM 102 (index 102): ||[H_tf_sub, RDM]||_F = 2.286e-01\n",
      "Scar RDM 103 (index 103): ||[H_tf_sub, RDM]||_F = 9.930e-01\n",
      "Scar RDM 104 (index 104): ||[H_tf_sub, RDM]||_F = 6.098e-01\n",
      "Scar RDM 105 (index 105): ||[H_tf_sub, RDM]||_F = 7.081e-01\n",
      "Scar RDM 106 (index 106): ||[H_tf_sub, RDM]||_F = 0.000e+00\n",
      "Scar RDM 107 (index 107): ||[H_tf_sub, RDM]||_F = 0.000e+00\n",
      "Scar RDM 108 (index 108): ||[H_tf_sub, RDM]||_F = 0.000e+00\n",
      "Scar RDM 109 (index 109): ||[H_tf_sub, RDM]||_F = 2.375e-01\n",
      "Scar RDM 110 (index 110): ||[H_tf_sub, RDM]||_F = 3.248e-01\n",
      "Scar RDM 111 (index 111): ||[H_tf_sub, RDM]||_F = 3.047e-01\n",
      "Scar RDM 112 (index 112): ||[H_tf_sub, RDM]||_F = 2.748e-01\n",
      "Scar RDM 113 (index 113): ||[H_tf_sub, RDM]||_F = 4.645e-01\n",
      "Scar RDM 114 (index 114): ||[H_tf_sub, RDM]||_F = 4.951e-01\n",
      "Scar RDM 115 (index 115): ||[H_tf_sub, RDM]||_F = 1.716e+00\n",
      "Scar RDM 116 (index 116): ||[H_tf_sub, RDM]||_F = 2.332e-01\n",
      "Scar RDM 117 (index 117): ||[H_tf_sub, RDM]||_F = 2.951e-01\n",
      "Scar RDM 118 (index 118): ||[H_tf_sub, RDM]||_F = 5.438e-01\n",
      "Scar RDM 119 (index 119): ||[H_tf_sub, RDM]||_F = 3.719e-01\n",
      "Scar RDM 120 (index 120): ||[H_tf_sub, RDM]||_F = 5.040e-01\n",
      "Scar RDM 121 (index 121): ||[H_tf_sub, RDM]||_F = 3.065e-01\n",
      "Scar RDM 122 (index 122): ||[H_tf_sub, RDM]||_F = 3.645e-01\n",
      "Scar RDM 123 (index 123): ||[H_tf_sub, RDM]||_F = 5.093e-01\n",
      "Scar RDM 124 (index 124): ||[H_tf_sub, RDM]||_F = 4.724e-01\n",
      "Scar RDM 125 (index 125): ||[H_tf_sub, RDM]||_F = 3.622e-01\n",
      "Scar RDM 126 (index 126): ||[H_tf_sub, RDM]||_F = 3.996e-01\n",
      "Scar RDM 127 (index 127): ||[H_tf_sub, RDM]||_F = 4.011e-01\n",
      "Scar RDM 128 (index 128): ||[H_tf_sub, RDM]||_F = 3.215e-01\n",
      "Scar RDM 129 (index 129): ||[H_tf_sub, RDM]||_F = 5.488e-01\n",
      "Scar RDM 130 (index 130): ||[H_tf_sub, RDM]||_F = 7.086e-01\n",
      "Scar RDM 131 (index 131): ||[H_tf_sub, RDM]||_F = 3.769e-01\n",
      "Scar RDM 132 (index 132): ||[H_tf_sub, RDM]||_F = 2.750e-01\n",
      "Scar RDM 133 (index 133): ||[H_tf_sub, RDM]||_F = 3.147e-01\n",
      "Scar RDM 134 (index 134): ||[H_tf_sub, RDM]||_F = 4.115e-01\n",
      "Scar RDM 135 (index 135): ||[H_tf_sub, RDM]||_F = 4.201e-01\n",
      "Scar RDM 136 (index 136): ||[H_tf_sub, RDM]||_F = 2.724e-01\n",
      "Scar RDM 137 (index 137): ||[H_tf_sub, RDM]||_F = 2.971e-02\n",
      "Scar RDM 138 (index 138): ||[H_tf_sub, RDM]||_F = 4.848e-01\n",
      "Scar RDM 139 (index 139): ||[H_tf_sub, RDM]||_F = 4.442e-01\n",
      "Scar RDM 140 (index 140): ||[H_tf_sub, RDM]||_F = 1.716e+00\n",
      "Scar RDM 141 (index 141): ||[H_tf_sub, RDM]||_F = 3.555e-01\n",
      "Scar RDM 142 (index 142): ||[H_tf_sub, RDM]||_F = 4.004e-01\n",
      "Scar RDM 143 (index 143): ||[H_tf_sub, RDM]||_F = 2.887e-01\n",
      "Scar RDM 144 (index 144): ||[H_tf_sub, RDM]||_F = 4.998e-01\n",
      "Scar RDM 145 (index 145): ||[H_tf_sub, RDM]||_F = 5.034e-01\n",
      "Scar RDM 146 (index 146): ||[H_tf_sub, RDM]||_F = 2.583e-01\n",
      "Scar RDM 147 (index 147): ||[H_tf_sub, RDM]||_F = 0.000e+00\n",
      "Scar RDM 148 (index 148): ||[H_tf_sub, RDM]||_F = 0.000e+00\n",
      "Scar RDM 149 (index 149): ||[H_tf_sub, RDM]||_F = 0.000e+00\n",
      "Scar RDM 150 (index 150): ||[H_tf_sub, RDM]||_F = 1.005e+00\n",
      "Scar RDM 151 (index 151): ||[H_tf_sub, RDM]||_F = 6.053e-01\n",
      "Scar RDM 152 (index 152): ||[H_tf_sub, RDM]||_F = 7.424e-01\n",
      "Scar RDM 153 (index 153): ||[H_tf_sub, RDM]||_F = 2.286e-01\n",
      "Scar RDM 154 (index 154): ||[H_tf_sub, RDM]||_F = 2.891e-01\n",
      "Scar RDM 155 (index 155): ||[H_tf_sub, RDM]||_F = 6.270e-01\n",
      "Scar RDM 156 (index 156): ||[H_tf_sub, RDM]||_F = 6.417e-01\n",
      "Scar RDM 157 (index 157): ||[H_tf_sub, RDM]||_F = 9.513e-01\n",
      "Scar RDM 158 (index 158): ||[H_tf_sub, RDM]||_F = 9.793e-01\n",
      "Scar RDM 159 (index 159): ||[H_tf_sub, RDM]||_F = 6.452e-01\n",
      "Scar RDM 160 (index 160): ||[H_tf_sub, RDM]||_F = 7.292e-01\n",
      "Scar RDM 161 (index 161): ||[H_tf_sub, RDM]||_F = 3.736e-01\n",
      "Scar RDM 162 (index 162): ||[H_tf_sub, RDM]||_F = 4.322e-01\n",
      "Scar RDM 163 (index 163): ||[H_tf_sub, RDM]||_F = 8.958e-01\n",
      "Scar RDM 164 (index 164): ||[H_tf_sub, RDM]||_F = 8.177e-01\n",
      "Scar RDM 165 (index 165): ||[H_tf_sub, RDM]||_F = 8.974e-01\n",
      "Scar RDM 166 (index 166): ||[H_tf_sub, RDM]||_F = 3.388e-01\n",
      "Scar RDM 167 (index 167): ||[H_tf_sub, RDM]||_F = 5.526e-01\n",
      "Scar RDM 168 (index 168): ||[H_tf_sub, RDM]||_F = 4.409e-01\n",
      "Scar RDM 169 (index 169): ||[H_tf_sub, RDM]||_F = 6.870e-01\n",
      "Scar RDM 170 (index 170): ||[H_tf_sub, RDM]||_F = 5.930e-01\n",
      "Scar RDM 171 (index 171): ||[H_tf_sub, RDM]||_F = 1.696e-01\n",
      "Scar RDM 172 (index 172): ||[H_tf_sub, RDM]||_F = 4.316e-01\n",
      "Scar RDM 173 (index 173): ||[H_tf_sub, RDM]||_F = 4.737e-01\n",
      "Scar RDM 174 (index 174): ||[H_tf_sub, RDM]||_F = 4.784e-01\n",
      "Scar RDM 175 (index 175): ||[H_tf_sub, RDM]||_F = 3.315e-01\n",
      "Scar RDM 176 (index 176): ||[H_tf_sub, RDM]||_F = 3.512e-01\n",
      "Scar RDM 177 (index 177): ||[H_tf_sub, RDM]||_F = 9.625e-01\n",
      "Scar RDM 178 (index 178): ||[H_tf_sub, RDM]||_F = 7.301e-01\n",
      "Scar RDM 179 (index 179): ||[H_tf_sub, RDM]||_F = 7.003e-01\n",
      "Scar RDM 180 (index 180): ||[H_tf_sub, RDM]||_F = 8.559e-01\n",
      "Scar RDM 181 (index 181): ||[H_tf_sub, RDM]||_F = 3.641e-01\n",
      "Scar RDM 182 (index 182): ||[H_tf_sub, RDM]||_F = 4.357e-01\n",
      "Scar RDM 183 (index 183): ||[H_tf_sub, RDM]||_F = 5.332e-01\n",
      "Scar RDM 184 (index 184): ||[H_tf_sub, RDM]||_F = 4.199e-01\n",
      "Scar RDM 185 (index 185): ||[H_tf_sub, RDM]||_F = 5.355e-01\n",
      "Scar RDM 186 (index 186): ||[H_tf_sub, RDM]||_F = 5.176e-01\n",
      "Scar RDM 187 (index 187): ||[H_tf_sub, RDM]||_F = 4.751e-01\n",
      "Scar RDM 188 (index 188): ||[H_tf_sub, RDM]||_F = 4.751e-01\n",
      "Scar RDM 189 (index 189): ||[H_tf_sub, RDM]||_F = 4.177e-01\n",
      "Scar RDM 190 (index 190): ||[H_tf_sub, RDM]||_F = 4.122e-01\n",
      "Scar RDM 191 (index 191): ||[H_tf_sub, RDM]||_F = 5.033e-01\n",
      "Scar RDM 192 (index 192): ||[H_tf_sub, RDM]||_F = 5.789e-01\n",
      "Scar RDM 193 (index 193): ||[H_tf_sub, RDM]||_F = 5.203e-01\n",
      "Scar RDM 194 (index 194): ||[H_tf_sub, RDM]||_F = 4.983e-01\n",
      "Scar RDM 195 (index 195): ||[H_tf_sub, RDM]||_F = 3.378e-01\n",
      "Scar RDM 196 (index 196): ||[H_tf_sub, RDM]||_F = 4.369e-01\n",
      "Scar RDM 197 (index 197): ||[H_tf_sub, RDM]||_F = 3.989e-01\n",
      "Scar RDM 198 (index 198): ||[H_tf_sub, RDM]||_F = 5.034e-01\n",
      "Scar RDM 199 (index 199): ||[H_tf_sub, RDM]||_F = 1.737e+00\n",
      "Scar RDM 200 (index 200): ||[H_tf_sub, RDM]||_F = 1.750e+00\n",
      "Scar RDM 201 (index 201): ||[H_tf_sub, RDM]||_F = 5.638e-01\n",
      "Scar RDM 202 (index 202): ||[H_tf_sub, RDM]||_F = 6.105e-01\n",
      "Scar RDM 203 (index 203): ||[H_tf_sub, RDM]||_F = 5.477e-01\n",
      "Scar RDM 204 (index 204): ||[H_tf_sub, RDM]||_F = 3.012e-01\n",
      "Scar RDM 205 (index 205): ||[H_tf_sub, RDM]||_F = 4.064e-01\n",
      "Scar RDM 206 (index 206): ||[H_tf_sub, RDM]||_F = 3.439e-01\n",
      "Scar RDM 207 (index 207): ||[H_tf_sub, RDM]||_F = 2.352e-01\n",
      "Scar RDM 208 (index 208): ||[H_tf_sub, RDM]||_F = 5.130e-01\n",
      "Scar RDM 209 (index 209): ||[H_tf_sub, RDM]||_F = 5.400e-01\n",
      "Scar RDM 210 (index 210): ||[H_tf_sub, RDM]||_F = 7.804e-01\n",
      "Scar RDM 211 (index 211): ||[H_tf_sub, RDM]||_F = 4.350e-01\n",
      "Scar RDM 212 (index 212): ||[H_tf_sub, RDM]||_F = 8.500e-01\n",
      "Scar RDM 213 (index 213): ||[H_tf_sub, RDM]||_F = 8.548e-01\n",
      "Scar RDM 214 (index 214): ||[H_tf_sub, RDM]||_F = 6.880e-01\n",
      "Scar RDM 215 (index 215): ||[H_tf_sub, RDM]||_F = 6.593e-01\n",
      "Scar RDM 216 (index 216): ||[H_tf_sub, RDM]||_F = 1.043e+00\n",
      "Scar RDM 217 (index 217): ||[H_tf_sub, RDM]||_F = 7.899e-01\n",
      "Scar RDM 218 (index 218): ||[H_tf_sub, RDM]||_F = 1.201e+00\n",
      "Scar RDM 219 (index 219): ||[H_tf_sub, RDM]||_F = 3.216e-01\n",
      "Scar RDM 220 (index 220): ||[H_tf_sub, RDM]||_F = 5.262e-01\n",
      "Scar RDM 221 (index 221): ||[H_tf_sub, RDM]||_F = 5.302e-01\n",
      "Scar RDM 222 (index 222): ||[H_tf_sub, RDM]||_F = 8.183e-01\n",
      "Scar RDM 223 (index 223): ||[H_tf_sub, RDM]||_F = 8.822e-01\n",
      "Scar RDM 224 (index 224): ||[H_tf_sub, RDM]||_F = 7.550e-01\n",
      "Scar RDM 225 (index 225): ||[H_tf_sub, RDM]||_F = 8.638e-01\n",
      "Scar RDM 226 (index 226): ||[H_tf_sub, RDM]||_F = 7.244e-01\n",
      "Scar RDM 227 (index 227): ||[H_tf_sub, RDM]||_F = 3.964e-01\n",
      "Scar RDM 228 (index 228): ||[H_tf_sub, RDM]||_F = 2.603e-01\n",
      "Scar RDM 229 (index 229): ||[H_tf_sub, RDM]||_F = 5.372e-01\n",
      "Scar RDM 230 (index 230): ||[H_tf_sub, RDM]||_F = 9.003e-01\n",
      "Scar RDM 231 (index 231): ||[H_tf_sub, RDM]||_F = 8.491e-01\n",
      "Scar RDM 232 (index 232): ||[H_tf_sub, RDM]||_F = 6.610e-01\n",
      "Scar RDM 233 (index 233): ||[H_tf_sub, RDM]||_F = 8.151e-01\n",
      "Scar RDM 234 (index 234): ||[H_tf_sub, RDM]||_F = 9.945e-01\n",
      "Scar RDM 235 (index 235): ||[H_tf_sub, RDM]||_F = 7.524e-01\n",
      "Scar RDM 236 (index 236): ||[H_tf_sub, RDM]||_F = 1.387e+00\n",
      "Scar RDM 237 (index 237): ||[H_tf_sub, RDM]||_F = 1.624e+00\n",
      "Scar RDM 238 (index 238): ||[H_tf_sub, RDM]||_F = 6.090e-01\n",
      "Scar RDM 239 (index 239): ||[H_tf_sub, RDM]||_F = 5.609e-01\n",
      "Scar RDM 240 (index 240): ||[H_tf_sub, RDM]||_F = 9.437e-01\n",
      "Scar RDM 241 (index 241): ||[H_tf_sub, RDM]||_F = 6.717e-01\n",
      "Scar RDM 242 (index 242): ||[H_tf_sub, RDM]||_F = 1.093e+00\n",
      "Scar RDM 243 (index 243): ||[H_tf_sub, RDM]||_F = 8.527e-01\n",
      "Scar RDM 244 (index 244): ||[H_tf_sub, RDM]||_F = 7.643e-01\n",
      "Scar RDM 245 (index 245): ||[H_tf_sub, RDM]||_F = 1.010e+00\n",
      "Scar RDM 246 (index 246): ||[H_tf_sub, RDM]||_F = 1.954e+00\n",
      "Scar RDM 247 (index 247): ||[H_tf_sub, RDM]||_F = 1.454e+00\n",
      "Scar RDM 248 (index 248): ||[H_tf_sub, RDM]||_F = 1.201e+00\n",
      "Scar RDM 249 (index 249): ||[H_tf_sub, RDM]||_F = 1.302e+00\n",
      "Scar RDM 250 (index 250): ||[H_tf_sub, RDM]||_F = 1.436e+00\n",
      "Scar RDM 251 (index 251): ||[H_tf_sub, RDM]||_F = 9.493e-01\n",
      "Scar RDM 252 (index 252): ||[H_tf_sub, RDM]||_F = 1.077e+00\n",
      "Scar RDM 253 (index 253): ||[H_tf_sub, RDM]||_F = 9.336e-01\n",
      "Scar RDM 254 (index 254): ||[H_tf_sub, RDM]||_F = 2.476e+00\n",
      "Scar RDM 255 (index 255): ||[H_tf_sub, RDM]||_F = 2.195e+00\n",
      "All commutator norms for sparse RDMs: [2.1946828134697474, 2.4755107478309926, 0.9891840394097429, 1.212892449462577, 0.8152033421927226, 1.4359643424461028, 1.3611152420329609, 1.0936184897333663, 1.3847023601848536, 1.9540526893947698, 0.8042997036634022, 0.6294101232167019, 1.0489843584388738, 0.9255074810394037, 0.982874992856122, 0.8797907051127017, 0.5525603699890475, 0.5578593041340892, 1.6244596798143882, 1.3868599706220808, 0.6078405891921624, 0.9509596434291532, 0.8418605409038958, 0.9384910164240474, 0.614263652742078, 0.9125877933470753, 0.5202274483485346, 0.07438297076464813, 0.3963679634255554, 0.7629689201525588, 0.65791319603578, 0.8215490921009325, 0.9169832284371451, 0.8241530524825411, 0.4842729449275006, 0.49473365737171465, 0.3837612957727707, 0.8610350911932458, 1.252746777120165, 1.034314582498283, 0.8370755251386025, 0.5607977098882997, 0.8300995677321062, 0.8500258851927098, 0.13611220928531953, 0.6262963247136923, 0.5725654985848936, 0.27613607975473164, 0.5447218798400878, 0.33114231947467127, 0.35224891683234827, 0.23793437406142282, 0.37914084424380695, 0.5077792142892953, 0.510853164687784, 1.7495396775708234, 1.7367268384783996, 0.5033695217090277, 0.3280465537135521, 0.5132741235554159, 0.47251151724978546, 0.4913596131695015, 0.3848147276363619, 0.427255504441765, 0.4840655268815405, 0.5640363489574229, 0.41542244928516286, 0.37281037721092225, 0.4914210245453212, 0.4506563093662961, 0.4913497673475313, 0.5341045705011165, 0.19375816554403416, 0.6951861155533237, 0.3641212537829559, 0.9023204151215807, 0.8023118108345957, 0.6593899557641206, 0.962472388939515, 0.31711213985656633, 0.4032078628350121, 0.40737760141368534, 0.46451763967554177, 0.9340416336299217, 0.49797530722918987, 0.7276751172947027, 0.5974585199127812, 0.2831389664900916, 0.33950530318946515, 0.427161873013553, 0.8864527576792104, 0.7927402624298211, 0.9349609091364718, 0.41525194941505283, 0.41615908891406006, 0.7292328073175561, 0.6926679422126816, 0.7548530470414868, 0.9365659223514139, 0.4952480116353713, 0.258115468043548, 0.2889813513477028, 0.22856113770816883, 0.9929641697401452, 0.6097781229488086, 0.7081370190776222, 0.0, 0.0, 0.0, 0.23751118004201463, 0.32482242754170776, 0.30472604608788606, 0.27479909961433996, 0.46446447420447645, 0.4950985221364204, 1.716124046322016, 0.23320780505896976, 0.295052073046912, 0.5438277417252235, 0.37187917266860704, 0.5040151810772999, 0.3065293662823897, 0.3645204419237287, 0.5093329946798167, 0.47241629563659665, 0.3622356594743312, 0.39962206568336084, 0.40106586094283336, 0.32146282595817627, 0.5488246305230421, 0.7086342919882319, 0.3768934681456928, 0.27504667191577986, 0.31469163301176634, 0.4114825492881983, 0.4200920834163049, 0.2724093513720095, 0.029705270778265572, 0.484835580667017, 0.444190278658067, 1.716124046322021, 0.35554283801318765, 0.4004014306781368, 0.28870298828160995, 0.49978792834751545, 0.503429764401457, 0.2583149495526159, 0.0, 0.0, 0.0, 1.005369595676148, 0.6053060611199677, 0.7424120338708154, 0.22856113770816958, 0.2890633121092917, 0.627026995703101, 0.6417260359955707, 0.9512788452932583, 0.979306247635613, 0.645173158584718, 0.7292328073175485, 0.3735893642139696, 0.43218614665144583, 0.8957646762174877, 0.8177477603752695, 0.8973723183720487, 0.3387517652832666, 0.552635624695056, 0.4409044505023871, 0.6870368945756643, 0.5930038567606059, 0.1696407397285992, 0.4316074703679942, 0.4737230125076098, 0.47835492908762095, 0.3315143241876123, 0.35118919344691596, 0.9624723889395145, 0.7300955033046913, 0.700320948360771, 0.8558947233391768, 0.3641212537829585, 0.4357220790935608, 0.5331817524734256, 0.4198967207752027, 0.5354907540940615, 0.5176254744678817, 0.4750950969680892, 0.47507117215688793, 0.41765482088946093, 0.4122122506378973, 0.503271555051958, 0.5788774810124504, 0.5203385838117899, 0.49827457949283815, 0.33781786062748614, 0.43688792262676557, 0.39886542444860457, 0.5033695217090274, 1.7367268384783956, 1.7495396775708207, 0.5637550205912775, 0.6105107882794051, 0.5476982442220729, 0.3012348010038446, 0.40642124568961235, 0.3439127363255827, 0.2352248228961749, 0.5130073412328224, 0.5399876966164852, 0.7804067393232558, 0.43499862768840447, 0.8500258851926894, 0.8548414570254654, 0.6880108865478557, 0.6593036837859721, 1.0427056289479733, 0.789935298428875, 1.2006260881863782, 0.3215890804395099, 0.5261777950899295, 0.5301690266694301, 0.8183183119134658, 0.8822437819749706, 0.7549736021956569, 0.8638178272470983, 0.7243721587718641, 0.3963679634255558, 0.2602724309033992, 0.5371502821022099, 0.900328035478477, 0.8491435113230403, 0.6610149352987309, 0.8150808266056595, 0.9944958578191652, 0.752414418715159, 1.386859970622077, 1.6244596798143824, 0.609004941381402, 0.5608707586361664, 0.9437061004972279, 0.6717463619649032, 1.0927932431195504, 0.8527298743191515, 0.7643002973271673, 1.0101140702795064, 1.954052689394771, 1.453766085494437, 1.201018514830455, 1.3023547926563808, 1.4359643424460993, 0.9492674508368575, 1.0770658331034852, 0.9335743219857543, 2.4755107478309926, 2.1946828134697483]\n"
     ]
    }
   ],
   "source": [
    "# Compute commutator [H_tf_sub, RDM] for each scarred state, all in sparse, using ptrace_sparse\n",
    "\n",
    "def transverse_field_subsystem_sparse(n, h):\n",
    "    \"\"\"Transverse field Hamiltonian for n spins (subsystem), sparse.\"\"\"\n",
    "    Z = csr_matrix(np.array([[1, 0], [0, -1]]))\n",
    "    I = identity(2, format=\"csr\")\n",
    "    H = csr_matrix((2**n, 2**n), dtype=np.complex128)\n",
    "    for i in range(n):\n",
    "        ops = [I] * n\n",
    "        ops[i] = Z\n",
    "        term = ops[0]\n",
    "        for op in ops[1:]:\n",
    "            term = kron(term, op, format=\"csr\")\n",
    "        H += -h * term\n",
    "    return H\n",
    "\n",
    "some_indices_nnsparse =  [1275]\n",
    "n_sub = len(keep_qubits)\n",
    "H_tf_sub_sparse = transverse_field_subsystem_sparse(n_sub, h)\n",
    "\n",
    "# Compute RDMs for all scarred states using ptrace_sparse (all sparse)\n",
    "rdms_sparse = []\n",
    "for i in range(eigenvectors.shape[1]):\n",
    "    scar_vec = eigenvectors[:, i]\n",
    "    scar_vec[np.abs(scar_vec) < 1e-7] = 0\n",
    "    scar_vec_sparse = csr_matrix(scar_vec.reshape(-1, 1))\n",
    "    rho_sparse = scar_vec_sparse @ scar_vec_sparse.getH()\n",
    "    rdm_sparse = ptrace_sparse(rho_sparse, keep_qubits, [2]*N)\n",
    "    rdms_sparse.append(rdm_sparse)\n",
    "\n",
    "# Compute commutator norms\n",
    "commutator_norms_rdm_sparse = []\n",
    "for idx, rdm in enumerate(rdms_sparse):\n",
    "    comm = H_tf_sub_sparse @ rdm - rdm @ H_tf_sub_sparse\n",
    "    comm_norm = np.linalg.norm(comm.toarray(), ord='fro')\n",
    "    print(f\"Scar RDM {idx} (index {idx}): ||[H_tf_sub, RDM]||_F = {comm_norm:.3e}\")\n",
    "    commutator_norms_rdm_sparse.append(comm_norm)\n",
    "\n",
    "print(\"All commutator norms for sparse RDMs:\", commutator_norms_rdm_sparse)"
   ]
  },
  {
   "cell_type": "code",
   "execution_count": 49,
   "metadata": {},
   "outputs": [
    {
     "name": "stderr",
     "output_type": "stream",
     "text": [
      "  0%|          | 0/256 [00:00<?, ?it/s]"
     ]
    },
    {
     "name": "stderr",
     "output_type": "stream",
     "text": [
      "100%|██████████| 256/256 [00:00<00:00, 3864.77it/s]\n"
     ]
    },
    {
     "data": {
      "image/png": "[encoded data removed]",
      "text/plain": [
       "<Figure size 640x480 with 1 Axes>"
      ]
     },
     "metadata": {},
     "output_type": "display_data"
    },
    {
     "name": "stdout",
     "output_type": "stream",
     "text": [
      "Indices of red points: []\n",
      "Counts of non-zero eigenvalues of the scarred rdms: []\n"
     ]
    }
   ],
   "source": [
    "# rdm - numpy\n",
    "\n",
    "min_eigenvalues_np = []\n",
    "min_rdms_np =[]\n",
    "rdm_eigenvalues_np = []\n",
    "\n",
    "for i in tqdm(range(len(eigenvalues))):\n",
    "    # Construct the density matrix for each eigenvector\n",
    "    min_eigenvector = eigenvectors[:, i]\n",
    "    density_matrix = np.outer(min_eigenvector, min_eigenvector.conj())\n",
    "\n",
    "    # Trace out qubits\n",
    "    traced_out_density_matrix = ptrace_numpy(density_matrix, keep_qubits, [[2]*N, [2]*N])\n",
    "\n",
    "    # Diagonalize the traced-out density matrix\n",
    "    eigenvalues_traced, eigenvectors_traced = np.linalg.eigh(traced_out_density_matrix)\n",
    "\n",
    "    # Find the minimum eigenvalue of the traced-out density matrix\n",
    "    min_eigenvalue = np.min(eigenvalues_traced) \n",
    "    min_eigenvalues_np.append(min_eigenvalue)\n",
    "\n",
    "    if min_eigenvalue < 1e-16:\n",
    "        min_rdms_np.append(traced_out_density_matrix) #store the scarred rdms - step needed for optimization\n",
    "        rdm_eigenvalues_np.append(eigenvalues_traced) #store the eigenvalues of the scarred rdms\n",
    "\n",
    "# numpy\n",
    "\n",
    "# Define the threshold\n",
    "threshold = 1e-16\n",
    "min_eigenvalues_np = np.array(min_eigenvalues_np)\n",
    "\n",
    "# Count points with y-component less than the threshold\n",
    "count = sum(1 for y in min_eigenvalues_np if y < threshold)\n",
    "\n",
    "# Highlight points with y-component less than the threshold in red\n",
    "colors = ['red' if y < threshold else 'C0' for y in min_eigenvalues_np]\n",
    "\n",
    "# Plot the minimum eigenvalue of the traced-out density matrix as a function of the eigenvalue of the Hamiltonian H\n",
    "plt.scatter(eigenvalues, np.abs(min_eigenvalues_np), color=colors, s=1)\n",
    "\n",
    "plt.xlabel('Eigenvalue of H')\n",
    "plt.ylabel(r\"$\\lambda_{\\text{min}}$\")\n",
    "plt.yscale(\"log\")\n",
    "plt.show()\n",
    "\n",
    "# Find indices of red points - numpy\n",
    "red_indices_np = [i for i, y in enumerate(min_eigenvalues_np) if y < threshold]\n",
    "print(f'Indices of red points: {red_indices_np}')\n",
    "\n",
    "red_eigenvectors_np = []\n",
    "\n",
    "# Print eigenvalues, RDM minimum eigenvalues, and scalar products of eigenvectors for red points\n",
    "for i,ind in enumerate(red_indices_np):\n",
    "    print(i, ind)\n",
    "    print(f'Eigenvalue: {eigenvalues[ind]}, rdm Minimum Eigenvalue: {min_eigenvalues_np[ind]}')\n",
    "    print(f'Eigenvector {ind}: rdm rank: {np.linalg.matrix_rank(min_rdms_np[i])}')\n",
    "    red_eigenvectors_np.append(eigenvectors[:, ind])\n",
    "\n",
    "#for i in range(len(red_indices_np)):\n",
    "#    for j in range(len(red_indices_np)):\n",
    "#        idx1, idx2 = red_indices_np[i], red_indices_np[j]\n",
    "#        dot_product = np.dot(eigenvectors[:, idx1], np.conj(eigenvectors[:, idx2]))\n",
    "#        print(f\"Dot product between eigenvectors {idx1} and {idx2}: {dot_product}\")\n",
    "\n",
    "# Count entries of rdm_eigenvalues_np[i] - eigenvalues of the scarred rdms - that are non-zero\n",
    "counts_np = [np.sum(eigenvalues > 1e-16) for eigenvalues in rdm_eigenvalues_np]\n",
    "print(f'Counts of non-zero eigenvalues of the scarred rdms: {counts_np}')"
   ]
  },
  {
   "cell_type": "code",
   "execution_count": 50,
   "metadata": {},
   "outputs": [
    {
     "data": {
      "text/plain": [
       "'# rdm - torch\\n\\nmin_eigenvalues_to = []\\nmin_rdms_to = []\\nrdm_eigenvalues_to = []\\n\\nfor i in tqdm(range(len(eigenvalues))):\\n    # Construct the density matrix for each eigenvector\\n    min_eigenvector = eigenvectors[:, i]\\n    min_eigenvector_torch = torch.tensor(min_eigenvector, dtype=torch.float64)\\n    density_matrix = torch.outer(min_eigenvector_torch, min_eigenvector_torch.conj())\\n\\n    # Trace out qubits\\n    traced_out_density_matrix = ptrace_torch(density_matrix, keep_qubits, [[2] * N, [2] * N])\\n    traced_out_density_matrix = torch.tensor(traced_out_density_matrix, dtype=torch.float64) # necessary step to ensure that the scarred states have lambda_min of the correct order - <1e-16 \\n\\n    # Diagonalize the traced-out density matrix\\n    eigenvalues_traced, eigenvectors_traced = torch.linalg.eigh(traced_out_density_matrix)\\n\\n    # Find the minimum eigenvalue of the traced-out density matrix\\n    min_eigenvalue = torch.min(eigenvalues_traced).item()\\n    min_eigenvalues_to.append(min_eigenvalue)\\n\\n    if min_eigenvalue < 1e-16:\\n        min_rdms_to.append(traced_out_density_matrix.detach().cpu().numpy())  # store the scarred rdms - step needed for optimization\\n        rdm_eigenvalues_to.append(eigenvalues_traced.detach().cpu().numpy()) # store the eigenvalues of the scarred rdms\\n\\n# Define the threshold\\nthreshold = 1e-16\\nmin_eigenvalues_to = np.array(min_eigenvalues_to)\\n\\n# Count points with y-component less than the threshold\\ncount = sum(1 for y in min_eigenvalues_to if y < threshold)\\n\\n# Highlight points with y-component less than the threshold in red\\ncolors = [\\'red\\' if y < threshold else \\'C0\\' for y in min_eigenvalues_to]\\n\\n# Plot the minimum eigenvalue of the traced-out density matrix as a function of the eigenvalue of the Hamiltonian H\\nplt.scatter(eigenvalues, np.abs(min_eigenvalues_to), color=colors, s=1)\\n\\nplt.xlabel(\\'Eigenvalue of H\\')\\nplt.ylabel(r\"$\\\\lambda_{\\text{min}}$\")\\nplt.yscale(\"log\")\\nplt.show()\\n\\n# Find indices of red points - torch\\nred_indices_to = [i for i, y in enumerate(min_eigenvalues_to) if y < threshold]\\nprint(f\\'Indices of red points: {red_indices_to}\\')\\n\\nred_eigenvectors_to = []\\n\\n# Print eigenvalues, RDM minimum eigenvalues, and scalar products of eigenvectors for red points\\nfor i,ind in enumerate(red_indices_to):\\n    print(i, ind)\\n    print(f\\'Eigenvalue: {eigenvalues[ind]}, rdm Minimum Eigenvalue: {min_eigenvalues_to[ind]}\\')\\n    print(f\\'Eigenvector {ind}: rdm rank: {np.linalg.matrix_rank(min_rdms_to[i])}\\')\\n    red_eigenvectors_to.append(eigenvectors[:, ind])\\n\\nfor i in range(len(red_indices_to)):\\n    for j in range(len(red_indices_to)):\\n        idx1, idx2 = red_indices_to[i], red_indices_to[j]\\n        dot_product = np.dot(eigenvectors[:, idx1], np.conj(eigenvectors[:, idx2]))\\n        print(f\"Dot product between eigenvectors {idx1} and {idx2}: {dot_product}\")\\n\\n# Count entries of rdm_eigenvalues_to[i] - eigenvalues of the scarred rdms - that are non-zero\\ncounts_to = [np.sum(eigenvalues > 1e-15) for eigenvalues in rdm_eigenvalues_to]\\nprint(f\\'Counts of non-zero eigenvalues of the scarred rdms: {counts_to}\\')'"
      ]
     },
     "execution_count": 50,
     "metadata": {},
     "output_type": "execute_result"
    }
   ],
   "source": [
    "'''# rdm - torch\n",
    "\n",
    "min_eigenvalues_to = []\n",
    "min_rdms_to = []\n",
    "rdm_eigenvalues_to = []\n",
    "\n",
    "for i in tqdm(range(len(eigenvalues))):\n",
    "    # Construct the density matrix for each eigenvector\n",
    "    min_eigenvector = eigenvectors[:, i]\n",
    "    min_eigenvector_torch = torch.tensor(min_eigenvector, dtype=torch.float64)\n",
    "    density_matrix = torch.outer(min_eigenvector_torch, min_eigenvector_torch.conj())\n",
    "\n",
    "    # Trace out qubits\n",
    "    traced_out_density_matrix = ptrace_torch(density_matrix, keep_qubits, [[2] * N, [2] * N])\n",
    "    traced_out_density_matrix = torch.tensor(traced_out_density_matrix, dtype=torch.float64) # necessary step to ensure that the scarred states have lambda_min of the correct order - <1e-16 \n",
    "\n",
    "    # Diagonalize the traced-out density matrix\n",
    "    eigenvalues_traced, eigenvectors_traced = torch.linalg.eigh(traced_out_density_matrix)\n",
    "\n",
    "    # Find the minimum eigenvalue of the traced-out density matrix\n",
    "    min_eigenvalue = torch.min(eigenvalues_traced).item()\n",
    "    min_eigenvalues_to.append(min_eigenvalue)\n",
    "\n",
    "    if min_eigenvalue < 1e-16:\n",
    "        min_rdms_to.append(traced_out_density_matrix.detach().cpu().numpy())  # store the scarred rdms - step needed for optimization\n",
    "        rdm_eigenvalues_to.append(eigenvalues_traced.detach().cpu().numpy()) # store the eigenvalues of the scarred rdms\n",
    "\n",
    "# Define the threshold\n",
    "threshold = 1e-16\n",
    "min_eigenvalues_to = np.array(min_eigenvalues_to)\n",
    "\n",
    "# Count points with y-component less than the threshold\n",
    "count = sum(1 for y in min_eigenvalues_to if y < threshold)\n",
    "\n",
    "# Highlight points with y-component less than the threshold in red\n",
    "colors = ['red' if y < threshold else 'C0' for y in min_eigenvalues_to]\n",
    "\n",
    "# Plot the minimum eigenvalue of the traced-out density matrix as a function of the eigenvalue of the Hamiltonian H\n",
    "plt.scatter(eigenvalues, np.abs(min_eigenvalues_to), color=colors, s=1)\n",
    "\n",
    "plt.xlabel('Eigenvalue of H')\n",
    "plt.ylabel(r\"$\\lambda_{\\text{min}}$\")\n",
    "plt.yscale(\"log\")\n",
    "plt.show()\n",
    "\n",
    "# Find indices of red points - torch\n",
    "red_indices_to = [i for i, y in enumerate(min_eigenvalues_to) if y < threshold]\n",
    "print(f'Indices of red points: {red_indices_to}')\n",
    "\n",
    "red_eigenvectors_to = []\n",
    "\n",
    "# Print eigenvalues, RDM minimum eigenvalues, and scalar products of eigenvectors for red points\n",
    "for i,ind in enumerate(red_indices_to):\n",
    "    print(i, ind)\n",
    "    print(f'Eigenvalue: {eigenvalues[ind]}, rdm Minimum Eigenvalue: {min_eigenvalues_to[ind]}')\n",
    "    print(f'Eigenvector {ind}: rdm rank: {np.linalg.matrix_rank(min_rdms_to[i])}')\n",
    "    red_eigenvectors_to.append(eigenvectors[:, ind])\n",
    "\n",
    "for i in range(len(red_indices_to)):\n",
    "    for j in range(len(red_indices_to)):\n",
    "        idx1, idx2 = red_indices_to[i], red_indices_to[j]\n",
    "        dot_product = np.dot(eigenvectors[:, idx1], np.conj(eigenvectors[:, idx2]))\n",
    "        print(f\"Dot product between eigenvectors {idx1} and {idx2}: {dot_product}\")\n",
    "\n",
    "# Count entries of rdm_eigenvalues_to[i] - eigenvalues of the scarred rdms - that are non-zero\n",
    "counts_to = [np.sum(eigenvalues > 1e-15) for eigenvalues in rdm_eigenvalues_to]\n",
    "print(f'Counts of non-zero eigenvalues of the scarred rdms: {counts_to}')'''"
   ]
  },
  {
   "cell_type": "code",
   "execution_count": 56,
   "metadata": {},
   "outputs": [
    {
     "name": "stdout",
     "output_type": "stream",
     "text": [
      "\u001b[91mEigenvalue[106] = -2.000000000000001\u001b[0m\n",
      "\u001b[91mEigenvalue[107] = -2.0\u001b[0m\n",
      "\u001b[91mEigenvalue[108] = -1.9999999999999982\u001b[0m\n",
      "\u001b[91mEigenvalue[147] = 1.999999999999999\u001b[0m\n",
      "\u001b[91mEigenvalue[148] = 1.999999999999999\u001b[0m\n",
      "\u001b[91mEigenvalue[149] = 2.0\u001b[0m\n"
     ]
    }
   ],
   "source": [
    "half = [0,1,2,3]\n",
    "# Print selected eigenvalues in red\n",
    "indices = [106, 107, 108, 147, 148, 149]\n",
    "for idx in indices:\n",
    "    print(f\"\\033[91mEigenvalue[{idx}] = {eigenvalues[idx]}\\033[0m\")"
   ]
  },
  {
   "cell_type": "code",
   "execution_count": 54,
   "metadata": {},
   "outputs": [
    {
     "name": "stderr",
     "output_type": "stream",
     "text": [
      "100%|██████████| 256/256 [00:00<00:00, 2261.66it/s]\n"
     ]
    }
   ],
   "source": [
    "# Compute bipartite entanglement entropy for all eigenstates in the full Hilbert space\n",
    "numpy_entropies = [entanglement_entropy(eigenvectors[:, i], half, N) for i in tqdm(range(eigenvectors.shape[1]))]\n",
    "#qutip_entropies = [entanglement_entropy_qutip(eigenvectors[:, i], half, N) for i in tqdm(range(eigenvectors.shape[1]))]\n",
    "#torch_entropies = [entanglement_entropy_torch(eigenvectors[:, i], half, N) for i in tqdm(range(eigenvectors.shape[1]))]"
   ]
  },
  {
   "cell_type": "code",
   "execution_count": 57,
   "metadata": {},
   "outputs": [
    {
     "data": {
      "image/png": "[encoded data removed]",
      "text/plain": [
       "<Figure size 640x480 with 1 Axes>"
      ]
     },
     "metadata": {},
     "output_type": "display_data"
    }
   ],
   "source": [
    "# Highlight selected eigenvalues in red on a plot\n",
    "selected_indices = [106, 107, 108, 147, 148, 149]\n",
    "plt.scatter(eigenvalues, numpy_entropies, color='C0', s=1, label='numpy')\n",
    "plt.scatter([eigenvalues[i] for i in selected_indices],\n",
    "            [numpy_entropies[i] for i in selected_indices],\n",
    "            color='red', s=20, label='Selected')\n",
    "plt.legend()\n",
    "plt.show()"
   ]
  },
  {
   "cell_type": "code",
   "execution_count": null,
   "metadata": {},
   "outputs": [
    {
     "name": "stdout",
     "output_type": "stream",
     "text": [
      "Entropies of red points:\n",
      "Index: 1266, Entropy: 3.6664899664142334\n",
      "Index: 1267, Entropy: 3.8609454779097785\n",
      "Index: 1268, Entropy: 3.4789638768785487\n",
      "Index: 1269, Entropy: 3.426551079718025\n",
      "Index: 1270, Entropy: 3.73950803393908\n",
      "Random scar entropy: 3.45817816876527\n"
     ]
    },
    {
     "data": {
      "image/png": "[encoded data removed]",
      "text/plain": [
       "<Figure size 1000x600 with 1 Axes>"
      ]
     },
     "metadata": {},
     "output_type": "display_data"
    }
   ],
   "source": [
    "# Print entropies of red points only\n",
    "print(\"Entropies of red points:\")\n",
    "for i in red_indices_np:\n",
    "    print(f'Index: {i}, Entropy: {numpy_entropies[i]}')\n",
    "\n",
    "print(f'Random scar entropy: {rnd_scar_entropy}')\n",
    "\n",
    "# Plot entanglement entropy as a function of energy eigenvalues\n",
    "plt.figure(figsize=(10, 6))\n",
    "\n",
    "# Highlight points with y-component less than the threshold in red\n",
    "colors = ['red' if y < threshold else 'C0' for y in min_eigenvalues_np]\n",
    "\n",
    "# Plot entanglement entropy with highlighted points\n",
    "for i, color in enumerate(colors):\n",
    "    plt.plot(eigenvalues[i], numpy_entropies[i], 'o', color=color, markersize=2)\n",
    "\n",
    "# Plot the maximum scar entropy in yellow\n",
    "plt.plot(np.mean(red_eigenvalues), rnd_scar_entropy, 'x', color='yellow', markersize=7, label='Random Scar')\n",
    "\n",
    "# Add legend for red points only with text \"scars\"\n",
    "red_points = [i for i, color in enumerate(colors) if color == 'red']\n",
    "if red_points:\n",
    "    plt.plot([], [], 'o', color='red', label='Scars')\n",
    "\n",
    "plt.xlabel('Eigenvalue of H')\n",
    "plt.ylabel('Entanglement entropy')\n",
    "plt.legend()\n",
    "plt.show()"
   ]
  },
  {
   "cell_type": "code",
   "execution_count": null,
   "metadata": {},
   "outputs": [
    {
     "name": "stdout",
     "output_type": "stream",
     "text": [
      "Entropies of red points:\n",
      "Index: 1266, Entropy: 3.6664899664142334\n",
      "Index: 1267, Entropy: 3.8609454779097785\n",
      "Index: 1268, Entropy: 3.4789638768785487\n",
      "Index: 1269, Entropy: 3.426551079718025\n",
      "Index: 1270, Entropy: 3.73950803393908\n"
     ]
    },
    {
     "data": {
      "image/png": "[encoded data removed]",
      "text/plain": [
       "<Figure size 1000x600 with 1 Axes>"
      ]
     },
     "metadata": {},
     "output_type": "display_data"
    }
   ],
   "source": [
    "# Print entropies of red points only\n",
    "print(\"Entropies of red points:\")\n",
    "for i in red_indices_np:\n",
    "    print(f'Index: {i}, Entropy: {numpy_entropies[i]}')\n",
    "\n",
    "# Find the red index with the lowest entanglement entropy\n",
    "min_entropy_idx = min(red_indices_np, key=lambda i: numpy_entropies[i])\n",
    "min_entropy_val = numpy_entropies[min_entropy_idx]\n",
    "\n",
    "# Plot entanglement entropy as a function of energy eigenvalues\n",
    "plt.figure(figsize=(10, 6))\n",
    "\n",
    "# Highlight points with y-component less than the threshold in red\n",
    "colors = ['red' if y < threshold else 'C0' for y in min_eigenvalues_np]\n",
    "\n",
    "# Plot blue points first\n",
    "for i, color in enumerate(colors):\n",
    "    if color != 'red':\n",
    "        plt.plot(eigenvalues[i], numpy_entropies[i], 'o', color=color, markersize=2)\n",
    "# Then plot red points on top\n",
    "for i, color in enumerate(colors):\n",
    "    if color == 'red':\n",
    "        plt.plot(eigenvalues[i], numpy_entropies[i], 'o', color=color, markersize=4)\n",
    "\n",
    "# Plot entanglement entropy with highlighted points\n",
    "#for i, color in enumerate(colors):\n",
    "#    size = 3 if color == 'red' else 2\n",
    "#    plt.plot(eigenvalues[i], numpy_entropies[i], 'o', color=color, markersize=size)\n",
    "\n",
    "# Mark the scar with the lowest entanglement entropy with a yellow cross\n",
    "plt.plot(eigenvalues[min_entropy_idx], min_entropy_val, 'x', color='red', markersize=8, label=f'Min EE (idx={min_entropy_idx + 1})')\n",
    "\n",
    "# Add legend for red points only with text \"scars\"\n",
    "red_points = [i for i, color in enumerate(colors) if color == 'red']\n",
    "if red_points:\n",
    "    plt.plot([], [], 'o', color='red', markersize=4, label='Scars')\n",
    "\n",
    "plt.xlabel('Eigenvalue of H')\n",
    "plt.ylabel('Entanglement entropy')\n",
    "plt.legend()\n",
    "plt.show()"
   ]
  },
  {
   "cell_type": "code",
   "execution_count": null,
   "metadata": {},
   "outputs": [
    {
     "data": {
      "text/plain": [
       "'# Compute entanglement entropy for the rnd_scar wavefunction - qutip\\n\\n# Print entropies of red points only\\nprint(\"Entropies of red points:\")\\nfor i in red_indices:\\n    print(f\\'Index: {i}, Entropy: {qutip_entropies[i]}\\')\\n\\nprint(f\\'Random scar entropy: {rnd_scar_entropy_qutip}\\')\\n\\n# Plot entanglement entropy as a function of energy eigenvalues\\nplt.figure(figsize=(10, 6))\\n\\n# Highlight points with y-component less than the threshold in red\\ncolors = [\\'red\\' if y < threshold else \\'C0\\' for y in min_eigenvalues]\\n\\n# Plot entanglement entropy with highlighted points\\nfor i, color in enumerate(colors):\\n    plt.plot(eigenvalues[i], qutip_entropies[i], \\'o\\', color=color, markersize=2)\\n\\n# Plot the maximum scar entropy in yellow\\nplt.plot(np.mean(red_eigenvalues), rnd_scar_entropy_qutip, \\'x\\', color=\\'yellow\\', markersize=7, label=\\'Random Scar\\')\\n\\n# Add legend for red points only with text \"scars\"\\nred_points = [i for i, color in enumerate(colors) if color == \\'red\\']\\nif red_points:\\n    plt.plot([], [], \\'o\\', color=\\'red\\', label=\\'Scars\\')\\n\\nplt.xlabel(\\'Eigenvalue of H\\')\\nplt.ylabel(\\'Entanglement entropy\\')\\n#plt.title(\\'Entanglement entropy as a function of energy eigenvalues\\')\\nplt.legend()\\nplt.show()'"
      ]
     },
     "execution_count": 15,
     "metadata": {},
     "output_type": "execute_result"
    }
   ],
   "source": [
    "'''# Compute entanglement entropy for the rnd_scar wavefunction - qutip\n",
    "\n",
    "# Print entropies of red points only\n",
    "print(\"Entropies of red points:\")\n",
    "for i in red_indices:\n",
    "    print(f'Index: {i}, Entropy: {qutip_entropies[i]}')\n",
    "\n",
    "print(f'Random scar entropy: {rnd_scar_entropy_qutip}')\n",
    "\n",
    "# Plot entanglement entropy as a function of energy eigenvalues\n",
    "plt.figure(figsize=(10, 6))\n",
    "\n",
    "# Highlight points with y-component less than the threshold in red\n",
    "colors = ['red' if y < threshold else 'C0' for y in min_eigenvalues]\n",
    "\n",
    "# Plot entanglement entropy with highlighted points\n",
    "for i, color in enumerate(colors):\n",
    "    plt.plot(eigenvalues[i], qutip_entropies[i], 'o', color=color, markersize=2)\n",
    "\n",
    "# Plot the maximum scar entropy in yellow\n",
    "plt.plot(np.mean(red_eigenvalues), rnd_scar_entropy_qutip, 'x', color='yellow', markersize=7, label='Random Scar')\n",
    "\n",
    "# Add legend for red points only with text \"scars\"\n",
    "red_points = [i for i, color in enumerate(colors) if color == 'red']\n",
    "if red_points:\n",
    "    plt.plot([], [], 'o', color='red', label='Scars')\n",
    "\n",
    "plt.xlabel('Eigenvalue of H')\n",
    "plt.ylabel('Entanglement entropy')\n",
    "#plt.title('Entanglement entropy as a function of energy eigenvalues')\n",
    "plt.legend()\n",
    "plt.show()'''"
   ]
  },
  {
   "cell_type": "code",
   "execution_count": null,
   "metadata": {},
   "outputs": [
    {
     "data": {
      "text/plain": [
       "'# Compute entanglement entropy for the rnd_scar wavefunction - torch\\n\\n# Print entropies of red points only\\nprint(\"Entropies of red points:\")\\nfor i in red_indices:\\n    print(f\\'Index: {i}, Entropy: {torch_entropies[i]}\\')\\n\\nprint(f\\'Random scar entropy: {rnd_scar_entropy_torch}\\')\\n\\n# Plot entanglement entropy as a function of energy eigenvalues\\nplt.figure(figsize=(10, 6))\\n\\n# Highlight points with y-component less than the threshold in red\\ncolors = [\\'red\\' if y < threshold else \\'C0\\' for y in min_eigenvalues]\\n\\n# Plot entanglement entropy with highlighted points\\nfor i, color in enumerate(colors):\\n    plt.plot(eigenvalues[i], torch_entropies[i], \\'o\\', color=color, markersize=2)\\n\\n# Plot the maximum scar entropy in yellow\\nplt.plot(np.mean(red_eigenvalues), rnd_scar_entropy_torch, \\'x\\', color=\\'yellow\\', markersize=7, label=\\'Random Scar\\')\\n\\n# Add legend for red points only with text \"scars\"\\nred_points = [i for i, color in enumerate(colors) if color == \\'red\\']\\nif red_points:\\n    plt.plot([], [], \\'o\\', color=\\'red\\', label=\\'Scars\\')\\n\\nplt.xlabel(\\'Eigenvalue of H\\')\\nplt.ylabel(\\'Entanglement entropy\\')\\n#plt.title(\\'Entanglement entropy as a function of energy eigenvalues\\')\\nplt.legend()\\nplt.show()'"
      ]
     },
     "execution_count": 16,
     "metadata": {},
     "output_type": "execute_result"
    }
   ],
   "source": [
    "'''# Compute entanglement entropy for the rnd_scar wavefunction - torch\n",
    "\n",
    "# Print entropies of red points only\n",
    "print(\"Entropies of red points:\")\n",
    "for i in red_indices:\n",
    "    print(f'Index: {i}, Entropy: {torch_entropies[i]}')\n",
    "\n",
    "print(f'Random scar entropy: {rnd_scar_entropy_torch}')\n",
    "\n",
    "# Plot entanglement entropy as a function of energy eigenvalues\n",
    "plt.figure(figsize=(10, 6))\n",
    "\n",
    "# Highlight points with y-component less than the threshold in red\n",
    "colors = ['red' if y < threshold else 'C0' for y in min_eigenvalues]\n",
    "\n",
    "# Plot entanglement entropy with highlighted points\n",
    "for i, color in enumerate(colors):\n",
    "    plt.plot(eigenvalues[i], torch_entropies[i], 'o', color=color, markersize=2)\n",
    "\n",
    "# Plot the maximum scar entropy in yellow\n",
    "plt.plot(np.mean(red_eigenvalues), rnd_scar_entropy_torch, 'x', color='yellow', markersize=7, label='Random Scar')\n",
    "\n",
    "# Add legend for red points only with text \"scars\"\n",
    "red_points = [i for i, color in enumerate(colors) if color == 'red']\n",
    "if red_points:\n",
    "    plt.plot([], [], 'o', color='red', label='Scars')\n",
    "\n",
    "plt.xlabel('Eigenvalue of H')\n",
    "plt.ylabel('Entanglement entropy')\n",
    "#plt.title('Entanglement entropy as a function of energy eigenvalues')\n",
    "plt.legend()\n",
    "plt.show()'''"
   ]
  },
  {
   "cell_type": "code",
   "execution_count": null,
   "metadata": {},
   "outputs": [
    {
     "name": "stdout",
     "output_type": "stream",
     "text": [
      "Entropies of red points:\n",
      "Index: 1266, Entropy: 3.6664899664142334\n",
      "Index: 1267, Entropy: 3.8609454779097785\n",
      "Index: 1268, Entropy: 3.4789638768785487\n",
      "Index: 1269, Entropy: 3.426551079718025\n",
      "Index: 1270, Entropy: 3.73950803393908\n",
      "Random scar entropy: 3.45817816876527\n"
     ]
    },
    {
     "data": {
      "image/png": "[encoded data removed]",
      "text/plain": [
       "<Figure size 1100x600 with 2 Axes>"
      ]
     },
     "metadata": {},
     "output_type": "display_data"
    }
   ],
   "source": [
    "# Define a list of colors for red points\n",
    "red_colors = plt.cm.rainbow(np.linspace(0, 1, len(red_indices_np)))\n",
    "\n",
    "# Print entropies of red points only\n",
    "print(\"Entropies of red points:\")\n",
    "for i in red_indices_np:\n",
    "    print(f'Index: {i}, Entropy: {numpy_entropies[i]}')\n",
    "\n",
    "print(f'Random scar entropy: {rnd_scar_entropy}')\n",
    "\n",
    "# Plot entanglement entropy as a function of energy eigenvalues\n",
    "fig, ax = plt.subplots(figsize=(11, 6))\n",
    "\n",
    "# Highlight points with y-component less than the threshold in red\n",
    "colors = ['red' if y < threshold else 'C0' for y in min_eigenvalues_np]\n",
    "\n",
    "# Plot entanglement entropy with highlighted points\n",
    "for i, color in enumerate(colors):\n",
    "    ax.plot(eigenvalues[i], numpy_entropies[i], 'o', color=color, markersize=2)\n",
    "\n",
    "# Collect handles and labels for the legend\n",
    "handles = []\n",
    "labels = []\n",
    "\n",
    "# Plot each red point with a different color and collect handles and labels\n",
    "for i, idx in enumerate(red_indices_np):\n",
    "    handle, = ax.plot(eigenvalues[idx], numpy_entropies[idx], 'o', color=red_colors[i], markersize=5)\n",
    "    handles.append(handle)\n",
    "    labels.append(f'λ_min: {float(min_eigenvalues_np[idx]):.2e}, Entropy: {numpy_entropies[idx]:.2f}')\n",
    "\n",
    "# Plot the maximum scar entropy in yellow and add to handles and labels\n",
    "max_scar_handle, = ax.plot(np.mean(red_eigenvalues), rnd_scar_entropy, 'x', color='yellow', markersize=7)\n",
    "handles.append(max_scar_handle)\n",
    "labels.append('Max Scar, Entropy: {:.2f}'.format(rnd_scar_entropy))\n",
    "\n",
    "# Sort handles and labels by lambda min\n",
    "sorted_handles_labels = sorted(zip(handles, labels), key=lambda hl: float(hl[1].split(': ')[1].split(',')[0]) if 'λ_min' in hl[1] else float('inf'))\n",
    "sorted_handles, sorted_labels = zip(*sorted_handles_labels)\n",
    "\n",
    "# Filter min_eigenvalues to include only those corresponding to red_indices\n",
    "filtered_min_eigenvalues = [min_eigenvalues_np[idx] for idx in red_indices_np]\n",
    "\n",
    "# Create a color bar for the red points using filtered min_eigenvalues\n",
    "norm = Normalize(vmin=min(filtered_min_eigenvalues), vmax=max(filtered_min_eigenvalues))\n",
    "sm = ScalarMappable(cmap='rainbow', norm=norm)\n",
    "sm.set_array([])\n",
    "\n",
    "cbar = fig.colorbar(sm, ax=ax, label=r'$\\lambda_{\\mathrm{min}}$')\n",
    "\n",
    "ax.set_xlabel('Eigenvalue of H')\n",
    "ax.set_ylabel('Entanglement entropy')\n",
    "#ax.set_title('Entanglement entropy as a function of energy eigenvalues')\n",
    "plt.show()"
   ]
  },
  {
   "cell_type": "code",
   "execution_count": null,
   "metadata": {},
   "outputs": [],
   "source": [
    "#################### OPTIMAL LINEAR COMBINATION OF SCARS THAT  MINIMIZE/MAXIMIZE EE ##########################"
   ]
  },
  {
   "cell_type": "code",
   "execution_count": null,
   "metadata": {},
   "outputs": [
    {
     "name": "stdout",
     "output_type": "stream",
     "text": [
      "Lowest Entropy Index: 1267, Entropy: 3.8609454779097785\n",
      "Initial coeffs, real: tensor([0., 0., 0.,  ..., 0., 0., 0.], requires_grad=True)\n",
      "Initial coeffs, imag: tensor([0., 0., 0.,  ..., 0., 0., 0.], requires_grad=True)\n",
      "Lowest Entropy Index: 1267, Entropy: 3.860943555831909\n",
      "Highest Entropy Index: 1268, Entropy: 3.4789638768785487\n",
      "Initial coeffs, real: tensor([0., 0., 0.,  ..., 0., 0., 0.], requires_grad=True)\n",
      "Initial coeffs, imag: tensor([0., 0., 0.,  ..., 0., 0., 0.], requires_grad=True)\n",
      "Highest Entropy Index: 1268, Entropy: 3.47896409034729\n"
     ]
    }
   ],
   "source": [
    "# Let's look closer at the scar points with the lowest and highest entropy (Indices: 1267, 1268)\n",
    "\n",
    "# MIN ENTROPY\n",
    "\n",
    "lowest_entropy_index = 1267\n",
    "lowest_entropy_eigenvector = eigenvectors[:, lowest_entropy_index]\n",
    "entanglement_entropy_value = entanglement_entropy(lowest_entropy_eigenvector, half, N)\n",
    "print(f'Lowest Entropy Index: {lowest_entropy_index}, Entropy: {entanglement_entropy_value}')   \n",
    "\n",
    "# Convert the eigenvector to PyTorch tensors for real and imaginary parts\n",
    "params_real = torch.tensor(lowest_entropy_eigenvector.real, dtype=torch.float, requires_grad=True)\n",
    "params_imag = torch.tensor(lowest_entropy_eigenvector.imag, dtype=torch.float, requires_grad=True)\n",
    "\n",
    "print(\"Initial coeffs, real:\", params_real)\n",
    "print(\"Initial coeffs, imag:\", params_imag)\n",
    "\n",
    "entanglement_entropy_value = entanglement_entropy_torch(lowest_entropy_eigenvector, half, N)\n",
    "print(f'Lowest Entropy Index: {lowest_entropy_index}, Entropy: {entanglement_entropy_value}')\n",
    "\n",
    "# Define coefficients for the linear combination\n",
    "min_coeffs = np.zeros(len(red_eigenvectors_np), dtype=np.complex128)  # Initialize all coefficients to 0\n",
    "min_coeffs[red_indices_np.index(1267)] = 1  # Ensure the coefficient for index 1267 is explicitly set to 1\n",
    "\n",
    "\n",
    "# MAX ENTROPY\n",
    "highest_entropy_index = 1268\n",
    "highest_entropy_eigenvector = eigenvectors[:, highest_entropy_index]\n",
    "entanglement_entropy_value = entanglement_entropy(highest_entropy_eigenvector, half, N)\n",
    "print(f'Highest Entropy Index: {highest_entropy_index}, Entropy: {entanglement_entropy_value}') \n",
    "\n",
    "# Convert the eigenvector to PyTorch tensors for real and imaginary parts\n",
    "params_real = torch.tensor(lowest_entropy_eigenvector.real, dtype=torch.float, requires_grad=True)\n",
    "params_imag = torch.tensor(lowest_entropy_eigenvector.imag, dtype=torch.float, requires_grad=True)\n",
    "\n",
    "print(\"Initial coeffs, real:\", params_real)\n",
    "print(\"Initial coeffs, imag:\", params_imag)\n",
    "\n",
    "entanglement_entropy_value = entanglement_entropy_torch(highest_entropy_eigenvector, half, N)\n",
    "print(f'Highest Entropy Index: {highest_entropy_index}, Entropy: {entanglement_entropy_value}')\n",
    "\n",
    "# Define coefficients for the linear combination\n",
    "max_coeffs = np.zeros(len(red_eigenvectors_np), dtype=np.complex128)  # Initialize all coefficients to 0\n",
    "max_coeffs[red_indices_np.index(1268)] = 1  # Ensure the coefficient for index 1268 is explicitly set to 1\n"
   ]
  },
  {
   "cell_type": "code",
   "execution_count": null,
   "metadata": {},
   "outputs": [
    {
     "name": "stdout",
     "output_type": "stream",
     "text": [
      "Initial Entropy: 3.860943078994751\n"
     ]
    },
    {
     "ename": "RuntimeError",
     "evalue": "Numpy is not available",
     "output_type": "error",
     "traceback": [
      "\u001b[1;31m---------------------------------------------------------------------------\u001b[0m",
      "\u001b[1;31mRuntimeError\u001b[0m                              Traceback (most recent call last)",
      "Cell \u001b[1;32mIn[20], line 70\u001b[0m\n\u001b[0;32m     68\u001b[0m     params_real \u001b[38;5;241m/\u001b[39m\u001b[38;5;241m=\u001b[39m norm\n\u001b[0;32m     69\u001b[0m     params_imag \u001b[38;5;241m/\u001b[39m\u001b[38;5;241m=\u001b[39m norm\n\u001b[1;32m---> 70\u001b[0m \u001b[38;5;28mprint\u001b[39m(\u001b[38;5;124m\"\u001b[39m\u001b[38;5;124mCoeffs norm:\u001b[39m\u001b[38;5;124m\"\u001b[39m, \u001b[43mtorch\u001b[49m\u001b[38;5;241;43m.\u001b[39;49m\u001b[43mnorm\u001b[49m\u001b[43m(\u001b[49m\u001b[43mtorch\u001b[49m\u001b[38;5;241;43m.\u001b[39;49m\u001b[43mcomplex\u001b[49m\u001b[43m(\u001b[49m\u001b[43mparams_real\u001b[49m\u001b[43m,\u001b[49m\u001b[43m \u001b[49m\u001b[43mparams_imag\u001b[49m\u001b[43m)\u001b[49m\u001b[43m)\u001b[49m\u001b[38;5;241;43m.\u001b[39;49m\u001b[43mdetach\u001b[49m\u001b[43m(\u001b[49m\u001b[43m)\u001b[49m\u001b[38;5;241;43m.\u001b[39;49m\u001b[43mcpu\u001b[49m\u001b[43m(\u001b[49m\u001b[43m)\u001b[49m\u001b[38;5;241;43m.\u001b[39;49m\u001b[43mnumpy\u001b[49m\u001b[43m(\u001b[49m\u001b[43m)\u001b[49m)\n\u001b[0;32m     72\u001b[0m \u001b[38;5;28mprint\u001b[39m(\u001b[38;5;124mf\u001b[39m\u001b[38;5;124m'\u001b[39m\u001b[38;5;124mEntropy: \u001b[39m\u001b[38;5;132;01m{\u001b[39;00mentropy\u001b[38;5;241m.\u001b[39mitem()\u001b[38;5;132;01m}\u001b[39;00m\u001b[38;5;124m'\u001b[39m)\n\u001b[0;32m     73\u001b[0m \u001b[38;5;28mprint\u001b[39m(\u001b[38;5;124mf\u001b[39m\u001b[38;5;124m'\u001b[39m\u001b[38;5;124mCoeffs: \u001b[39m\u001b[38;5;132;01m{\u001b[39;00mcoeffs\u001b[38;5;241m.\u001b[39mdetach()\u001b[38;5;241m.\u001b[39mcpu()\u001b[38;5;241m.\u001b[39mnumpy()\u001b[38;5;132;01m}\u001b[39;00m\u001b[38;5;124m'\u001b[39m)\n",
      "\u001b[1;31mRuntimeError\u001b[0m: Numpy is not available"
     ]
    }
   ],
   "source": [
    "# find entropy min coeffs - everything  has to be in torch\n",
    "\n",
    "# Initialize parameters for the coefficients with all values equal\n",
    "#params_real = torch.full((5,), 1/np.sqrt(10), requires_grad=True)\n",
    "#params_imag = torch.full((5,), 1/np.sqrt(10), requires_grad=True)\n",
    "\n",
    "# Initialize parameters for the coefficients with random values\n",
    "#params_real = torch.randn(5, requires_grad=True)\n",
    "#params_imag = torch.randn(5, requires_grad=True)\n",
    "\n",
    "# Convert random_coeffs to PyTorch tensors\n",
    "#params_real = torch.tensor(random_coeffs.real, dtype=torch.float, requires_grad=True)\n",
    "#params_imag = torch.tensor(random_coeffs.imag, dtype=torch.float, requires_grad=True)\n",
    "\n",
    "red_eigenvectors = [torch.tensor(vec, dtype=torch.complex64) for vec in red_eigenvectors_np]\n",
    "\n",
    "\n",
    "params_real = torch.tensor(min_coeffs.real, dtype=torch.float, requires_grad=True)\n",
    "params_imag = torch.tensor(min_coeffs.imag, dtype=torch.float, requires_grad=True)\n",
    "\n",
    "# Compute the linear combination using the defined function\n",
    "psi = linear_combination(torch.complex(params_real, params_imag), red_eigenvectors)\n",
    "\n",
    "# if the outer products between scarred states are computed before optimization loop\n",
    "# ....\n",
    "\n",
    "# Compute entanglement entropy\n",
    "entropy = entanglement_entropy_torch(psi, half, N) \n",
    "print(f'Initial Entropy: {entropy.item()}')\n",
    "\n",
    "# Normalize the parameters to ensure the norm is 1\n",
    "with torch.no_grad():\n",
    "    norm = torch.norm(torch.complex(params_real, params_imag))\n",
    "    params_real /= norm\n",
    "    params_imag /= norm\n",
    "\n",
    "# Define the optimizer\n",
    "optimizer = optim.Adam([params_real, params_imag], lr=0.01)\n",
    "\n",
    "# Lists to store the values of parameters and entropy\n",
    "coeffs_history_min = []\n",
    "entropy_history = []\n",
    "\n",
    "# Optimization loop\n",
    "num_iterations = 150\n",
    "for _ in range(num_iterations):\n",
    "    optimizer.zero_grad()\n",
    "    \n",
    "    # Combine real and imaginary parts for the coefficients\n",
    "    coeffs = torch.complex(params_real, params_imag)\n",
    "    \n",
    "    # Normalize coefficients to project them onto the unit sphere\n",
    "    coeffs = coeffs / torch.norm(coeffs)\n",
    "    \n",
    "    # Compute psi\n",
    "    psi = linear_combination(coeffs, red_eigenvectors)\n",
    "    \n",
    "    # Compute entanglement entropy\n",
    "    entropy = entanglement_entropy_torch(psi, half, N) # it would be better to compute the outer product of the state before the optimization loop. but optimization is not taking too long so it's ok for now\n",
    "    \n",
    "    # Backpropagation\n",
    "    entropy.backward()\n",
    "    optimizer.step()\n",
    "    \n",
    "    # Normalize parameters again to ensure they stay on the unit sphere\n",
    "    with torch.no_grad():\n",
    "        norm = torch.norm(torch.complex(params_real, params_imag))\n",
    "        params_real /= norm\n",
    "        params_imag /= norm\n",
    "    print(\"Coeffs norm:\", torch.norm(torch.complex(params_real, params_imag)).detach().cpu().numpy())\n",
    "    \n",
    "    print(f'Entropy: {entropy.item()}')\n",
    "    print(f'Coeffs: {coeffs.detach().cpu().numpy()}')\n",
    "\n",
    "    # Store the values of parameters and entropy\n",
    "    coeffs_history_min.append(coeffs.detach().cpu().numpy())\n",
    "    entropy_history.append(entropy.item())\n",
    "\n",
    "# Final optimized coefficients\n",
    "optimized_coeffs = torch.complex(params_real, params_imag)\n",
    "optimized_coeffs = optimized_coeffs / torch.norm(optimized_coeffs)\n",
    "\n",
    "print(\"Optimized coefficients:\", optimized_coeffs)\n",
    "\n",
    "# Plot the value of parameters and entropy as a function of num_iterations\n",
    "plt.figure(figsize=(12, 6))\n",
    "\n",
    "# Plot entropy\n",
    "plt.subplot(1, 2, 1)\n",
    "plt.plot(entropy_history)\n",
    "plt.xlabel('Iteration')\n",
    "plt.ylabel('Entropy')\n",
    "#plt.title('Entropy vs. Iterations')\n",
    "\n",
    "# Plot coefficients\n",
    "plt.subplot(1, 2, 2)\n",
    "coeffs_history_min = np.array(coeffs_history_min)\n",
    "for i in range(coeffs_history_min.shape[1]):\n",
    "    plt.plot(coeffs_history_min[:, i].real, label=f'Coeff {i+1} Real')\n",
    "    plt.plot(coeffs_history_min[:, i].imag, label=f'Coeff {i+1} Imag', linestyle='--')\n",
    "plt.xlabel('Iteration')\n",
    "plt.ylabel('Coefficient Value')\n",
    "#plt.title('Coefficients vs. Iterations')\n",
    "plt.legend()\n",
    "\n",
    "plt.tight_layout()\n",
    "plt.show()"
   ]
  },
  {
   "cell_type": "code",
   "execution_count": null,
   "metadata": {},
   "outputs": [],
   "source": [
    "# Compute the max_scar wavefunction using the optimized coefficients (min entropy)\n",
    "min_scar = linear_combination_np(coeffs_history_min[-1], red_eigenvectors_np)\n",
    "# Define a list of colors for red points\n",
    "red_colors = plt.cm.rainbow(np.linspace(0, 1, len(red_indices_np)))\n",
    "\n",
    "# Compute entanglement entropy for the max_scar wavefunction\n",
    "min_scar_entropy = entanglement_entropy(min_scar, half, N)\n",
    "\n",
    "# Print entropies of red points only\n",
    "print(\"Entropies of red points:\")\n",
    "for i in red_indices_np:\n",
    "    print(f'Index: {i}, Entropy: {numpy_entropies[i]}')\n",
    "\n",
    "print(f'Min scar entropy: {min_scar_entropy}')\n",
    "\n",
    "# Plot entanglement entropy as a function of energy eigenvalues\n",
    "fig, ax = plt.subplots(figsize=(10, 6))\n",
    "\n",
    "# Highlight points with y-component less than the threshold in red\n",
    "colors = ['red' if y < threshold else 'C0' for y in min_eigenvalues_np]\n",
    "\n",
    "# Plot entanglement entropy with highlighted points\n",
    "for i, color in enumerate(colors):\n",
    "    ax.plot(eigenvalues[i], numpy_entropies[i], 'o', color=color, markersize=2)\n",
    "\n",
    "# Collect handles and labels for the legend\n",
    "handles = []\n",
    "labels = []\n",
    "\n",
    "# Plot each red point with a different color and collect handles and labels\n",
    "for i, idx in enumerate(red_indices_np):\n",
    "    handle, = ax.plot(eigenvalues[idx], numpy_entropies[idx], 'o', color=red_colors[i], markersize=5)\n",
    "    handles.append(handle)\n",
    "    labels.append(r'$\\lambda_\\mathrm{min}$: {float(min_eigenvalues[idx]):.2e}, Entropy: {naive_entropies[idx]:.2f}')\n",
    "\n",
    "# Plot the maximum scar entropy in yellow and add to handles and labels\n",
    "min_scar_handle, = ax.plot(np.mean(eigenvalues[red_indices_np]), min_scar_entropy, 'x', color='black', markersize=7)\n",
    "handles.append(min_scar_handle)\n",
    "labels.append('Min Scar, Entropy: {:.2f}'.format(min_scar_entropy))\n",
    "\n",
    "# Sort handles and labels by lambda min\n",
    "sorted_handles_labels = sorted(zip(handles, labels), key=lambda hl: float(hl[1].split(': ')[1].split(',')[0]) if 'λ_min' in hl[1] else float('inf'))\n",
    "sorted_handles, sorted_labels = zip(*sorted_handles_labels)\n",
    "\n",
    "# Filter min_eigenvalues to include only those corresponding to red_indices\n",
    "filtered_min_eigenvalues = [min_eigenvalues_np[idx] for idx in red_indices_np]\n",
    "\n",
    "# Create a color bar for the red points using filtered min_eigenvalues\n",
    "norm = Normalize(vmin=min(filtered_min_eigenvalues), vmax=max(filtered_min_eigenvalues))\n",
    "sm = ScalarMappable(cmap='rainbow', norm=norm)\n",
    "sm.set_array([])\n",
    "\n",
    "cbar = fig.colorbar(sm, ax=ax, label=r'$\\lambda_{\\mathrm{min}}$')\n",
    "\n",
    "ax.set_xlabel('Eigenvalue of H')\n",
    "ax.set_ylabel('Entanglement entropy')\n",
    "plt.show()"
   ]
  },
  {
   "cell_type": "code",
   "execution_count": null,
   "metadata": {},
   "outputs": [],
   "source": [
    "# now find entropy max coeffs - everything  has to be in torch\n",
    "\n",
    "# Initialize parameters for the coefficients with all values equal\n",
    "#params_real = torch.full((5,), 1/np.sqrt(10), requires_grad=True)\n",
    "#params_imag = torch.full((5,), 1/np.sqrt(10), requires_grad=True)\n",
    "\n",
    "# Initialize parameters for the coefficients with random values\n",
    "#params_real = torch.randn(5, requires_grad=True)\n",
    "#params_imag = torch.randn(5, requires_grad=True)\n",
    "\n",
    "# Convert random_coeffs to PyTorch tensors\n",
    "#params_real = torch.tensor(random_coeffs.real, dtype=torch.float, requires_grad=True)\n",
    "#params_imag = torch.tensor(random_coeffs.imag, dtype=torch.float, requires_grad=True)\n",
    "\n",
    "params_real = torch.tensor(max_coeffs.real, dtype=torch.float, requires_grad=True)\n",
    "params_imag = torch.tensor(max_coeffs.imag, dtype=torch.float, requires_grad=True)\n",
    "\n",
    "print(\"Initial coeffs, real\", params_real)\n",
    "print(\"Initial coeffs imag\",  params_imag)\n",
    "\n",
    "# Compute psi\n",
    "psi = linear_combination(torch.complex(params_real, params_imag), red_eigenvectors)\n",
    "\n",
    "# Compute entanglement entropy\n",
    "entropy = entanglement_entropy_torch(psi, half, N) \n",
    "print(f'Initial Entropy: {entropy.item()}')\n",
    "\n",
    "# Normalize the parameters to ensure the norm is 1\n",
    "with torch.no_grad():\n",
    "    norm = torch.norm(torch.complex(params_real, params_imag))\n",
    "    params_real /= norm\n",
    "    params_imag /= norm\n",
    "\n",
    "# Define the optimizer\n",
    "optimizer = optim.Adam([params_real, params_imag], lr=0.01)\n",
    "\n",
    "# Lists to store the values of parameters and entropy\n",
    "coeffs_history_max = []\n",
    "entropy_history_max = []\n",
    "\n",
    "# Optimization loop\n",
    "num_iterations = 150\n",
    "for _ in range(num_iterations):\n",
    "    optimizer.zero_grad()\n",
    "    \n",
    "    # Combine real and imaginary parts for the coefficients\n",
    "    coeffs = torch.complex(params_real, params_imag)\n",
    "    \n",
    "    # Normalize coefficients to project them onto the unit sphere\n",
    "    coeffs = coeffs / torch.norm(coeffs)\n",
    "    \n",
    "    # Compute psi\n",
    "    psi = linear_combination(coeffs, red_eigenvectors)\n",
    "    \n",
    "    # Compute - entanglement entropy\n",
    "    entropy = - entanglement_entropy_torch(psi, half, N) # it would be better to compute the outer product of the state before the optimization loop. but optimization is not taking too long so it's ok for now\n",
    "    \n",
    "    # Backpropagation\n",
    "    entropy.backward()\n",
    "    optimizer.step()\n",
    "    \n",
    "    # Normalize parameters again to ensure they stay on the unit sphere\n",
    "    with torch.no_grad():\n",
    "        norm = torch.norm(torch.complex(params_real, params_imag))\n",
    "        params_real /= norm\n",
    "        params_imag /= norm\n",
    "    print(\"Coeffs norm:\", torch.norm(torch.complex(params_real, params_imag)).detach().cpu().numpy())\n",
    "    \n",
    "    print(f'Entropy: {abs(entropy.item())}')\n",
    "    print(f'Coeffs: {coeffs.detach().cpu().numpy()}')\n",
    "\n",
    "    # Store the values of parameters and entropy\n",
    "    coeffs_history_max.append(coeffs.detach().cpu().numpy())\n",
    "    entropy_history_max.append(abs(entropy.item()))\n",
    "\n",
    "# Final optimized coefficients\n",
    "optimized_coeffs_max = torch.complex(params_real, params_imag)\n",
    "optimized_coeffs_max = optimized_coeffs_max / torch.norm(optimized_coeffs_max)\n",
    "\n",
    "print(\"Optimized coefficients:\", optimized_coeffs_max)\n",
    "\n",
    "# Plot the value of parameters and entropy as a function of num_iterations\n",
    "plt.figure(figsize=(12, 6))\n",
    "\n",
    "# Plot entropy\n",
    "plt.subplot(1, 2, 1)\n",
    "plt.plot(np.abs(entropy_history_max))\n",
    "plt.xlabel('Iteration')\n",
    "plt.ylabel('Entropy')\n",
    "#plt.title('Entropy vs. Iterations')\n",
    "\n",
    "# Plot coefficients\n",
    "plt.subplot(1, 2, 2)\n",
    "coeffs_history_max = np.array(coeffs_history_max)\n",
    "for i in range(coeffs_history_max.shape[1]):\n",
    "    plt.plot(coeffs_history_max[:, i].real, label=f'Coeff {i+1} Real')\n",
    "    plt.plot(coeffs_history_max[:, i].imag, label=f'Coeff {i+1} Imag', linestyle='--')\n",
    "plt.xlabel('Iteration')\n",
    "plt.ylabel('Coefficient Value')\n",
    "#plt.title('Coefficients vs. Iterations')\n",
    "plt.legend()\n",
    "\n",
    "plt.tight_layout()\n",
    "plt.show()"
   ]
  },
  {
   "cell_type": "code",
   "execution_count": null,
   "metadata": {},
   "outputs": [],
   "source": [
    "# Compute the max_scar wavefunction using the optimized coefficients (min entropy)\n",
    "max_scar = linear_combination_np(coeffs_history_max[-1], red_eigenvectors_np)\n",
    "# Define a list of colors for red points\n",
    "red_colors = plt.cm.rainbow(np.linspace(0, 1, len(red_indices_np)))\n",
    "\n",
    "# Compute entanglement entropy for the max_scar wavefunction\n",
    "max_scar_entropy = entanglement_entropy(max_scar, half, N)\n",
    "\n",
    "# Print entropies of red points only\n",
    "print(\"Entropies of red points:\")\n",
    "for i in red_indices_np:\n",
    "    print(f'Index: {i}, Entropy: {numpy_entropies[i]}')\n",
    "\n",
    "print(f'Max scar entropy: {max_scar_entropy}')\n",
    "\n",
    "# Plot entanglement entropy as a function of energy eigenvalues\n",
    "fig, ax = plt.subplots(figsize=(10, 6))\n",
    "\n",
    "# Highlight points with y-component less than the threshold in red\n",
    "colors = ['red' if y < threshold else 'C0' for y in min_eigenvalues_np]\n",
    "\n",
    "# Plot entanglement entropy with highlighted points\n",
    "for i, color in enumerate(colors):\n",
    "    ax.plot(eigenvalues[i], numpy_entropies[i], 'o', color=color, markersize=2)\n",
    "\n",
    "# Collect handles and labels for the legend\n",
    "handles = []\n",
    "labels = []\n",
    "\n",
    "# Plot each red point with a different color and collect handles and labels\n",
    "for i, idx in enumerate(red_indices_np):\n",
    "    handle, = ax.plot(eigenvalues[idx], numpy_entropies[idx], 'o', color=red_colors[i], markersize=5)\n",
    "    handles.append(handle)\n",
    "    labels.append(r'$\\lambda_\\mathrm{min}$: {float(min_eigenvalues[idx]):.2e}, Entropy: {naive_entropies[idx]:.2f}')\n",
    "\n",
    "# Plot the maximum scar entropy in yellow and add to handles and labels\n",
    "max_scar_handle, = ax.plot(np.mean(eigenvalues[red_indices_np]), max_scar_entropy, 'x', color='black', markersize=7)\n",
    "handles.append(max_scar_handle)\n",
    "labels.append('Max Scar, Entropy: {:.2f}'.format(max_scar_entropy))\n",
    "\n",
    "# Sort handles and labels by lambda min\n",
    "sorted_handles_labels = sorted(zip(handles, labels), key=lambda hl: float(hl[1].split(': ')[1].split(',')[0]) if 'λ_min' in hl[1] else float('inf'))\n",
    "sorted_handles, sorted_labels = zip(*sorted_handles_labels)\n",
    "\n",
    "# Filter min_eigenvalues to include only those corresponding to red_indices\n",
    "filtered_min_eigenvalues = [min_eigenvalues_np[idx] for idx in red_indices_np]\n",
    "\n",
    "# Create a color bar for the red points using filtered min_eigenvalues\n",
    "norm = Normalize(vmin=min(filtered_min_eigenvalues), vmax=max(filtered_min_eigenvalues))\n",
    "sm = ScalarMappable(cmap='rainbow', norm=norm)\n",
    "sm.set_array([])\n",
    "\n",
    "cbar = fig.colorbar(sm, ax=ax, label=r'$\\lambda_{\\mathrm{min}}$')\n",
    "\n",
    "ax.set_xlabel('Eigenvalue of H')\n",
    "ax.set_ylabel('Entanglement entropy')\n",
    "#ax.set_title('Entanglement entropy as a function of energy eigenvalues')\n",
    "#ax.legend(sorted_handles, sorted_labels)\n",
    "plt.show()"
   ]
  },
  {
   "cell_type": "code",
   "execution_count": null,
   "metadata": {},
   "outputs": [],
   "source": [
    "################## PROPERTIES OF EACH SCARRED STATE AND THEIR RDM ######################"
   ]
  },
  {
   "cell_type": "code",
   "execution_count": null,
   "metadata": {},
   "outputs": [],
   "source": [
    "# List to store the number of dependent columns and their indices for each matrix\n",
    "dependent_columns_info = []\n",
    "\n",
    "for idx, rdm in enumerate(min_rdms_np):\n",
    "    print(f\"RDM Index: {idx}\")\n",
    "    \n",
    "    # Perform QR decomposition with column pivoting\n",
    "    Q, R, pivot_indices = qr(rdm, pivoting=True)\n",
    "    \n",
    "    # Determine rank using a threshold on the diagonal of R\n",
    "    tol = 1e-12\n",
    "    rank = np.sum(np.abs(np.diag(R)) > tol)\n",
    "    \n",
    "    # Calculate the number of dependent columns\n",
    "    num_dependent_columns = 16 - rank\n",
    "    \n",
    "    # Identify dependent columns\n",
    "    dependent_columns = sorted(set(range(16)) - set(pivot_indices[:rank]))\n",
    "    dependent_columns_info.append((num_dependent_columns, dependent_columns))\n",
    "    \n",
    "    print(f\"Number of dependent columns: {num_dependent_columns}\")\n",
    "    print(f\"Dependent columns indices: {dependent_columns}\")\n",
    "    print(\"-\" * 50)\n",
    "\n",
    "# Print the results\n",
    "print(\"Dependent columns info for each matrix:\", dependent_columns_info)"
   ]
  },
  {
   "cell_type": "code",
   "execution_count": null,
   "metadata": {},
   "outputs": [],
   "source": [
    "# List to store the null space information for each matrix\n",
    "null_spaces_info = []\n",
    "\n",
    "for idx, rdm in enumerate(min_rdms_np):\n",
    "    print(f\"RDM Index: {idx}\")\n",
    "    \n",
    "    # Compute the null space of the RDM\n",
    "    null_space_rdm = null_space(rdm)\n",
    "    \n",
    "    # Store the null space information\n",
    "    null_spaces_info.append(null_space_rdm)\n",
    "    \n",
    "    # Print the null space dimensions and basis vectors\n",
    "    print(f\"Null space dimension: {null_space_rdm.shape[1]}\")\n",
    "    print(f\"Null space basis vectors:\\n{null_space_rdm}\")\n",
    "    print(\"-\" * 50)\n",
    "\n",
    "    # Apply the RDM to each null basis vector\n",
    "    for i, basis_vector in enumerate(null_space_rdm.T):  # Transpose to iterate over columns\n",
    "        result = np.dot(rdm, basis_vector)\n",
    "        print(f\"RDM {idx}, Null Basis Vector {i}:\")\n",
    "        print(f\"Result: {result}\")\n",
    "        print(f\"Norm of Result: {np.linalg.norm(result)}\")\n",
    "\n",
    "# Print the results\n",
    "print(\"Null space information for each matrix computed.\")"
   ]
  },
  {
   "cell_type": "code",
   "execution_count": null,
   "metadata": {},
   "outputs": [],
   "source": [
    "# For each RDM, check if any row in its null space basis matrix is (close to) zero\n",
    "for idx, rdm in enumerate(min_rdms_np):\n",
    "    null_space_rdm = null_space(rdm)\n",
    "    for i, row in enumerate(null_space_rdm):\n",
    "        if np.allclose(row, 0, atol=1e-12):\n",
    "            print(f\"RDM {idx}: Row {i} in null space is (close to) zero.\")"
   ]
  },
  {
   "cell_type": "code",
   "execution_count": null,
   "metadata": {},
   "outputs": [],
   "source": [
    "# Count the number of distinct rows in the null space basis of RDM 0\n",
    "rdm = min_rdms_np[4]\n",
    "null_space_rdm = null_space(rdm)\n",
    "\n",
    "# Use np.allclose to group rows that are numerically identical\n",
    "distinct_rows = []\n",
    "for i, row in enumerate(null_space_rdm):\n",
    "    is_new = True\n",
    "    for drow in distinct_rows:\n",
    "        if np.allclose(row, drow, atol=1e-12):\n",
    "            is_new = False\n",
    "            break\n",
    "    if is_new:\n",
    "        distinct_rows.append(row)\n",
    "\n",
    "print(f\"Number of distinct rows in null space basis of RDM 0: {len(distinct_rows)}\")"
   ]
  },
  {
   "cell_type": "code",
   "execution_count": null,
   "metadata": {},
   "outputs": [],
   "source": [
    "# Print the binary basis states for each group of identical rows in the null space basis of RDM 0 (5 spins)\n",
    "# Also print the smallest row index for each group\n",
    "\n",
    "def index_to_binary(index, num_qubits):\n",
    "    return format(index, f'0{num_qubits}b')\n",
    "\n",
    "rdm = min_rdms_np[0]\n",
    "null_space_rdm = null_space(rdm)\n",
    "\n",
    "# Group row indices by their unique row (up to numerical tolerance)\n",
    "groups = []\n",
    "group_indices = []\n",
    "\n",
    "for i, row in enumerate(null_space_rdm):\n",
    "    found = False\n",
    "    for g, grow in enumerate(groups):\n",
    "        if np.allclose(row, grow, atol=1e-12):\n",
    "            group_indices[g].append(i)\n",
    "            found = True\n",
    "            break\n",
    "    if not found:\n",
    "        groups.append(row)\n",
    "        group_indices.append([i])\n",
    "\n",
    "print(f\"Number of distinct rows: {len(groups)}\")\n",
    "for indices in group_indices:\n",
    "    basis_states = [index_to_binary(idx, 5) for idx in indices]\n",
    "    min_row = min(indices)\n",
    "    print(f\"Row {min_row}: Basis states: {', '.join(basis_states)}\")"
   ]
  },
  {
   "cell_type": "code",
   "execution_count": null,
   "metadata": {},
   "outputs": [],
   "source": [
    "# List to store the null space information for each matrix\n",
    "null_spaces_info = []\n",
    "\n",
    "for idx, rdm in enumerate(min_rdms_np):\n",
    "    print(f\"RDM Index: {idx}\")\n",
    "    \n",
    "    # Compute the null space of the RDM\n",
    "    null_space_rdm = null_space(rdm)\n",
    "    \n",
    "    # Store the null space information\n",
    "    null_spaces_info.append(null_space_rdm)\n",
    "    \n",
    "    # Print the null space dimensions and basis vectors\n",
    "    print(f\"Null space dimension: {null_space_rdm.shape[1]}\")\n",
    "    #print(f\"Null space basis vectors:\\n{null_space_rdm}\")\n",
    "    print(\"-\" * 50)\n",
    "\n",
    "    # Apply the RDM to each null basis vector\n",
    "    #for i, basis_vector in enumerate(null_space_rdm.T):  # Transpose to iterate over columns\n",
    "        #result = np.dot(rdm, basis_vector)\n",
    "        #print(f\"RDM {idx}, Null Basis Vector {i}:\")\n",
    "        #print(f\"Result: {result}\")\n",
    "        #print(f\"Norm of Result: {np.linalg.norm(result)}\")\n",
    "    \n",
    "    # Check for repeating rows in the null space basis vectors\n",
    "    print(f\"Repeating rows in the null space basis vectors for RDM {idx}:\")\n",
    "    for i in range(null_space_rdm.shape[0]):\n",
    "        for j in range(i + 1, null_space_rdm.shape[0]):\n",
    "            if np.allclose(null_space_rdm[i, :], null_space_rdm[j, :], atol=1e-12):  # Compare rows with a tolerance\n",
    "                print(f\"Row {i} is identical to Row {j}\")\n",
    "    print(\"-\" * 50)"
   ]
  },
  {
   "cell_type": "code",
   "execution_count": null,
   "metadata": {},
   "outputs": [],
   "source": [
    "# Iterate over scarred eigenvectors\n",
    "for i, eigenvector in enumerate(red_eigenvectors_np):\n",
    "    # Print the entire eigenvector\n",
    "    non_zero_count = 0  # Counter for non-zero components\n",
    "    print(f\"Full Eigenvector {i}:\")\n",
    "    for index, component in enumerate(eigenvector):\n",
    "        # Set components of the order 10^-12 or smaller to zero\n",
    "        if np.abs(component) < 1e-12: # I noticed that  most components are of the order 10^-13 or smaller - only a handful are mucgh larger\n",
    "            eigenvector[index] = 0.0\n",
    "        else:\n",
    "            non_zero_count += 1\n",
    "        binary_basis = index_to_binary(index, N)\n",
    "        print(f\"{binary_basis}: {eigenvector[index]}\")\n",
    "\n",
    "    print(f\"Total Non-Zero Components in Scarred Eigenvector {i}: {non_zero_count}\")\n",
    "    print(\"=\" * 50)"
   ]
  },
  {
   "cell_type": "code",
   "execution_count": null,
   "metadata": {},
   "outputs": [],
   "source": [
    "# Iterate over scarred eigenvectors\n",
    "for i, eigenvector in enumerate(red_eigenvectors_np):\n",
    "    print(f\"Scarred Eigenvector {i}:\")\n",
    "    \n",
    "    # Dictionary to track processed coefficients\n",
    "    processed_coeffs = set()\n",
    "    \n",
    "    # Iterate over components of the eigenvector\n",
    "    for index, component in enumerate(eigenvector):\n",
    "        if np.abs(component) > 1e-12:  # Check if the component is non-zero\n",
    "            binary_basis = index_to_binary(index, N)\n",
    "            coeff = component\n",
    "            \n",
    "            # Skip if this coefficient (or its negative) has already been processed\n",
    "            if coeff in processed_coeffs or -coeff in processed_coeffs:\n",
    "                continue\n",
    "            \n",
    "            # Count the number of 1's in the binary representation\n",
    "            num_ones = binary_basis.count('1')\n",
    "            \n",
    "            # Print the coefficient, binary representation, and number of 1's\n",
    "            print(f\"  Coefficient: {coeff}\")\n",
    "            print(f\"    Binary Representation: {binary_basis}\")\n",
    "            print(f\"    Elements [0, 4, 5, 9]: {binary_basis[0]}, {binary_basis[4]}, {binary_basis[5]}, {binary_basis[9]}\")\n",
    "            print(f\"    Number of 1's: {num_ones}\")\n",
    "            \n",
    "            # Check for the negative of the coefficient\n",
    "            for j, other_component in enumerate(eigenvector):\n",
    "                if np.abs(other_component + coeff) < 1e-10:  # Compare with tolerance\n",
    "                    binary_basis_neg = index_to_binary(j, N)\n",
    "                    num_ones_neg = binary_basis_neg.count('1')\n",
    "                    print(f\"  Negative Coefficient: {-coeff}\")\n",
    "                    print(f\"    Binary Representation: {binary_basis_neg}\")\n",
    "                    print(f\"    Elements [0, 4, 5, 9]: {binary_basis_neg[0]}, {binary_basis_neg[4]}, {binary_basis_neg[5]}, {binary_basis_neg[9]}\")\n",
    "                    print(f\"    Number of 1's: {num_ones_neg}\")\n",
    "                    break\n",
    "            \n",
    "            # Mark this coefficient and its negative as processed\n",
    "            processed_coeffs.add(coeff)\n",
    "            processed_coeffs.add(-coeff)\n",
    "    \n",
    "    print(\"=\" * 50)"
   ]
  },
  {
   "cell_type": "code",
   "execution_count": null,
   "metadata": {},
   "outputs": [],
   "source": [
    "# List to store even swaps numbers\n",
    "even_swaps_numbers = []\n",
    "\n",
    "# Dictionary to track spin exchange arrays and their counts\n",
    "spin_exchange_counts = {}\n",
    "\n",
    "# Iterate over scarred eigenvectors\n",
    "for i, eigenvector in enumerate(red_eigenvectors_np):\n",
    "    print(f\"Scarred Eigenvector {i}:\")\n",
    "\n",
    "    # Dictionary to track processed coefficients\n",
    "    processed_coeffs = set()\n",
    "\n",
    "    # Iterate over components of the eigenvector\n",
    "    for index, component in enumerate(eigenvector):\n",
    "        if np.abs(component) > 1e-12:  # Check if the component is non-zero\n",
    "            binary_basis = index_to_binary(index, N)\n",
    "            coeff = component\n",
    "\n",
    "            # Skip if this coefficient (or its negative) has already been processed\n",
    "            if coeff in processed_coeffs or -coeff in processed_coeffs:\n",
    "                continue\n",
    "\n",
    "            # Check for the negative of the coefficient\n",
    "            for j, other_component in enumerate(eigenvector):\n",
    "                if np.abs(other_component + coeff) < 1e-10:  # Compare with tolerance\n",
    "                    binary_basis_neg = index_to_binary(j, N)\n",
    "\n",
    "                    # Identify the spins that are exchanged\n",
    "                    spin_exchange = [\n",
    "                        k for k in range(N) if binary_basis[k] != binary_basis_neg[k]\n",
    "                    ]\n",
    "\n",
    "                    # Compute swaps number\n",
    "                    swaps_number = len(spin_exchange) // 2\n",
    "\n",
    "                    # Check if swaps number is odd\n",
    "                    is_odd = swaps_number % 2 == 1\n",
    "\n",
    "                    print(f\"  Coefficient: {coeff}\")\n",
    "                    print(f\"    Binary Representation: {binary_basis}\")\n",
    "                    print(f\"  Negative Coefficient: {-coeff}\")\n",
    "                    print(f\"    Binary Representation: {binary_basis_neg}\")\n",
    "                    print(f\"    Spin Exchange: {spin_exchange}\")\n",
    "                    print(f\"    Swaps Number: {swaps_number} (Odd: {is_odd})\")\n",
    "\n",
    "                    # Add to even swaps numbers if swaps number is even\n",
    "                    if not is_odd:\n",
    "                        even_swaps_numbers.append(swaps_number)\n",
    "\n",
    "                    # Track spin exchange arrays\n",
    "                    spin_exchange_tuple = tuple(spin_exchange)\n",
    "                    if spin_exchange_tuple in spin_exchange_counts:\n",
    "                        spin_exchange_counts[spin_exchange_tuple] += 1\n",
    "                    else:\n",
    "                        spin_exchange_counts[spin_exchange_tuple] = 1\n",
    "\n",
    "                    break\n",
    "\n",
    "            # Mark this coefficient and its negative as processed\n",
    "            processed_coeffs.add(coeff)\n",
    "            processed_coeffs.add(-coeff)\n",
    "\n",
    "    print(\"=\" * 50)\n",
    "\n",
    "# Print the list of even swaps numbers\n",
    "print(\"Even swaps numbers:\", even_swaps_numbers)\n",
    "\n",
    "# Check for repeated spin exchange arrays\n",
    "repeated_spin_exchanges = [\n",
    "    spin_exchange for spin_exchange, count in spin_exchange_counts.items() if count > 1\n",
    "]\n",
    "if repeated_spin_exchanges:\n",
    "    print(\"Repeated spin exchange arrays:\", repeated_spin_exchanges)\n",
    "else:\n",
    "    print(\"No repeated spin exchange arrays found.\")\n",
    "\n",
    "print(len(spin_exchange_counts), \"spin exchange arrays found.\")"
   ]
  },
  {
   "cell_type": "code",
   "execution_count": null,
   "metadata": {},
   "outputs": [],
   "source": [
    "# min_scar\n",
    "\n",
    "non_zero_count = 0  # Counter for non-zero components\n",
    "\n",
    "for index, component in enumerate(min_scar):\n",
    "    # Set components of the order 10^-12 or smaller to zero\n",
    "    if np.abs(component) < 1e-12: # I noticed that  most components are of the order 10^-13 or smaller - only a handful are mucgh larger\n",
    "        min_scar[index] = 0.0\n",
    "    else:\n",
    "        non_zero_count += 1\n",
    "    binary_basis = index_to_binary(index, N)\n",
    "    print(f\"{binary_basis}: {np.real(min_scar[index])}\")\n",
    "\n",
    "print(f\"Total Non-Zero Components in min_scar: {non_zero_count}\")\n",
    "print(\"=\" * 50)"
   ]
  },
  {
   "cell_type": "code",
   "execution_count": null,
   "metadata": {},
   "outputs": [],
   "source": [
    "# check if other states have 280 non-zero components - it's only the 5 scars!\n",
    "\n",
    "# Count distinct non_zero_count values\n",
    "distinct_counts = set()\n",
    "\n",
    "# Counter to track occurrences of each non_zero_count\n",
    "non_zero_count_occurrences = Counter()\n",
    "\n",
    "# Iterate over all eigenvectors\n",
    "for i in range(eigenvectors.shape[1]):\n",
    "    eigenvector = eigenvectors[:, i]\n",
    "    non_zero_count = 0  # Counter for non-zero components\n",
    "    \n",
    "    # Count non-zero components\n",
    "    for component in eigenvector:\n",
    "        if np.abs(component) >= 1e-12:\n",
    "            non_zero_count += 1\n",
    "    \n",
    "    # Update the counter\n",
    "    non_zero_count_occurrences[non_zero_count] += 1\n",
    "    print(f\"Total Non-Zero Components in Eigenvector {i}: {non_zero_count}\")\n",
    "\n",
    "# Print the number of distinct non_zero_count values\n",
    "print(f\"Number of distinct non_zero_count values: {len(non_zero_count_occurrences)}\")\n",
    "print(f\"Distinct non_zero_count values: {sorted(non_zero_count_occurrences.keys())}\")\n",
    "\n",
    "# Print how many times each distinct non_zero_count appears\n",
    "print(\"Occurrences of each non_zero_count:\")\n",
    "for count, occurrences in sorted(non_zero_count_occurrences.items()):\n",
    "    print(f\"Non-Zero Count: {count}, Occurrences: {occurrences}\")"
   ]
  },
  {
   "cell_type": "code",
   "execution_count": null,
   "metadata": {},
   "outputs": [],
   "source": [
    "'''#find a 4/5 spins charge commuting with the rdm - let's first use quantum channel to derive the effective action of the global C5 symmetry operator on the 4 spins subsystem:\n",
    "\n",
    "##   rho4' = Tr_8[C5 (rho4 cross rho8) C5^dagger], and compare it to rho4\n",
    "##   C5^4 = Tr_8[C5 (I4 cross rho8)] --- not sure if this is correct, but let's try it anyway\n",
    "\n",
    "# let's first find rho8 - we already have rho4 and C5=P\n",
    "\n",
    "###### USELESS ############\n",
    "\n",
    "# Compute RDM on the complement of keep_qubits for scarred eigenstates\n",
    "complement_rdms = []  # List to store RDMs on the complement of keep_qubits\n",
    "\n",
    "# Define the complement of keep_qubits\n",
    "all_qubits = set(range(N))\n",
    "for i in red_indices_np:\n",
    "    min_eigenvector = eigenvectors[:, i]\n",
    "    density_matrix = np.outer(min_eigenvector, min_eigenvector.conj())\n",
    "    density_matrix_qobj = Qobj(density_matrix, dims=[[2]*N, [2]*N])\n",
    "\n",
    "    # Complement of keep_qubits\n",
    "    complement_qubits = list(all_qubits - set(keep_qubits))\n",
    "\n",
    "    # Trace out the complement qubits\n",
    "    traced_out_complement = ptrace(density_matrix_qobj, complement_qubits)\n",
    "\n",
    "    # Convert the result back to a dense matrix if needed\n",
    "    traced_out_complement_dense = traced_out_complement.full()\n",
    "    complement_rdms.append(traced_out_complement_dense)\n",
    "\n",
    "    # Compute the trace of the complement RDM\n",
    "    trace_value = np.trace(traced_out_complement_dense)\n",
    "\n",
    "    # Check if the complement RDM is Hermitian\n",
    "    is_hermitian = np.allclose(traced_out_complement_dense, traced_out_complement_dense.conj().T)\n",
    "\n",
    "    # Print the results for debugging\n",
    "    print(f\"Complement RDM for eigenstate {i}:\")\n",
    "    print(f\"Shape: {traced_out_complement_dense.shape}\")\n",
    "    print(f\"Trace: {trace_value}\")\n",
    "    print(f\"Is Hermitian: {is_hermitian}\")\n",
    "    print(\"-\" * 50)\n",
    "\n",
    "# Now `complement_rdms` contains the RDMs on the complement of keep_qubits for all scarred eigenstates\n",
    "\n",
    "# full P=C5\n",
    "\n",
    "P = dok_matrix((2**N, 2**N), dtype=np.float64)\n",
    "\n",
    "# Go through all basis states\n",
    "for index in range(2**N):\n",
    "    # Convert index to spin bits\n",
    "    state_bits = list(map(int, np.binary_repr(index, width=N)))\n",
    "    \n",
    "    # Apply the permutation\n",
    "    new_bits = apply_permutation(state_bits, N, perm)\n",
    "    \n",
    "    # Convert back to integer index\n",
    "    new_index = int(\"\".join(map(str, new_bits)), 2)\n",
    "    \n",
    "    # Set the permutation matrix entry\n",
    "    P[new_index, index] = 1.0\n",
    "\n",
    "# Optionally convert to CSR format for efficient multiplication\n",
    "P = P.toarray()\n",
    "\n",
    "print(\"Permutation matrix P constructed with shape:\", P.shape)\n",
    "\n",
    "# first attempt for the effective 4-spins operator C5^4\n",
    "\n",
    "C5_4s = []\n",
    "\n",
    "P_qobj = Qobj(P, dims=[[2]*N, [2]*N])\n",
    "\n",
    "\n",
    "for i in range(len(complement_rdms)):\n",
    "    rho8 = complement_rdms[i]\n",
    "    # Convert rho8 (NumPy matrix) back to Qobj\n",
    "    rho8_qobj = Qobj(rho8, dims=[[2] * (N - len(keep_qubits)), [2] * (N - len(keep_qubits))])\n",
    "\n",
    "    # Define subsystem dimensions\n",
    "    dim_A = 2**(len(keep_qubits))   # e.g., 4 spins → dimension 16\n",
    "    dim_B = rho8_qobj.dims[0][0]  # This should be 2**(N-4) for N spins total\n",
    "\n",
    "    # Identity on subsystem A\n",
    "    IA_qobj = qeye(dim_A)\n",
    "    IA = np.eye(dim_A, dtype=np.float64)  # Identity matrix for subsystem A\n",
    "\n",
    "    # Build the product state (I_A ⊗ rhoB)\n",
    "    #IA_rho8 = tensor(IA, rho8_qobj)\n",
    "    IA_rho8 = np.kron(IA, rho8)  # Kronecker product of I_A and rhoB\n",
    "    IA_rho8_qobj = Qobj(IA_rho8, dims=[[2] * N, [2] * N])\n",
    "\n",
    "    # Print dimensions\n",
    "    print(f\"Dimension of IA: {IA.shape}\")\n",
    "    print(f\"Dimension of rho8_qobj: {rho8.shape}\")\n",
    "    print(f\"Dimension of IA_rho8: {IA_rho8_qobj.dims}\")\n",
    "\n",
    "    # Apply global C5 (P) to this state\n",
    "    U_rho = P_qobj * IA_rho8_qobj\n",
    "\n",
    "    # Partial trace over subsystem B → result acts on subsystem A\n",
    "    # If A is the first subsystem in the tensor product, trace out B (which is subsystem 1)\n",
    "    #C5_4 = ptrace(U_rho, 0)  # 0 → subsystem A (remaining after tracing out B)\n",
    "    C5_4 = ptrace(U_rho, keep_qubits)  # Trace out the complement of keep_qubits\n",
    "\n",
    "    # Now C5_tilde is the effective operator acting on subsystem A (4 spins)\n",
    "    C5_4s.append(C5_4.full())  # Convert to dense matrix if needed\n",
    "    print(f\"Effective operator C5^4 for eigenstate {i}:\")\n",
    "    print(f\"Shape: {C5_4.shape}\")\n",
    "\n",
    "for i in range(len(C5_4s)):\n",
    "    print(f\"Effective operator C5^4 for eigenstate {i}:\")\n",
    "    print(f\"Shape: {C5_4s[i].shape}\")\n",
    "    print(C5_4s[i])\n",
    "    print(\"-\" * 50)\n",
    "\n",
    "# Compute commutators between each C5_4 and the corresponding rho4\n",
    "commutators = []\n",
    "\n",
    "for i in range(len(C5_4s)):\n",
    "    # Convert rho4 (min_rdms) to a dense matrix if needed\n",
    "    rho4 = min_rdms_np[i]  # Corresponding reduced density matrix (rho4)\n",
    "    C5_4 = C5_4s[i]     # Corresponding effective operator (C5_4)\n",
    "\n",
    "    # Compute the commutator: [C5_4, rho4] = C5_4 * rho4 - rho4 * C5_4\n",
    "    commutator = np.dot(C5_4, rho4) - np.dot(rho4, C5_4)\n",
    "    commutators.append(commutator)\n",
    "\n",
    "    # Print the commutator for debugging\n",
    "    print(f\"Commutator for scar {i}:\")\n",
    "    print(commutator)\n",
    "    print(f\"Norm of commutator: {np.linalg.norm(commutator)}\")\n",
    "    print(\"-\" * 50)\n",
    "\n",
    "# Now `commutators` contains the commutators for all eigenstates\n",
    "\n",
    "rho4Us = []\n",
    "\n",
    "for i in range(len(complement_rdms)):\n",
    "\n",
    "    rho4 = min_rdms_np[i]\n",
    "    # Convert rho4 (NumPy matrix) back to Qobj\n",
    "    rho4_qobj = Qobj(rho4, dims=[[2] * (len(keep_qubits)), [2] * (len(keep_qubits))])\n",
    "\n",
    "    rho8 = complement_rdms[i]\n",
    "    # Convert rho8 (NumPy matrix) back to Qobj\n",
    "    rho8_qobj = Qobj(rho8, dims=[[2] * (N - len(keep_qubits)), [2] * (N - len(keep_qubits))])\n",
    "\n",
    "    # Build the product state (rhoA ⊗ rhoB)\n",
    "    rho4_rho8 = np.kron(rho4, rho8)  # Kronecker product of rhoA and rhoB\n",
    "    rho4_rho8_qobj = Qobj(rho4_rho8, dims=[[2] * N, [2] * N])\n",
    "\n",
    "    # Apply C5 and its adjoint to this state\n",
    "    U_rho_U = P_qobj * rho4_rho8_qobj * (P_qobj).dag()\n",
    "\n",
    "    # Partial trace over subsystem B → result acts on subsystem A\n",
    "    rho4U = ptrace(U_rho_U, keep_qubits)  # Trace out the complement of keep_qubits\n",
    "\n",
    "    # rho4U is the 4 spins rdm after effective action of C5 on subsystem A (4 spins)\n",
    "    rho4U_dense = rho4U.full()  # Convert to dense matrix if needed\n",
    "    rho4Us.append(rho4U_dense)\n",
    "\n",
    "    # Check trace\n",
    "    trace_value = np.trace(rho4U_dense)\n",
    "    print(f\"Trace of rho4U for eigenstate {i}: {trace_value}\")\n",
    "\n",
    "    # Check if Hermitian\n",
    "    is_hermitian = np.allclose(rho4U_dense, rho4U_dense.conj().T)\n",
    "    print(f\"Is rho4U Hermitian for eigenstate {i}: {is_hermitian}\")\n",
    "\n",
    "    print(f\"rho4U for eigenstate {i}:\")\n",
    "    print(f\"Shape: {rho4U_dense.shape}\")\n",
    "    print(\"-\" * 50)\n",
    "\n",
    "\n",
    "for i in range(len(rho4Us)):\n",
    "    norm_rho4U = np.linalg.norm(rho4Us[i], ord='fro')  # Frobenius norm\n",
    "    print(f\"Norm of rho4U for eigenstate {i}: {norm_rho4U}\")\n",
    "    norm_rho4 = np.linalg.norm(min_rdms_np[i], ord='fro')  # Frobenius norm\n",
    "    print(f\"Norm of rho4 for eigenstate {i}: {norm_rho4}\")\n",
    "    distance = np.linalg.norm(rho4Us[i] - min_rdms_np[i], ord='fro')  # Frobenius norm\n",
    "    print(f\"Distance between rho4U and rho4 for eigenstate {i}: {distance}\")'''"
   ]
  }
 ],
 "metadata": {
  "kernelspec": {
   "display_name": "base",
   "language": "python",
   "name": "python3"
  },
  "language_info": {
   "codemirror_mode": {
    "name": "ipython",
    "version": 3
   },
   "file_extension": ".py",
   "mimetype": "text/x-python",
   "name": "python",
   "nbconvert_exporter": "python",
   "pygments_lexer": "ipython3",
   "version": "3.11.8"
  }
 },
 "nbformat": 4,
 "nbformat_minor": 2
}
