{
 "cells": [
  {
   "cell_type": "code",
   "execution_count": 18,
   "id": "ebc69c93",
   "metadata": {},
   "outputs": [],
   "source": [
    "import numpy as np\n",
    "from scipy.linalg import eigh, qr, null_space\n",
    "import matplotlib.pyplot as plt\n",
    "from scipy.sparse import kron, identity, csr_matrix, lil_matrix, dok_matrix, coo_matrix, issparse\n",
    "from scipy.sparse.linalg import eigsh, eigs\n",
    "from scipy.special import factorial, comb\n",
    "from scipy.optimize import curve_fit\n",
    "from qutip import Qobj, ptrace, entropy_vn, qeye, tensor\n",
    "from tqdm import tqdm\n",
    "from concurrent.futures import ThreadPoolExecutor\n",
    "from joblib import Parallel, delayed\n",
    "from itertools import combinations\n",
    "#from quspin.basis import spin_basis_1d, spin_basis_general\n",
    "#import tenpy as tp"
   ]
  },
  {
   "cell_type": "code",
   "execution_count": 19,
   "id": "248a27f6",
   "metadata": {},
   "outputs": [
    {
     "name": "stdout",
     "output_type": "stream",
     "text": [
      "=== Verification of Spinful Operators ===\n",
      "\n",
      "1. Spin-up creation operator c†_↑:\n",
      "   c†_↑ |0> = [0.+0.j 1.+0.j 0.+0.j 0.+0.j]\n",
      "   c†_↑ |↑> = [0.+0.j 0.+0.j 0.+0.j 0.+0.j]\n",
      "   c†_↑ |↓> = [0.+0.j 0.+0.j 0.+0.j 1.+0.j]\n",
      "   c†_↑ |↑↓> = [0.+0.j 0.+0.j 0.+0.j 0.+0.j]\n",
      "\n",
      "2. Spin-up annihilation operator c_↑:\n",
      "   c_↑ |0> = [0.+0.j 0.+0.j 0.+0.j 0.+0.j]\n",
      "   c_↑ |↑> = [1.+0.j 0.+0.j 0.+0.j 0.+0.j]\n",
      "   c_↑ |↓> = [0.+0.j 0.+0.j 0.+0.j 0.+0.j]\n",
      "   c_↑ |↑↓> = [0.+0.j 0.+0.j 1.+0.j 0.+0.j]\n",
      "\n",
      "3. Spin-down creation operator c†_↓:\n",
      "   c†_↓ |0> = [0.+0.j 0.+0.j 1.+0.j 0.+0.j]\n",
      "   c†_↓ |↑> = [ 0.+0.j  0.+0.j  0.+0.j -1.+0.j]\n",
      "   c†_↓ |↓> = [0.+0.j 0.+0.j 0.+0.j 0.+0.j]\n",
      "   c†_↓ |↑↓> = [0.+0.j 0.+0.j 0.+0.j 0.+0.j]\n",
      "\n",
      "4. Spin-down annihilation operator c_↓:\n",
      "   c_↓ |0> = [0.+0.j 0.+0.j 0.+0.j 0.+0.j]\n",
      "   c_↓ |↑> = [0.+0.j 0.+0.j 0.+0.j 0.+0.j]\n",
      "   c_↓ |↓> = [1.+0.j 0.+0.j 0.+0.j 0.+0.j]\n",
      "   c_↓ |↑↓> = [ 0.+0.j -1.+0.j  0.+0.j  0.+0.j]\n",
      "\n",
      "5. Number operators:\n",
      "   n_↑ |0> = [0.+0.j 0.+0.j 0.+0.j 0.+0.j]\n",
      "   n_↓ |0> = [0.+0.j 0.+0.j 0.+0.j 0.+0.j]\n",
      "   n_total |0> = [0.+0.j 0.+0.j 0.+0.j 0.+0.j]\n",
      "   n_↑ |↑> = [0.+0.j 1.+0.j 0.+0.j 0.+0.j]\n",
      "   n_↓ |↑> = [0.+0.j 0.+0.j 0.+0.j 0.+0.j]\n",
      "   n_total |↑> = [0.+0.j 1.+0.j 0.+0.j 0.+0.j]\n",
      "   n_↑ |↓> = [0.+0.j 0.+0.j 0.+0.j 0.+0.j]\n",
      "   n_↓ |↓> = [0.+0.j 0.+0.j 1.+0.j 0.+0.j]\n",
      "   n_total |↓> = [0.+0.j 0.+0.j 1.+0.j 0.+0.j]\n",
      "   n_↑ |↑↓> = [0.+0.j 0.+0.j 0.+0.j 1.+0.j]\n",
      "   n_↓ |↑↓> = [0.+0.j 0.+0.j 0.+0.j 1.+0.j]\n",
      "   n_total |↑↓> = [0.+0.j 0.+0.j 0.+0.j 2.+0.j]\n",
      "\n",
      "6. Parity operator P:\n",
      "   P |0> = [1.+0.j 0.+0.j 0.+0.j 0.+0.j]\n",
      "   P |↑> = [ 0.+0.j -1.+0.j  0.+0.j  0.+0.j]\n",
      "   P |↓> = [ 0.+0.j  0.+0.j -1.+0.j  0.+0.j]\n",
      "   P |↑↓> = [0.+0.j 0.+0.j 0.+0.j 1.+0.j]\n",
      "\n",
      "7. Verify anticommutation on same site:\n",
      "   {c_↑, c†_↓} = \n",
      "[[0.+0.j 0.+0.j 0.+0.j 0.+0.j]\n",
      " [0.+0.j 0.+0.j 0.+0.j 0.+0.j]\n",
      " [0.+0.j 0.+0.j 0.+0.j 0.+0.j]\n",
      " [0.+0.j 0.+0.j 0.+0.j 0.+0.j]]\n",
      "   {c_↓, c†_↑} = \n",
      "[[0.+0.j 0.+0.j 0.+0.j 0.+0.j]\n",
      " [0.+0.j 0.+0.j 0.+0.j 0.+0.j]\n",
      " [0.+0.j 0.+0.j 0.+0.j 0.+0.j]\n",
      " [0.+0.j 0.+0.j 0.+0.j 0.+0.j]]\n",
      "   {c_↑, c†_↑} = \n",
      "[[1.+0.j 0.+0.j 0.+0.j 0.+0.j]\n",
      " [0.+0.j 1.+0.j 0.+0.j 0.+0.j]\n",
      " [0.+0.j 0.+0.j 1.+0.j 0.+0.j]\n",
      " [0.+0.j 0.+0.j 0.+0.j 1.+0.j]]\n",
      "   {c_↓, c†_↓} = \n",
      "[[1.+0.j 0.+0.j 0.+0.j 0.+0.j]\n",
      " [0.+0.j 1.+0.j 0.+0.j 0.+0.j]\n",
      " [0.+0.j 0.+0.j 1.+0.j 0.+0.j]\n",
      " [0.+0.j 0.+0.j 0.+0.j 1.+0.j]]\n"
     ]
    }
   ],
   "source": [
    "# spinful jw - single site operators\n",
    "\n",
    "# Four basis states for each site: |0>, |↑>, |↓>, |↑↓>\n",
    "ket_empty = csr_matrix([[1], [0], [0], [0]], dtype=np.complex128)  # |0>\n",
    "ket_up = csr_matrix([[0], [1], [0], [0]], dtype=np.complex128)     # |↑>\n",
    "ket_down = csr_matrix([[0], [0], [1], [0]], dtype=np.complex128)   # |↓>\n",
    "ket_both = csr_matrix([[0], [0], [0], [1]], dtype=np.complex128)   # |↑↓>\n",
    "\n",
    "# Single-site operators for spin-up\n",
    "# Annihilation operator c_↑\n",
    "c_up = csr_matrix([\n",
    "    [0, 1, 0, 0],  # |0> -> 0\n",
    "    [0, 0, 0, 0],  # |↑> -> |0>\n",
    "    [0, 0, 0, 1],  # |↓> -> 0\n",
    "    [0, 0, 0, 0]   # |↑↓> -> |↓>\n",
    "], dtype=np.complex128)\n",
    "\n",
    "# Creation operator c†_↑\n",
    "c_up_dag = c_up.getH()\n",
    "\n",
    "# Single-site operators for spin-down\n",
    "# Annihilation operator c_↓\n",
    "c_down = csr_matrix([\n",
    "    [0, 0, 1, 0],   # |0> -> 0\n",
    "    [0, 0, 0, -1],   # |↑> -> 0\n",
    "    [0, 0, 0, 0],   # |↓> -> |0>\n",
    "    [0, 0, 0, 0]   # |↑↓> -> -|↑> (anticommutation with c†_↑)\n",
    "], dtype=np.complex128)\n",
    "\n",
    "# Creation operator c†_↓\n",
    "c_down_dag = c_down.getH()\n",
    "\n",
    "# Number operators\n",
    "n_up = c_up_dag @ c_up\n",
    "n_down = c_down_dag @ c_down\n",
    "n_total_site = n_up + n_down\n",
    "\n",
    "# Identity operator (4x4 for spinful sites)\n",
    "I_4 = identity(4, format='csr', dtype=np.complex128)\n",
    "\n",
    "# Parity operator P = (-1)^n for Jordan-Wigner string\n",
    "P = csr_matrix([\n",
    "    [1, 0, 0, 0],   # |0> -> +|0>\n",
    "    [0, -1, 0, 0],  # |↑> -> -|↑>\n",
    "    [0, 0, -1, 0],  # |↓> -> -|↓>\n",
    "    [0, 0, 0, 1]    # |↑↓> -> +|↑↓>\n",
    "], dtype=np.complex128)\n",
    "\n",
    "# --- Verification function ---\n",
    "def verify_spinful_operators():\n",
    "    \"\"\"Verify the action of operators on the 4 basis states\"\"\"\n",
    "    print(\"=== Verification of Spinful Operators ===\")\n",
    "    \n",
    "    states = [ket_empty, ket_up, ket_down, ket_both]\n",
    "    state_names = [\"|0>\", \"|↑>\", \"|↓>\", \"|↑↓>\"]\n",
    "    \n",
    "    print(\"\\n1. Spin-up creation operator c†_↑:\")\n",
    "    for i, (state, name) in enumerate(zip(states, state_names)):\n",
    "        result = c_up_dag @ state\n",
    "        print(f\"   c†_↑ {name} = {result.toarray().flatten()}\")\n",
    "    \n",
    "    print(\"\\n2. Spin-up annihilation operator c_↑:\")\n",
    "    for i, (state, name) in enumerate(zip(states, state_names)):\n",
    "        result = c_up @ state\n",
    "        print(f\"   c_↑ {name} = {result.toarray().flatten()}\")\n",
    "    \n",
    "    print(\"\\n3. Spin-down creation operator c†_↓:\")\n",
    "    for i, (state, name) in enumerate(zip(states, state_names)):\n",
    "        result = c_down_dag @ state\n",
    "        print(f\"   c†_↓ {name} = {result.toarray().flatten()}\")\n",
    "    \n",
    "    print(\"\\n4. Spin-down annihilation operator c_↓:\")\n",
    "    for i, (state, name) in enumerate(zip(states, state_names)):\n",
    "        result = c_down @ state\n",
    "        print(f\"   c_↓ {name} = {result.toarray().flatten()}\")\n",
    "    \n",
    "    print(\"\\n5. Number operators:\")\n",
    "    for i, (state, name) in enumerate(zip(states, state_names)):\n",
    "        n_up_result = (n_up @ state).toarray().flatten()\n",
    "        n_down_result = (n_down @ state).toarray().flatten()\n",
    "        n_total_result = (n_total_site @ state).toarray().flatten()\n",
    "        print(f\"   n_↑ {name} = {n_up_result}\")\n",
    "        print(f\"   n_↓ {name} = {n_down_result}\")\n",
    "        print(f\"   n_total {name} = {n_total_result}\")\n",
    "    \n",
    "    print(\"\\n6. Parity operator P:\")\n",
    "    for i, (state, name) in enumerate(zip(states, state_names)):\n",
    "        result = (P @ state).toarray().flatten()\n",
    "        print(f\"   P {name} = {result}\")\n",
    "    \n",
    "    print(\"\\n7. Verify anticommutation on same site:\")\n",
    "    # {c_↑, c†_↓} = 0 and {c_↓, c†_↑} = 0\n",
    "    anticomm1 = c_up @ c_down_dag + c_down_dag @ c_up\n",
    "    anticomm2 = c_down @ c_up_dag + c_up_dag @ c_down\n",
    "    print(f\"   {{c_↑, c†_↓}} = \\n{anticomm1.toarray()}\")\n",
    "    print(f\"   {{c_↓, c†_↑}} = \\n{anticomm2.toarray()}\")\n",
    "    \n",
    "    # {c_↑, c†_↑} = 1 and {c_↓, c†_↓} = 1\n",
    "    anticomm3 = c_up @ c_up_dag + c_up_dag @ c_up\n",
    "    anticomm4 = c_down @ c_down_dag + c_down_dag @ c_down\n",
    "    print(f\"   {{c_↑, c†_↑}} = \\n{anticomm3.toarray()}\")\n",
    "    print(f\"   {{c_↓, c†_↓}} = \\n{anticomm4.toarray()}\")\n",
    "\n",
    "\n",
    "# Run verification\n",
    "verify_spinful_operators()"
   ]
  },
  {
   "cell_type": "code",
   "execution_count": 20,
   "id": "5f5e226a",
   "metadata": {},
   "outputs": [
    {
     "name": "stdout",
     "output_type": "stream",
     "text": [
      "{c_↑,0, c†_↑,0}: [[1.+0.j 0.+0.j 0.+0.j ... 0.+0.j 0.+0.j 0.+0.j]\n",
      " [0.+0.j 1.+0.j 0.+0.j ... 0.+0.j 0.+0.j 0.+0.j]\n",
      " [0.+0.j 0.+0.j 1.+0.j ... 0.+0.j 0.+0.j 0.+0.j]\n",
      " ...\n",
      " [0.+0.j 0.+0.j 0.+0.j ... 1.+0.j 0.+0.j 0.+0.j]\n",
      " [0.+0.j 0.+0.j 0.+0.j ... 0.+0.j 1.+0.j 0.+0.j]\n",
      " [0.+0.j 0.+0.j 0.+0.j ... 0.+0.j 0.+0.j 1.+0.j]]\n",
      "{c_↓,0, c†_↓,0}: [[1.+0.j 0.+0.j 0.+0.j ... 0.+0.j 0.+0.j 0.+0.j]\n",
      " [0.+0.j 1.+0.j 0.+0.j ... 0.+0.j 0.+0.j 0.+0.j]\n",
      " [0.+0.j 0.+0.j 1.+0.j ... 0.+0.j 0.+0.j 0.+0.j]\n",
      " ...\n",
      " [0.+0.j 0.+0.j 0.+0.j ... 1.+0.j 0.+0.j 0.+0.j]\n",
      " [0.+0.j 0.+0.j 0.+0.j ... 0.+0.j 1.+0.j 0.+0.j]\n",
      " [0.+0.j 0.+0.j 0.+0.j ... 0.+0.j 0.+0.j 1.+0.j]]\n",
      "{c_↑,0, c†_↑,1}: [[0.+0.j 0.+0.j 0.+0.j ... 0.+0.j 0.+0.j 0.+0.j]\n",
      " [0.+0.j 0.+0.j 0.+0.j ... 0.+0.j 0.+0.j 0.+0.j]\n",
      " [0.+0.j 0.+0.j 0.+0.j ... 0.+0.j 0.+0.j 0.+0.j]\n",
      " ...\n",
      " [0.+0.j 0.+0.j 0.+0.j ... 0.+0.j 0.+0.j 0.+0.j]\n",
      " [0.+0.j 0.+0.j 0.+0.j ... 0.+0.j 0.+0.j 0.+0.j]\n",
      " [0.+0.j 0.+0.j 0.+0.j ... 0.+0.j 0.+0.j 0.+0.j]]\n",
      "{c_↓,0, c†_↓,1}: [[0.+0.j 0.+0.j 0.+0.j ... 0.+0.j 0.+0.j 0.+0.j]\n",
      " [0.+0.j 0.+0.j 0.+0.j ... 0.+0.j 0.+0.j 0.+0.j]\n",
      " [0.+0.j 0.+0.j 0.+0.j ... 0.+0.j 0.+0.j 0.+0.j]\n",
      " ...\n",
      " [0.+0.j 0.+0.j 0.+0.j ... 0.+0.j 0.+0.j 0.+0.j]\n",
      " [0.+0.j 0.+0.j 0.+0.j ... 0.+0.j 0.+0.j 0.+0.j]\n",
      " [0.+0.j 0.+0.j 0.+0.j ... 0.+0.j 0.+0.j 0.+0.j]]\n",
      "{c_↑,0, c†_↓,1}: [[0.+0.j 0.+0.j 0.+0.j ... 0.+0.j 0.+0.j 0.+0.j]\n",
      " [0.+0.j 0.+0.j 0.+0.j ... 0.+0.j 0.+0.j 0.+0.j]\n",
      " [0.+0.j 0.+0.j 0.+0.j ... 0.+0.j 0.+0.j 0.+0.j]\n",
      " ...\n",
      " [0.+0.j 0.+0.j 0.+0.j ... 0.+0.j 0.+0.j 0.+0.j]\n",
      " [0.+0.j 0.+0.j 0.+0.j ... 0.+0.j 0.+0.j 0.+0.j]\n",
      " [0.+0.j 0.+0.j 0.+0.j ... 0.+0.j 0.+0.j 0.+0.j]]\n",
      "{c_↓,0, c†_↑,1}: [[0.+0.j 0.+0.j 0.+0.j ... 0.+0.j 0.+0.j 0.+0.j]\n",
      " [0.+0.j 0.+0.j 0.+0.j ... 0.+0.j 0.+0.j 0.+0.j]\n",
      " [0.+0.j 0.+0.j 0.+0.j ... 0.+0.j 0.+0.j 0.+0.j]\n",
      " ...\n",
      " [0.+0.j 0.+0.j 0.+0.j ... 0.+0.j 0.+0.j 0.+0.j]\n",
      " [0.+0.j 0.+0.j 0.+0.j ... 0.+0.j 0.+0.j 0.+0.j]\n",
      " [0.+0.j 0.+0.j 0.+0.j ... 0.+0.j 0.+0.j 0.+0.j]]\n",
      "{c_↑,0, c†_↓,0}: [[0.+0.j 0.+0.j 0.+0.j ... 0.+0.j 0.+0.j 0.+0.j]\n",
      " [0.+0.j 0.+0.j 0.+0.j ... 0.+0.j 0.+0.j 0.+0.j]\n",
      " [0.+0.j 0.+0.j 0.+0.j ... 0.+0.j 0.+0.j 0.+0.j]\n",
      " ...\n",
      " [0.+0.j 0.+0.j 0.+0.j ... 0.+0.j 0.+0.j 0.+0.j]\n",
      " [0.+0.j 0.+0.j 0.+0.j ... 0.+0.j 0.+0.j 0.+0.j]\n",
      " [0.+0.j 0.+0.j 0.+0.j ... 0.+0.j 0.+0.j 0.+0.j]]\n",
      "{c_↓,0, c†_↑,0}: [[0.+0.j 0.+0.j 0.+0.j ... 0.+0.j 0.+0.j 0.+0.j]\n",
      " [0.+0.j 0.+0.j 0.+0.j ... 0.+0.j 0.+0.j 0.+0.j]\n",
      " [0.+0.j 0.+0.j 0.+0.j ... 0.+0.j 0.+0.j 0.+0.j]\n",
      " ...\n",
      " [0.+0.j 0.+0.j 0.+0.j ... 0.+0.j 0.+0.j 0.+0.j]\n",
      " [0.+0.j 0.+0.j 0.+0.j ... 0.+0.j 0.+0.j 0.+0.j]\n",
      " [0.+0.j 0.+0.j 0.+0.j ... 0.+0.j 0.+0.j 0.+0.j]]\n"
     ]
    }
   ],
   "source": [
    "def full_operator_spinful(L, op, site):\n",
    "    \"\"\"\n",
    "    Create full fermionic operator with Jordan-Wigner string\n",
    "    Args:\n",
    "        L: number of sites\n",
    "        op: single-site operator (c_up, c_up_dag, c_down, c_down_dag, etc.)\n",
    "        site: site index (0 to L-1)\n",
    "    \"\"\"\n",
    "    if site >= L or site < 0:\n",
    "        raise ValueError(f\"Site index {site} out of range for {L} sites\")\n",
    "    \n",
    "    result = 1\n",
    "    for i in range(L):\n",
    "        if i < site:\n",
    "            # Jordan-Wigner string: parity operator for all sites to the left\n",
    "            result = kron(result, P, format='csr')\n",
    "        elif i == site:\n",
    "            # Apply the operator at the target site\n",
    "            result = kron(result, op, format='csr')\n",
    "        else:\n",
    "            # Identity for sites to the right\n",
    "            result = kron(result, I_4, format='csr')\n",
    "    return result\n",
    "\n",
    "def creation_operator_up(L, site):\n",
    "    \"\"\"Creation operator c†_↑,i with Jordan-Wigner string\"\"\"\n",
    "    return full_operator_spinful(L, c_up_dag, site)\n",
    "\n",
    "def annihilation_operator_up(L, site):\n",
    "    \"\"\"Annihilation operator c_↑,i with Jordan-Wigner string\"\"\"\n",
    "    return full_operator_spinful(L, c_up, site)\n",
    "\n",
    "def creation_operator_down(L, site):\n",
    "    \"\"\"Creation operator c†_↓,i with Jordan-Wigner string\"\"\"\n",
    "    return full_operator_spinful(L, c_down_dag, site)\n",
    "\n",
    "def annihilation_operator_down(L, site):\n",
    "    \"\"\"Annihilation operator c_↓,i with Jordan-Wigner string\"\"\"\n",
    "    return full_operator_spinful(L, c_down, site)\n",
    "\n",
    "def number_operator_up(L, site):\n",
    "    \"\"\"Number operator n_↑,i = c†_↑,i c_↑,i\"\"\"\n",
    "    return full_operator_spinful(L, n_up, site)\n",
    "\n",
    "def number_operator_down(L, site):\n",
    "    \"\"\"Number operator n_↓,i = c†_↓,i c_↓,i\"\"\"\n",
    "    return full_operator_spinful(L, n_down, site)\n",
    "\n",
    "def number_operator_total_site(L, site):\n",
    "    \"\"\"Total number operator n_i = n_↑,i + n_↓,i\"\"\"\n",
    "    return full_operator_spinful(L, n_total_site, site)\n",
    "\n",
    "def total_number_operator_spinful(L):\n",
    "    \"\"\"Total number operator N = Σ_i (n_↑,i + n_↓,i)\"\"\"\n",
    "    N_total = csr_matrix((4**L, 4**L), dtype=np.complex128)\n",
    "    for i in range(L):\n",
    "        N_total += number_operator_up(L, i)\n",
    "        N_total += number_operator_down(L, i)\n",
    "    return N_total\n",
    "\n",
    "# --- Check anticommutation relations ---\n",
    "def check_anticommutation_spinful(L, site_i, site_j):\n",
    "    \"\"\"Check anticommutators for spinful fermion operators\"\"\"\n",
    "    # Get all operators\n",
    "    ci_up = annihilation_operator_up(L, site_i)\n",
    "    ci_up_dag = creation_operator_up(L, site_i)\n",
    "    ci_down = annihilation_operator_down(L, site_i)\n",
    "    ci_down_dag = creation_operator_down(L, site_i)\n",
    "    \n",
    "    cj_up = annihilation_operator_up(L, site_j)\n",
    "    cj_up_dag = creation_operator_up(L, site_j)\n",
    "    cj_down = annihilation_operator_down(L, site_j)\n",
    "    cj_down_dag = creation_operator_down(L, site_j)\n",
    "    \n",
    "    results = {}\n",
    "    \n",
    "    # Same site, same spin: {c_σ,i, c†_σ,i} = 1\n",
    "    anticomm_same_up = ci_up @ ci_up_dag + ci_up_dag @ ci_up\n",
    "    anticomm_same_down = ci_down @ ci_down_dag + ci_down_dag @ ci_down\n",
    "    results[f\"{{c_↑,{site_i}, c†_↑,{site_i}}}\"] = anticomm_same_up.todense()\n",
    "    results[f\"{{c_↓,{site_i}, c†_↓,{site_i}}}\"] = anticomm_same_down.todense()\n",
    "    \n",
    "    if site_i != site_j:\n",
    "        # Different sites, same spin: {c_σ,i, c†_σ,j} = 0\n",
    "        anticomm_diff_up = ci_up @ cj_up_dag + cj_up_dag @ ci_up\n",
    "        anticomm_diff_down = ci_down @ cj_down_dag + cj_down_dag @ ci_down\n",
    "        results[f\"{{c_↑,{site_i}, c†_↑,{site_j}}}\"] = anticomm_diff_up.todense()\n",
    "        results[f\"{{c_↓,{site_i}, c†_↓,{site_j}}}\"] = anticomm_diff_down.todense()\n",
    "        \n",
    "        # Different sites, different spins: {c_σ,i, c†_σ',j} = 0\n",
    "        anticomm_diff_mixed1 = ci_up @ cj_down_dag + cj_down_dag @ ci_up\n",
    "        anticomm_diff_mixed2 = ci_down @ cj_up_dag + cj_up_dag @ ci_down\n",
    "        results[f\"{{c_↑,{site_i}, c†_↓,{site_j}}}\"] = anticomm_diff_mixed1.todense()\n",
    "        results[f\"{{c_↓,{site_i}, c†_↑,{site_j}}}\"] = anticomm_diff_mixed2.todense()\n",
    "    \n",
    "    # Same site, different spins: {c_σ,i, c†_σ',i} = 0\n",
    "    anticomm_same_mixed1 = ci_up @ ci_down_dag + ci_down_dag @ ci_up\n",
    "    anticomm_same_mixed2 = ci_down @ ci_up_dag + ci_up_dag @ ci_down\n",
    "    results[f\"{{c_↑,{site_i}, c†_↓,{site_i}}}\"] = anticomm_same_mixed1.todense()\n",
    "    results[f\"{{c_↓,{site_i}, c†_↑,{site_i}}}\"] = anticomm_same_mixed2.todense()\n",
    "    \n",
    "    return results\n",
    "\n",
    "# check anticommutation relations for L sites\n",
    "L = 4\n",
    "anticom_results = check_anticommutation_spinful(L, 0, 1)\n",
    "for key, value in anticom_results.items():\n",
    "    print(f\"{key}: {np.round(value, 5)}\")"
   ]
  },
  {
   "cell_type": "code",
   "execution_count": 21,
   "id": "af15a9e8",
   "metadata": {},
   "outputs": [
    {
     "name": "stdout",
     "output_type": "stream",
     "text": [
      "=== Comprehensive Normal Ordering Tests ===\n",
      "\n",
      "Test 1: c†_u,0 c†_d,0 (already normal ordered)\n",
      "Original: c†_u,0 c†_d,0\n",
      "Normal ordered: +1 × c†_u,0 c†_d,0\n",
      "Swaps needed: 0 (already ordered)\n",
      "\n",
      "Test 2: c†_d,0 c†_u,0 -> need to swap spins\n",
      "Original: c†_d,0 c†_u,0\n",
      "Normal ordered: -1 × c†_u,0 c†_d,0\n",
      "Swaps needed: 1 -> sign = (-1)^1 = -1\n",
      "\n",
      "Test 3: c†_u,1 c†_u,0 -> need to swap sites\n",
      "Original: c†_u,1 c†_u,0\n",
      "Normal ordered: -1 × c†_u,0 c†_u,1\n",
      "Swaps needed: 1 -> sign = (-1)^1 = -1\n",
      "\n",
      "Test 4: c_u,0 c†_u,1 -> creation should come first\n",
      "Original: c_u,0 c†_u,1\n",
      "Normal ordered: -1 × c†_u,1 c_u,0\n",
      "Swaps needed: 1 -> sign = (-1)^1 = -1\n",
      "\n",
      "Test 5: c_d,1 c†_d,0 c_u,0 c†_u,1 -> multiple reorderings\n",
      "Original: c_d,1 c†_d,0 c_u,0 c†_u,1\n",
      "Normal ordered: +1 × c†_d,0 c†_u,1 c_u,0 c_d,1\n",
      "Swaps needed: 4 -> sign = (-1)^4 = 1\n",
      "\n",
      "Test 6: Complex example - c_d,2 c†_u,0 c_u,1 c†_d,1 c†_u,2\n",
      "Original: c_d,2 c†_u,0 c_u,1 c†_d,1 c†_u,2\n",
      "Normal ordered: +1 × c†_u,0 c†_d,1 c†_u,2 c_u,1 c_d,2\n",
      "Swaps needed: 6 -> sign = (-1)^6 = 1\n",
      "\n",
      "Test 7: c†_u,0 c†_u,0 -> should be zero (Pauli exclusion)\n",
      "Original: c†_u,0 c†_u,0\n",
      "Result coefficient: 0.0 (should be 0)\n",
      "\n",
      "=== Verification: Normal Ordering vs Direct Anticommutation ===\n",
      "\n",
      "Comparing c†_u,0 c†_d,1 vs c†_d,1 c†_u,0:\n",
      "[[0.+0.j 0.+0.j 0.+0.j ... 0.+0.j 0.+0.j 0.+0.j]\n",
      " [0.+0.j 0.+0.j 0.+0.j ... 0.+0.j 0.+0.j 0.+0.j]\n",
      " [0.+0.j 0.+0.j 0.+0.j ... 0.+0.j 0.+0.j 0.+0.j]\n",
      " ...\n",
      " [0.+0.j 0.+0.j 0.+0.j ... 0.+0.j 0.+0.j 0.+0.j]\n",
      " [0.+0.j 0.+0.j 0.+0.j ... 0.+0.j 0.+0.j 0.+0.j]\n",
      " [0.+0.j 0.+0.j 0.+0.j ... 0.+0.j 0.+0.j 0.+0.j]]\n",
      "[[0.+0.j 0.+0.j 0.+0.j ... 0.+0.j 0.+0.j 0.+0.j]\n",
      " [0.+0.j 0.+0.j 0.+0.j ... 0.+0.j 0.+0.j 0.+0.j]\n",
      " [0.+0.j 0.+0.j 0.+0.j ... 0.+0.j 0.+0.j 0.+0.j]\n",
      " ...\n",
      " [0.+0.j 0.+0.j 0.+0.j ... 0.+0.j 0.+0.j 0.+0.j]\n",
      " [0.+0.j 0.+0.j 0.+0.j ... 0.+0.j 0.+0.j 0.+0.j]\n",
      " [0.+0.j 0.+0.j 0.+0.j ... 0.+0.j 0.+0.j 0.+0.j]]\n",
      "First:  c†_u,0 c†_d,1 -> coeff = 1.0\n",
      "Second: c†_d,1 c†_u,0 -> coeff = -1.0\n",
      "Are they anticommuting? True\n",
      "Coefficient ratio: -1.0 (should be -1)\n",
      "\n"
     ]
    }
   ],
   "source": [
    "# Fixed Normal ordering for spinful fermion operators with proper swap counting\n",
    "\n",
    "def get_operator_priority(op_type, site, spin):\n",
    "    \"\"\"\n",
    "    Get priority for operator ordering:\n",
    "    1. Creation operators first (lower priority number)\n",
    "    2. Within creation/annihilation: increasing site number\n",
    "    3. Within same site: up spin before down spin\n",
    "    \"\"\"\n",
    "    if op_type == 'c_dag':\n",
    "        base_priority = 0  # Creation operators come first\n",
    "    else:  # op_type == 'c'\n",
    "        base_priority = 1000  # Annihilation operators come after\n",
    "    \n",
    "    site_priority = site * 10  # Site ordering\n",
    "    \n",
    "    if spin == 'up':\n",
    "        spin_priority = 0\n",
    "    else:  # spin == 'down'\n",
    "        spin_priority = 1\n",
    "    \n",
    "    return base_priority + site_priority + spin_priority\n",
    "\n",
    "def count_swaps_to_sort(operators_list):\n",
    "    \"\"\"\n",
    "    Count the number of adjacent swaps needed to sort operators by priority.\n",
    "    This is equivalent to counting inversions, which gives the correct sign.\n",
    "    \"\"\"\n",
    "    if len(operators_list) <= 1:\n",
    "        return 0, operators_list\n",
    "    \n",
    "    # Create list with priorities and original positions\n",
    "    indexed_ops = [(get_operator_priority(op[0], op[1], op[2]), i, op) \n",
    "                   for i, op in enumerate(operators_list)]\n",
    "    \n",
    "    # Use bubble sort to count swaps (this counts exactly the inversions)\n",
    "    ops_copy = indexed_ops.copy()\n",
    "    swap_count = 0\n",
    "    n = len(ops_copy)\n",
    "    \n",
    "    for i in range(n):\n",
    "        for j in range(0, n - i - 1):\n",
    "            if ops_copy[j][0] > ops_copy[j + 1][0]:\n",
    "                # Swap needed - this represents an anticommutation\n",
    "                ops_copy[j], ops_copy[j + 1] = ops_copy[j + 1], ops_copy[j]\n",
    "                swap_count += 1\n",
    "    \n",
    "    # Extract the sorted operator list\n",
    "    sorted_ops = [op[2] for op in ops_copy]\n",
    "    \n",
    "    return swap_count, sorted_ops\n",
    "\n",
    "def normal_order_operator_list(operators_list):\n",
    "    \"\"\"\n",
    "    Normal order a list of (op_type, site, spin) tuples.\n",
    "    Returns: (sign, ordered_list) where sign accounts for fermion anticommutations\n",
    "    \"\"\"\n",
    "    if len(operators_list) <= 1:\n",
    "        return 1.0, operators_list\n",
    "    \n",
    "    # Count swaps needed and get sorted list\n",
    "    swap_count, sorted_ops = count_swaps_to_sort(operators_list)\n",
    "    \n",
    "    # Each swap introduces a minus sign due to anticommutation\n",
    "    sign = (-1) ** swap_count\n",
    "    \n",
    "    return sign, sorted_ops\n",
    "\n",
    "def normal_order_product_spinful(operators_list, L):\n",
    "    \"\"\"\n",
    "    Normal order a product of spinful fermion operators and return the resulting operator.\n",
    "    \n",
    "    Args:\n",
    "        operators_list: List of (op_type, site, spin) tuples\n",
    "                       op_type: 'c_dag' or 'c'\n",
    "                       site: integer site index\n",
    "                       spin: 'up' or 'down'\n",
    "        L: system size\n",
    "        \n",
    "    Returns:\n",
    "        List of (coefficient, sparse_matrix) tuples representing normal ordered terms\n",
    "    \"\"\"\n",
    "    if len(operators_list) == 0:\n",
    "        identity_op = identity(4**L, format='csr', dtype=np.complex128)\n",
    "        return [(1.0, identity_op)]\n",
    "    \n",
    "    # Check for repeated operators that give zero (Pauli exclusion)\n",
    "    op_counts = {}\n",
    "    for op in operators_list:\n",
    "        key = (op[0], op[1], op[2])  # (type, site, spin)\n",
    "        op_counts[key] = op_counts.get(key, 0) + 1 # for a given key, the corresponding value is the count\n",
    "    \n",
    "    # If any operator appears more than once, result is zero\n",
    "    for count in op_counts.values():\n",
    "        if count > 1:\n",
    "            zero_op = csr_matrix((4**L, 4**L), dtype=np.complex128)\n",
    "            return [(0.0, zero_op)]\n",
    "    \n",
    "    # Get the normal ordered form with correct sign\n",
    "    sign, ordered_ops = normal_order_operator_list(operators_list)\n",
    "    \n",
    "    # Construct the full operator by multiplying individual operators\n",
    "    result_op = identity(4**L, format='csr', dtype=np.complex128)\n",
    "    \n",
    "    for op_type, site, spin in ordered_ops:\n",
    "        if op_type == 'c_dag' and spin == 'up':\n",
    "            op = creation_operator_up(L, site)\n",
    "        elif op_type == 'c_dag' and spin == 'down':\n",
    "            op = creation_operator_down(L, site)\n",
    "        elif op_type == 'c' and spin == 'up':\n",
    "            op = annihilation_operator_up(L, site)\n",
    "        elif op_type == 'c' and spin == 'down':\n",
    "            op = annihilation_operator_down(L, site)\n",
    "        else:\n",
    "            raise ValueError(f\"Invalid operator: {op_type}, {spin}\")\n",
    "        \n",
    "        result_op = result_op @ op\n",
    "    \n",
    "    return [(complex(sign), result_op)]\n",
    "\n",
    "def print_operator_sequence(operators_list):\n",
    "    \"\"\"Print the operator sequence in readable form\"\"\"\n",
    "    op_strings = []\n",
    "    for op_type, site, spin in operators_list:\n",
    "        if op_type == 'c_dag':\n",
    "            symbol = f\"c†_{spin[0]},{site}\"\n",
    "        else:\n",
    "            symbol = f\"c_{spin[0]},{site}\"\n",
    "        op_strings.append(symbol)\n",
    "    return \" \".join(op_strings)\n",
    "\n",
    "def test_normal_ordering_comprehensive():\n",
    "    \"\"\"Comprehensive test of the normal ordering function\"\"\"\n",
    "    L = 4\n",
    "    print(\"=== Comprehensive Normal Ordering Tests ===\\n\")\n",
    "    \n",
    "    # Test 1: Already in normal order\n",
    "    print(\"Test 1: c†_u,0 c†_d,0 (already normal ordered)\")\n",
    "    ops = [('c_dag', 0, 'up'), ('c_dag', 0, 'down')]\n",
    "    print(f\"Original: {print_operator_sequence(ops)}\")\n",
    "    sign, ordered = normal_order_operator_list(ops)\n",
    "    print(f\"Normal ordered: {sign:+.0f} × {print_operator_sequence(ordered)}\")\n",
    "    print(f\"Swaps needed: 0 (already ordered)\\n\")\n",
    "    \n",
    "    # Test 2: Simple swap - spin ordering\n",
    "    print(\"Test 2: c†_d,0 c†_u,0 -> need to swap spins\")\n",
    "    ops = [('c_dag', 0, 'down'), ('c_dag', 0, 'up')]\n",
    "    print(f\"Original: {print_operator_sequence(ops)}\")\n",
    "    sign, ordered = normal_order_operator_list(ops)\n",
    "    print(f\"Normal ordered: {sign:+.0f} × {print_operator_sequence(ordered)}\")\n",
    "    print(f\"Swaps needed: 1 -> sign = (-1)^1 = -1\\n\")\n",
    "    \n",
    "    # Test 3: Site ordering\n",
    "    print(\"Test 3: c†_u,1 c†_u,0 -> need to swap sites\")\n",
    "    ops = [('c_dag', 1, 'up'), ('c_dag', 0, 'up')]\n",
    "    print(f\"Original: {print_operator_sequence(ops)}\")\n",
    "    sign, ordered = normal_order_operator_list(ops)\n",
    "    print(f\"Normal ordered: {sign:+.0f} × {print_operator_sequence(ordered)}\")\n",
    "    print(f\"Swaps needed: 1 -> sign = (-1)^1 = -1\\n\")\n",
    "    \n",
    "    # Test 4: Creation vs annihilation\n",
    "    print(\"Test 4: c_u,0 c†_u,1 -> creation should come first\")\n",
    "    ops = [('c', 0, 'up'), ('c_dag', 1, 'up')]\n",
    "    print(f\"Original: {print_operator_sequence(ops)}\")\n",
    "    sign, ordered = normal_order_operator_list(ops)\n",
    "    print(f\"Normal ordered: {sign:+.0f} × {print_operator_sequence(ordered)}\")\n",
    "    print(f\"Swaps needed: 1 -> sign = (-1)^1 = -1\\n\")\n",
    "    \n",
    "    # Test 5: Multiple swaps\n",
    "    print(\"Test 5: c_d,1 c†_d,0 c_u,0 c†_u,1 -> multiple reorderings\")\n",
    "    ops = [('c', 1, 'down'), ('c_dag', 0, 'down'), ('c', 0, 'up'), ('c_dag', 1, 'up')]\n",
    "    print(f\"Original: {print_operator_sequence(ops)}\")\n",
    "    \n",
    "    # Let's manually trace the swaps:\n",
    "    # Start: c_d,1 c†_d,0 c_u,0 c†_u,1\n",
    "    # Target order: c†_u,0 c†_d,0 c†_u,1 c_u,0 c_d,1\n",
    "    # But we need c†_u,1 not c†_u,0 twice, so:\n",
    "    # Target: c†_u,1 c†_d,0 c_u,0 c_d,1\n",
    "    \n",
    "    sign, ordered = normal_order_operator_list(ops)\n",
    "    print(f\"Normal ordered: {sign:+.0f} × {print_operator_sequence(ordered)}\")\n",
    "    \n",
    "    # Count swaps manually to verify\n",
    "    swap_count, _ = count_swaps_to_sort(ops)\n",
    "    print(f\"Swaps needed: {swap_count} -> sign = (-1)^{swap_count} = {(-1)**swap_count}\\n\")\n",
    "    \n",
    "    # Test 6: Complex example with many operators\n",
    "    print(\"Test 6: Complex example - c_d,2 c†_u,0 c_u,1 c†_d,1 c†_u,2\")\n",
    "    ops = [('c', 2, 'down'), ('c_dag', 0, 'up'), ('c', 1, 'up'), ('c_dag', 1, 'down'), ('c_dag', 2, 'up')]\n",
    "    print(f\"Original: {print_operator_sequence(ops)}\")\n",
    "    sign, ordered = normal_order_operator_list(ops)\n",
    "    print(f\"Normal ordered: {sign:+.0f} × {print_operator_sequence(ordered)}\")\n",
    "    swap_count, _ = count_swaps_to_sort(ops)\n",
    "    print(f\"Swaps needed: {swap_count} -> sign = (-1)^{swap_count} = {(-1)**swap_count}\\n\")\n",
    "    \n",
    "    # Test 7: Repeated operator (should give zero)\n",
    "    print(\"Test 7: c†_u,0 c†_u,0 -> should be zero (Pauli exclusion)\")\n",
    "    ops = [('c_dag', 0, 'up'), ('c_dag', 0, 'up')]\n",
    "    print(f\"Original: {print_operator_sequence(ops)}\")\n",
    "    result = normal_order_product_spinful(ops, L)\n",
    "    print(f\"Result coefficient: {result[0][0]} (should be 0)\\n\")\n",
    "\n",
    "def verify_anticommutation_with_normal_ordering():\n",
    "    \"\"\"Verify that our normal ordering respects anticommutation relations\"\"\"\n",
    "    L = 3\n",
    "    print(\"=== Verification: Normal Ordering vs Direct Anticommutation ===\\n\")\n",
    "    \n",
    "    # Test: c†_u,0 c†_d,1 vs c†_d,1 c†_u,0\n",
    "    print(\"Comparing c†_u,0 c†_d,1 vs c†_d,1 c†_u,0:\")\n",
    "    \n",
    "    # First order\n",
    "    ops1 = [('c_dag', 0, 'up'), ('c_dag', 1, 'down')]\n",
    "    result1 = normal_order_product_spinful(ops1, L)\n",
    "    op1 = result1[0][1]\n",
    "    coeff1 = result1[0][0]\n",
    "    \n",
    "    # Second order (swapped)\n",
    "    ops2 = [('c_dag', 1, 'down'), ('c_dag', 0, 'up')]\n",
    "    result2 = normal_order_product_spinful(ops2, L)\n",
    "    op2 = result2[0][1]\n",
    "    coeff2 = result2[0][0]\n",
    "\n",
    "    print(op1.toarray())\n",
    "    print(op2.toarray())\n",
    "    \n",
    "    print(f\"First:  {print_operator_sequence(ops1)} -> coeff = {np.real(coeff1)}\")\n",
    "    print(f\"Second: {print_operator_sequence(ops2)} -> coeff = {np.real(coeff2)}\")\n",
    "    \n",
    "    # Check if op1 = -op2 (they should be negatives of each other)\n",
    "    diff = op1 + coeff2 * op2\n",
    "    is_anticommuting = np.allclose(diff.toarray(), 0)\n",
    "    print(f\"Are they anticommuting? {is_anticommuting}\")\n",
    "    print(f\"Coefficient ratio: {np.real(coeff2/coeff1)} (should be -1)\\n\")\n",
    "\n",
    "# Run comprehensive tests\n",
    "test_normal_ordering_comprehensive()\n",
    "verify_anticommutation_with_normal_ordering()"
   ]
  },
  {
   "cell_type": "code",
   "execution_count": 22,
   "id": "74e7c363",
   "metadata": {},
   "outputs": [
    {
     "name": "stdout",
     "output_type": "stream",
     "text": [
      "Eta tower state for L=8, n=6:\n",
      "Has any non-zero components: True\n",
      "Number of non-zero components: 28\n",
      "Total components: 65536\n",
      "Maximum component magnitude: 0.1889822365046136\n",
      "State norm: 0.9999999999999999\n",
      "\n",
      "First few non-zero components:\n",
      "  Index 4095: [-0.18898224+6.24878526e-16j]\n",
      "  Index 13311: [0.18898224-6.01734877e-16j]\n",
      "  Index 15615: [-0.18898224+5.78591228e-16j]\n",
      "  Index 16191: [0.18898224-5.55447578e-16j]\n",
      "  Index 16335: [-0.18898224+5.32303929e-16j]\n",
      "  Index 16371: [0.18898224-5.0916028e-16j]\n",
      "  Index 16380: [-0.18898224+4.86016631e-16j]\n",
      "  Index 50175: [-0.18898224+5.78591228e-16j]\n",
      "  Index 52479: [0.18898224-5.55447578e-16j]\n",
      "  Index 53055: [-0.18898224+5.32303929e-16j]\n"
     ]
    }
   ],
   "source": [
    "# eta pairing states\n",
    "\n",
    "# --- vacuum/initial state ---\n",
    "def vacuum_state_spinful(L):\n",
    "    \"\"\"Create vacuum state |0>^⊗L for L sites\"\"\"\n",
    "    state = ket_empty\n",
    "    for _ in range(L-1):\n",
    "        state = kron(state, ket_empty, format='csr')\n",
    "    return state\n",
    "\n",
    "# --- eta^+ operator ---\n",
    "def eta_plus(L):\n",
    "    etap = csr_matrix((4**L, 4**L), dtype=complex)\n",
    "    for k in range(L):\n",
    "        phase = np.exp(1j * np.pi * k)\n",
    "        eplus = creation_operator_up(L, k).dot(creation_operator_down(L, k))\n",
    "        etap += phase * eplus\n",
    "\n",
    "    return etap\n",
    "\n",
    "# --- eta_tower states ---\n",
    "def eta_tower(n, L):\n",
    "    norm = np.sqrt(factorial(L-n) / (factorial(n) * factorial(L)))\n",
    "    eta = eta_plus(L)\n",
    "    state = vacuum_state_spinful(L)\n",
    "    for _ in range(n):\n",
    "        state = eta.dot(state)\n",
    "        \n",
    "    return norm * state\n",
    "\n",
    "# test\n",
    "\n",
    "L = 8\n",
    "n = 6\n",
    "state = eta_tower(n, L).toarray()\n",
    "# Check if any component is non-zero\n",
    "has_nonzero = np.any(np.abs(state) > 1e-12)\n",
    "num_nonzero = np.sum(np.abs(state) > 1e-12)\n",
    "max_component = np.max(np.abs(state))\n",
    "\n",
    "print(f\"Eta tower state for L={L}, n={n}:\")\n",
    "print(f\"Has any non-zero components: {has_nonzero}\")\n",
    "print(f\"Number of non-zero components: {num_nonzero}\")\n",
    "print(f\"Total components: {len(state)}\")\n",
    "print(f\"Maximum component magnitude: {max_component}\")\n",
    "print(f\"State norm: {np.linalg.norm(state)}\")\n",
    "\n",
    "# Show actual non-zero components\n",
    "nonzero_indices = np.where(np.abs(state) > 1e-12)[0]\n",
    "if len(nonzero_indices) > 0:\n",
    "    print(f\"\\nFirst few non-zero components:\")\n",
    "    for i in nonzero_indices[:10]:  # Show first 10\n",
    "        print(f\"  Index {i}: {state[i]}\")"
   ]
  },
  {
   "cell_type": "code",
   "execution_count": 23,
   "id": "c5d88c24",
   "metadata": {},
   "outputs": [
    {
     "data": {
      "text/plain": [
       "'\\ndef ptrace_sparse_normal_ordered(dm_sparse, keep, trace, L):\\n    \"\"\"\\n    Compute partial trace using normal-ordered fermion operators.\\n    \\n    Args:\\n        dm_sparse: Full density matrix in sparse format\\n        keep: List of site indices to keep  \\n        trace: List of site indices to trace out\\n        L: Total number of sites\\n        \\n    Returns:\\n        Reduced density matrix over kept sites\\n    \"\"\"\\n    if not issparse(dm_sparse):\\n        raise ValueError(\"dm_sparse must be a scipy.sparse matrix\")\\n    \\n    dims = [4] * L  # 4 states per site for spinful fermions\\n    d_keep = 4 ** len(keep)\\n    \\n    # Convert to COO format for element-wise processing\\n    dm_sparse = dm_sparse.tocoo()\\n    \\n    # Storage for reduced matrix\\n    data = []\\n    row_idx = []\\n    col_idx = []\\n    \\n    def basis_state_to_operators(state_idx, sites):\\n        \"\"\"Convert a basis state index to creation operators from vacuum\"\"\"\\n        state_config = idx_to_subsys(state_idx, [4] * len(sites))\\n        operators = []\\n        \\n        for i, site in enumerate(sites):\\n            local_state = state_config[i]\\n            # Convert local state to operators: |0⟩, |↑⟩, |↓⟩, |↑↓⟩\\n            if local_state == 1:  # |↑⟩\\n                operators.append((\\'c_dag\\', site, \\'up\\'))\\n            elif local_state == 2:  # |↓⟩  \\n                operators.append((\\'c_dag\\', site, \\'down\\'))\\n            elif local_state == 3:  # |↑↓⟩\\n                operators.append((\\'c_dag\\', site, \\'up\\'))\\n                operators.append((\\'c_dag\\', site, \\'down\\'))\\n            # local_state == 0 corresponds to vacuum, no operators needed\\n                \\n        return operators\\n    \\n    def compute_traced_expectation(bra_ops, ket_ops, trace_sites):\\n        \"\"\"\\n        Compute ⟨trace_bra|operator_sequence|trace_ket⟩ using normal ordering.\\n        This gives the coefficient when we trace out the specified sites.\\n        \"\"\"\\n        # For partial trace: ⟨trace_state|ket_ops† bra_ops|trace_state⟩  \\n        # We need to compute: ⟨0|bra_ops† ket_ops|0⟩ for each trace state\\n        \\n        total_expectation = 0.0\\n        \\n        # Sum over all possible states of traced subsystem\\n        for trace_state_idx in range(4 ** len(trace_sites)):\\n            trace_config = idx_to_subsys(trace_state_idx, [4] * len(trace_sites))\\n            \\n            # Create the trace state operators\\n            trace_bra_ops = basis_state_to_operators(trace_state_idx, trace_sites)\\n            trace_ket_ops = trace_bra_ops.copy()  # Same state for bra and ket\\n            \\n            # Build full operator sequence: \\n            # ⟨trace_bra| ket_ops† bra_ops |trace_ket⟩\\n            # = ⟨0| trace_bra_ops† ket_ops† bra_ops trace_ket_ops |0⟩\\n            \\n            full_operator_sequence = []\\n            \\n            # Add annihilation operators for trace bra (reversed order for hermitian conjugate)\\n            for op_type, site, spin in reversed(trace_bra_ops):\\n                if op_type == \\'c_dag\\':\\n                    full_operator_sequence.append((\\'c\\', site, spin))\\n            \\n            # Add hermitian conjugate of ket operators (creation → annihilation, reverse order)\\n            for op_type, site, spin in reversed(ket_ops):\\n                if op_type == \\'c_dag\\':\\n                    full_operator_sequence.append((\\'c\\', site, spin))\\n                else:  # op_type == \\'c\\'\\n                    full_operator_sequence.append((\\'c_dag\\', site, spin))\\n            \\n            # Add bra operators\\n            full_operator_sequence.extend(bra_ops)\\n            \\n            # Add creation operators for trace ket\\n            full_operator_sequence.extend(trace_ket_ops)\\n            \\n            # Normal order and compute vacuum expectation value\\n            try:\\n                result = normal_order_product_spinful(full_operator_sequence, L)\\n                if len(result) > 0:\\n                    coeff, matrix = result[0]\\n                    \\n                    # For vacuum expectation value, we need ⟨0|O|0⟩\\n                    # This is non-zero only if the normal-ordered operator is identity\\n                    vacuum_state = vacuum_state_spinful(L)\\n                    expectation_val = (vacuum_state.getH() @ matrix @ vacuum_state)[0,0]\\n                    \\n                    total_expectation += expectation_val\\n                    \\n            except Exception as e:\\n                # Handle cases where normal ordering fails (e.g., invalid operators)\\n                continue\\n                \\n        return total_expectation\\n    \\n    # Process each non-zero element of the density matrix\\n    for i, j, val in tqdm(zip(dm_sparse.row, dm_sparse.col, dm_sparse.data)):\\n        # Convert full space indices to site configurations\\n        full_bra_config = idx_to_subsys(i, dims)  # ⟨i|\\n        full_ket_config = idx_to_subsys(j, dims)  # |j⟩\\n        \\n        # Extract configurations for kept and traced sites\\n        keep_bra_config = [full_bra_config[site] for site in keep]\\n        keep_ket_config = [full_ket_config[site] for site in keep]\\n        trace_bra_config = [full_bra_config[site] for site in trace]\\n        trace_ket_config = [full_ket_config[site] for site in trace]\\n        \\n        # Convert to operator sequences\\n        keep_bra_ops = basis_state_to_operators(\\n            sum(keep_bra_config[k] * (4**(len(keep)-1-k)) for k in range(len(keep))), \\n            keep\\n        )\\n        keep_ket_ops = basis_state_to_operators(\\n            sum(keep_ket_config[k] * (4**(len(keep)-1-k)) for k in range(len(keep))), \\n            keep\\n        )\\n        trace_bra_ops = basis_state_to_operators(\\n            sum(trace_bra_config[k] * (4**(len(trace)-1-k)) for k in range(len(trace))), \\n            trace\\n        )\\n        trace_ket_ops = basis_state_to_operators(\\n            sum(trace_ket_config[k] * (4**(len(trace)-1-k)) for k in range(len(trace))), \\n            trace\\n        )\\n        \\n        # Compute traced expectation value using normal ordering\\n        if trace_bra_config == trace_ket_config:  # Only diagonal elements in trace space contribute\\n            traced_coeff = compute_traced_expectation(trace_bra_ops, trace_ket_ops, trace)\\n            \\n            if abs(traced_coeff) > 1e-14:  # Only include non-zero contributions\\n                # Compute reduced space indices\\n                i_red = sum(keep_bra_config[k] * (4**(len(keep)-1-k)) for k in range(len(keep)))\\n                j_red = sum(keep_ket_config[k] * (4**(len(keep)-1-k)) for k in range(len(keep)))\\n                \\n                # Add to reduced matrix\\n                data.append(val * traced_coeff)\\n                row_idx.append(i_red)\\n                col_idx.append(j_red)\\n    \\n    return coo_matrix((data, (row_idx, col_idx)), shape=(d_keep, d_keep)).tocsr()\\n\\ndef idx_to_subsys(idx, dims):\\n    \"\"\"Convert flat index to subsystem indices (reuse from your existing code)\"\"\"\\n    subsys = []\\n    for d in reversed(dims):\\n        subsys.append(idx % d)\\n        idx //= d\\n    return np.array(subsys[::-1])\\n\\n    '"
      ]
     },
     "execution_count": 23,
     "metadata": {},
     "output_type": "execute_result"
    }
   ],
   "source": [
    "# OSS: FERMIONS COME IN PAIRS IN THE ETA SCARS SO THAT THEY CAN BE EFFECTIVELY TREATED LIKE BOSONS WHEN COMPUTING THE PARTIAL TRACE\n",
    "\n",
    "'''\n",
    "def ptrace_sparse_normal_ordered(dm_sparse, keep, trace, L):\n",
    "    \"\"\"\n",
    "    Compute partial trace using normal-ordered fermion operators.\n",
    "    \n",
    "    Args:\n",
    "        dm_sparse: Full density matrix in sparse format\n",
    "        keep: List of site indices to keep  \n",
    "        trace: List of site indices to trace out\n",
    "        L: Total number of sites\n",
    "        \n",
    "    Returns:\n",
    "        Reduced density matrix over kept sites\n",
    "    \"\"\"\n",
    "    if not issparse(dm_sparse):\n",
    "        raise ValueError(\"dm_sparse must be a scipy.sparse matrix\")\n",
    "    \n",
    "    dims = [4] * L  # 4 states per site for spinful fermions\n",
    "    d_keep = 4 ** len(keep)\n",
    "    \n",
    "    # Convert to COO format for element-wise processing\n",
    "    dm_sparse = dm_sparse.tocoo()\n",
    "    \n",
    "    # Storage for reduced matrix\n",
    "    data = []\n",
    "    row_idx = []\n",
    "    col_idx = []\n",
    "    \n",
    "    def basis_state_to_operators(state_idx, sites):\n",
    "        \"\"\"Convert a basis state index to creation operators from vacuum\"\"\"\n",
    "        state_config = idx_to_subsys(state_idx, [4] * len(sites))\n",
    "        operators = []\n",
    "        \n",
    "        for i, site in enumerate(sites):\n",
    "            local_state = state_config[i]\n",
    "            # Convert local state to operators: |0⟩, |↑⟩, |↓⟩, |↑↓⟩\n",
    "            if local_state == 1:  # |↑⟩\n",
    "                operators.append(('c_dag', site, 'up'))\n",
    "            elif local_state == 2:  # |↓⟩  \n",
    "                operators.append(('c_dag', site, 'down'))\n",
    "            elif local_state == 3:  # |↑↓⟩\n",
    "                operators.append(('c_dag', site, 'up'))\n",
    "                operators.append(('c_dag', site, 'down'))\n",
    "            # local_state == 0 corresponds to vacuum, no operators needed\n",
    "                \n",
    "        return operators\n",
    "    \n",
    "    def compute_traced_expectation(bra_ops, ket_ops, trace_sites):\n",
    "        \"\"\"\n",
    "        Compute ⟨trace_bra|operator_sequence|trace_ket⟩ using normal ordering.\n",
    "        This gives the coefficient when we trace out the specified sites.\n",
    "        \"\"\"\n",
    "        # For partial trace: ⟨trace_state|ket_ops† bra_ops|trace_state⟩  \n",
    "        # We need to compute: ⟨0|bra_ops† ket_ops|0⟩ for each trace state\n",
    "        \n",
    "        total_expectation = 0.0\n",
    "        \n",
    "        # Sum over all possible states of traced subsystem\n",
    "        for trace_state_idx in range(4 ** len(trace_sites)):\n",
    "            trace_config = idx_to_subsys(trace_state_idx, [4] * len(trace_sites))\n",
    "            \n",
    "            # Create the trace state operators\n",
    "            trace_bra_ops = basis_state_to_operators(trace_state_idx, trace_sites)\n",
    "            trace_ket_ops = trace_bra_ops.copy()  # Same state for bra and ket\n",
    "            \n",
    "            # Build full operator sequence: \n",
    "            # ⟨trace_bra| ket_ops† bra_ops |trace_ket⟩\n",
    "            # = ⟨0| trace_bra_ops† ket_ops† bra_ops trace_ket_ops |0⟩\n",
    "            \n",
    "            full_operator_sequence = []\n",
    "            \n",
    "            # Add annihilation operators for trace bra (reversed order for hermitian conjugate)\n",
    "            for op_type, site, spin in reversed(trace_bra_ops):\n",
    "                if op_type == 'c_dag':\n",
    "                    full_operator_sequence.append(('c', site, spin))\n",
    "            \n",
    "            # Add hermitian conjugate of ket operators (creation → annihilation, reverse order)\n",
    "            for op_type, site, spin in reversed(ket_ops):\n",
    "                if op_type == 'c_dag':\n",
    "                    full_operator_sequence.append(('c', site, spin))\n",
    "                else:  # op_type == 'c'\n",
    "                    full_operator_sequence.append(('c_dag', site, spin))\n",
    "            \n",
    "            # Add bra operators\n",
    "            full_operator_sequence.extend(bra_ops)\n",
    "            \n",
    "            # Add creation operators for trace ket\n",
    "            full_operator_sequence.extend(trace_ket_ops)\n",
    "            \n",
    "            # Normal order and compute vacuum expectation value\n",
    "            try:\n",
    "                result = normal_order_product_spinful(full_operator_sequence, L)\n",
    "                if len(result) > 0:\n",
    "                    coeff, matrix = result[0]\n",
    "                    \n",
    "                    # For vacuum expectation value, we need ⟨0|O|0⟩\n",
    "                    # This is non-zero only if the normal-ordered operator is identity\n",
    "                    vacuum_state = vacuum_state_spinful(L)\n",
    "                    expectation_val = (vacuum_state.getH() @ matrix @ vacuum_state)[0,0]\n",
    "                    \n",
    "                    total_expectation += expectation_val\n",
    "                    \n",
    "            except Exception as e:\n",
    "                # Handle cases where normal ordering fails (e.g., invalid operators)\n",
    "                continue\n",
    "                \n",
    "        return total_expectation\n",
    "    \n",
    "    # Process each non-zero element of the density matrix\n",
    "    for i, j, val in tqdm(zip(dm_sparse.row, dm_sparse.col, dm_sparse.data)):\n",
    "        # Convert full space indices to site configurations\n",
    "        full_bra_config = idx_to_subsys(i, dims)  # ⟨i|\n",
    "        full_ket_config = idx_to_subsys(j, dims)  # |j⟩\n",
    "        \n",
    "        # Extract configurations for kept and traced sites\n",
    "        keep_bra_config = [full_bra_config[site] for site in keep]\n",
    "        keep_ket_config = [full_ket_config[site] for site in keep]\n",
    "        trace_bra_config = [full_bra_config[site] for site in trace]\n",
    "        trace_ket_config = [full_ket_config[site] for site in trace]\n",
    "        \n",
    "        # Convert to operator sequences\n",
    "        keep_bra_ops = basis_state_to_operators(\n",
    "            sum(keep_bra_config[k] * (4**(len(keep)-1-k)) for k in range(len(keep))), \n",
    "            keep\n",
    "        )\n",
    "        keep_ket_ops = basis_state_to_operators(\n",
    "            sum(keep_ket_config[k] * (4**(len(keep)-1-k)) for k in range(len(keep))), \n",
    "            keep\n",
    "        )\n",
    "        trace_bra_ops = basis_state_to_operators(\n",
    "            sum(trace_bra_config[k] * (4**(len(trace)-1-k)) for k in range(len(trace))), \n",
    "            trace\n",
    "        )\n",
    "        trace_ket_ops = basis_state_to_operators(\n",
    "            sum(trace_ket_config[k] * (4**(len(trace)-1-k)) for k in range(len(trace))), \n",
    "            trace\n",
    "        )\n",
    "        \n",
    "        # Compute traced expectation value using normal ordering\n",
    "        if trace_bra_config == trace_ket_config:  # Only diagonal elements in trace space contribute\n",
    "            traced_coeff = compute_traced_expectation(trace_bra_ops, trace_ket_ops, trace)\n",
    "            \n",
    "            if abs(traced_coeff) > 1e-14:  # Only include non-zero contributions\n",
    "                # Compute reduced space indices\n",
    "                i_red = sum(keep_bra_config[k] * (4**(len(keep)-1-k)) for k in range(len(keep)))\n",
    "                j_red = sum(keep_ket_config[k] * (4**(len(keep)-1-k)) for k in range(len(keep)))\n",
    "                \n",
    "                # Add to reduced matrix\n",
    "                data.append(val * traced_coeff)\n",
    "                row_idx.append(i_red)\n",
    "                col_idx.append(j_red)\n",
    "    \n",
    "    return coo_matrix((data, (row_idx, col_idx)), shape=(d_keep, d_keep)).tocsr()\n",
    "\n",
    "def idx_to_subsys(idx, dims):\n",
    "    \"\"\"Convert flat index to subsystem indices (reuse from your existing code)\"\"\"\n",
    "    subsys = []\n",
    "    for d in reversed(dims):\n",
    "        subsys.append(idx % d)\n",
    "        idx //= d\n",
    "    return np.array(subsys[::-1])\n",
    "\n",
    "    '''"
   ]
  },
  {
   "cell_type": "code",
   "execution_count": 24,
   "id": "34017d60",
   "metadata": {},
   "outputs": [],
   "source": [
    "# functions\n",
    "\n",
    "def innermost_adjacent_indices(L, block_size):\n",
    "    \"\"\"\n",
    "    Returns the indices of the innermost adjacent block of given size.\n",
    "    For even L, the block is centered in the middle.\n",
    "    \"\"\"\n",
    "    start = (L - block_size) // 2\n",
    "    return list(range(start, start + block_size))\n",
    "\n",
    "def all_adjacent_indices(L, block_size, bc):\n",
    "    \"\"\"\n",
    "    Returns a list of all possible adjacent blocks of given size.\n",
    "    Each block is represented as a list of indices.\n",
    "    \n",
    "    Args:\n",
    "        L: system size  \n",
    "        block_size: size of the block\n",
    "        bc: boundary conditions ('obc' or 'pbc')\n",
    "    \"\"\"\n",
    "    blocks = []\n",
    "    \n",
    "    if bc == 'obc':\n",
    "        # Original OBC implementation\n",
    "        for start in range(L - block_size + 1):\n",
    "            blocks.append(list(range(start, start + block_size)))\n",
    "    \n",
    "    elif bc == 'pbc':\n",
    "        # PBC implementation - sites wrap around\n",
    "        for start in range(L):\n",
    "            block = []\n",
    "            for i in range(block_size):\n",
    "                block.append((start + i) % L)  # Wrap around using modulo\n",
    "            blocks.append(block)\n",
    "    \n",
    "    else:\n",
    "        raise ValueError(\"Boundary condition must be 'obc' or 'pbc'\")\n",
    "    \n",
    "    return blocks\n",
    "\n",
    "def ptrace_sparse(dm_sparse, keep, dims):\n",
    "    \"\"\"\n",
    "    Compute the partial trace over arbitrary subsystems using sparse matrix operations.\n",
    "\n",
    "    Args:\n",
    "        dm_sparse (scipy.sparse matrix): Full density matrix of shape (D, D), where D = product(dims)\n",
    "        keep (list of int): Subsystems to keep (indices, 0-indexed)\n",
    "        dims (list of int): List of subsystem dimensions, e.g., [2]*n for n qubits\n",
    "\n",
    "    Returns:\n",
    "        scipy.sparse.csr_matrix: Reduced density matrix over kept subsystems\n",
    "    \"\"\"\n",
    "    if not issparse(dm_sparse):\n",
    "        raise ValueError(\"dm_sparse must be a scipy.sparse matrix\")\n",
    "    n = len(dims)\n",
    "    D = np.prod(dims)\n",
    "    if dm_sparse.shape != (D, D):\n",
    "        raise ValueError(\"Density matrix shape does not match dims\")\n",
    "    trace = [i for i in range(n) if i not in keep]\n",
    "    d_keep = np.prod([dims[i] for i in keep])\n",
    "    # Prepare output\n",
    "    data = []\n",
    "    row_idx = []\n",
    "    col_idx = []\n",
    "\n",
    "    # Precompute bit masks\n",
    "    #def idx_to_bits(idx):\n",
    "    #    return np.array(list(np.binary_repr(idx, width=n))).astype(int)\n",
    "\n",
    "    def idx_to_subsys(idx, dims):\n",
    "    #Convert flat index to tuple of subsystem indices for arbitrary dims.\n",
    "        subsys = []\n",
    "        for d in reversed(dims):\n",
    "            subsys.append(idx % d)\n",
    "            idx //= d\n",
    "        return np.array(subsys[::-1])\n",
    "\n",
    "    \n",
    "\n",
    "    dm_sparse = dm_sparse.tocoo()\n",
    "\n",
    "    for i, j, val in tqdm(zip(dm_sparse.row, dm_sparse.col, dm_sparse.data)):\n",
    "        bi = idx_to_subsys(i, dims)\n",
    "        bj = idx_to_subsys(j, dims)\n",
    "\n",
    "        if np.all(bi[trace] == bj[trace]):\n",
    "            i_red = 0\n",
    "            j_red = 0\n",
    "            for k, pos in enumerate(keep):\n",
    "                i_red = i_red * dims[pos] + bi[pos]\n",
    "                j_red = j_red * dims[pos] + bj[pos]\n",
    "\n",
    "            data.append(val)\n",
    "            row_idx.append(i_red)\n",
    "            col_idx.append(j_red)\n",
    "\n",
    "    \n",
    "    return coo_matrix((data, (row_idx, col_idx)), shape=(d_keep, d_keep)).tocsr()\n",
    "\n",
    "def ptrace_sparse_parallel(dm_sparse, keep, dims, n_jobs=-1): # njobs to be removed if not using joblib\n",
    "    \"\"\"\n",
    "    Compute the partial trace over arbitrary subsystems using sparse matrix operations.\n",
    "    Parallelized over nonzero elements.\n",
    "    \"\"\"\n",
    "    if not issparse(dm_sparse):\n",
    "        raise ValueError(\"dm_sparse must be a scipy.sparse matrix\")\n",
    "    n = len(dims)\n",
    "    D = np.prod(dims)\n",
    "    if dm_sparse.shape != (D, D):\n",
    "        raise ValueError(\"Density matrix shape does not match dims\")\n",
    "    trace = [i for i in range(n) if i not in keep]\n",
    "    d_keep = np.prod([dims[i] for i in keep])\n",
    "\n",
    "\n",
    "    def idx_to_subsys(idx, dims):\n",
    "    #Convert flat index to tuple of subsystem indices for arbitrary dims.\n",
    "        subsys = []\n",
    "        for d in reversed(dims):\n",
    "            subsys.append(idx % d)\n",
    "            idx //= d\n",
    "        return np.array(subsys[::-1])\n",
    "\n",
    "    \n",
    "    dm_sparse = dm_sparse.tocoo()\n",
    "\n",
    "    def process_entry(i,j,val):\n",
    "        bi = idx_to_subsys(i, dims)\n",
    "        bj = idx_to_subsys(j, dims)\n",
    "\n",
    "        if np.all(bi[trace] == bj[trace]):\n",
    "            i_red = 0\n",
    "            j_red = 0\n",
    "            for k, pos in enumerate(keep):\n",
    "                i_red = i_red * dims[pos] + bi[pos]\n",
    "                j_red = j_red * dims[pos] + bj[pos]\n",
    "            return (val, i_red, j_red)\n",
    "        else:\n",
    "            return None\n",
    "        \n",
    "    results = Parallel(n_jobs=n_jobs, prefer=\"processes\")(\n",
    "        delayed(process_entry)(i, j, val)\n",
    "        for i, j, val in tqdm(zip(dm_sparse.row, dm_sparse.col, dm_sparse.data))\n",
    "    )\n",
    "    results = [r for r in results if r is not None]\n",
    "\n",
    "    '''entries = zip(psi_sparse.row, psi_sparse.col, psi_sparse.data)\n",
    "    results = []\n",
    "    with ThreadPoolExecutor() as executor:\n",
    "        for res in executor.map(process_entry, entries):\n",
    "            if res is not None:\n",
    "                results.append(res)'''\n",
    "    \n",
    "    if results:\n",
    "        data, row_idx, col_idx = zip(*results)\n",
    "    else:\n",
    "        data, row_idx, col_idx = [], [], []\n",
    "\n",
    "    return coo_matrix((data, (row_idx, col_idx)), shape=(d_keep, d_keep)).tocsr()\n",
    "\n",
    "def ee_sparse(dm_sparse, L):\n",
    "    \"\"\"\n",
    "    Computes the entanglement entropy of a state using sparse matrices in parallel.\n",
    "    The state is assumed to be a vector in the Hilbert space of L qubits.\n",
    "    \"\"\"\n",
    "    rhoA = ptrace_sparse(dm_sparse, list(range(L // 2)), [2] * L)\n",
    "    eigvals = np.linalg.eigvalsh(rhoA.toarray())\n",
    "    return -np.sum(eigvals * np.log(eigvals + 1e-12)).real  # Add small value to avoid log(0)\n",
    "\n",
    "def ee_sparse_parallel(dm_sparse, L, n_jobs=-1):\n",
    "    \"\"\"\n",
    "    Computes the entanglement entropy of a state using sparse matrices in parallel.\n",
    "    The state is assumed to be a vector in the Hilbert space of L qubits.\n",
    "    \"\"\"\n",
    "    rhoA = ptrace_sparse_parallel(dm_sparse, list(range(L // 2)), [2] * L, n_jobs=n_jobs)\n",
    "    eigvals = np.linalg.eigvalsh(rhoA.toarray())\n",
    "    return -np.sum(eigvals * np.log(eigvals + 1e-12)).real  # Add small value to avoid log(0)\n",
    "\n",
    "def rdm_qutip(state, L, keep_qubits):\n",
    "    rho = np.outer(state, state.conj())\n",
    "    rho_qobj = Qobj(rho, dims=[[2] * L, [2] * L])\n",
    "    rdm = ptrace(rho_qobj, keep_qubits)\n",
    "    rdm_mat = rdm.full()\n",
    "    eigvals = np.linalg.eigvalsh(rdm_mat)\n",
    "    min_eigval = np.min(eigvals)\n",
    "    # Rank: count nonzero eigenvalues (with tolerance)\n",
    "    rank = np.sum(eigvals > 1e-12)\n",
    "    return rdm, min_eigval, rank\n",
    "\n",
    "def ee_qutip(state, L):\n",
    "    rho = np.outer(state, state.conj())\n",
    "    rho_qobj = Qobj(rho, dims=[[2] * L, [2] * L])\n",
    "    rhoA = ptrace(rho_qobj, list(range(L//2)))\n",
    "    return entropy_vn(rhoA)"
   ]
  },
  {
   "cell_type": "code",
   "execution_count": 25,
   "id": "0856b1b1",
   "metadata": {},
   "outputs": [
    {
     "name": "stdout",
     "output_type": "stream",
     "text": [
      "Innermost 2-sites block: [4, 5]\n",
      "Innermost 3-sites block: [3, 4, 5]\n",
      "Innermost 4-sites block: [3, 4, 5, 6]\n",
      "All adjacent 2-site blocks: [[0, 1], [1, 2], [2, 3], [3, 4], [4, 5], [5, 6], [6, 7], [7, 8], [8, 9], [9, 0]]\n",
      "All adjacent 3-site blocks: [[0, 1, 2], [1, 2, 3], [2, 3, 4], [3, 4, 5], [4, 5, 6], [5, 6, 7], [6, 7, 8], [7, 8, 9], [8, 9, 0], [9, 0, 1]]\n",
      "All adjacent 4-site blocks: [[0, 1, 2, 3], [1, 2, 3, 4], [2, 3, 4, 5], [3, 4, 5, 6], [4, 5, 6, 7], [5, 6, 7, 8], [6, 7, 8, 9], [7, 8, 9, 0], [8, 9, 0, 1], [9, 0, 1, 2]]\n"
     ]
    }
   ],
   "source": [
    "L = 10 # number of sites -  it has to be even\n",
    "bc = 'pbc'  # boundary condition, can be 'obc' or 'pbc'\n",
    "\n",
    "innermost_2 = innermost_adjacent_indices(L, 2)\n",
    "print(\"Innermost 2-sites block:\", innermost_2)\n",
    "innermost_3 = innermost_adjacent_indices(L, 3)\n",
    "print(\"Innermost 3-sites block:\", innermost_3)\n",
    "innermost_4 = innermost_adjacent_indices(L, 4)\n",
    "print(\"Innermost 4-sites block:\", innermost_4)\n",
    "\n",
    "\n",
    "adjacent_2 = all_adjacent_indices(L, 2, bc)\n",
    "adjacent_3 = all_adjacent_indices(L, 3, bc)\n",
    "adjacent_4 = all_adjacent_indices(L, 4, bc)\n",
    "\n",
    "print(\"All adjacent 2-site blocks:\", adjacent_2)\n",
    "print(\"All adjacent 3-site blocks:\", adjacent_3)\n",
    "print(\"All adjacent 4-site blocks:\", adjacent_4)"
   ]
  },
  {
   "cell_type": "code",
   "execution_count": 26,
   "id": "cffcf498",
   "metadata": {},
   "outputs": [
    {
     "name": "stdout",
     "output_type": "stream",
     "text": [
      "scar state dimension for L=10: 1048576\n",
      "Number of zero components in scar_state (tol=1e-12): 210\n",
      "Number of zero elements of dm (tol=1e-12): 44100\n",
      "\n",
      "All possible RDMs for block size 2:\n"
     ]
    },
    {
     "name": "stderr",
     "output_type": "stream",
     "text": [
      "44100it [00:01, 26982.84it/s]?, ?it/s]\n",
      " 10%|█         | 1/10 [00:01<00:17,  1.97s/it]"
     ]
    },
    {
     "name": "stdout",
     "output_type": "stream",
     "text": [
      "Block [0, 1]: min eigenvalue = 0.0, rank = 3\n"
     ]
    },
    {
     "name": "stderr",
     "output_type": "stream",
     "text": [
      "44100it [00:00, 48215.07it/s]\n",
      " 20%|██        | 2/10 [00:03<00:12,  1.50s/it]"
     ]
    },
    {
     "name": "stdout",
     "output_type": "stream",
     "text": [
      "Block [1, 2]: min eigenvalue = 0.0, rank = 3\n"
     ]
    },
    {
     "name": "stderr",
     "output_type": "stream",
     "text": [
      "44100it [00:00, 65908.30it/s]\n",
      " 30%|███       | 3/10 [00:04<00:08,  1.23s/it]"
     ]
    },
    {
     "name": "stdout",
     "output_type": "stream",
     "text": [
      "Block [2, 3]: min eigenvalue = 0.0, rank = 3\n"
     ]
    },
    {
     "name": "stderr",
     "output_type": "stream",
     "text": [
      "44100it [00:00, 69688.89it/s]\n",
      " 40%|████      | 4/10 [00:04<00:06,  1.08s/it]"
     ]
    },
    {
     "name": "stdout",
     "output_type": "stream",
     "text": [
      "Block [3, 4]: min eigenvalue = 0.0, rank = 3\n"
     ]
    },
    {
     "name": "stderr",
     "output_type": "stream",
     "text": [
      "44100it [00:00, 69008.66it/s]\n",
      " 50%|█████     | 5/10 [00:05<00:05,  1.01s/it]"
     ]
    },
    {
     "name": "stdout",
     "output_type": "stream",
     "text": [
      "Block [4, 5]: min eigenvalue = 0.0, rank = 3\n"
     ]
    },
    {
     "name": "stderr",
     "output_type": "stream",
     "text": [
      "44100it [00:00, 66112.49it/s]\n",
      " 60%|██████    | 6/10 [00:06<00:03,  1.03it/s]"
     ]
    },
    {
     "name": "stdout",
     "output_type": "stream",
     "text": [
      "Block [5, 6]: min eigenvalue = 0.0, rank = 3\n"
     ]
    },
    {
     "name": "stderr",
     "output_type": "stream",
     "text": [
      "44100it [00:00, 65238.10it/s]\n",
      " 70%|███████   | 7/10 [00:07<00:02,  1.02it/s]"
     ]
    },
    {
     "name": "stdout",
     "output_type": "stream",
     "text": [
      "Block [6, 7]: min eigenvalue = 0.0, rank = 3\n"
     ]
    },
    {
     "name": "stderr",
     "output_type": "stream",
     "text": [
      "44100it [00:00, 44944.37it/s]\n",
      " 80%|████████  | 8/10 [00:09<00:02,  1.10s/it]"
     ]
    },
    {
     "name": "stdout",
     "output_type": "stream",
     "text": [
      "Block [7, 8]: min eigenvalue = 0.0, rank = 3\n"
     ]
    },
    {
     "name": "stderr",
     "output_type": "stream",
     "text": [
      "44100it [00:00, 44851.05it/s]\n",
      " 90%|█████████ | 9/10 [00:10<00:01,  1.16s/it]"
     ]
    },
    {
     "name": "stdout",
     "output_type": "stream",
     "text": [
      "Block [8, 9]: min eigenvalue = 0.0, rank = 3\n"
     ]
    },
    {
     "name": "stderr",
     "output_type": "stream",
     "text": [
      "44100it [00:00, 44116.51it/s]\n",
      "100%|██████████| 10/10 [00:11<00:00,  1.16s/it]\n"
     ]
    },
    {
     "name": "stdout",
     "output_type": "stream",
     "text": [
      "Block [9, 0]: min eigenvalue = 0.0, rank = 3\n",
      "\n",
      "All possible RDMs for block size 3:\n"
     ]
    },
    {
     "name": "stderr",
     "output_type": "stream",
     "text": [
      "44100it [00:00, 47206.05it/s]?, ?it/s]\n",
      " 10%|█         | 1/10 [00:01<00:11,  1.33s/it]"
     ]
    },
    {
     "name": "stdout",
     "output_type": "stream",
     "text": [
      "Block [0, 1, 2]: min eigenvalue = -1.2133013753455138e-16, rank = 4\n"
     ]
    },
    {
     "name": "stderr",
     "output_type": "stream",
     "text": [
      "44100it [00:01, 43383.63it/s]\n",
      " 20%|██        | 2/10 [00:02<00:10,  1.37s/it]"
     ]
    },
    {
     "name": "stdout",
     "output_type": "stream",
     "text": [
      "Block [1, 2, 3]: min eigenvalue = -8.631553542864322e-17, rank = 4\n"
     ]
    },
    {
     "name": "stderr",
     "output_type": "stream",
     "text": [
      "44100it [00:00, 48146.19it/s]\n",
      " 30%|███       | 3/10 [00:04<00:09,  1.33s/it]"
     ]
    },
    {
     "name": "stdout",
     "output_type": "stream",
     "text": [
      "Block [2, 3, 4]: min eigenvalue = -1.2180946249843216e-16, rank = 4\n"
     ]
    },
    {
     "name": "stderr",
     "output_type": "stream",
     "text": [
      "44100it [00:01, 43392.70it/s]\n",
      " 40%|████      | 4/10 [00:05<00:07,  1.33s/it]"
     ]
    },
    {
     "name": "stdout",
     "output_type": "stream",
     "text": [
      "Block [3, 4, 5]: min eigenvalue = -8.53889891461938e-17, rank = 4\n"
     ]
    },
    {
     "name": "stderr",
     "output_type": "stream",
     "text": [
      "44100it [00:01, 42690.73it/s]\n",
      " 50%|█████     | 5/10 [00:06<00:06,  1.36s/it]"
     ]
    },
    {
     "name": "stdout",
     "output_type": "stream",
     "text": [
      "Block [4, 5, 6]: min eigenvalue = -8.783742433953825e-17, rank = 4\n"
     ]
    },
    {
     "name": "stderr",
     "output_type": "stream",
     "text": [
      "44100it [00:00, 44147.67it/s]\n",
      " 60%|██████    | 6/10 [00:08<00:05,  1.35s/it]"
     ]
    },
    {
     "name": "stdout",
     "output_type": "stream",
     "text": [
      "Block [5, 6, 7]: min eigenvalue = -9.663570146492345e-17, rank = 4\n"
     ]
    },
    {
     "name": "stderr",
     "output_type": "stream",
     "text": [
      "44100it [00:00, 48201.87it/s]\n",
      " 70%|███████   | 7/10 [00:09<00:03,  1.31s/it]"
     ]
    },
    {
     "name": "stdout",
     "output_type": "stream",
     "text": [
      "Block [6, 7, 8]: min eigenvalue = -1.4803118980717584e-16, rank = 4\n"
     ]
    },
    {
     "name": "stderr",
     "output_type": "stream",
     "text": [
      "44100it [00:00, 45580.03it/s]\n",
      " 80%|████████  | 8/10 [00:10<00:02,  1.32s/it]"
     ]
    },
    {
     "name": "stdout",
     "output_type": "stream",
     "text": [
      "Block [7, 8, 9]: min eigenvalue = -7.028184398813927e-17, rank = 4\n"
     ]
    },
    {
     "name": "stderr",
     "output_type": "stream",
     "text": [
      "44100it [00:00, 46956.10it/s]\n",
      " 90%|█████████ | 9/10 [00:11<00:01,  1.33s/it]"
     ]
    },
    {
     "name": "stdout",
     "output_type": "stream",
     "text": [
      "Block [8, 9, 0]: min eigenvalue = -6.7027903594067e-17, rank = 4\n"
     ]
    },
    {
     "name": "stderr",
     "output_type": "stream",
     "text": [
      "44100it [00:00, 46453.36it/s]\n",
      "100%|██████████| 10/10 [00:13<00:00,  1.32s/it]\n"
     ]
    },
    {
     "name": "stdout",
     "output_type": "stream",
     "text": [
      "Block [9, 0, 1]: min eigenvalue = -5.618787459120586e-17, rank = 4\n",
      "\n",
      "All possible RDMs for block size 4:\n"
     ]
    },
    {
     "name": "stderr",
     "output_type": "stream",
     "text": [
      "44100it [00:00, 44852.33it/s]?, ?it/s]\n",
      " 10%|█         | 1/10 [00:01<00:14,  1.61s/it]"
     ]
    },
    {
     "name": "stdout",
     "output_type": "stream",
     "text": [
      "Block [0, 1, 2, 3]: min eigenvalue = -9.998433985924041e-17, rank = 5\n"
     ]
    },
    {
     "name": "stderr",
     "output_type": "stream",
     "text": [
      "44100it [00:00, 46627.78it/s]\n",
      " 20%|██        | 2/10 [00:03<00:12,  1.61s/it]"
     ]
    },
    {
     "name": "stdout",
     "output_type": "stream",
     "text": [
      "Block [1, 2, 3, 4]: min eigenvalue = -1.8903795915273835e-16, rank = 5\n"
     ]
    },
    {
     "name": "stderr",
     "output_type": "stream",
     "text": [
      "44100it [00:00, 49530.33it/s]\n",
      " 30%|███       | 3/10 [00:04<00:10,  1.54s/it]"
     ]
    },
    {
     "name": "stdout",
     "output_type": "stream",
     "text": [
      "Block [2, 3, 4, 5]: min eigenvalue = -1.0288547044344578e-16, rank = 5\n"
     ]
    },
    {
     "name": "stderr",
     "output_type": "stream",
     "text": [
      "44100it [00:00, 45984.69it/s]\n",
      " 40%|████      | 4/10 [00:06<00:08,  1.49s/it]"
     ]
    },
    {
     "name": "stdout",
     "output_type": "stream",
     "text": [
      "Block [3, 4, 5, 6]: min eigenvalue = -1.3654608997387947e-16, rank = 5\n"
     ]
    },
    {
     "name": "stderr",
     "output_type": "stream",
     "text": [
      "44100it [00:00, 46640.09it/s]\n",
      " 50%|█████     | 5/10 [00:07<00:07,  1.49s/it]"
     ]
    },
    {
     "name": "stdout",
     "output_type": "stream",
     "text": [
      "Block [4, 5, 6, 7]: min eigenvalue = -9.64375706256213e-17, rank = 5\n"
     ]
    },
    {
     "name": "stderr",
     "output_type": "stream",
     "text": [
      "44100it [00:00, 53193.41it/s]\n",
      " 60%|██████    | 6/10 [00:08<00:05,  1.43s/it]"
     ]
    },
    {
     "name": "stdout",
     "output_type": "stream",
     "text": [
      "Block [5, 6, 7, 8]: min eigenvalue = -1.439037471486191e-16, rank = 5\n"
     ]
    },
    {
     "name": "stderr",
     "output_type": "stream",
     "text": [
      "44100it [00:00, 52583.12it/s]\n",
      " 70%|███████   | 7/10 [00:10<00:04,  1.44s/it]"
     ]
    },
    {
     "name": "stdout",
     "output_type": "stream",
     "text": [
      "Block [6, 7, 8, 9]: min eigenvalue = -2.0596668708787816e-16, rank = 5\n"
     ]
    },
    {
     "name": "stderr",
     "output_type": "stream",
     "text": [
      "44100it [00:01, 43308.90it/s]\n",
      " 80%|████████  | 8/10 [00:11<00:03,  1.50s/it]"
     ]
    },
    {
     "name": "stdout",
     "output_type": "stream",
     "text": [
      "Block [7, 8, 9, 0]: min eigenvalue = -1.0005572631061395e-16, rank = 5\n"
     ]
    },
    {
     "name": "stderr",
     "output_type": "stream",
     "text": [
      "44100it [00:01, 41355.30it/s]\n",
      " 90%|█████████ | 9/10 [00:13<00:01,  1.56s/it]"
     ]
    },
    {
     "name": "stdout",
     "output_type": "stream",
     "text": [
      "Block [8, 9, 0, 1]: min eigenvalue = -1.988311876738446e-16, rank = 5\n"
     ]
    },
    {
     "name": "stderr",
     "output_type": "stream",
     "text": [
      "44100it [00:00, 48218.25it/s]\n",
      "100%|██████████| 10/10 [00:15<00:00,  1.53s/it]"
     ]
    },
    {
     "name": "stdout",
     "output_type": "stream",
     "text": [
      "Block [9, 0, 1, 2]: min eigenvalue = -1.1789608829642837e-16, rank = 5\n"
     ]
    },
    {
     "name": "stderr",
     "output_type": "stream",
     "text": [
      "\n"
     ]
    },
    {
     "data": {
      "text/plain": [
       "'rdm = ptrace_sparse_parallel(density_matrix_sparse, adjacent_4[0], [4]*L, n_jobs=-1) # Use the custom ptrace_sparse function\\n# Find the minimum eigenvalue of the traced-out density matrix\\neigenvalues_traced, eigenvectors_traced = np.linalg.eigh(rdm.toarray())\\nrank = np.linalg.matrix_rank(rdm.toarray())\\nmin_eigenvalue = np.min(eigenvalues_traced)\\nprint(f\"min eigenvalue = {min_eigenvalue}, rank = {rank}\")'"
      ]
     },
     "execution_count": 26,
     "metadata": {},
     "output_type": "execute_result"
    }
   ],
   "source": [
    "# HUBBARD - PRB 075132\n",
    "\n",
    "scar_state = eta_tower(4, L)  # with boundary conditions\n",
    "#dimer_state = dimer_state.flatten()  # Reshape to column vector\n",
    "print(f\"scar state dimension for L={L}: {len(scar_state.toarray())}\")\n",
    "\n",
    "# Print number of zero components (with tolerance 1e-12)\n",
    "#print(np.count_nonzero(scar_state))\n",
    "num_zeros = np.sum(np.abs(scar_state) > 1e-16)\n",
    "print(f\"Number of zero components in scar_state (tol=1e-12): {num_zeros}\")\n",
    "\n",
    "scar_sparse = csr_matrix(scar_state.reshape(-1, 1))  # Convert to sparse column vector\n",
    "density_matrix_sparse = scar_sparse @ scar_sparse.getH()  # Outer product to form density matrix\n",
    "print(\"Number of zero elements of dm (tol=1e-12):\", np.sum(np.abs(density_matrix_sparse.data) > 1e-16))    #Trace out qubits using qutip partial trace\n",
    "\n",
    "# Calculate RDMs for all possible adjacent 2, 3, 4 site blocks\n",
    "for block_size, all_blocks in zip([2, 3, 4], [adjacent_2, adjacent_3, adjacent_4]):\n",
    "    print(f\"\\nAll possible RDMs for block size {block_size}:\")\n",
    "    for block_indices in tqdm(all_blocks):\n",
    "        rdm = ptrace_sparse_parallel(density_matrix_sparse, block_indices, [4]*L, n_jobs=-1) # Use the custom ptrace_sparse function\n",
    "        # Find the minimum eigenvalue of the traced-out density matrix\n",
    "        eigenvalues_traced, eigenvectors_traced = np.linalg.eigh(rdm.toarray())\n",
    "        rank = np.linalg.matrix_rank(rdm.toarray())\n",
    "        min_eigenvalue = np.min(eigenvalues_traced)\n",
    "        print(f\"Block {block_indices}: min eigenvalue = {min_eigenvalue}, rank = {rank}\")\n",
    "'''rdm = ptrace_sparse_parallel(density_matrix_sparse, adjacent_4[0], [4]*L, n_jobs=-1) # Use the custom ptrace_sparse function\n",
    "# Find the minimum eigenvalue of the traced-out density matrix\n",
    "eigenvalues_traced, eigenvectors_traced = np.linalg.eigh(rdm.toarray())\n",
    "rank = np.linalg.matrix_rank(rdm.toarray())\n",
    "min_eigenvalue = np.min(eigenvalues_traced)\n",
    "print(f\"min eigenvalue = {min_eigenvalue}, rank = {rank}\")'''"
   ]
  },
  {
   "cell_type": "code",
   "execution_count": 27,
   "id": "7c0c0fc3",
   "metadata": {},
   "outputs": [
    {
     "name": "stdout",
     "output_type": "stream",
     "text": [
      "scar state dimension for L=10: (1048576, 1)\n",
      "Number of zero components in scar_state (tol=1e-12): 210\n",
      "Number of zero elements of dm (tol=1e-12): 44100\n",
      "\n",
      "All possible RDMs for block size 2:\n"
     ]
    },
    {
     "name": "stderr",
     "output_type": "stream",
     "text": [
      "100%|██████████| 10/10 [00:00<00:00, 176.61it/s]\n"
     ]
    },
    {
     "name": "stdout",
     "output_type": "stream",
     "text": [
      "Block [0, 1]: min eigenvalue = 0.0, rank = 3\n",
      "Block [1, 2]: min eigenvalue = 0.0, rank = 3\n",
      "Block [2, 3]: min eigenvalue = 0.0, rank = 3\n",
      "Block [3, 4]: min eigenvalue = 0.0, rank = 3\n",
      "Block [4, 5]: min eigenvalue = 0.0, rank = 3\n",
      "Block [5, 6]: min eigenvalue = 0.0, rank = 3\n",
      "Block [6, 7]: min eigenvalue = 0.0, rank = 3\n",
      "Block [7, 8]: min eigenvalue = 0.0, rank = 3\n",
      "Block [8, 9]: min eigenvalue = 0.0, rank = 3\n",
      "Block [9, 0]: min eigenvalue = 0.0, rank = 3\n",
      "\n",
      "All possible RDMs for block size 3:\n"
     ]
    },
    {
     "name": "stderr",
     "output_type": "stream",
     "text": [
      "100%|██████████| 10/10 [00:00<00:00, 114.97it/s]\n"
     ]
    },
    {
     "name": "stdout",
     "output_type": "stream",
     "text": [
      "Block [0, 1, 2]: min eigenvalue = -5.618787459120586e-17, rank = 4\n",
      "Block [1, 2, 3]: min eigenvalue = -5.618787459120586e-17, rank = 4\n",
      "Block [2, 3, 4]: min eigenvalue = -5.618787459120586e-17, rank = 4\n",
      "Block [3, 4, 5]: min eigenvalue = -5.618787459120586e-17, rank = 4\n",
      "Block [4, 5, 6]: min eigenvalue = -5.618787459120586e-17, rank = 4\n",
      "Block [5, 6, 7]: min eigenvalue = -5.618787459120586e-17, rank = 4\n",
      "Block [6, 7, 8]: min eigenvalue = -5.618787459120586e-17, rank = 4\n",
      "Block [7, 8, 9]: min eigenvalue = -5.618787459120586e-17, rank = 4\n",
      "Block [8, 9, 0]: min eigenvalue = -5.618787459120586e-17, rank = 4\n",
      "Block [9, 0, 1]: min eigenvalue = -5.618787459120586e-17, rank = 4\n",
      "\n",
      "All possible RDMs for block size 4:\n"
     ]
    },
    {
     "name": "stderr",
     "output_type": "stream",
     "text": [
      " 20%|██        | 2/10 [00:00<00:01,  5.18it/s]"
     ]
    },
    {
     "name": "stdout",
     "output_type": "stream",
     "text": [
      "Block [0, 1, 2, 3]: min eigenvalue = -6.073887904291158e-17, rank = 5\n",
      "Block [1, 2, 3, 4]: min eigenvalue = -6.073887904291158e-17, rank = 5\n"
     ]
    },
    {
     "name": "stderr",
     "output_type": "stream",
     "text": [
      " 40%|████      | 4/10 [00:00<00:00,  6.23it/s]"
     ]
    },
    {
     "name": "stdout",
     "output_type": "stream",
     "text": [
      "Block [2, 3, 4, 5]: min eigenvalue = -6.073887904291158e-17, rank = 5\n",
      "Block [3, 4, 5, 6]: min eigenvalue = -6.073887904291158e-17, rank = 5\n"
     ]
    },
    {
     "name": "stderr",
     "output_type": "stream",
     "text": [
      " 60%|██████    | 6/10 [00:00<00:00,  6.91it/s]"
     ]
    },
    {
     "name": "stdout",
     "output_type": "stream",
     "text": [
      "Block [4, 5, 6, 7]: min eigenvalue = -6.073887904291158e-17, rank = 5\n",
      "Block [5, 6, 7, 8]: min eigenvalue = -6.073887904291158e-17, rank = 5\n"
     ]
    },
    {
     "name": "stderr",
     "output_type": "stream",
     "text": [
      " 80%|████████  | 8/10 [00:01<00:00,  8.75it/s]"
     ]
    },
    {
     "name": "stdout",
     "output_type": "stream",
     "text": [
      "Block [6, 7, 8, 9]: min eigenvalue = -6.073887904291158e-17, rank = 5\n",
      "Block [7, 8, 9, 0]: min eigenvalue = -6.073887904291158e-17, rank = 5\n",
      "Block [8, 9, 0, 1]: min eigenvalue = -6.073887904291158e-17, rank = 5\n"
     ]
    },
    {
     "name": "stderr",
     "output_type": "stream",
     "text": [
      "100%|██████████| 10/10 [00:01<00:00,  7.80it/s]"
     ]
    },
    {
     "name": "stdout",
     "output_type": "stream",
     "text": [
      "Block [9, 0, 1, 2]: min eigenvalue = -6.073887904291158e-17, rank = 5\n"
     ]
    },
    {
     "name": "stderr",
     "output_type": "stream",
     "text": [
      "\n"
     ]
    },
    {
     "data": {
      "text/plain": [
       "'rdm = ptrace(density_matrix_qobj, adjacent_4[0])\\n# Find the minimum eigenvalue of the traced-out density matrix\\neigenvalues_traced, eigenvectors_traced = np.linalg.eigh(rdm.full())\\nrank = np.linalg.matrix_rank(rdm.full())\\nmin_eigenvalue = np.min(eigenvalues_traced)\\nprint(f\"min eigenvalue = {min_eigenvalue}, rank = {rank}\")'"
      ]
     },
     "execution_count": 27,
     "metadata": {},
     "output_type": "execute_result"
    }
   ],
   "source": [
    "# HUBBARD - PRB 075132 - qutip version\n",
    "\n",
    "scar_state = eta_tower(4, L)  # with boundary conditions\n",
    "#dimer_state = dimer_state.flatten()  # Reshape to column vector\n",
    "print(f\"scar state dimension for L={L}: {scar_state.shape}\")\n",
    "\n",
    "# Print number of zero components (with tolerance 1e-12)\n",
    "#print(np.count_nonzero(scar_state))\n",
    "num_zeros = np.sum(np.abs(scar_state) > 1e-16)\n",
    "print(f\"Number of zero components in scar_state (tol=1e-12): {num_zeros}\")\n",
    "\n",
    "scar_sparse = csr_matrix(scar_state.reshape(-1, 1))  # Convert to sparse column vector\n",
    "density_matrix_sparse = scar_sparse @ scar_sparse.getH()  # Outer product to form density matrix\n",
    "density_matrix_qobj = Qobj(density_matrix_sparse, dims=[[4]*L, [4]*L])  # Convert to Qobj for qutip\n",
    "print(\"Number of zero elements of dm (tol=1e-12):\", np.sum(np.abs(density_matrix_sparse.data) > 1e-16))    #Trace out qubits using qutip partial trace\n",
    "\n",
    "# Calculate RDMs for all possible adjacent 2, 3, 4 site blocks\n",
    "for block_size, all_blocks in zip([2, 3, 4], [adjacent_2, adjacent_3, adjacent_4]):\n",
    "    print(f\"\\nAll possible RDMs for block size {block_size}:\")\n",
    "    for block_indices in tqdm(all_blocks):\n",
    "        rdm = ptrace(density_matrix_qobj, block_indices)\n",
    "        # Find the minimum eigenvalue of the traced-out density matrix\n",
    "        eigenvalues_traced, eigenvectors_traced = np.linalg.eigh(rdm.full())\n",
    "        rank = np.linalg.matrix_rank(rdm.full())\n",
    "        min_eigenvalue = np.min(eigenvalues_traced)\n",
    "        print(f\"Block {block_indices}: min eigenvalue = {min_eigenvalue}, rank = {rank}\")\n",
    "\n",
    "'''rdm = ptrace(density_matrix_qobj, adjacent_4[0])\n",
    "# Find the minimum eigenvalue of the traced-out density matrix\n",
    "eigenvalues_traced, eigenvectors_traced = np.linalg.eigh(rdm.full())\n",
    "rank = np.linalg.matrix_rank(rdm.full())\n",
    "min_eigenvalue = np.min(eigenvalues_traced)\n",
    "print(f\"min eigenvalue = {min_eigenvalue}, rank = {rank}\")'''"
   ]
  },
  {
   "cell_type": "code",
   "execution_count": null,
   "id": "72e36871",
   "metadata": {},
   "outputs": [
    {
     "name": "stderr",
     "output_type": "stream",
     "text": []
    },
    {
     "name": "stderr",
     "output_type": "stream",
     "text": []
    }
   ],
   "source": [
    "# HUBBARD - PRB 075132\n",
    "\n",
    "'''\n",
    "# L is your system size\n",
    "# Nup = L//2 for Sz=0 sector (number of up spins)\n",
    "# kblock=0 for momentum k=0 (T=1 eigenvalue)\n",
    "sym_basis = spin_basis_1d(L, Nup=L//2, kblock=0)\n",
    "print(\"Basis size:\", sym_basis.Ns)\n",
    "\n",
    "# get symmetry basis states as integers\n",
    "proj_states = sym_basis.get_proj(np.arange(sym_basis.Ns))\n",
    "\n",
    "# project dimer_state onto the symmetry sector\n",
    "xy_proj = scar_state[proj_states]\n",
    "\n",
    "# normalize if desired\n",
    "xy_proj = xy_proj / np.linalg.norm(xy_proj)\n",
    "\n",
    "\n",
    "# xy_proj is now the state in the (Sz=0, T=1) sector basis\n",
    "'''\n",
    "\n",
    "# domain wall ee for single L and Ltar dependence\n",
    "#dw_scar_ee = ee_sparse_parallel(density_matrix_sparse, L, n_jobs=-1)\n",
    "#print(f\"dw-scar entanglement entropy for L={L}: {dw_scar_ee}\")\n",
    "\n",
    "Ltar = np.asarray([12, 14, 16, 18])#np.asarray([12, 14, 16, 18, 20, 22, 24])\n",
    "scar_states = [eta_tower(Lt//2, Lt) for Lt in tqdm(Ltar)]\n",
    "\n",
    "print(len(scar_states))\n",
    "\n",
    "# Convert each state vector to density matrix before computing entanglement entropy\n",
    "scar_density_matrices = []\n",
    "for i, state in enumerate(scar_states):\n",
    "    scar_sparse = csr_matrix(state.reshape(-1, 1))  # Convert to sparse column vector\n",
    "    dm_sparse = scar_sparse @ scar_sparse.getH()  # Outer product to form density matrix\n",
    "    scar_density_matrices.append(dm_sparse)\n",
    "\n",
    "print(len(scar_density_matrices))\n",
    "\n",
    "# Compute RDMs and their ranks for each system size\n",
    "hb_scar_2_tar = []\n",
    "hb_scar_3_tar = []\n",
    "hb_scar_4_tar = []\n",
    "\n",
    "for i, Lt in tqdm(enumerate(Ltar)):\n",
    "    # Compute RDMs\n",
    "    rdm_2 = ptrace_sparse_parallel(scar_density_matrices[i], innermost_2, [2]*Lt, n_jobs=-1)\n",
    "    rdm_3 = ptrace_sparse_parallel(scar_density_matrices[i], innermost_3, [2]*Lt, n_jobs=-1)\n",
    "    rdm_4 = ptrace_sparse_parallel(scar_density_matrices[i], innermost_4, [2]*Lt, n_jobs=-1)\n",
    "    \n",
    "    # Compute ranks and append to lists\n",
    "    hb_scar_2_tar.append(np.linalg.matrix_rank(rdm_2.toarray()))\n",
    "    hb_scar_3_tar.append(np.linalg.matrix_rank(rdm_3.toarray()))\n",
    "    hb_scar_4_tar.append(np.linalg.matrix_rank(rdm_4.toarray()))"
   ]
  },
  {
   "cell_type": "code",
   "execution_count": null,
   "id": "a7963674",
   "metadata": {},
   "outputs": [
    {
     "data": {
      "image/png": "[encoded data removed]",
      "text/plain": [
       "<Figure size 600x400 with 1 Axes>"
      ]
     },
     "metadata": {},
     "output_type": "display_data"
    }
   ],
   "source": [
    "# 2 sites rdm rank\n",
    "\n",
    "plt.figure(figsize=(6,4))\n",
    "plt.plot(Ltar, hb_scar_2_tar, marker='o')\n",
    "plt.xlabel('L')\n",
    "plt.ylabel('Top Scar 2-site RDM Rank')\n",
    "#plt.title('Domain Wall S=1/2 2-sites RDM Rank vs L')\n",
    "#plt.grid(True)\n",
    "plt.savefig('hb_scar_2p.png', dpi=300, bbox_inches='tight')\n",
    "plt.show()"
   ]
  },
  {
   "cell_type": "code",
   "execution_count": null,
   "id": "d40f8bc6",
   "metadata": {},
   "outputs": [
    {
     "data": {
      "image/png": "[encoded data removed]",
      "text/plain": [
       "<Figure size 600x400 with 1 Axes>"
      ]
     },
     "metadata": {},
     "output_type": "display_data"
    }
   ],
   "source": [
    "# 3 sites rdm rank\n",
    "\n",
    "plt.figure(figsize=(6,4))\n",
    "plt.plot(Ltar, hb_scar_3_tar, marker='o')\n",
    "plt.xlabel('L')\n",
    "plt.ylabel('Top Scar 3-site RDM Rank')\n",
    "#plt.title('Domain Wall S=1/2 3-sites RDM Rank vs L')\n",
    "#plt.grid(True)\n",
    "plt.savefig('hb_scar_3p.png', dpi=300, bbox_inches='tight')\n",
    "plt.show()"
   ]
  },
  {
   "cell_type": "code",
   "execution_count": null,
   "id": "2f0ad054",
   "metadata": {},
   "outputs": [
    {
     "data": {
      "image/png": "[encoded data removed]",
      "text/plain": [
       "<Figure size 600x400 with 1 Axes>"
      ]
     },
     "metadata": {},
     "output_type": "display_data"
    }
   ],
   "source": [
    "# 4 sites rdm rank\n",
    "\n",
    "plt.figure(figsize=(6,4))\n",
    "plt.plot(Ltar, dw_scar_4_tar, marker='o')\n",
    "plt.xlabel('L')\n",
    "plt.ylabel('Top Scar 4-site RDM Rank')\n",
    "#plt.title('Domain Wall S=1/2 4-sites RDM Rank vs L')\n",
    "#plt.grid(True)\n",
    "plt.savefig('hb_scar_4p.png', dpi=300, bbox_inches='tight')\n",
    "plt.show()"
   ]
  }
 ],
 "metadata": {
  "kernelspec": {
   "display_name": "base",
   "language": "python",
   "name": "python3"
  },
  "language_info": {
   "codemirror_mode": {
    "name": "ipython",
    "version": 3
   },
   "file_extension": ".py",
   "mimetype": "text/x-python",
   "name": "python",
   "nbconvert_exporter": "python",
   "pygments_lexer": "ipython3",
   "version": "3.11.8"
  }
 },
 "nbformat": 4,
 "nbformat_minor": 5
}
