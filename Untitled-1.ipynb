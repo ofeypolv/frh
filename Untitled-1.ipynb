{
 "cells": [
  {
   "cell_type": "code",
   "execution_count": 2,
   "metadata": {},
   "outputs": [
    {
     "name": "stdout",
     "output_type": "stream",
     "text": [
      "Iteration 0: Entanglement Entropy = 0.43323656916618347\n",
      "Iteration 20: Entanglement Entropy = 0.43323656916618347\n",
      "Iteration 40: Entanglement Entropy = 0.43323656916618347\n",
      "Iteration 60: Entanglement Entropy = 0.43323656916618347\n",
      "Iteration 80: Entanglement Entropy = 0.43323656916618347\n",
      "Iteration 100: Entanglement Entropy = 0.43323656916618347\n",
      "Iteration 120: Entanglement Entropy = 0.43323656916618347\n",
      "Iteration 140: Entanglement Entropy = 0.43323656916618347\n",
      "Iteration 160: Entanglement Entropy = 0.43323656916618347\n",
      "Iteration 180: Entanglement Entropy = 0.43323656916618347\n",
      "Final optimized state vector:\n",
      "[ 1.3095376 -0.5608944j  -0.45880842-0.30500016j  0.31410557-0.74697j\n",
      " -0.6135267 +1.3262074j ]\n"
     ]
    }
   ],
   "source": [
    "import torch\n",
    "import qutip as qt\n",
    "import numpy as np\n",
    "\n",
    "# Number of qubits\n",
    "num_qubits = 2\n",
    "dim = 2 ** num_qubits  # Hilbert space dimension\n",
    "\n",
    "# Create a trainable complex-valued quantum state\n",
    "state_vector = torch.nn.Parameter(torch.randn(dim, dtype=torch.cfloat))\n",
    "\n",
    "# Function to compute EE with fixed gradient tracking\n",
    "def compute_entropy(state_vector, subsystem_dim=2, num_qubits=2, traced_out_qubit=1):\n",
    "    # Normalize the state\n",
    "    normalized_state = state_vector / torch.norm(state_vector)\n",
    "    \n",
    "    # Convert PyTorch tensor to NumPy\n",
    "    psi_qutip = qt.Qobj(normalized_state.detach().numpy(), \n",
    "                        dims=[[subsystem_dim] * num_qubits, [1] * num_qubits])\n",
    "\n",
    "    # Compute reduced density matrix\n",
    "    rho_A = qt.ptrace(psi_qutip, traced_out_qubit)\n",
    "\n",
    "    # Compute von Neumann entropy\n",
    "    entropy = qt.entropy_vn(rho_A)\n",
    "\n",
    "    # Convert back to PyTorch for autograd\n",
    "    return torch.tensor(entropy, dtype=torch.float32, requires_grad=True)\n",
    "\n",
    "# Define optimizer\n",
    "optimizer = torch.optim.Adam([state_vector], lr=0.01)\n",
    "scheduler = torch.optim.lr_scheduler.StepLR(optimizer, step_size=50, gamma=0.5)\n",
    "\n",
    "# Optimization loop\n",
    "num_iterations = 200\n",
    "for i in range(num_iterations):\n",
    "    optimizer.zero_grad()\n",
    "\n",
    "    # Compute EE\n",
    "    entropy = compute_entropy(state_vector)\n",
    "\n",
    "    # Backpropagation\n",
    "    entropy.backward()\n",
    "    optimizer.step()\n",
    "    scheduler.step()\n",
    "\n",
    "    # Monitor progress\n",
    "    if i % 20 == 0:\n",
    "        print(f\"Iteration {i}: Entanglement Entropy = {entropy.item()}\")\n",
    "\n",
    "# Final result\n",
    "print(\"Final optimized state vector:\")\n",
    "print(state_vector.detach().numpy())"
   ]
  }
 ],
 "metadata": {
  "kernelspec": {
   "display_name": "base",
   "language": "python",
   "name": "python3"
  },
  "language_info": {
   "codemirror_mode": {
    "name": "ipython",
    "version": 3
   },
   "file_extension": ".py",
   "mimetype": "text/x-python",
   "name": "python",
   "nbconvert_exporter": "python",
   "pygments_lexer": "ipython3",
   "version": "3.11.8"
  }
 },
 "nbformat": 4,
 "nbformat_minor": 2
}
