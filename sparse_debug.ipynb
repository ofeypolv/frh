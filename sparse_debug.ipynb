{
 "cells": [
  {
   "cell_type": "code",
   "execution_count": 1,
   "metadata": {},
   "outputs": [],
   "source": [
    "import numpy as np\n",
    "from functools import reduce\n",
    "from scipy.linalg import eigh\n",
    "import matplotlib.pyplot as plt\n",
    "from scipy.sparse import kron, identity, csr_matrix, lil_matrix\n",
    "from scipy.sparse.linalg import eigsh, eigs\n",
    "from qutip import Qobj, ptrace\n",
    "from qutip import commutator as qt_commutator\n",
    "from tqdm import tqdm\n",
    "from itertools import product"
   ]
  },
  {
   "cell_type": "code",
   "execution_count": 2,
   "metadata": {},
   "outputs": [
    {
     "name": "stdout",
     "output_type": "stream",
     "text": [
      "dense matrix type + dim: int32, (3, 3)\n",
      "dense matrix: [[1 2 0]\n",
      " [0 3 4]\n",
      " [5 0 6]]\n",
      "Eigenvalues: [7.41325908+0.j         1.29337046+2.48012343j 1.29337046-2.48012343j]\n",
      "Eigenvectors:\n",
      " [[ 0.20498276+0.j         -0.06331188+0.5352321j  -0.06331188-0.5352321j ]\n",
      " [ 0.65730377+0.j         -0.67300775+0.j         -0.67300775-0.j        ]\n",
      " [ 0.72521295+0.j          0.28714373-0.41728557j  0.28714373+0.41728557j]]\n",
      "sparse matrix type + dim: int32, (3, 3)\n",
      "dense to sparse:   (0, 0)\t1\n",
      "  (0, 1)\t2\n",
      "  (1, 1)\t3\n",
      "  (1, 2)\t4\n",
      "  (2, 0)\t5\n",
      "  (2, 2)\t6\n",
      "sparse matrix type + dim: int32, (3, 3)\n",
      "sparse matrix:   (0, 0)\t1\n",
      "  (0, 1)\t2\n",
      "  (1, 1)\t3\n",
      "  (1, 2)\t4\n",
      "  (2, 0)\t5\n",
      "  (2, 2)\t6\n",
      "dense matrix type + dim: int32, (3, 3)\n",
      "sparse to dense: [[1 2 0]\n",
      " [0 3 4]\n",
      " [5 0 6]]\n",
      "Eigenvalues: [7.41325908+0.j         1.29337046+2.48012343j 1.29337046-2.48012343j]\n",
      "Eigenvectors:\n",
      " [[ 0.20498276+0.j         -0.06331188+0.5352321j  -0.06331188-0.5352321j ]\n",
      " [ 0.65730377+0.j         -0.67300775+0.j         -0.67300775-0.j        ]\n",
      " [ 0.72521295+0.j          0.28714373-0.41728557j  0.28714373+0.41728557j]]\n"
     ]
    }
   ],
   "source": [
    "#debugging dense vs sparse matrices\n",
    "\n",
    "dense_matrix = np.array([[1, 2, 0],\n",
    "                         [0, 3, 4],\n",
    "                         [5, 0, 6]])\n",
    "\n",
    "print(f\"dense matrix type + dim: {dense_matrix.dtype}, {dense_matrix.shape}\")\n",
    "print(f\"dense matrix: {dense_matrix}\")\n",
    "\n",
    "# Diagonalize the dense matrix\n",
    "eigenvalues, eigenvectors = np.linalg.eig(dense_matrix)\n",
    "\n",
    "print(\"Eigenvalues:\", eigenvalues)\n",
    "print(\"Eigenvectors:\\n\", eigenvectors)\n",
    "\n",
    "\n",
    "dense_to_sparse = csr_matrix(dense_matrix)\n",
    "print(f\"sparse matrix type + dim: {dense_to_sparse.dtype}, {dense_to_sparse.shape}\")\n",
    "print(f\"dense to sparse: {dense_to_sparse}\")\n",
    "\n",
    "sparse_matrix = csr_matrix([[1, 2, 0],\n",
    "                            [0, 3, 4],\n",
    "                            [5, 0, 6]])\n",
    "\n",
    "print(f\"sparse matrix type + dim: {sparse_matrix.dtype}, {sparse_matrix.shape}\")\n",
    "print(f\"sparse matrix: {sparse_matrix}\")\n",
    "\n",
    "# Diagonalize the sparse matrix - scipy uses Lanczos algorithm\n",
    "# Note: eigs returns a limited number of eigenvalues and eigenvectors (default is 6)\n",
    "# You can specify the number of eigenvalues/eigenvectors to compute with the 'k' parameter\n",
    "#eigenvalues, eigenvectors = eigs(sparse_matrix, k=3) - this sparse matrix is too  small for eigs\n",
    "\n",
    "#print(\"Eigenvalues:\", eigenvalues)\n",
    "#print(\"Eigenvectors:\\n\", eigenvectors)\n",
    "\n",
    "sparse_to_dense = sparse_matrix.toarray()\n",
    "print(f\"dense matrix type + dim: {sparse_to_dense.dtype}, {sparse_to_dense.shape}\")\n",
    "print(f\"sparse to dense: {sparse_to_dense}\")\n",
    "\n",
    "# Diagonalize the dense matrix\n",
    "eigenvalues, eigenvectors = np.linalg.eig(sparse_to_dense)\n",
    "\n",
    "print(\"Eigenvalues:\", eigenvalues)\n",
    "print(\"Eigenvectors:\\n\", eigenvectors)"
   ]
  }
 ],
 "metadata": {
  "kernelspec": {
   "display_name": "base",
   "language": "python",
   "name": "python3"
  },
  "language_info": {
   "codemirror_mode": {
    "name": "ipython",
    "version": 3
   },
   "file_extension": ".py",
   "mimetype": "text/x-python",
   "name": "python",
   "nbconvert_exporter": "python",
   "pygments_lexer": "ipython3",
   "version": "3.11.8"
  }
 },
 "nbformat": 4,
 "nbformat_minor": 2
}
